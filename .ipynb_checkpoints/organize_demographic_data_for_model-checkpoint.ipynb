{
 "cells": [
  {
   "cell_type": "code",
   "execution_count": 1,
   "metadata": {},
   "outputs": [],
   "source": [
    "import pandas as pd\n",
    "import numpy as np\n",
    "import re\n",
    "from fuzzywuzzy import fuzz, process\n",
    "from collections import Counter\n",
    "from bokeh.io import show\n",
    "from bokeh.models import ColumnDataSource\n",
    "from bokeh.plotting import figure\n",
    "from bokeh.palettes import Category10_3"
   ]
  },
  {
   "cell_type": "code",
   "execution_count": 2,
   "metadata": {},
   "outputs": [],
   "source": [
    "#1. Load patients\n",
    "# import patient info\n",
    "data_dir = 'data/physionet.org/files/mimiciii/1.4/'\n",
    "patient_file = 'PATIENTS.csv'\n",
    "df_patients = pd.read_csv(data_dir + patient_file)"
   ]
  },
  {
   "cell_type": "code",
   "execution_count": 3,
   "metadata": {},
   "outputs": [],
   "source": [
    "df_patients=df_patients.drop(['ROW_ID','DOD','DOD_HOSP','DOD_SSN','EXPIRE_FLAG'],axis=1)"
   ]
  },
  {
   "cell_type": "code",
   "execution_count": 4,
   "metadata": {},
   "outputs": [],
   "source": [
    "# convert date strings to datetime\n",
    "df_patients.DOB = pd.to_datetime(df_patients.DOB,format = '%Y-%m-%d %H:%M:%S', errors = 'coerce')"
   ]
  },
  {
   "cell_type": "code",
   "execution_count": 5,
   "metadata": {},
   "outputs": [],
   "source": [
    "# import admissions info\n",
    "admissions_file = 'ADMISSIONS.csv'\n",
    "df_admissions = pd.read_csv(data_dir + admissions_file)"
   ]
  },
  {
   "cell_type": "code",
   "execution_count": 6,
   "metadata": {},
   "outputs": [],
   "source": [
    "# removing data columns that won't be used for predicting ICU stays\n",
    "df_admissions = df_admissions.drop(['ROW_ID','HOSPITAL_EXPIRE_FLAG','DEATHTIME',\n",
    "                                    'DISCHARGE_LOCATION','EDREGTIME','EDOUTTIME'],axis=1)"
   ]
  },
  {
   "cell_type": "code",
   "execution_count": 7,
   "metadata": {},
   "outputs": [],
   "source": [
    "# convert time strings to datetime\n",
    "df_admissions.ADMITTIME = pd.to_datetime(df_admissions.ADMITTIME,format = '%Y-%m-%d %H:%M:%S', \n",
    "                                         errors = 'coerce')\n",
    "df_admissions.DISCHTIME = pd.to_datetime(df_admissions.DISCHTIME,format = '%Y-%m-%d %H:%M:%S', \n",
    "                                         errors = 'coerce')"
   ]
  },
  {
   "cell_type": "code",
   "execution_count": 8,
   "metadata": {},
   "outputs": [],
   "source": [
    "# combining ethnicities into uber-categories for simplicity\n",
    "ethnicites_dict = {\n",
    "    'WHITE': ['WHITE', 'WHITE - RUSSIAN', 'WHITE - OTHER EUROPEAN', 'WHITE - EASTERN EUROPEAN', \n",
    "              'WHITE - BRAZILIAN', 'PORTUGUESE'],\n",
    "'BLACK': ['BLACK/AFRICAN AMERICAN', 'BLACK/AFRICAN', 'BLACK/HAITIAN', 'BLACK/CAPE VERDEAN'],\n",
    "'UNKNOWN': ['UNKNOWN/NOT SPECIFIED','PATIENT DECLINED TO ANSWER', 'UNABLE TO OBTAIN'],\n",
    "'ASIAN': ['ASIAN', 'ASIAN - CHINESE', 'ASIAN - VIETNAMESE', 'ASIAN - CAMBODIAN', 'ASIAN - FILIPINO', \n",
    "          'ASIAN - KOREAN', 'ASIAN - THAI', 'ASIAN - JAPANESE', 'ASIAN - OTHER'],\n",
    "'INDIAN': ['ASIAN - ASIAN INDIAN'],\n",
    "'OTHER': ['OTHER','SOUTH AMERICAN', 'CARIBBEAN ISLAND'],\n",
    "'HISPANIC/LATINO': ['HISPANIC OR LATINO', 'HISPANIC/LATINO - GUATEMALAN', 'HISPANIC/LATINO - PUERTO RICAN', \n",
    "                    'HISPANIC/LATINO - DOMINICAN', 'HISPANIC/LATINO - SALVADORAN', 'HISPANIC/LATINO - COLOMBIAN', \n",
    "                    'HISPANIC/LATINO - CENTRAL AMERICAN (OTHER)', 'HISPANIC/LATINO - HONDURAN', \n",
    "                    'HISPANIC/LATINO - CUBAN', 'HISPANIC/LATINO - MEXICAN'],\n",
    "'MULTIRACE': ['MULTI RACE ETHNICITY'],\n",
    "'MIDDLE EASTERN': ['MIDDLE EASTERN'],\n",
    "'AMERICAN NATIVE': ['AMERICAN INDIAN/ALASKA NATIVE', 'AMERICAN INDIAN/ALASKA NATIVE FEDERALLY RECOGNIZED TRIBE', \n",
    "                    'NATIVE HAWAIIAN OR OTHER PACIFIC ISLANDER']\n",
    "}\n",
    "\n",
    "def replace_ethval_todictval(x,ethnicites_dict):\n",
    "    for key,val in ethnicites_dict.items():\n",
    "        if x in val:\n",
    "            return key"
   ]
  },
  {
   "cell_type": "code",
   "execution_count": 9,
   "metadata": {},
   "outputs": [],
   "source": [
    "# replace each ETHNICITY entry in df by its associated simple-form ethnicity (i.e., associated key in ethnicites_dict)\n",
    "df_admissions['ETHNICITY'] = df_admissions['ETHNICITY'].apply(replace_ethval_todictval,args=(ethnicites_dict,))"
   ]
  },
  {
   "cell_type": "code",
   "execution_count": 10,
   "metadata": {},
   "outputs": [],
   "source": [
    "# now fixing religions\n",
    "# first, fill nans\n",
    "values = {'RELIGION': 'NOT SPECIFIED', 'LANGUAGE': '***','MARITAL_STATUS': 'UNKNOWN (DEFAULT)', 'ETHNICITY': 'UNKNOWN',\n",
    "          'INSURANCE': 'Not Specified', 'ADMISSION_LOCATION': '** INFO NOT AVAILABLE **', 'ADMISSION_TYPE': 'UNKNOWN'}\n",
    "df_admissions = df_admissions.fillna(value=values)\n",
    "\n",
    "# next, replace redundant fields\n",
    "df_admissions['RELIGION'] = df_admissions['RELIGION'].str.replace('UNOBTAINABLE','NOT SPECIFIED')"
   ]
  },
  {
   "cell_type": "code",
   "execution_count": 11,
   "metadata": {},
   "outputs": [],
   "source": [
    "# calculate length of hospital stay\n",
    "df_admissions['HOSPITAL_DAYS'] = (df_admissions['DISCHTIME'] - \n",
    "                                  df_admissions['ADMITTIME']).dt.total_seconds()/(24*60*60)\n",
    "# negative admit days = dead on arrival, remove\n",
    "doa_idx = df_admissions[df_admissions['HOSPITAL_DAYS']<0].index\n",
    "df_admissions = df_admissions.drop(doa_idx,axis=0)"
   ]
  },
  {
   "cell_type": "code",
   "execution_count": 12,
   "metadata": {},
   "outputs": [],
   "source": [
    "# merge patient and admissions df\n",
    "df_patient_admit = df_patients.merge(df_admissions,how='left',left_on=['SUBJECT_ID'],right_on=['SUBJECT_ID'])"
   ]
  },
  {
   "cell_type": "code",
   "execution_count": 13,
   "metadata": {},
   "outputs": [],
   "source": [
    "# calculate age at admit\n",
    "df_patient_admit['ADMIT_AGE'] = df_patient_admit['ADMITTIME'].dt.year - df_patient_admit['DOB'].dt.year\n",
    "# no longer need DOB, remove\n",
    "df_patient_admit=df_patient_admit.drop(['DOB'],axis=1)"
   ]
  },
  {
   "cell_type": "code",
   "execution_count": 14,
   "metadata": {},
   "outputs": [],
   "source": [
    "# 2. Remove patients <age\n",
    "\n",
    "# # # # # # # # # # # # # # # # # # # # # # # # # # # # # # # # # # # # # # # # # # # # # # # # # # # \n",
    "# not removing any patient at this point (for saving purposes), can load \n",
    "# in and make modifications later as desired\n",
    "# # # # # # # # # # # # # # # # # # # # # # # # # # # # # # # # # # # # # # # # # # # # # # # # # # # \n",
    "\n",
    "age = -1\n",
    "child_idx = df_patient_admit[df_patient_admit['ADMIT_AGE']<age].index\n",
    "child_patients = df_patient_admit.iloc[child_idx]['SUBJECT_ID'].unique()\n",
    "df_patient_admit = df_patient_admit.drop(child_idx, axis=0)\n",
    "\n",
    "# convert ages >200 to nan because these ages are obscured (purposefully to prevent \n",
    "# PHI from being released)\n",
    "df_patient_admit.loc[df_patient_admit['ADMIT_AGE']>200,'ADMIT_AGE'] = np.nan"
   ]
  },
  {
   "cell_type": "code",
   "execution_count": 15,
   "metadata": {},
   "outputs": [],
   "source": [
    "# 3. Load icustays\n",
    "# import icu stays info\n",
    "icustays_file = 'ICUSTAYS.csv'\n",
    "df_icustays = pd.read_csv(data_dir + icustays_file)\n",
    "\n",
    "child_idx = df_icustays[df_icustays['SUBJECT_ID'].isin(child_patients)].index\n",
    "df_icustays = df_icustays.drop(child_idx,axis=0)\n",
    "\n",
    "# first & last care units/ward ids and out times are for ICU stays themselves and therefore \n",
    "# will not be helpful in predicting ICU stays\n",
    "# we'll keep ICUSTAY length-of-stay (LOS) in case we want to use that as an outcome variable\n",
    "df_icustays = df_icustays.drop(['ROW_ID','FIRST_CAREUNIT','LAST_CAREUNIT','FIRST_WARDID',\n",
    "                                'LAST_WARDID','OUTTIME'],axis=1)\n",
    "\n",
    "# convert time strings to datetime\n",
    "df_icustays.INTIME = pd.to_datetime(df_icustays.INTIME,format = '%Y-%m-%d %H:%M:%S', errors = 'coerce')"
   ]
  },
  {
   "cell_type": "code",
   "execution_count": 16,
   "metadata": {},
   "outputs": [],
   "source": [
    "# join patients, admissions, and icustays\n",
    "df_patient_admit_icu = df_patient_admit.merge(df_icustays,how='left',left_on=['SUBJECT_ID','HADM_ID'],\n",
    "                                              right_on=['SUBJECT_ID','HADM_ID'])"
   ]
  },
  {
   "cell_type": "code",
   "execution_count": 17,
   "metadata": {},
   "outputs": [],
   "source": [
    "# calculate days from hospital admission to icu admission\n",
    "df_patient_admit_icu['DAYS_ADM_TO_ICU'] = (df_patient_admit_icu['INTIME'] - \n",
    "                                           df_patient_admit_icu['ADMITTIME']).dt.total_seconds()/(24*60*60)"
   ]
  },
  {
   "cell_type": "code",
   "execution_count": 18,
   "metadata": {},
   "outputs": [],
   "source": [
    "# remove any patients whose icu intime was before admittime\n",
    "icu_first_idx = df_patient_admit_icu[df_patient_admit_icu['DAYS_ADM_TO_ICU']<0].index\n",
    "df_patient_admit_icu = df_patient_admit_icu.drop(icu_first_idx,axis=0)"
   ]
  },
  {
   "cell_type": "code",
   "execution_count": 19,
   "metadata": {},
   "outputs": [],
   "source": [
    "# drop time columns no longer needed\n",
    "df_patient_admit_icu = df_patient_admit_icu.drop(['DISCHTIME','INTIME'],axis=1)"
   ]
  },
  {
   "cell_type": "code",
   "execution_count": 20,
   "metadata": {},
   "outputs": [],
   "source": [
    "# drop rows with nan for DAYS_ADM_TO_ICU\n",
    "df_patient_admit_icu = df_patient_admit_icu.dropna(axis=0, subset=['DAYS_ADM_TO_ICU'])"
   ]
  },
  {
   "cell_type": "code",
   "execution_count": 21,
   "metadata": {},
   "outputs": [],
   "source": [
    "adm_to_ic_10s = np.percentile(df_patient_admit_icu['DAYS_ADM_TO_ICU'],[10,20,30,40,50,60,70,80,90,100])"
   ]
  },
  {
   "cell_type": "code",
   "execution_count": 22,
   "metadata": {},
   "outputs": [],
   "source": [
    "def get_time_bins(val,edges):\n",
    "    time_bin = np.where(val<=edges)[0][0]\n",
    "    return time_bin"
   ]
  },
  {
   "cell_type": "code",
   "execution_count": 23,
   "metadata": {},
   "outputs": [],
   "source": [
    "# categorical outcome variables for the time from hospital admit to icu stay\n",
    "# admits <24 hrs\n",
    "df_patient_admit_icu['SAMEDAY_ADM_TO_ICU'] = df_patient_admit_icu['DAYS_ADM_TO_ICU'].apply(lambda x: int(x<=1))\n",
    "\n",
    "# admits in 10-bin quantiles\n",
    "df_patient_admit_icu['ADM_TO_ICU_10'] = df_patient_admit_icu['DAYS_ADM_TO_ICU'].apply(get_time_bins, \n",
    "                                                                                           args=(adm_to_ic_10s,))\n",
    "\n",
    "# # # # # # # # # # # # # # # # # # # # # # # # # # # # # # # # # # # # # # # # # # # # # # # # # # # # \n",
    "# # not doing now, since can do this with np.array([1,3,5,7,9]) as bins on 'ADM_TO_ICU_10'\n",
    "# # admits in 5-bin quantiles\n",
    "# df_patient_admit_icu['ADM_TO_ICU_5'] = df_patient_admit_icu['ADM_TO_ICU_10'].apply(get_time_bins, \n",
    "#                                                                                    args=(np.array([1,3,5,7,9]),))\n",
    "# # # # # # # # # # # # # # # # # # # # # # # # # # # # # # # # # # # # # # # # # # # # # # # # # # # # "
   ]
  },
  {
   "cell_type": "code",
   "execution_count": 43,
   "metadata": {},
   "outputs": [],
   "source": [
    "# admits in 100-bins\n",
    "adm_to_ic_100s = np.linspace(df_patient_admit_icu['DAYS_ADM_TO_ICU'].min(),df_patient_admit_icu['DAYS_ADM_TO_ICU'].max(),3201)\n",
    "adm_to_ic_100s = adm_to_ic_100s[1:]\n",
    "df_patient_admit_icu['ADM_TO_ICU_100'] = df_patient_admit_icu['DAYS_ADM_TO_ICU'].apply(get_time_bins, \n",
    "                                                                                           args=(adm_to_ic_100s,))"
   ]
  },
  {
   "cell_type": "code",
   "execution_count": 44,
   "metadata": {},
   "outputs": [
    {
     "data": {
      "text/html": [
       "<div>\n",
       "<style scoped>\n",
       "    .dataframe tbody tr th:only-of-type {\n",
       "        vertical-align: middle;\n",
       "    }\n",
       "\n",
       "    .dataframe tbody tr th {\n",
       "        vertical-align: top;\n",
       "    }\n",
       "\n",
       "    .dataframe thead th {\n",
       "        text-align: right;\n",
       "    }\n",
       "</style>\n",
       "<table border=\"1\" class=\"dataframe\">\n",
       "  <thead>\n",
       "    <tr style=\"text-align: right;\">\n",
       "      <th></th>\n",
       "      <th>ADM_TO_ICU_100</th>\n",
       "    </tr>\n",
       "    <tr>\n",
       "      <th>ADM_TO_ICU_100</th>\n",
       "      <th></th>\n",
       "    </tr>\n",
       "  </thead>\n",
       "  <tbody>\n",
       "    <tr>\n",
       "      <th>0</th>\n",
       "      <td>34715</td>\n",
       "    </tr>\n",
       "    <tr>\n",
       "      <th>1</th>\n",
       "      <td>3118</td>\n",
       "    </tr>\n",
       "    <tr>\n",
       "      <th>2</th>\n",
       "      <td>2055</td>\n",
       "    </tr>\n",
       "    <tr>\n",
       "      <th>3</th>\n",
       "      <td>1070</td>\n",
       "    </tr>\n",
       "    <tr>\n",
       "      <th>4</th>\n",
       "      <td>852</td>\n",
       "    </tr>\n",
       "    <tr>\n",
       "      <th>5</th>\n",
       "      <td>692</td>\n",
       "    </tr>\n",
       "    <tr>\n",
       "      <th>6</th>\n",
       "      <td>623</td>\n",
       "    </tr>\n",
       "    <tr>\n",
       "      <th>7</th>\n",
       "      <td>498</td>\n",
       "    </tr>\n",
       "    <tr>\n",
       "      <th>8</th>\n",
       "      <td>436</td>\n",
       "    </tr>\n",
       "    <tr>\n",
       "      <th>9</th>\n",
       "      <td>440</td>\n",
       "    </tr>\n",
       "  </tbody>\n",
       "</table>\n",
       "</div>"
      ],
      "text/plain": [
       "                ADM_TO_ICU_100\n",
       "ADM_TO_ICU_100                \n",
       "0                        34715\n",
       "1                         3118\n",
       "2                         2055\n",
       "3                         1070\n",
       "4                          852\n",
       "5                          692\n",
       "6                          623\n",
       "7                          498\n",
       "8                          436\n",
       "9                          440"
      ]
     },
     "execution_count": 44,
     "metadata": {},
     "output_type": "execute_result"
    }
   ],
   "source": [
    "gb = df_patient_admit_icu.groupby('ADM_TO_ICU_100').agg({'ADM_TO_ICU_100': 'count'})\n",
    "gb.head(10)"
   ]
  },
  {
   "cell_type": "code",
   "execution_count": 45,
   "metadata": {},
   "outputs": [
    {
     "data": {
      "text/plain": [
       "array([0.06271612, 0.12543225, 0.18814837, 0.2508645 , 0.31358062,\n",
       "       0.37629674, 0.43901287, 0.50172899, 0.56444512, 0.62716124])"
      ]
     },
     "execution_count": 45,
     "metadata": {},
     "output_type": "execute_result"
    }
   ],
   "source": [
    "adm_to_ic_100s[:10]"
   ]
  },
  {
   "cell_type": "code",
   "execution_count": 46,
   "metadata": {},
   "outputs": [
    {
     "data": {
      "text/plain": [
       "1.5051869791666665"
      ]
     },
     "execution_count": 46,
     "metadata": {},
     "output_type": "execute_result"
    }
   ],
   "source": [
    "adm_to_ic_100s[0]*24"
   ]
  },
  {
   "cell_type": "code",
   "execution_count": null,
   "metadata": {},
   "outputs": [],
   "source": [
    "source = ColumnDataSource(data=dict(time=adm_to_ic_100s, counts=gb['ADM_TO_ICU_100']))\n",
    "p = figure(x_range=range(, plot_height=350, toolbar_location=None, title=\"Fruit Counts\")\n",
    "p.vbar(x='fruits', top='counts', width=0.9, source=source, legend_field=\"fruits\",\n",
    "       line_color='white', fill_color=factor_cmap('fruits', palette=Spectral6, factors=fruits))"
   ]
  },
  {
   "cell_type": "code",
   "execution_count": 22,
   "metadata": {},
   "outputs": [],
   "source": [
    "# clean up diagnoses\n",
    "df_patient_admit_icu['DIAGNOSIS'] = df_patient_admit_icu['DIAGNOSIS'].str.strip()\n",
    "\n",
    "# 1. save \"raw\" diagnoses from df to map back to later\n",
    "diagnoses_raw = df_patient_admit_icu['DIAGNOSIS'].dropna().tolist()\n",
    "\n",
    "# 2. create a \"split\" diagnoses list of lists that is a 1-to-1 match to \"raw\"\n",
    "diagnoses_split = [re.split(';|,',x) for x in diagnoses_raw]\n",
    "\n",
    "# 3. use \"split\" diagnosis to get list of \"unique diagnoses\"\n",
    "all_diagnoses = [d for sublist in diagnoses_split for d in sublist]\n",
    "# strip again in case splitting led to leading whitespaces\n",
    "all_diagnoses = [d.strip() for d in all_diagnoses]\n",
    "\n",
    "unique_diagnoses = list(set(all_diagnoses))"
   ]
  },
  {
   "cell_type": "code",
   "execution_count": 23,
   "metadata": {},
   "outputs": [],
   "source": [
    "unique_diagnoses.pop(unique_diagnoses.index('')) # first entry is empty ('')\n",
    "\n",
    "# 5. create 'clean' unique diagnoses that fix data by removing non-alphanumeric characters appropriately\n",
    "# remove these characters first and replace with whitespace as these are consistently used to separate terms\n",
    "regex1 = re.compile(r'[\\\\\\|/.-]+')\n",
    "unique_diagnoses_clean = [regex1.sub(' ', i) for i in unique_diagnoses]\n",
    "\n",
    "# remove any other non-alphanumerics entirely as these are typically erroneous\n",
    "regex2 = re.compile(r'[^a-zA-Z\\d\\s ]')\n",
    "unique_diagnoses_clean = [regex2.sub('', i) for i in unique_diagnoses_clean]\n",
    "\n",
    "regex3 = re.compile(r'\\bSDA\\b')\n",
    "unique_diagnoses_clean = [regex3.sub('', i) for i in unique_diagnoses_clean]\n",
    "\n",
    "regex4 = re.compile(r'[\\s ]{2,}')\n",
    "unique_diagnoses_clean = [regex4.sub(' ', i) for i in unique_diagnoses_clean]"
   ]
  },
  {
   "cell_type": "code",
   "execution_count": 24,
   "metadata": {},
   "outputs": [],
   "source": [
    "unique_diagnoses_flat = '. '.join(unique_diagnoses_clean)"
   ]
  },
  {
   "cell_type": "code",
   "execution_count": 25,
   "metadata": {},
   "outputs": [],
   "source": [
    "import nltk\n",
    "from nltk.tokenize import word_tokenize\n",
    "import itertools"
   ]
  },
  {
   "cell_type": "code",
   "execution_count": 29,
   "metadata": {},
   "outputs": [],
   "source": [
    "unique_diagnoses_toks = nltk.word_tokenize(unique_diagnoses_flat)\n",
    "tokens = [token for token in unique_diagnoses_toks if len(token) > 1] #same as unigrams\n",
    "bi_tokens = nltk.bigrams(tokens)\n",
    "tri_tokens = nltk.trigrams(tokens)"
   ]
  },
  {
   "cell_type": "code",
   "execution_count": 63,
   "metadata": {},
   "outputs": [],
   "source": [
    "trigrams = [ngrams_wrapper(x, 3) for x in unique_diagn_tok]\n",
    "map(ngrams_wrapper, unique_diagn_tok)\n",
    "trigram = list(itertools.chain.from_iterable(trigrams))\n",
    "freq_dist_3 = nltk.FreqDist(trigram)\n",
    "prob_dist_3 = nltk.MLEProbDist(freq_dist_3)\n",
    "number_of_trigrams = freq_dist_3.N()"
   ]
  },
  {
   "cell_type": "code",
   "execution_count": 69,
   "metadata": {},
   "outputs": [
    {
     "ename": "TypeError",
     "evalue": "'MLEProbDist' object is not subscriptable",
     "output_type": "error",
     "traceback": [
      "\u001b[0;31m---------------------------------------------------------------------------\u001b[0m",
      "\u001b[0;31mTypeError\u001b[0m                                 Traceback (most recent call last)",
      "\u001b[0;32m<ipython-input-69-c10b9a782cb9>\u001b[0m in \u001b[0;36m<module>\u001b[0;34m\u001b[0m\n\u001b[0;32m----> 1\u001b[0;31m \u001b[0mprob_dist\u001b[0m\u001b[0;34m[\u001b[0m\u001b[0;36m0\u001b[0m\u001b[0;34m]\u001b[0m\u001b[0;34m\u001b[0m\u001b[0;34m\u001b[0m\u001b[0m\n\u001b[0m",
      "\u001b[0;31mTypeError\u001b[0m: 'MLEProbDist' object is not subscriptable"
     ]
    }
   ],
   "source": [
    "prob_dist."
   ]
  },
  {
   "cell_type": "code",
   "execution_count": 61,
   "metadata": {},
   "outputs": [
    {
     "name": "stdout",
     "output_type": "stream",
     "text": [
      "[('METASTATIC', 'CARCINOID'), ('CARCINOID', 'CHEMOEMBOLIZATION'), ('URINARY', 'TRACT'), ('TRACT', 'INFECTION'), ('INFECTION', 'COLITIS'), ('BRIAN', 'TUMOR'), ('TUMOR', 'SDA'), ('NON', 'HODGKINS'), ('HODGKINS', 'LYMPHOMA'), ('LYMPHOMA', 'BONE')]\n"
     ]
    }
   ],
   "source": [
    "print(bigram[:10])"
   ]
  },
  {
   "cell_type": "code",
   "execution_count": 56,
   "metadata": {},
   "outputs": [
    {
     "data": {
      "text/plain": [
       "(11969, 12012)"
      ]
     },
     "execution_count": 56,
     "metadata": {},
     "output_type": "execute_result"
    }
   ],
   "source": [
    "len(foo),len(unique_diagnoses_clean)"
   ]
  },
  {
   "cell_type": "code",
   "execution_count": 47,
   "metadata": {},
   "outputs": [],
   "source": [
    "bigram_measures = nltk.collocations.BigramAssocMeasures()\n",
    "trigram_measures = nltk.collocations.TrigramAssocMeasures()"
   ]
  },
  {
   "cell_type": "code",
   "execution_count": 48,
   "metadata": {},
   "outputs": [
    {
     "data": {
      "text/plain": [
       "[('', 'PREOP KIDNEY'),\n",
       " (' ABSCESS', 'ISCHEMIC LT ARM'),\n",
       " (' ACENDING AORTA PROCEDURE SDA', 'L THIGH FLUID COLLECTION'),\n",
       " (' ACUTE MI CATH',\n",
       "  'RENAL ARTERY ARTHEROSCLEROSIS AORTIC FENESTRATION ANGIOGRAM W BILATERAL RENAL STENT'),\n",
       " (' ANGIO', 'THORACIC AORTIC DISSECTION SDA'),\n",
       " (' AORTIC AND MITRAL VALVE REPLACEMENT', 'RIGHT KIDNEY TUMOR SDA'),\n",
       " (' AORTIC DISSECTION', 'ATRIAL SEPTAL DEFECT ASD CLOSURE REMOTE WEST SDA'),\n",
       " (' AORTIC FILLING DEFECT',\n",
       "  'AORTIC STENOSIS AORTIC VALVE REPAIR ASCENDING AORTA REPLACEMENT'),\n",
       " (' AORTIC VALVE ASCENDING AORTA REPLACEMENT SDA',\n",
       "  'CHOLANIOCARCINOMA PAIN CONTROL'),\n",
       " (' AORTIC VALVE REPLACEMENT MAZE', 'PAIN MANAGEMENT')]"
      ]
     },
     "execution_count": 48,
     "metadata": {},
     "output_type": "execute_result"
    }
   ],
   "source": [
    "bi_finder = BigramCollocationFinder.from_words(unique_diagnoses_clean)\n",
    "# bi_finder.apply_freq_filter(3)\n",
    "bi_finder.nbest(bigram_measures.pmi, 10)"
   ]
  },
  {
   "cell_type": "code",
   "execution_count": null,
   "metadata": {},
   "outputs": [],
   "source": []
  },
  {
   "cell_type": "code",
   "execution_count": 24,
   "metadata": {},
   "outputs": [],
   "source": [
    "def create_diagnosis_dict(diagn_clean,diagn_raw,thresh):\n",
    "    # this function creates a dictionary that matches the 'raw' form of each diagnosis with a list of the most-common\n",
    "    # similar diagnosis words across all diagnoses. each 'raw' diagnosis is a key in the dictionary and the associated\n",
    "    # value is a list of portions of the 'raw' diagnosis that are common across other diagnoses that have a similar\n",
    "    # tokens based on the token_set_ratio score from fuzzywuzzy.\n",
    "    \n",
    "    diagnoses_dict = dict()\n",
    "    for ix,diagnosis in enumerate(diagn_clean):\n",
    "        try:\n",
    "            diagn_tup = process.extractBests(diagnosis,diagn_clean[ix+1:],scorer=fuzz.token_set_ratio,\n",
    "                                             score_cutoff=thresh,limit=200)\n",
    "        except:\n",
    "            diagn_tup = [('',0)]\n",
    "\n",
    "        similar_diagns = [item[0] for item in diagn_tup] # these are all the similar diagnoses to diagnosis\n",
    "\n",
    "        # set up to be able to use Counter\n",
    "        # this keeps similar diagnoses phrases grouped together\n",
    "        similar_diagns_flat = ','.join(similar_diagns)\n",
    "        similar_diagns_flat = similar_diagns_flat.split(',')\n",
    "\n",
    "        # identify most common word\n",
    "        if len(similar_diagns_flat)>0: # only run if there is something in similar_diags_flat\n",
    "            # find raw diagnoses that are associated with similar_diagns\n",
    "            indices = [i for i,x in enumerate(diagn_clean) for item in similar_diagns_flat if x == item]\n",
    "            similar_diagns_raw = [diagn_raw[i] for i in indices]\n",
    "            \n",
    "            counter = Counter(similar_diagns_flat)\n",
    "            most_common = counter.most_common(1)\n",
    "            one_word_diagn = most_common[0][0].strip()\n",
    "            \n",
    "            if len(one_word_diagn)>1: # remove single-letter diagnoses because they provide no information\n",
    "                for sim_diagn in similar_diagns_raw:\n",
    "                    if sim_diagn in diagnoses_dict.keys():\n",
    "                        diagnoses_dict[sim_diagn].append(one_word_diagn)\n",
    "                    else:\n",
    "                        diagnoses_dict[sim_diagn] = [one_word_diagn]\n",
    "            else:\n",
    "                for sim_diagn in similar_diagns_raw:\n",
    "                    if sim_diagn not in diagnoses_dict.keys():\n",
    "                        diagnoses_dict[sim_diagn] = []\n",
    "                    \n",
    "    # remove duplicate most common diagnoses for each raw diagnosis\n",
    "    for key in diagnoses_dict.keys():\n",
    "        diagnoses_dict[key] = list(set(diagnoses_dict[key]))\n",
    "        \n",
    "    # add any raw diagnoses that are not in dict, but associate them with clean version\n",
    "    for ix,diagnosis in enumerate(diagn_raw):\n",
    "        if diagnosis not in diagnoses_dict.keys():\n",
    "            diagnoses_dict[diagnosis] = [diagn_clean[ix]]\n",
    "    \n",
    "    return diagnoses_dict"
   ]
  },
  {
   "cell_type": "code",
   "execution_count": 25,
   "metadata": {},
   "outputs": [
    {
     "name": "stderr",
     "output_type": "stream",
     "text": [
      "WARNING:root:Applied processor reduces input query to empty string, all comparisons will have score 0. [Query: '']\n"
     ]
    }
   ],
   "source": [
    "# 5. for each unique diagnosis, find 'most-common' diagnoses based on similarity metric\n",
    "# 6. find out which lists in \"split\" diagnosis list have that unique diagnosis\n",
    "# 7. create dict that matches \"raw\" diagnosis to growing list of 'most-common' diagnoses\n",
    "diagnoses_dict = create_diagnosis_dict(unique_diagnoses_clean,unique_diagnoses,90)"
   ]
  },
  {
   "cell_type": "code",
   "execution_count": 26,
   "metadata": {},
   "outputs": [],
   "source": [
    "def replace_diagnosis_with_list(x,diag_dict):\n",
    "    # this function will be used with df.apply to replace diagnosis term in \n",
    "    # dataframe with list of diagnoses that refer to that row\n",
    "    \n",
    "    if x in diag_dict.keys():\n",
    "        x = diag_dict[x]\n",
    "        \n",
    "    return x"
   ]
  },
  {
   "cell_type": "code",
   "execution_count": 27,
   "metadata": {},
   "outputs": [
    {
     "name": "stderr",
     "output_type": "stream",
     "text": [
      "/Users/adamgifford/anaconda3/lib/python3.8/site-packages/pandas/core/indexing.py:670: SettingWithCopyWarning: \n",
      "A value is trying to be set on a copy of a slice from a DataFrame\n",
      "\n",
      "See the caveats in the documentation: https://pandas.pydata.org/pandas-docs/stable/user_guide/indexing.html#returning-a-view-versus-a-copy\n",
      "  iloc._setitem_with_indexer(indexer, value)\n"
     ]
    }
   ],
   "source": [
    "# 8. replace each \"raw\" diagnoses in df by its associated list of 'most-common' diagnoses\n",
    "df_patient_admit_icu['DIAGNOSIS'] = df_patient_admit_icu['DIAGNOSIS'].apply(replace_diagnosis_with_list,\n",
    "                                                                            args=(diagnoses_dict,))\n",
    "\n",
    "for ix,val in enumerate(df_patient_admit_icu['DIAGNOSIS']):\n",
    "    # if not-empty str, it was not in diagnoses_dict, and hence unchanged from original dataframe, \n",
    "    # want to change to list\n",
    "    if type(val)==str and len(val): \n",
    "        ix2 = diagnoses_raw.index(val)\n",
    "        df_patient_admit_icu['DIAGNOSIS'].iloc[ix] = diagnoses_split[ix2]\n",
    "\n",
    "df_patient_admit_icu['DIAGNOSIS'] = df_patient_admit_icu['DIAGNOSIS'].fillna('')"
   ]
  },
  {
   "cell_type": "code",
   "execution_count": 29,
   "metadata": {},
   "outputs": [],
   "source": [
    "all_diagnoses_clean_df = pd.DataFrame({'Diagnosis': [d for sublist in diagnoses_dict.values() for d in sublist]})\n",
    "all_diagnoses_clean_df = all_diagnoses_clean_df.groupby(['Diagnosis']).agg({'Diagnosis': ['count']})\n",
    "top_diagnoses_df = all_diagnoses_clean_df.sort_values(by=('Diagnosis','count'),ascending=False)"
   ]
  },
  {
   "cell_type": "code",
   "execution_count": 52,
   "metadata": {},
   "outputs": [
    {
     "data": {
      "text/html": [
       "<div>\n",
       "<style scoped>\n",
       "    .dataframe tbody tr th:only-of-type {\n",
       "        vertical-align: middle;\n",
       "    }\n",
       "\n",
       "    .dataframe tbody tr th {\n",
       "        vertical-align: top;\n",
       "    }\n",
       "\n",
       "    .dataframe thead tr th {\n",
       "        text-align: left;\n",
       "    }\n",
       "\n",
       "    .dataframe thead tr:last-of-type th {\n",
       "        text-align: right;\n",
       "    }\n",
       "</style>\n",
       "<table border=\"1\" class=\"dataframe\">\n",
       "  <thead>\n",
       "    <tr>\n",
       "      <th></th>\n",
       "      <th>Diagnosis</th>\n",
       "    </tr>\n",
       "    <tr>\n",
       "      <th></th>\n",
       "      <th>count</th>\n",
       "    </tr>\n",
       "    <tr>\n",
       "      <th>Diagnosis</th>\n",
       "      <th></th>\n",
       "    </tr>\n",
       "  </thead>\n",
       "  <tbody>\n",
       "    <tr>\n",
       "      <th>UREMIC SYNDROME</th>\n",
       "      <td>1</td>\n",
       "    </tr>\n",
       "    <tr>\n",
       "      <th>AS CP</th>\n",
       "      <td>1</td>\n",
       "    </tr>\n",
       "    <tr>\n",
       "      <th>TROPONIN</th>\n",
       "      <td>6</td>\n",
       "    </tr>\n",
       "    <tr>\n",
       "      <th>HEAD TRAUM</th>\n",
       "      <td>1</td>\n",
       "    </tr>\n",
       "    <tr>\n",
       "      <th>S P FALL WITH C2 FRACTURE</th>\n",
       "      <td>6</td>\n",
       "    </tr>\n",
       "    <tr>\n",
       "      <th>MITRAL REGURGITATION MITRAL VALVE REPLACEMENT REPAIR HEART PORT MINIMALLY INVASIVE VS STERNOTOMY SDA</th>\n",
       "      <td>15</td>\n",
       "    </tr>\n",
       "    <tr>\n",
       "      <th>BRADY ARRYTHMIA</th>\n",
       "      <td>3</td>\n",
       "    </tr>\n",
       "    <tr>\n",
       "      <th>LOCATION P M  WILL CB SDA</th>\n",
       "      <td>1</td>\n",
       "    </tr>\n",
       "    <tr>\n",
       "      <th>S P MOTORCYCLE ACCIDENT</th>\n",
       "      <td>5</td>\n",
       "    </tr>\n",
       "    <tr>\n",
       "      <th>S P BOWEL PERFORATION SDA</th>\n",
       "      <td>4</td>\n",
       "    </tr>\n",
       "    <tr>\n",
       "      <th>POST CONCUSSION SYNDROME</th>\n",
       "      <td>1</td>\n",
       "    </tr>\n",
       "    <tr>\n",
       "      <th>RIGHT GLUTEAL HEMATOMA</th>\n",
       "      <td>2</td>\n",
       "    </tr>\n",
       "    <tr>\n",
       "      <th>KYPHOSIS</th>\n",
       "      <td>2</td>\n",
       "    </tr>\n",
       "    <tr>\n",
       "      <th>RIGHT HIP FX</th>\n",
       "      <td>6</td>\n",
       "    </tr>\n",
       "    <tr>\n",
       "      <th>AORTIC OCCULSION</th>\n",
       "      <td>1</td>\n",
       "    </tr>\n",
       "    <tr>\n",
       "      <th>COLON CANCER SDA</th>\n",
       "      <td>1</td>\n",
       "    </tr>\n",
       "    <tr>\n",
       "      <th>BLADDER MASS SDA</th>\n",
       "      <td>1</td>\n",
       "    </tr>\n",
       "    <tr>\n",
       "      <th>NON HODGKINS LYMPHOMA BONE MARROW TRANSPLANT</th>\n",
       "      <td>50</td>\n",
       "    </tr>\n",
       "    <tr>\n",
       "      <th>31 WEEKS</th>\n",
       "      <td>1</td>\n",
       "    </tr>\n",
       "    <tr>\n",
       "      <th>ILEO ABDOMINAL COLECTOMY</th>\n",
       "      <td>1</td>\n",
       "    </tr>\n",
       "  </tbody>\n",
       "</table>\n",
       "</div>"
      ],
      "text/plain": [
       "                                                   Diagnosis\n",
       "                                                       count\n",
       "Diagnosis                                                   \n",
       "UREMIC SYNDROME                                            1\n",
       "AS CP                                                      1\n",
       "TROPONIN                                                   6\n",
       "HEAD TRAUM                                                 1\n",
       "S P FALL WITH C2 FRACTURE                                  6\n",
       "MITRAL REGURGITATION MITRAL VALVE REPLACEMENT R...        15\n",
       "BRADY ARRYTHMIA                                            3\n",
       " LOCATION P M  WILL CB SDA                                 1\n",
       "S P MOTORCYCLE ACCIDENT                                    5\n",
       "S P BOWEL PERFORATION SDA                                  4\n",
       "POST CONCUSSION SYNDROME                                   1\n",
       "RIGHT GLUTEAL HEMATOMA                                     2\n",
       "KYPHOSIS                                                   2\n",
       "RIGHT HIP FX                                               6\n",
       "AORTIC OCCULSION                                           1\n",
       "COLON CANCER SDA                                           1\n",
       "BLADDER MASS SDA                                           1\n",
       "NON HODGKINS LYMPHOMA BONE MARROW TRANSPLANT              50\n",
       "31 WEEKS                                                   1\n",
       "ILEO ABDOMINAL COLECTOMY                                   1"
      ]
     },
     "execution_count": 52,
     "metadata": {},
     "output_type": "execute_result"
    }
   ],
   "source": [
    "top_diagnoses_df.sample(20)"
   ]
  },
  {
   "cell_type": "code",
   "execution_count": 45,
   "metadata": {},
   "outputs": [
    {
     "ename": "SyntaxError",
     "evalue": "invalid syntax (<ipython-input-45-714fc52dfdda>, line 3)",
     "output_type": "error",
     "traceback": [
      "\u001b[0;36m  File \u001b[0;32m\"<ipython-input-45-714fc52dfdda>\"\u001b[0;36m, line \u001b[0;32m3\u001b[0m\n\u001b[0;31m    'MVR' --> 'MITRAL VALVE REPLACEMENT'\u001b[0m\n\u001b[0m           ^\u001b[0m\n\u001b[0;31mSyntaxError\u001b[0m\u001b[0;31m:\u001b[0m invalid syntax\n"
     ]
    }
   ],
   "source": [
    "'SDA'\n",
    "'CATH'\n",
    "'MVR' --> 'MITRAL VALVE REPLACEMENT'\n",
    "'PVD' --> 'Peripheral vascular disease'"
   ]
  },
  {
   "cell_type": "code",
   "execution_count": 34,
   "metadata": {},
   "outputs": [],
   "source": [
    "top_diagnoses_prop = top_diagnoses_df.cumsum()/top_diagnoses_df.sum()"
   ]
  },
  {
   "cell_type": "code",
   "execution_count": 37,
   "metadata": {},
   "outputs": [
    {
     "name": "stderr",
     "output_type": "stream",
     "text": [
      "/Users/adamgifford/anaconda3/lib/python3.8/site-packages/seaborn/_decorators.py:36: FutureWarning: Pass the following variables as keyword args: x, y. From version 0.12, the only valid positional argument will be `data`, and passing other arguments without an explicit keyword will result in an error or misinterpretation.\n",
      "  warnings.warn(\n"
     ]
    },
    {
     "data": {
      "text/plain": [
       "<AxesSubplot:ylabel=\"('Diagnosis', 'count')\">"
      ]
     },
     "execution_count": 37,
     "metadata": {},
     "output_type": "execute_result"
    },
    {
     "data": {
      "image/png": "[encoded data removed]",
      "text/plain": [
       "<Figure size 432x288 with 1 Axes>"
      ]
     },
     "metadata": {
      "needs_background": "light"
     },
     "output_type": "display_data"
    }
   ],
   "source": [
    "import seaborn as sns\n",
    "sns.lineplot(top_diagnoses_prop.reset_index().index,top_diagnoses_prop[('Diagnosis', 'count')])"
   ]
  },
  {
   "cell_type": "code",
   "execution_count": null,
   "metadata": {},
   "outputs": [],
   "source": []
  }
 ],
 "metadata": {
  "kernelspec": {
   "display_name": "base",
   "language": "python",
   "name": "base"
  },
  "language_info": {
   "codemirror_mode": {
    "name": "ipython",
    "version": 3
   },
   "file_extension": ".py",
   "mimetype": "text/x-python",
   "name": "python",
   "nbconvert_exporter": "python",
   "pygments_lexer": "ipython3",
   "version": "3.8.3"
  }
 },
 "nbformat": 4,
 "nbformat_minor": 4
}
