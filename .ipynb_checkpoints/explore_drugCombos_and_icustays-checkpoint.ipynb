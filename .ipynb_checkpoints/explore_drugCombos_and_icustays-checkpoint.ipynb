{
 "cells": [
  {
   "cell_type": "code",
   "execution_count": 1,
   "metadata": {},
   "outputs": [],
   "source": [
    "import pandas as pd"
   ]
  },
  {
   "cell_type": "code",
   "execution_count": 2,
   "metadata": {},
   "outputs": [],
   "source": [
    "#1. Load patients\n",
    "# import patient info\n",
    "data_dir = 'data/physionet.org/files/mimiciii/1.4/'\n",
    "patient_file = 'PATIENTS.csv'\n",
    "df_patients = pd.read_csv(data_dir + patient_file)"
   ]
  },
  {
   "cell_type": "code",
   "execution_count": 3,
   "metadata": {},
   "outputs": [],
   "source": [
    "df_patients=df_patients.drop(['ROW_ID','DOD_HOSP','DOD_SSN'],axis=1)"
   ]
  },
  {
   "cell_type": "code",
   "execution_count": 4,
   "metadata": {},
   "outputs": [],
   "source": [
    "# convert date strings to datetime\n",
    "df_patients.DOB = pd.to_datetime(df_patients.DOB,format = '%Y-%m-%d %H:%M:%S', errors = 'coerce')\n",
    "df_patients.DOD = pd.to_datetime(df_patients.DOD,format = '%Y-%m-%d %H:%M:%S', errors = 'coerce')"
   ]
  },
  {
   "cell_type": "code",
   "execution_count": 5,
   "metadata": {},
   "outputs": [],
   "source": [
    "# import admissions info\n",
    "admissions_file = 'ADMISSIONS.csv'\n",
    "df_admissions = pd.read_csv(data_dir + admissions_file)\n",
    "df_admissions = df_admissions.drop(['ROW_ID','RELIGION','LANGUAGE','MARITAL_STATUS','ETHNICITY'],axis=1)"
   ]
  },
  {
   "cell_type": "code",
   "execution_count": 6,
   "metadata": {},
   "outputs": [],
   "source": [
    "# convert time strings to datetime\n",
    "df_admissions.ADMITTIME = pd.to_datetime(df_admissions.ADMITTIME,format = '%Y-%m-%d %H:%M:%S', errors = 'coerce')\n",
    "df_admissions.DISCHTIME = pd.to_datetime(df_admissions.DISCHTIME,format = '%Y-%m-%d %H:%M:%S', errors = 'coerce')\n",
    "df_admissions.EDREGTIME = pd.to_datetime(df_admissions.EDREGTIME,format = '%Y-%m-%d %H:%M:%S', errors = 'coerce')\n",
    "df_admissions.EDOUTTIME = pd.to_datetime(df_admissions.EDOUTTIME,format = '%Y-%m-%d %H:%M:%S', errors = 'coerce')"
   ]
  },
  {
   "cell_type": "code",
   "execution_count": 7,
   "metadata": {},
   "outputs": [],
   "source": [
    "# calculate length of hospital stay\n",
    "df_admissions['HOSPITAL_DAYS'] = (df_admissions['DISCHTIME'] - df_admissions['ADMITTIME']).dt.total_seconds()/(24*60*60)\n",
    "# negative admit days = dead on arrival, remove\n",
    "doa_idx = df_admissions[df_admissions['HOSPITAL_DAYS']<0].index\n",
    "df_admissions = df_admissions.drop(doa_idx,axis=0)"
   ]
  },
  {
   "cell_type": "code",
   "execution_count": 8,
   "metadata": {},
   "outputs": [],
   "source": [
    "# merge patient and admissions df\n",
    "df_patient_admit = df_patients.merge(df_admissions,how='left',left_on=['SUBJECT_ID'],right_on=['SUBJECT_ID'])"
   ]
  },
  {
   "cell_type": "code",
   "execution_count": 9,
   "metadata": {},
   "outputs": [],
   "source": [
    "# calculate age at admit, age at discharge\n",
    "df_patient_admit['ADMIT_AGE'] = df_patient_admit['ADMITTIME'].dt.year - df_patient_admit['DOB'].dt.year\n",
    "df_patient_admit['DISCH_AGE'] = df_patient_admit['DISCHTIME'].dt.year - df_patient_admit['DOB'].dt.year"
   ]
  },
  {
   "cell_type": "code",
   "execution_count": 10,
   "metadata": {},
   "outputs": [],
   "source": [
    "# 2. Remove patients <X\n",
    "# remove patients <X yo from df\n",
    "age = 10\n",
    "child_idx = df_patient_admit[df_patient_admit['ADMIT_AGE']<age].index\n",
    "child_patients = df_patient_admit.iloc[child_idx]['SUBJECT_ID'].unique()\n",
    "df_patient_admit = df_patient_admit.drop(child_idx, axis=0)"
   ]
  },
  {
   "cell_type": "code",
   "execution_count": 11,
   "metadata": {},
   "outputs": [],
   "source": [
    "# 3. Load icustays\n",
    "# import icu stays info\n",
    "icustays_file = 'ICUSTAYS.csv'\n",
    "df_icustays = pd.read_csv(data_dir + icustays_file)\n",
    "\n",
    "child_idx = df_icustays[df_icustays['SUBJECT_ID'].isin(child_patients)].index\n",
    "df_icustays = df_icustays.drop(child_idx,axis=0)\n",
    "\n",
    "df_icustays = df_icustays.drop(['ROW_ID'],axis=1)\n",
    "df_icustays.INTIME = pd.to_datetime(df_icustays.INTIME,format = '%Y-%m-%d %H:%M:%S', errors = 'coerce')\n",
    "df_icustays.OUTTIME = pd.to_datetime(df_icustays.OUTTIME,format = '%Y-%m-%d %H:%M:%S', errors = 'coerce')"
   ]
  },
  {
   "cell_type": "code",
   "execution_count": 12,
   "metadata": {},
   "outputs": [],
   "source": [
    "#join admissions and icu stays\n",
    "df_admit_icu = df_admissions.merge(df_icustays,how='left',left_on=['SUBJECT_ID','HADM_ID'],right_on=['SUBJECT_ID','HADM_ID'])"
   ]
  },
  {
   "cell_type": "code",
   "execution_count": 13,
   "metadata": {},
   "outputs": [],
   "source": [
    "cols_to_rmv = list(set(df_admit_icu.columns) & set(df_patient_admit))\n",
    "# keep SUBJECT_ID and HADM_ID for merge\n",
    "sbj_idx = cols_to_rmv.index('SUBJECT_ID')\n",
    "cols_to_rmv.pop(sbj_idx)\n",
    "h_idx = cols_to_rmv.index('HADM_ID')\n",
    "cols_to_rmv.pop(h_idx)\n",
    "\n",
    "df_admit_icu = df_admit_icu.drop(cols_to_rmv,axis=1)"
   ]
  },
  {
   "cell_type": "code",
   "execution_count": 14,
   "metadata": {},
   "outputs": [],
   "source": [
    "df_patient_admit_icu = df_patient_admit.merge(df_admit_icu,how='left',left_on=['SUBJECT_ID','HADM_ID'],right_on=['SUBJECT_ID','HADM_ID'])"
   ]
  },
  {
   "cell_type": "code",
   "execution_count": 15,
   "metadata": {},
   "outputs": [],
   "source": [
    "df_patient_admit_icu['DAYS_ADM_TO_ICU'] = (df_patient_admit_icu['INTIME'] - df_patient_admit_icu['ADMITTIME']).dt.total_seconds()/(24*60*60)"
   ]
  },
  {
   "cell_type": "code",
   "execution_count": 16,
   "metadata": {},
   "outputs": [],
   "source": [
    "# 4. Load prescriptions\n",
    "# import prescriptions info\n",
    "# data_dir = 'data/physionet.org/files/mimiciii/1.4/'\n",
    "prescrips_file = 'PRESCRIPTIONS.csv'\n",
    "df_prescrips = pd.read_csv(data_dir + prescrips_file,low_memory=False)\n",
    "\n",
    "df_prescrips = df_prescrips.drop(['ROW_ID','GSN','DRUG','DRUG_NAME_POE','DRUG_NAME_GENERIC','FORMULARY_DRUG_CD'],axis=1)\n",
    "ndc_nan_idx = df_prescrips[df_prescrips['NDC'].isna()].index\n",
    "df_prescrips=df_prescrips.drop(ndc_nan_idx,axis=0)\n",
    "\n",
    "df_prescrips['NDC'] = df_prescrips['NDC'].astype('int64')"
   ]
  },
  {
   "cell_type": "code",
   "execution_count": 17,
   "metadata": {},
   "outputs": [],
   "source": [
    "child_idx = df_prescrips[df_prescrips['SUBJECT_ID'].isin(child_patients)].index\n",
    "df_prescrips = df_prescrips.drop(child_idx,axis=0)"
   ]
  },
  {
   "cell_type": "code",
   "execution_count": 18,
   "metadata": {},
   "outputs": [],
   "source": [
    "df_prescrips.ENDDATE = pd.to_datetime(df_prescrips.ENDDATE,format = '%Y-%m-%d %H:%M:%S', errors = 'coerce')\n",
    "df_prescrips.STARTDATE = pd.to_datetime(df_prescrips.STARTDATE,format = '%Y-%m-%d %H:%M:%S', errors = 'coerce')"
   ]
  },
  {
   "cell_type": "code",
   "execution_count": 19,
   "metadata": {},
   "outputs": [],
   "source": [
    "df_patient_admit_icu_prescrip = df_patient_admit_icu.merge(df_prescrips,how='left',left_on=['SUBJECT_ID', 'HADM_ID', 'ICUSTAY_ID'],right_on=['SUBJECT_ID', 'HADM_ID', 'ICUSTAY_ID'])"
   ]
  },
  {
   "cell_type": "code",
   "execution_count": 20,
   "metadata": {},
   "outputs": [],
   "source": [
    "df_patient_admit_icu_prescrip['DAYS_ADM_TO_DRUG'] = (df_patient_admit_icu_prescrip['STARTDATE'] - df_patient_admit_icu_prescrip['ADMITTIME']).dt.total_seconds()/(24*60*60)"
   ]
  },
  {
   "cell_type": "code",
   "execution_count": 21,
   "metadata": {},
   "outputs": [],
   "source": [
    "df_patient_admit_icu_prescrip['DAYS_DRUG_BEFORE_ICU'] = df_patient_admit_icu_prescrip['DAYS_ADM_TO_ICU'] - df_patient_admit_icu_prescrip['DAYS_ADM_TO_DRUG']"
   ]
  },
  {
   "cell_type": "code",
   "execution_count": 22,
   "metadata": {},
   "outputs": [],
   "source": [
    "df_patient_admit_icu_prescrip_drugsfirst = df_patient_admit_icu_prescrip[df_patient_admit_icu_prescrip['DAYS_DRUG_BEFORE_ICU']>0]"
   ]
  },
  {
   "cell_type": "code",
   "execution_count": 23,
   "metadata": {},
   "outputs": [],
   "source": [
    "prescrips_by_combo_before_icu = df_patient_admit_icu_prescrip_drugsfirst.groupby(['SUBJECT_ID','HADM_ID','ICUSTAY_ID']).agg({'NDC': ['count', list]})"
   ]
  },
  {
   "cell_type": "code",
   "execution_count": 24,
   "metadata": {},
   "outputs": [
    {
     "data": {
      "text/html": [
       "<div>\n",
       "<style scoped>\n",
       "    .dataframe tbody tr th:only-of-type {\n",
       "        vertical-align: middle;\n",
       "    }\n",
       "\n",
       "    .dataframe tbody tr th {\n",
       "        vertical-align: top;\n",
       "    }\n",
       "\n",
       "    .dataframe thead tr th {\n",
       "        text-align: left;\n",
       "    }\n",
       "\n",
       "    .dataframe thead tr:last-of-type th {\n",
       "        text-align: right;\n",
       "    }\n",
       "</style>\n",
       "<table border=\"1\" class=\"dataframe\">\n",
       "  <thead>\n",
       "    <tr>\n",
       "      <th></th>\n",
       "      <th></th>\n",
       "      <th></th>\n",
       "      <th colspan=\"2\" halign=\"left\">NDC</th>\n",
       "    </tr>\n",
       "    <tr>\n",
       "      <th></th>\n",
       "      <th></th>\n",
       "      <th></th>\n",
       "      <th>count</th>\n",
       "      <th>list</th>\n",
       "    </tr>\n",
       "    <tr>\n",
       "      <th>SUBJECT_ID</th>\n",
       "      <th>HADM_ID</th>\n",
       "      <th>ICUSTAY_ID</th>\n",
       "      <th></th>\n",
       "      <th></th>\n",
       "    </tr>\n",
       "  </thead>\n",
       "  <tbody>\n",
       "    <tr>\n",
       "      <th>60122</th>\n",
       "      <th>122883.0</th>\n",
       "      <th>237390.0</th>\n",
       "      <td>133</td>\n",
       "      <td>[409672924.0, 2821501.0, 63323001302.0, 633230...</td>\n",
       "    </tr>\n",
       "    <tr>\n",
       "      <th>65610</th>\n",
       "      <th>132065.0</th>\n",
       "      <th>299319.0</th>\n",
       "      <td>123</td>\n",
       "      <td>[61553008348.0, 61553008348.0, 10019002710.0, ...</td>\n",
       "    </tr>\n",
       "    <tr>\n",
       "      <th>78532</th>\n",
       "      <th>177956.0</th>\n",
       "      <th>240761.0</th>\n",
       "      <td>122</td>\n",
       "      <td>[517760425.0, 409662502.0, 10019016312.0, 6155...</td>\n",
       "    </tr>\n",
       "    <tr>\n",
       "      <th>92947</th>\n",
       "      <th>190453.0</th>\n",
       "      <th>201667.0</th>\n",
       "      <td>118</td>\n",
       "      <td>[517293025.0, 641049325.0, 904516561.0, 517293...</td>\n",
       "    </tr>\n",
       "    <tr>\n",
       "      <th>98525</th>\n",
       "      <th>168505.0</th>\n",
       "      <th>294539.0</th>\n",
       "      <td>114</td>\n",
       "      <td>[55390000401.0, 0.0, 944049101.0, 944049101.0,...</td>\n",
       "    </tr>\n",
       "  </tbody>\n",
       "</table>\n",
       "</div>"
      ],
      "text/plain": [
       "                                 NDC  \\\n",
       "                               count   \n",
       "SUBJECT_ID HADM_ID  ICUSTAY_ID         \n",
       "60122      122883.0 237390.0     133   \n",
       "65610      132065.0 299319.0     123   \n",
       "78532      177956.0 240761.0     122   \n",
       "92947      190453.0 201667.0     118   \n",
       "98525      168505.0 294539.0     114   \n",
       "\n",
       "                                                                                   \n",
       "                                                                             list  \n",
       "SUBJECT_ID HADM_ID  ICUSTAY_ID                                                     \n",
       "60122      122883.0 237390.0    [409672924.0, 2821501.0, 63323001302.0, 633230...  \n",
       "65610      132065.0 299319.0    [61553008348.0, 61553008348.0, 10019002710.0, ...  \n",
       "78532      177956.0 240761.0    [517760425.0, 409662502.0, 10019016312.0, 6155...  \n",
       "92947      190453.0 201667.0    [517293025.0, 641049325.0, 904516561.0, 517293...  \n",
       "98525      168505.0 294539.0    [55390000401.0, 0.0, 944049101.0, 944049101.0,...  "
      ]
     },
     "execution_count": 24,
     "metadata": {},
     "output_type": "execute_result"
    }
   ],
   "source": [
    "prescrips_by_combo_before_icu.sort_values(by=('NDC','count'),ascending=False).head(5)"
   ]
  },
  {
   "cell_type": "code",
   "execution_count": 25,
   "metadata": {},
   "outputs": [],
   "source": [
    "# find all subject, hadm, icu_stay where count ==1 and remove (since no interaction)\n",
    "prescrips_by_combo_before_icu = prescrips_by_combo_before_icu[prescrips_by_combo_before_icu[('NDC',  'count')]>1]\n",
    "\n",
    "df_keep_ix = prescrips_by_combo_before_icu.index\n",
    "df_keep_subjs = [x[0] for x in df_keep_ix]\n",
    "df_keep_hadm = [x[1] for x in df_keep_ix]\n",
    "df_keep_icustay = [x[2] for x in df_keep_ix]\n",
    "\n",
    "df_ix1 = df_patient_admit_icu_prescrip_drugsfirst['SUBJECT_ID'].apply(lambda x: x in df_keep_subjs)\n",
    "df_ix2 = df_patient_admit_icu_prescrip_drugsfirst['HADM_ID'].apply(lambda x: x in df_keep_hadm)\n",
    "df_ix3 = df_patient_admit_icu_prescrip_drugsfirst['ICUSTAY_ID'].apply(lambda x: x in df_keep_icustay)\n",
    "\n",
    "df_patient_admit_icu_prescrip_drugsfirst = df_patient_admit_icu_prescrip_drugsfirst[df_ix1 & df_ix2 & df_ix3]"
   ]
  },
  {
   "cell_type": "code",
   "execution_count": 26,
   "metadata": {},
   "outputs": [],
   "source": [
    "# look at all Y-   of drugs and relationship to 'DAYS_DRUG_BEFORE_ICU'\n",
    "drugs = df_patient_admit_icu_prescrip['NDC'].unique()"
   ]
  },
  {
   "cell_type": "code",
   "execution_count": 27,
   "metadata": {},
   "outputs": [],
   "source": [
    "drugs = [x for x in drugs if x==x and x!=0.0]"
   ]
  },
  {
   "cell_type": "code",
   "execution_count": null,
   "metadata": {},
   "outputs": [
    {
     "name": "stdout",
     "output_type": "stream",
     "text": [
      "Iteration 0 out of 3853...\n",
      "     Subiteration 500 out of 3853...\n",
      "     Subiteration 1000 out of 3853...\n",
      "     Subiteration 1500 out of 3853...\n",
      "     Subiteration 2000 out of 3853...\n",
      "     Subiteration 2500 out of 3853...\n",
      "     Subiteration 3000 out of 3853...\n",
      "     Subiteration 3500 out of 3853...\n",
      "     Subiteration 500 out of 3853...\n",
      "     Subiteration 1000 out of 3853...\n",
      "     Subiteration 1500 out of 3853...\n",
      "     Subiteration 2000 out of 3853...\n",
      "     Subiteration 2500 out of 3853...\n",
      "     Subiteration 3000 out of 3853...\n",
      "     Subiteration 3500 out of 3853...\n",
      "     Subiteration 500 out of 3853...\n",
      "     Subiteration 1000 out of 3853...\n"
     ]
    }
   ],
   "source": [
    "drug_combos = []\n",
    "mn_days_drug_b4_icu = []\n",
    "se_days_drug_b4_icu = []\n",
    "combo_total = []\n",
    "for ix1, drug1 in enumerate(drugs):\n",
    "    if ix1 % 100 == 0:\n",
    "        print('Iteration {} out of {}...'.format(ix1,len(drugs)))\n",
    "    for ix2 in range(ix1+1,len(drugs)):\n",
    "        if ix2 % 500 == 0:\n",
    "            print('     Subiteration {} out of {}...'.format(ix2,len(drugs)))\n",
    "            \n",
    "        drug2 = drugs[ix2]\n",
    "        drug_combos.append((drug1,drug2))\n",
    "        \n",
    "        drg1_in = prescrips_by_combo_before_icu[('NDC',  'list')].apply(lambda x: drug1 in x)\n",
    "        drg2_in = prescrips_by_combo_before_icu[('NDC',  'list')].apply(lambda x: drug2 in x)\n",
    "        both_ix = prescrips_by_combo_before_icu.index[drg1_in & drg2_in]\n",
    "        \n",
    "        both_subjs = [x[0] for x in both_ix]\n",
    "        both_hadm = [x[1] for x in both_ix]\n",
    "        both_icustay = [x[2] for x in both_ix]\n",
    "        \n",
    "        df_ix1 = df_patient_admit_icu_prescrip_drugsfirst['SUBJECT_ID'].apply(lambda x: x in both_subjs)\n",
    "        df_ix2 = df_patient_admit_icu_prescrip_drugsfirst['HADM_ID'].apply(lambda x: x in both_hadm)\n",
    "        df_ix3 = df_patient_admit_icu_prescrip_drugsfirst['ICUSTAY_ID'].apply(lambda x: x in both_icustay)\n",
    "        \n",
    "        combo_total = sum(df_ix1 & df_ix2 & df_ix3)\n",
    "        mn_days_drug_b4_icu.append(df_patient_admit_icu_prescrip_drugsfirst[df_ix1 & df_ix2 & df_ix3].DAYS_DRUG_BEFORE_ICU.mean())\n",
    "        se_days_drug_b4_icu.append(df_patient_admit_icu_prescrip_drugsfirst[df_ix1 & df_ix2 & df_ix3].DAYS_DRUG_BEFORE_ICU.sem())\n",
    "\n",
    "        "
   ]
  },
  {
   "cell_type": "code",
   "execution_count": null,
   "metadata": {},
   "outputs": [],
   "source": []
  },
  {
   "cell_type": "code",
   "execution_count": 39,
   "metadata": {},
   "outputs": [
    {
     "ename": "ValueError",
     "evalue": "invalid literal for int() with base 10: '357          338004903\\n358          338004904\\n359                  0\\n360          641040025\\n361           74176230\\n362          517260225\\n363          517391025\\n364          310030011\\n365    ",
     "output_type": "error",
     "traceback": [
      "\u001b[0;31m---------------------------------------------------------------------------\u001b[0m",
      "\u001b[0;31mValueError\u001b[0m                                Traceback (most recent call last)",
      "\u001b[0;32m<ipython-input-39-4b8d003b5e2c>\u001b[0m in \u001b[0;36m<module>\u001b[0;34m\u001b[0m\n\u001b[0;32m----> 1\u001b[0;31m \u001b[0mdf_patient_admit_icu_prescrip_drugsfirst\u001b[0m\u001b[0;34m[\u001b[0m\u001b[0;34m:\u001b[0m\u001b[0;34m,\u001b[0m\u001b[0;34m'NDC'\u001b[0m\u001b[0;34m]\u001b[0m \u001b[0;34m=\u001b[0m \u001b[0mdf_patient_admit_icu_prescrip_drugsfirst\u001b[0m\u001b[0;34m[\u001b[0m\u001b[0;34m'NDC'\u001b[0m\u001b[0;34m]\u001b[0m\u001b[0;34m.\u001b[0m\u001b[0mastype\u001b[0m\u001b[0;34m(\u001b[0m\u001b[0;34m'int64'\u001b[0m\u001b[0;34m)\u001b[0m\u001b[0;34m.\u001b[0m\u001b[0mto_string\u001b[0m\u001b[0;34m(\u001b[0m\u001b[0;34m)\u001b[0m\u001b[0;34m\u001b[0m\u001b[0;34m\u001b[0m\u001b[0m\n\u001b[0m",
      "\u001b[0;32m~/anaconda3/lib/python3.6/site-packages/pandas/core/generic.py\u001b[0m in \u001b[0;36mastype\u001b[0;34m(self, dtype, copy, errors)\u001b[0m\n\u001b[1;32m   5696\u001b[0m         \u001b[0;32melse\u001b[0m\u001b[0;34m:\u001b[0m\u001b[0;34m\u001b[0m\u001b[0;34m\u001b[0m\u001b[0m\n\u001b[1;32m   5697\u001b[0m             \u001b[0;31m# else, only a single dtype is given\u001b[0m\u001b[0;34m\u001b[0m\u001b[0;34m\u001b[0m\u001b[0;34m\u001b[0m\u001b[0m\n\u001b[0;32m-> 5698\u001b[0;31m             \u001b[0mnew_data\u001b[0m \u001b[0;34m=\u001b[0m \u001b[0mself\u001b[0m\u001b[0;34m.\u001b[0m\u001b[0m_data\u001b[0m\u001b[0;34m.\u001b[0m\u001b[0mastype\u001b[0m\u001b[0;34m(\u001b[0m\u001b[0mdtype\u001b[0m\u001b[0;34m=\u001b[0m\u001b[0mdtype\u001b[0m\u001b[0;34m,\u001b[0m \u001b[0mcopy\u001b[0m\u001b[0;34m=\u001b[0m\u001b[0mcopy\u001b[0m\u001b[0;34m,\u001b[0m \u001b[0merrors\u001b[0m\u001b[0;34m=\u001b[0m\u001b[0merrors\u001b[0m\u001b[0;34m)\u001b[0m\u001b[0;34m\u001b[0m\u001b[0;34m\u001b[0m\u001b[0m\n\u001b[0m\u001b[1;32m   5699\u001b[0m             \u001b[0;32mreturn\u001b[0m \u001b[0mself\u001b[0m\u001b[0;34m.\u001b[0m\u001b[0m_constructor\u001b[0m\u001b[0;34m(\u001b[0m\u001b[0mnew_data\u001b[0m\u001b[0;34m)\u001b[0m\u001b[0;34m.\u001b[0m\u001b[0m__finalize__\u001b[0m\u001b[0;34m(\u001b[0m\u001b[0mself\u001b[0m\u001b[0;34m)\u001b[0m\u001b[0;34m\u001b[0m\u001b[0;34m\u001b[0m\u001b[0m\n\u001b[1;32m   5700\u001b[0m \u001b[0;34m\u001b[0m\u001b[0m\n",
      "\u001b[0;32m~/anaconda3/lib/python3.6/site-packages/pandas/core/internals/managers.py\u001b[0m in \u001b[0;36mastype\u001b[0;34m(self, dtype, copy, errors)\u001b[0m\n\u001b[1;32m    580\u001b[0m \u001b[0;34m\u001b[0m\u001b[0m\n\u001b[1;32m    581\u001b[0m     \u001b[0;32mdef\u001b[0m \u001b[0mastype\u001b[0m\u001b[0;34m(\u001b[0m\u001b[0mself\u001b[0m\u001b[0;34m,\u001b[0m \u001b[0mdtype\u001b[0m\u001b[0;34m,\u001b[0m \u001b[0mcopy\u001b[0m\u001b[0;34m:\u001b[0m \u001b[0mbool\u001b[0m \u001b[0;34m=\u001b[0m \u001b[0;32mFalse\u001b[0m\u001b[0;34m,\u001b[0m \u001b[0merrors\u001b[0m\u001b[0;34m:\u001b[0m \u001b[0mstr\u001b[0m \u001b[0;34m=\u001b[0m \u001b[0;34m\"raise\"\u001b[0m\u001b[0;34m)\u001b[0m\u001b[0;34m:\u001b[0m\u001b[0;34m\u001b[0m\u001b[0;34m\u001b[0m\u001b[0m\n\u001b[0;32m--> 582\u001b[0;31m         \u001b[0;32mreturn\u001b[0m \u001b[0mself\u001b[0m\u001b[0;34m.\u001b[0m\u001b[0mapply\u001b[0m\u001b[0;34m(\u001b[0m\u001b[0;34m\"astype\"\u001b[0m\u001b[0;34m,\u001b[0m \u001b[0mdtype\u001b[0m\u001b[0;34m=\u001b[0m\u001b[0mdtype\u001b[0m\u001b[0;34m,\u001b[0m \u001b[0mcopy\u001b[0m\u001b[0;34m=\u001b[0m\u001b[0mcopy\u001b[0m\u001b[0;34m,\u001b[0m \u001b[0merrors\u001b[0m\u001b[0;34m=\u001b[0m\u001b[0merrors\u001b[0m\u001b[0;34m)\u001b[0m\u001b[0;34m\u001b[0m\u001b[0;34m\u001b[0m\u001b[0m\n\u001b[0m\u001b[1;32m    583\u001b[0m \u001b[0;34m\u001b[0m\u001b[0m\n\u001b[1;32m    584\u001b[0m     \u001b[0;32mdef\u001b[0m \u001b[0mconvert\u001b[0m\u001b[0;34m(\u001b[0m\u001b[0mself\u001b[0m\u001b[0;34m,\u001b[0m \u001b[0;34m**\u001b[0m\u001b[0mkwargs\u001b[0m\u001b[0;34m)\u001b[0m\u001b[0;34m:\u001b[0m\u001b[0;34m\u001b[0m\u001b[0;34m\u001b[0m\u001b[0m\n",
      "\u001b[0;32m~/anaconda3/lib/python3.6/site-packages/pandas/core/internals/managers.py\u001b[0m in \u001b[0;36mapply\u001b[0;34m(self, f, filter, **kwargs)\u001b[0m\n\u001b[1;32m    440\u001b[0m                 \u001b[0mapplied\u001b[0m \u001b[0;34m=\u001b[0m \u001b[0mb\u001b[0m\u001b[0;34m.\u001b[0m\u001b[0mapply\u001b[0m\u001b[0;34m(\u001b[0m\u001b[0mf\u001b[0m\u001b[0;34m,\u001b[0m \u001b[0;34m**\u001b[0m\u001b[0mkwargs\u001b[0m\u001b[0;34m)\u001b[0m\u001b[0;34m\u001b[0m\u001b[0;34m\u001b[0m\u001b[0m\n\u001b[1;32m    441\u001b[0m             \u001b[0;32melse\u001b[0m\u001b[0;34m:\u001b[0m\u001b[0;34m\u001b[0m\u001b[0;34m\u001b[0m\u001b[0m\n\u001b[0;32m--> 442\u001b[0;31m                 \u001b[0mapplied\u001b[0m \u001b[0;34m=\u001b[0m \u001b[0mgetattr\u001b[0m\u001b[0;34m(\u001b[0m\u001b[0mb\u001b[0m\u001b[0;34m,\u001b[0m \u001b[0mf\u001b[0m\u001b[0;34m)\u001b[0m\u001b[0;34m(\u001b[0m\u001b[0;34m**\u001b[0m\u001b[0mkwargs\u001b[0m\u001b[0;34m)\u001b[0m\u001b[0;34m\u001b[0m\u001b[0;34m\u001b[0m\u001b[0m\n\u001b[0m\u001b[1;32m    443\u001b[0m             \u001b[0mresult_blocks\u001b[0m \u001b[0;34m=\u001b[0m \u001b[0m_extend_blocks\u001b[0m\u001b[0;34m(\u001b[0m\u001b[0mapplied\u001b[0m\u001b[0;34m,\u001b[0m \u001b[0mresult_blocks\u001b[0m\u001b[0;34m)\u001b[0m\u001b[0;34m\u001b[0m\u001b[0;34m\u001b[0m\u001b[0m\n\u001b[1;32m    444\u001b[0m \u001b[0;34m\u001b[0m\u001b[0m\n",
      "\u001b[0;32m~/anaconda3/lib/python3.6/site-packages/pandas/core/internals/blocks.py\u001b[0m in \u001b[0;36mastype\u001b[0;34m(self, dtype, copy, errors)\u001b[0m\n\u001b[1;32m    623\u001b[0m             \u001b[0mvals1d\u001b[0m \u001b[0;34m=\u001b[0m \u001b[0mvalues\u001b[0m\u001b[0;34m.\u001b[0m\u001b[0mravel\u001b[0m\u001b[0;34m(\u001b[0m\u001b[0;34m)\u001b[0m\u001b[0;34m\u001b[0m\u001b[0;34m\u001b[0m\u001b[0m\n\u001b[1;32m    624\u001b[0m             \u001b[0;32mtry\u001b[0m\u001b[0;34m:\u001b[0m\u001b[0;34m\u001b[0m\u001b[0;34m\u001b[0m\u001b[0m\n\u001b[0;32m--> 625\u001b[0;31m                 \u001b[0mvalues\u001b[0m \u001b[0;34m=\u001b[0m \u001b[0mastype_nansafe\u001b[0m\u001b[0;34m(\u001b[0m\u001b[0mvals1d\u001b[0m\u001b[0;34m,\u001b[0m \u001b[0mdtype\u001b[0m\u001b[0;34m,\u001b[0m \u001b[0mcopy\u001b[0m\u001b[0;34m=\u001b[0m\u001b[0;32mTrue\u001b[0m\u001b[0;34m)\u001b[0m\u001b[0;34m\u001b[0m\u001b[0;34m\u001b[0m\u001b[0m\n\u001b[0m\u001b[1;32m    626\u001b[0m             \u001b[0;32mexcept\u001b[0m \u001b[0;34m(\u001b[0m\u001b[0mValueError\u001b[0m\u001b[0;34m,\u001b[0m \u001b[0mTypeError\u001b[0m\u001b[0;34m)\u001b[0m\u001b[0;34m:\u001b[0m\u001b[0;34m\u001b[0m\u001b[0;34m\u001b[0m\u001b[0m\n\u001b[1;32m    627\u001b[0m                 \u001b[0;31m# e.g. astype_nansafe can fail on object-dtype of strings\u001b[0m\u001b[0;34m\u001b[0m\u001b[0;34m\u001b[0m\u001b[0;34m\u001b[0m\u001b[0m\n",
      "\u001b[0;32m~/anaconda3/lib/python3.6/site-packages/pandas/core/dtypes/cast.py\u001b[0m in \u001b[0;36mastype_nansafe\u001b[0;34m(arr, dtype, copy, skipna)\u001b[0m\n\u001b[1;32m    872\u001b[0m         \u001b[0;31m# work around NumPy brokenness, #1987\u001b[0m\u001b[0;34m\u001b[0m\u001b[0;34m\u001b[0m\u001b[0;34m\u001b[0m\u001b[0m\n\u001b[1;32m    873\u001b[0m         \u001b[0;32mif\u001b[0m \u001b[0mnp\u001b[0m\u001b[0;34m.\u001b[0m\u001b[0missubdtype\u001b[0m\u001b[0;34m(\u001b[0m\u001b[0mdtype\u001b[0m\u001b[0;34m.\u001b[0m\u001b[0mtype\u001b[0m\u001b[0;34m,\u001b[0m \u001b[0mnp\u001b[0m\u001b[0;34m.\u001b[0m\u001b[0minteger\u001b[0m\u001b[0;34m)\u001b[0m\u001b[0;34m:\u001b[0m\u001b[0;34m\u001b[0m\u001b[0;34m\u001b[0m\u001b[0m\n\u001b[0;32m--> 874\u001b[0;31m             \u001b[0;32mreturn\u001b[0m \u001b[0mlib\u001b[0m\u001b[0;34m.\u001b[0m\u001b[0mastype_intsafe\u001b[0m\u001b[0;34m(\u001b[0m\u001b[0marr\u001b[0m\u001b[0;34m.\u001b[0m\u001b[0mravel\u001b[0m\u001b[0;34m(\u001b[0m\u001b[0;34m)\u001b[0m\u001b[0;34m,\u001b[0m \u001b[0mdtype\u001b[0m\u001b[0;34m)\u001b[0m\u001b[0;34m.\u001b[0m\u001b[0mreshape\u001b[0m\u001b[0;34m(\u001b[0m\u001b[0marr\u001b[0m\u001b[0;34m.\u001b[0m\u001b[0mshape\u001b[0m\u001b[0;34m)\u001b[0m\u001b[0;34m\u001b[0m\u001b[0;34m\u001b[0m\u001b[0m\n\u001b[0m\u001b[1;32m    875\u001b[0m \u001b[0;34m\u001b[0m\u001b[0m\n\u001b[1;32m    876\u001b[0m         \u001b[0;31m# if we have a datetime/timedelta array of objects\u001b[0m\u001b[0;34m\u001b[0m\u001b[0;34m\u001b[0m\u001b[0;34m\u001b[0m\u001b[0m\n",
      "\u001b[0;32mpandas/_libs/lib.pyx\u001b[0m in \u001b[0;36mpandas._libs.lib.astype_intsafe\u001b[0;34m()\u001b[0m\n",
      "\u001b[0;31mValueError\u001b[0m: invalid literal for int() with base 10: '357          338004903\\n358          338004904\\n359                  0\\n360          641040025\\n361           74176230\\n362          517260225\\n363          517391025\\n364          310030011\\n365    "
     ]
    }
   ],
   "source": [
    "df_patient_admit_icu_prescrip_columnsgsfirst['NDC'] = df_patient_admit_icu_prescrip_drugsfirst['NDC'].astype('int64').to_string()"
   ]
  },
  {
   "cell_type": "code",
   "execution_count": null,
   "metadata": {},
   "outputs": [],
   "source": []
  },
  {
   "cell_type": "code",
   "execution_count": 36,
   "metadata": {},
   "outputs": [
    {
     "data": {
      "text/plain": [
       "0.1958167939957583"
      ]
     },
     "execution_count": 36,
     "metadata": {},
     "output_type": "execute_result"
    }
   ],
   "source": [
    "sum(df_patient_admit_icu_prescrip['DRUG_BEFORE_ICU'])/len(df_patient_admit_icu_prescrip)"
   ]
  },
  {
   "cell_type": "code",
   "execution_count": 15,
   "metadata": {},
   "outputs": [
    {
     "data": {
      "text/plain": [
       "0.34830696724243115"
      ]
     },
     "execution_count": 15,
     "metadata": {},
     "output_type": "execute_result"
    }
   ],
   "source": [
    "# keep any row where ICUSTAY_ID is NaN (i.e.,)\n",
    "df_prescrips['ICUSTAY_ID'].isna()"
   ]
  },
  {
   "cell_type": "code",
   "execution_count": 11,
   "metadata": {},
   "outputs": [],
   "source": [
    "child_idx = df_prescrips[df_prescrips['SUBJECT_ID'].isin(child_patients)].index\n",
    "df_prescrips = df_prescrips.drop(child_idx,axis=0)"
   ]
  },
  {
   "cell_type": "code",
   "execution_count": null,
   "metadata": {},
   "outputs": [],
   "source": [
    "# convert time strings to datetime\n",
    "df_prescrips.STARTDATE = pd.to_datetime(df_prescrips.STARTDATE,format = '%Y-%m-%d %H:%M:%S', errors = 'coerce')\n",
    "df_prescrips.ENDDATE = pd.to_datetime(df_prescrips.ENDDATE,format = '%Y-%m-%d %H:%M:%S', errors = 'coerce')"
   ]
  },
  {
   "cell_type": "code",
   "execution_count": null,
   "metadata": {},
   "outputs": [],
   "source": [
    "# Get only admits that occur \n"
   ]
  }
 ],
 "metadata": {
  "kernelspec": {
   "display_name": "Python 3",
   "language": "python",
   "name": "python3"
  },
  "language_info": {
   "codemirror_mode": {
    "name": "ipython",
    "version": 3
   },
   "file_extension": ".py",
   "mimetype": "text/x-python",
   "name": "python",
   "nbconvert_exporter": "python",
   "pygments_lexer": "ipython3",
   "version": "3.6.10"
  }
 },
 "nbformat": 4,
 "nbformat_minor": 4
}
