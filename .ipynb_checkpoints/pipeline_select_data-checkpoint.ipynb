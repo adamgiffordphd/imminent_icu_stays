{
 "cells": [
  {
   "cell_type": "code",
   "execution_count": 1,
   "metadata": {},
   "outputs": [],
   "source": [
    "import pandas as pd\n",
    "import numpy as np\n",
    "from customTransformers import DurationTransformer, DateTimeTransformer, EthnicityTransformer"
   ]
  },
  {
   "cell_type": "code",
   "execution_count": 2,
   "metadata": {},
   "outputs": [],
   "source": [
    "#1. Load data\n",
    "# import patient info\n",
    "data_dir = 'data/physionet.org/files/mimiciii/1.4/'\n",
    "patient_file = 'PATIENTS.csv'\n",
    "df_patients = pd.read_csv(data_dir + patient_file)\n",
    "\n",
    "# import admissions info\n",
    "admissions_file = 'ADMISSIONS.csv'\n",
    "df_admissions = pd.read_csv(data_dir + admissions_file)\n",
    "\n",
    "# import icu stays info\n",
    "icustays_file = 'ICUSTAYS.csv'\n",
    "df_icustays = pd.read_csv(data_dir + icustays_file)"
   ]
  },
  {
   "cell_type": "code",
   "execution_count": 3,
   "metadata": {},
   "outputs": [],
   "source": [
    "# work on df_patients\n",
    "df_patients=df_patients.drop(['ROW_ID','DOD','DOD_HOSP','DOD_SSN','EXPIRE_FLAG'],axis=1)\n",
    "df_patients = DateTimeTransformer(['DOB']).fit_transform(df_patients)"
   ]
  },
  {
   "cell_type": "code",
   "execution_count": 4,
   "metadata": {},
   "outputs": [],
   "source": [
    "# work on df_admissions\n",
    "# removing data columns that won't be used for predicting ICU stays\n",
    "df_admissions = df_admissions.drop(['ROW_ID','DEATHTIME',\n",
    "                                    'DISCHARGE_LOCATION','EDREGTIME','EDOUTTIME'],axis=1)\n",
    "\n",
    "# fill NAs\n",
    "values = {'RELIGION': 'NOT SPECIFIED', 'LANGUAGE': '***','MARITAL_STATUS': 'UNKNOWN (DEFAULT)', 'ETHNICITY': 'UNKNOWN',\n",
    "          'INSURANCE': 'Not Specified', 'ADMISSION_LOCATION': '** INFO NOT AVAILABLE **', 'ADMISSION_TYPE': 'UNKNOWN'}\n",
    "df_admissions = df_admissions.fillna(value=values)\n",
    "\n",
    "# convert time strings to datetime\n",
    "df_admissions = DateTimeTransformer(['ADMITTIME','DISCHTIME']).fit_transform(df_admissions)\n",
    "\n",
    "# convert ethinicities to ubergroups\n",
    "df_admissions['ETHNICITY'] = EthnicityTransformer().fit_transform(df_admissions['ETHNICITY'])\n",
    "\n",
    "# next, replace redundant fields\n",
    "df_admissions['RELIGION'] = df_admissions['RELIGION'].str.replace('UNOBTAINABLE','NOT SPECIFIED')\n",
    "\n",
    "# calculate length of hospital stay\n",
    "adm_dur_trns = DurationTransformer([('DISCHTIME','ADMITTIME')], ['HOSPITAL_DAYS'])\n",
    "df_admissions = adm_dur_trns.fit_transform(df_admissions)\n",
    "\n",
    "# negative admit days = dead on arrival, remove\n",
    "doa_idx = df_admissions[df_admissions['HOSPITAL_DAYS']<0].index\n",
    "df_admissions = df_admissions.drop(doa_idx,axis=0)"
   ]
  },
  {
   "cell_type": "code",
   "execution_count": 5,
   "metadata": {},
   "outputs": [],
   "source": [
    "# merge patient and admissions df and clean\n",
    "df_patient_admit = df_patients.merge(df_admissions,how='inner',left_on=['SUBJECT_ID'],right_on=['SUBJECT_ID'])\n",
    "\n",
    "# calculate age at admit\n",
    "# can't use DurationTransformer as is because of int overflow on total_seconds\n",
    "df_patient_admit['ADMIT_AGE'] = df_patient_admit['ADMITTIME'].dt.year - df_patient_admit['DOB'].dt.year\n",
    "\n",
    "# no longer need DOB, remove\n",
    "df_patient_admit=df_patient_admit.drop(['DOB'],axis=1)\n",
    "\n",
    "# convert ages >200 to 100 because these ages are obscured (purposefully to prevent \n",
    "# PHI from being released) --> should be ok because we will use nonlinear classifiers\n",
    "df_patient_admit.loc[df_patient_admit['ADMIT_AGE']>200,'ADMIT_AGE'] = 100"
   ]
  },
  {
   "cell_type": "code",
   "execution_count": 6,
   "metadata": {},
   "outputs": [],
   "source": [
    "# deal with icustays\n",
    "# first & last care units/ward ids and out times are for ICU stays themselves and therefore \n",
    "# will not be helpful in predicting ICU stays\n",
    "# we'll keep ICUSTAY length-of-stay (LOS) in case we want to use that as an outcome variable\n",
    "# df_icustays = df_icustays.drop(['ROW_ID','FIRST_CAREUNIT','LAST_CAREUNIT','FIRST_WARDID',\n",
    "#                                 'LAST_WARDID','OUTTIME'],axis=1)\n",
    "df_icustays = df_icustays.drop(['ROW_ID','FIRST_CAREUNIT','LAST_CAREUNIT','FIRST_WARDID',\n",
    "                                'LAST_WARDID','OUTTIME'],axis=1)"
   ]
  },
  {
   "cell_type": "code",
   "execution_count": 7,
   "metadata": {},
   "outputs": [],
   "source": [
    "# convert time strings to datetime\n",
    "df_icustays = DateTimeTransformer(['INTIME']).fit_transform(df_icustays)"
   ]
  },
  {
   "cell_type": "code",
   "execution_count": 8,
   "metadata": {},
   "outputs": [],
   "source": [
    "# join patients, admissions, and icustays and create more duration columns\n",
    "df_patient_admit_icu = df_patient_admit.merge(df_icustays,how='inner',left_on=['SUBJECT_ID','HADM_ID'],\n",
    "                                              right_on=['SUBJECT_ID','HADM_ID'])\n",
    "\n",
    "# calculate days from hospital admission to icu admission\n",
    "adm_dur_trns = DurationTransformer([('INTIME','ADMITTIME')], ['DAYS_ADM_TO_ICU'])\n",
    "df_patient_admit_icu = adm_dur_trns.fit_transform(df_patient_admit_icu)\n",
    "\n",
    "# remove any patients whose icu intime was before admittime\n",
    "icu_first_idx = df_patient_admit_icu[df_patient_admit_icu['DAYS_ADM_TO_ICU']<0].index\n",
    "df_patient_admit_icu = df_patient_admit_icu.drop(icu_first_idx,axis=0)\n",
    "\n",
    "# # drop rows with nan for DAYS_ADM_TO_ICU\n",
    "# df_patient_admit_icu = df_patient_admit_icu.dropna(axis=0, subset=['DAYS_ADM_TO_ICU'])"
   ]
  },
  {
   "cell_type": "code",
   "execution_count": 9,
   "metadata": {},
   "outputs": [],
   "source": [
    "# create more potential outcome column\n",
    "def get_time_bins(val,edges):\n",
    "    time_bin = np.where(val<=edges)[0][0]\n",
    "    return time_bin\n",
    "\n",
    "# various admit bins\n",
    "adm_to_ic_100p = np.percentile(df_patient_admit_icu['DAYS_ADM_TO_ICU'],range(1,101))\n",
    "adm_to_ic_90m = np.linspace(df_patient_admit_icu['DAYS_ADM_TO_ICU'].min(),df_patient_admit_icu['DAYS_ADM_TO_ICU'].max(),3201)\n",
    "adm_to_ic_90m = adm_to_ic_90m[1:]\n",
    "\n",
    "# categorical outcome variables for the time from hospital admit to icu stay\n",
    "# admits <24 hrs\n",
    "df_patient_admit_icu['SAMEDAY_ADM_TO_ICU'] = df_patient_admit_icu['DAYS_ADM_TO_ICU'].apply(lambda x: int(x<=1))\n",
    "\n",
    "# admits in percentiles\n",
    "df_patient_admit_icu['ADM_TO_ICU_100p'] = df_patient_admit_icu['DAYS_ADM_TO_ICU'].apply(get_time_bins, \n",
    "                                                                                           args=(adm_to_ic_100p,))\n",
    "# admit times in ~1.5-hour time bins (3200)\n",
    "df_patient_admit_icu['ADM_TO_ICU_90m'] = df_patient_admit_icu['DAYS_ADM_TO_ICU'].apply(get_time_bins, \n",
    "                                                                                           args=(adm_to_ic_90m,))\n",
    "\n",
    "\n",
    "\n",
    "# create 4-category urgency bins\n",
    "def get_time_bin_cats(val,edges=np.array([1/24, 1, 5, 300]),labels=['immediate','urgent','questionable','stable']):\n",
    "    time_bin = np.where(val<=edges)[0][0]\n",
    "    \n",
    "    return labels[time_bin]\n",
    "\n",
    "# admit times in urgency bins\n",
    "df_patient_admit_icu['ICU_URGENCY'] = df_patient_admit_icu['DAYS_ADM_TO_ICU'].apply(get_time_bin_cats)"
   ]
  },
  {
   "cell_type": "code",
   "execution_count": 10,
   "metadata": {},
   "outputs": [],
   "source": [
    "df_patient_admit_icu.to_pickle('./data/pickle/preproc/df_patient_admit_icu__20210126_ALL_final.pkl')"
   ]
  },
  {
   "cell_type": "code",
   "execution_count": 11,
   "metadata": {},
   "outputs": [],
   "source": [
    "from sklearn.impute import SimpleImputer\n",
    "simp = SimpleImputer(strategy='median')\n",
    "df_patient_admit_icu[['LOS']] = simp.fit(df_patient_admit_icu[['LOS']]).transform(df_patient_admit_icu[['LOS']])"
   ]
  },
  {
   "cell_type": "code",
   "execution_count": 12,
   "metadata": {},
   "outputs": [],
   "source": [
    "from sklearn.model_selection import train_test_split\n",
    "\n",
    "labels = ['immediate','urgent','questionable','stable']\n",
    "X_train, X_test, y_train, y_test = train_test_split(\n",
    "                                    df_patient_admit_icu,\n",
    "                                    df_patient_admit_icu['ICU_URGENCY'],\n",
    "                                    random_state=4, test_size=0.2,\n",
    "                                    stratify=df_patient_admit_icu['ICU_URGENCY'])"
   ]
  },
  {
   "cell_type": "code",
   "execution_count": 13,
   "metadata": {},
   "outputs": [],
   "source": [
    "import pickle\n",
    "\n",
    "file = './data/pickle/preproc/df_patient_admit_icu__20210130_TRAIN_final.pkl'\n",
    "pickle.dump((X_train,y_train),open(file,'wb'))"
   ]
  },
  {
   "cell_type": "code",
   "execution_count": 14,
   "metadata": {},
   "outputs": [],
   "source": [
    "file = './data/pickle/preproc/df_patient_admit_icu__20210130_TEST_final.pkl'\n",
    "pickle.dump((X_test,y_test),open(file,'wb'))"
   ]
  }
 ],
 "metadata": {
  "kernelspec": {
   "display_name": "base",
   "language": "python",
   "name": "base"
  },
  "language_info": {
   "codemirror_mode": {
    "name": "ipython",
    "version": 3
   },
   "file_extension": ".py",
   "mimetype": "text/x-python",
   "name": "python",
   "nbconvert_exporter": "python",
   "pygments_lexer": "ipython3",
   "version": "3.8.3"
  }
 },
 "nbformat": 4,
 "nbformat_minor": 4
}
