{
 "cells": [
  {
   "cell_type": "code",
   "execution_count": 1,
   "metadata": {},
   "outputs": [],
   "source": [
    "import pandas as pd\n",
    "import numpy as np\n",
    "import pickle"
   ]
  },
  {
   "cell_type": "code",
   "execution_count": 2,
   "metadata": {},
   "outputs": [],
   "source": [
    "X_train, y_train = pd.read_pickle('./data/pickle/preproc/df_patient_admit_icu__20210130_TRAIN_final.pkl')"
   ]
  },
  {
   "cell_type": "markdown",
   "metadata": {},
   "source": [
    "## URGENCY SCORE"
   ]
  },
  {
   "cell_type": "code",
   "execution_count": 3,
   "metadata": {},
   "outputs": [],
   "source": [
    "from sklearn.feature_extraction.text import TfidfTransformer, CountVectorizer\n",
    "from sklearn.pipeline import Pipeline, FeatureUnion\n",
    "from customTransformers import ColumnSelectTransformer, DiagnosisFrameTransformer, EstimatorTransformer, LinearNonlinear\n",
    "from sklearn.ensemble import RandomForestClassifier\n",
    "from sklearn.linear_model import LogisticRegression\n",
    "from sklearn.model_selection import GridSearchCV, StratifiedKFold\n",
    "from sklearn.preprocessing import StandardScaler, OneHotEncoder, OrdinalEncoder\n",
    "from sklearn.impute import SimpleImputer\n",
    "from sklearn.compose import ColumnTransformer\n",
    "from sklearn.ensemble import GradientBoostingClassifier\n",
    "from sklearn.metrics import precision_recall_curve\n",
    "from sklearn.metrics import plot_precision_recall_curve\n",
    "import matplotlib.pyplot as plt\n",
    "from sklearn.metrics import average_precision_score\n",
    "from sklearn.metrics import confusion_matrix, accuracy_score, f1_score\n",
    "from sklearn.metrics import plot_roc_curve, plot_confusion_matrix\n",
    "from sklearn.ensemble import GradientBoostingClassifier\n",
    "from sklearn.preprocessing import LabelEncoder\n",
    "from sklearn.metrics import plot_confusion_matrix\n",
    "from sklearn.linear_model import Ridge\n",
    "from sklearn.model_selection import KFold\n",
    "from sklearn.ensemble import RandomForestRegressor"
   ]
  },
  {
   "cell_type": "markdown",
   "metadata": {},
   "source": [
    "### Logistic on base cagetoricals + age, RF on diagnoses, xgboost on ensemble"
   ]
  },
  {
   "cell_type": "code",
   "execution_count": null,
   "metadata": {},
   "outputs": [],
   "source": [
    "## TRYING TO IMPLEMENT 4 OVR CLASSIFICATION SYSTEMS FOR ICU_URGENCY.\n",
    "# 1. CREATE AND TUNE OVR for demographics\n",
    "# 2. use multinomial classifier for diagnoses\n",
    "# 3. use all 5 outputs as features in a second multinomial to pool results\n",
    "from sklearn.preprocessing import OrdinalEncoder\n",
    "\n",
    "cols = ['GENDER','ADMISSION_TYPE','ADMISSION_LOCATION','INSURANCE','LANGUAGE',\n",
    "       'RELIGION','MARITAL_STATUS','ETHNICITY']\n",
    "\n",
    "num_cols = ['ADMIT_AGE']\n",
    "demog_feats = FeatureUnion([\n",
    "    ('stdscl', ColumnTransformer([('numerical', StandardScaler(), num_cols)])),\n",
    "    ('ohe',  ColumnTransformer([('categorical', OneHotEncoder(handle_unknown='ignore'), cols)]))\n",
    "])\n",
    "\n",
    "demog_pipe = Pipeline([\n",
    "    ('features', demog_feats),\n",
    "    ('reg', LogisticRegression(solver='saga'))\n",
    "])\n",
    "demog_params = {\n",
    "    'reg__penalty': ['l1','l2','none'],\n",
    "    'reg__C': [0.01, 0.1, 1, 10],\n",
    "    'reg__class_weight': ['none','balanced'],\n",
    "    'reg__multi_class': ['ovr','multinomial'],\n",
    "}\n",
    "\n",
    "ordenc = OrdinalEncoder(categories=[['stable','questionable','urgent','immediate']])\n",
    "y_train_enc = ordenc.fit_transform(y_train.to_numpy().reshape(-1,1))\n",
    "\n",
    "lin_gs_classifier = GridSearchCV(demog_pipe, demog_params, cv=StratifiedKFold(n_splits=5, shuffle=True),verbose=3,n_jobs=-1)\n",
    "lin_est = lin_gs_classifier.fit(X_train,y_train_enc)\n",
    "\n",
    "lin_est.best_params_,lin_est.best_score_"
   ]
  },
  {
   "cell_type": "code",
   "execution_count": null,
   "metadata": {},
   "outputs": [],
   "source": [
    "diagn_pipe = Pipeline([\n",
    "    ('cst', ColumnSelectTransformer(['DIAGNOSIS'])),\n",
    "    ('dst', DiagnosisFrameTransformer()),\n",
    "    ('count',CountVectorizer(max_features=3000)),\n",
    "    ('tfid', TfidfTransformer()),\n",
    "    ('rfc', RandomForestClassifier())\n",
    "])\n",
    "\n",
    "diagn_params = {\n",
    "    'rfc__criterion': ['gini','entropy'],\n",
    "    'rfc__max_features': ['auto', 'sqrt', 'log2'],\n",
    "    'rfc__min_samples_split': [2,5,8,11],\n",
    "    'rfc__min_samples_leaf': [1,4,7],\n",
    "    'rfc__class_weight': ['balanced', 'balanced_subsample'],\n",
    "}\n",
    "\n",
    "diagn_gs_classifier = GridSearchCV(diagn_pipe, diagn_params, cv=StratifiedKFold(n_splits=5, shuffle=True),verbose=3,n_jobs=4)\n",
    "tfidf_est = diagn_gs_classifier.fit(X_train,y_train_enc)\n",
    "tfidf_est.best_params_,tfidf_est.best_score_"
   ]
  },
  {
   "cell_type": "code",
   "execution_count": null,
   "metadata": {},
   "outputs": [],
   "source": [
    "demog_est = LogisticRegression(solver='saga', C=0.1, class_weight='none', \n",
    "                               penalty='l2', multi_class='ovr')\n",
    "demog_pipe = Pipeline([\n",
    "    ('features', demog_feats),\n",
    "    ('reg', demog_est)\n",
    "])\n",
    "\n",
    "diagn_est = RandomForestClassifier(class_weight='balanced',criterion='gini',\n",
    "                                  max_features='sqrt',min_samples_leaf=1,\n",
    "                                  min_samples_split=2)\n",
    "diagn_pipe = Pipeline([\n",
    "    ('cst', ColumnSelectTransformer(['DIAGNOSIS'])),\n",
    "    ('dst', DiagnosisFrameTransformer()),\n",
    "    ('count',CountVectorizer(max_features=3000)),\n",
    "    ('tfid', TfidfTransformer()),\n",
    "    ('rfc', diagn_est)\n",
    "])\n",
    "\n",
    "union = FeatureUnion([\n",
    "    ('demog', EstimatorTransformer(demog_pipe)),# FeatureUnions use the same syntax as Pipelines\n",
    "    ('diagn',EstimatorTransformer(diagn_pipe))\n",
    "])\n",
    "\n",
    "\n",
    "full_pipe = Pipeline([\n",
    "    ('union',union),\n",
    "    ('xgb', GradientBoostingClassifier())\n",
    "])\n",
    "\n",
    "xgb_params = {\n",
    "    'xgb__loss': ['deviance','exponential'],\n",
    "    'xgb__learning_rate': [0.05, 0.1, 0.2],\n",
    "    'xgb__subsample': [0.8, 1], # max is 1\n",
    "    'xgb__criterion': ['friedman_mse'],\n",
    "    'xgb__min_samples_leaf': [1, 4, 7],\n",
    "    'xgb__max_depth': [2,3,4],\n",
    "    'xgb__max_features': ['auto']\n",
    "}\n",
    "\n",
    "xgb_gs_classifier = GridSearchCV(full_pipe, xgb_params, cv=StratifiedKFold(n_splits=3, shuffle=True),verbose=3,n_jobs=4)\n",
    "xgb_est = xgb_gs_classifier.fit(X_train,y_train_enc)\n",
    "\n",
    "xgb_est.best_params_,xgb_est.best_score_"
   ]
  },
  {
   "cell_type": "markdown",
   "metadata": {},
   "source": [
    "### Logistic on all features"
   ]
  },
  {
   "cell_type": "code",
   "execution_count": 4,
   "metadata": {},
   "outputs": [
    {
     "name": "stdout",
     "output_type": "stream",
     "text": [
      "Fitting 5 folds for each of 24 candidates, totalling 120 fits\n"
     ]
    },
    {
     "name": "stderr",
     "output_type": "stream",
     "text": [
      "[Parallel(n_jobs=-1)]: Using backend LokyBackend with 16 concurrent workers.\n",
      "[Parallel(n_jobs=-1)]: Done 120 out of 120 | elapsed:  8.2min finished\n",
      "/Users/adamgifford/anaconda3/lib/python3.8/site-packages/sklearn/utils/validation.py:72: DataConversionWarning: A column-vector y was passed when a 1d array was expected. Please change the shape of y to (n_samples, ), for example using ravel().\n",
      "  return f(**kwargs)\n",
      "/Users/adamgifford/anaconda3/lib/python3.8/site-packages/sklearn/linear_model/_sag.py:329: ConvergenceWarning: The max_iter was reached which means the coef_ did not converge\n",
      "  warnings.warn(\"The max_iter was reached which means \"\n",
      "/Users/adamgifford/anaconda3/lib/python3.8/site-packages/sklearn/linear_model/_sag.py:329: ConvergenceWarning: The max_iter was reached which means the coef_ did not converge\n",
      "  warnings.warn(\"The max_iter was reached which means \"\n",
      "/Users/adamgifford/anaconda3/lib/python3.8/site-packages/sklearn/linear_model/_sag.py:329: ConvergenceWarning: The max_iter was reached which means the coef_ did not converge\n",
      "  warnings.warn(\"The max_iter was reached which means \"\n"
     ]
    },
    {
     "data": {
      "text/plain": [
       "({'reg__C': 1,\n",
       "  'reg__class_weight': 'none',\n",
       "  'reg__multi_class': 'ovr',\n",
       "  'reg__penalty': 'l2'},\n",
       " 0.6445177912568465)"
      ]
     },
     "execution_count": 4,
     "metadata": {},
     "output_type": "execute_result"
    }
   ],
   "source": [
    "cols = ['GENDER','ADMISSION_TYPE','ADMISSION_LOCATION','INSURANCE','LANGUAGE',\n",
    "       'RELIGION','MARITAL_STATUS','ETHNICITY']\n",
    "num_cols = ['ADMIT_AGE']\n",
    "\n",
    "ohe = ColumnTransformer([('categorical', OneHotEncoder(handle_unknown='ignore'), cols)])\n",
    "demog_feats = FeatureUnion([\n",
    "    ('stdscl', ColumnTransformer([('numerical', StandardScaler(), num_cols)])),\n",
    "    ('ohe',  ohe)\n",
    "])\n",
    "\n",
    "count = CountVectorizer(max_features=3000)\n",
    "diagn_feats = Pipeline([\n",
    "    ('cst', ColumnSelectTransformer(['DIAGNOSIS'])),\n",
    "    ('dst', DiagnosisFrameTransformer()),\n",
    "    ('count', count),\n",
    "    ('tfid', TfidfTransformer())\n",
    "])\n",
    "\n",
    "feats_union = FeatureUnion([\n",
    "    ('demog_feats', demog_feats),\n",
    "    ('diagn_feats', diagn_feats)\n",
    "])\n",
    "\n",
    "lin_pipe = Pipeline([\n",
    "    ('features', feats_union),\n",
    "    ('reg', LogisticRegression(solver='saga'))\n",
    "])\n",
    "\n",
    "lin_params = {\n",
    "    'reg__penalty': ['l1','l2'],\n",
    "    'reg__C': [1, 5, 10],\n",
    "    'reg__class_weight': ['none','balanced'],\n",
    "    'reg__multi_class': ['ovr','multinomial'],\n",
    "}\n",
    "\n",
    "ordenc = OrdinalEncoder(categories=[['stable','questionable','urgent','immediate']])\n",
    "y_train_enc = ordenc.fit_transform(y_train.to_numpy().reshape(-1,1))\n",
    "lin_gs_classifier = GridSearchCV(lin_pipe, lin_params, cv=StratifiedKFold(n_splits=5, shuffle=True),verbose=3,n_jobs=-1)\n",
    "lin_est = lin_gs_classifier.fit(X_train,y_train_enc)\n",
    "\n",
    "lin_est.best_params_,lin_est.best_score_"
   ]
  },
  {
   "cell_type": "code",
   "execution_count": 5,
   "metadata": {},
   "outputs": [],
   "source": [
    "file = './data/pickle/models/log__URGENCY__20210130.pkl'\n",
    "\n",
    "ohe.fit(X_train)\n",
    "feats_union.fit(X_train)\n",
    "diagn_feats.fit(X_train)\n",
    "model_data = {\n",
    "    'numeric_cols': num_cols,\n",
    "    'categorical_cols': cols,\n",
    "    'diagnosis_col': ['DIAGNOSIS'],\n",
    "    'ohe_categoricals': ohe,\n",
    "    'feature_union': feats_union,\n",
    "    'diagn_vect': diagn_feats,\n",
    "    'ord_enc_y': ordenc,\n",
    "    'gridsearch': lin_gs_classifier,\n",
    "    'estimator': lin_est\n",
    "}\n",
    "pickle.dump(model_data,open(file,'wb'))"
   ]
  },
  {
   "cell_type": "code",
   "execution_count": 6,
   "metadata": {},
   "outputs": [],
   "source": [
    "file = './data/pickle/models/log__URGENCY__20210130.pkl'\n",
    "model_data = pickle.load(open(file,'rb'))\n",
    "X_test, y_test = pd.read_pickle('./data/pickle/preproc/df_patient_admit_icu__20210126_TEST_final.pkl')"
   ]
  },
  {
   "cell_type": "code",
   "execution_count": 7,
   "metadata": {},
   "outputs": [],
   "source": [
    "est = model_data['estimator']\n",
    "oh = model_data['ohe_categoricals']\n",
    "dv = model_data['diagn_vect']\n",
    "fu = model_data['feature_union']\n",
    "cats = model_data['categorical_cols']\n",
    "# del model_data\n",
    "# est"
   ]
  },
  {
   "cell_type": "code",
   "execution_count": 8,
   "metadata": {},
   "outputs": [
    {
     "data": {
      "text/plain": [
       "125"
      ]
     },
     "execution_count": 8,
     "metadata": {},
     "output_type": "execute_result"
    }
   ],
   "source": [
    "len(oh.get_feature_names())"
   ]
  },
  {
   "cell_type": "code",
   "execution_count": 9,
   "metadata": {},
   "outputs": [
    {
     "data": {
      "text/plain": [
       "3000"
      ]
     },
     "execution_count": 9,
     "metadata": {},
     "output_type": "execute_result"
    }
   ],
   "source": [
    "len(dv.named_steps.count.get_feature_names())"
   ]
  },
  {
   "cell_type": "code",
   "execution_count": 10,
   "metadata": {},
   "outputs": [
    {
     "data": {
      "text/html": [
       "\n",
       "    <div class=\"bk-root\">\n",
       "        <a href=\"https://bokeh.org\" target=\"_blank\" class=\"bk-logo bk-logo-small bk-logo-notebook\"></a>\n",
       "        <span id=\"1001\">Loading BokehJS ...</span>\n",
       "    </div>"
      ]
     },
     "metadata": {},
     "output_type": "display_data"
    },
    {
     "data": {
      "application/javascript": [
       "\n",
       "(function(root) {\n",
       "  function now() {\n",
       "    return new Date();\n",
       "  }\n",
       "\n",
       "  var force = true;\n",
       "\n",
       "  if (typeof root._bokeh_onload_callbacks === \"undefined\" || force === true) {\n",
       "    root._bokeh_onload_callbacks = [];\n",
       "    root._bokeh_is_loading = undefined;\n",
       "  }\n",
       "\n",
       "  var JS_MIME_TYPE = 'application/javascript';\n",
       "  var HTML_MIME_TYPE = 'text/html';\n",
       "  var EXEC_MIME_TYPE = 'application/vnd.bokehjs_exec.v0+json';\n",
       "  var CLASS_NAME = 'output_bokeh rendered_html';\n",
       "\n",
       "  /**\n",
       "   * Render data to the DOM node\n",
       "   */\n",
       "  function render(props, node) {\n",
       "    var script = document.createElement(\"script\");\n",
       "    node.appendChild(script);\n",
       "  }\n",
       "\n",
       "  /**\n",
       "   * Handle when an output is cleared or removed\n",
       "   */\n",
       "  function handleClearOutput(event, handle) {\n",
       "    var cell = handle.cell;\n",
       "\n",
       "    var id = cell.output_area._bokeh_element_id;\n",
       "    var server_id = cell.output_area._bokeh_server_id;\n",
       "    // Clean up Bokeh references\n",
       "    if (id != null && id in Bokeh.index) {\n",
       "      Bokeh.index[id].model.document.clear();\n",
       "      delete Bokeh.index[id];\n",
       "    }\n",
       "\n",
       "    if (server_id !== undefined) {\n",
       "      // Clean up Bokeh references\n",
       "      var cmd = \"from bokeh.io.state import curstate; print(curstate().uuid_to_server['\" + server_id + \"'].get_sessions()[0].document.roots[0]._id)\";\n",
       "      cell.notebook.kernel.execute(cmd, {\n",
       "        iopub: {\n",
       "          output: function(msg) {\n",
       "            var id = msg.content.text.trim();\n",
       "            if (id in Bokeh.index) {\n",
       "              Bokeh.index[id].model.document.clear();\n",
       "              delete Bokeh.index[id];\n",
       "            }\n",
       "          }\n",
       "        }\n",
       "      });\n",
       "      // Destroy server and session\n",
       "      var cmd = \"import bokeh.io.notebook as ion; ion.destroy_server('\" + server_id + \"')\";\n",
       "      cell.notebook.kernel.execute(cmd);\n",
       "    }\n",
       "  }\n",
       "\n",
       "  /**\n",
       "   * Handle when a new output is added\n",
       "   */\n",
       "  function handleAddOutput(event, handle) {\n",
       "    var output_area = handle.output_area;\n",
       "    var output = handle.output;\n",
       "\n",
       "    // limit handleAddOutput to display_data with EXEC_MIME_TYPE content only\n",
       "    if ((output.output_type != \"display_data\") || (!output.data.hasOwnProperty(EXEC_MIME_TYPE))) {\n",
       "      return\n",
       "    }\n",
       "\n",
       "    var toinsert = output_area.element.find(\".\" + CLASS_NAME.split(' ')[0]);\n",
       "\n",
       "    if (output.metadata[EXEC_MIME_TYPE][\"id\"] !== undefined) {\n",
       "      toinsert[toinsert.length - 1].firstChild.textContent = output.data[JS_MIME_TYPE];\n",
       "      // store reference to embed id on output_area\n",
       "      output_area._bokeh_element_id = output.metadata[EXEC_MIME_TYPE][\"id\"];\n",
       "    }\n",
       "    if (output.metadata[EXEC_MIME_TYPE][\"server_id\"] !== undefined) {\n",
       "      var bk_div = document.createElement(\"div\");\n",
       "      bk_div.innerHTML = output.data[HTML_MIME_TYPE];\n",
       "      var script_attrs = bk_div.children[0].attributes;\n",
       "      for (var i = 0; i < script_attrs.length; i++) {\n",
       "        toinsert[toinsert.length - 1].firstChild.setAttribute(script_attrs[i].name, script_attrs[i].value);\n",
       "        toinsert[toinsert.length - 1].firstChild.textContent = bk_div.children[0].textContent\n",
       "      }\n",
       "      // store reference to server id on output_area\n",
       "      output_area._bokeh_server_id = output.metadata[EXEC_MIME_TYPE][\"server_id\"];\n",
       "    }\n",
       "  }\n",
       "\n",
       "  function register_renderer(events, OutputArea) {\n",
       "\n",
       "    function append_mime(data, metadata, element) {\n",
       "      // create a DOM node to render to\n",
       "      var toinsert = this.create_output_subarea(\n",
       "        metadata,\n",
       "        CLASS_NAME,\n",
       "        EXEC_MIME_TYPE\n",
       "      );\n",
       "      this.keyboard_manager.register_events(toinsert);\n",
       "      // Render to node\n",
       "      var props = {data: data, metadata: metadata[EXEC_MIME_TYPE]};\n",
       "      render(props, toinsert[toinsert.length - 1]);\n",
       "      element.append(toinsert);\n",
       "      return toinsert\n",
       "    }\n",
       "\n",
       "    /* Handle when an output is cleared or removed */\n",
       "    events.on('clear_output.CodeCell', handleClearOutput);\n",
       "    events.on('delete.Cell', handleClearOutput);\n",
       "\n",
       "    /* Handle when a new output is added */\n",
       "    events.on('output_added.OutputArea', handleAddOutput);\n",
       "\n",
       "    /**\n",
       "     * Register the mime type and append_mime function with output_area\n",
       "     */\n",
       "    OutputArea.prototype.register_mime_type(EXEC_MIME_TYPE, append_mime, {\n",
       "      /* Is output safe? */\n",
       "      safe: true,\n",
       "      /* Index of renderer in `output_area.display_order` */\n",
       "      index: 0\n",
       "    });\n",
       "  }\n",
       "\n",
       "  // register the mime type if in Jupyter Notebook environment and previously unregistered\n",
       "  if (root.Jupyter !== undefined) {\n",
       "    var events = require('base/js/events');\n",
       "    var OutputArea = require('notebook/js/outputarea').OutputArea;\n",
       "\n",
       "    if (OutputArea.prototype.mime_types().indexOf(EXEC_MIME_TYPE) == -1) {\n",
       "      register_renderer(events, OutputArea);\n",
       "    }\n",
       "  }\n",
       "\n",
       "  \n",
       "  if (typeof (root._bokeh_timeout) === \"undefined\" || force === true) {\n",
       "    root._bokeh_timeout = Date.now() + 5000;\n",
       "    root._bokeh_failed_load = false;\n",
       "  }\n",
       "\n",
       "  var NB_LOAD_WARNING = {'data': {'text/html':\n",
       "     \"<div style='background-color: #fdd'>\\n\"+\n",
       "     \"<p>\\n\"+\n",
       "     \"BokehJS does not appear to have successfully loaded. If loading BokehJS from CDN, this \\n\"+\n",
       "     \"may be due to a slow or bad network connection. Possible fixes:\\n\"+\n",
       "     \"</p>\\n\"+\n",
       "     \"<ul>\\n\"+\n",
       "     \"<li>re-rerun `output_notebook()` to attempt to load from CDN again, or</li>\\n\"+\n",
       "     \"<li>use INLINE resources instead, as so:</li>\\n\"+\n",
       "     \"</ul>\\n\"+\n",
       "     \"<code>\\n\"+\n",
       "     \"from bokeh.resources import INLINE\\n\"+\n",
       "     \"output_notebook(resources=INLINE)\\n\"+\n",
       "     \"</code>\\n\"+\n",
       "     \"</div>\"}};\n",
       "\n",
       "  function display_loaded() {\n",
       "    var el = document.getElementById(\"1001\");\n",
       "    if (el != null) {\n",
       "      el.textContent = \"BokehJS is loading...\";\n",
       "    }\n",
       "    if (root.Bokeh !== undefined) {\n",
       "      if (el != null) {\n",
       "        el.textContent = \"BokehJS \" + root.Bokeh.version + \" successfully loaded.\";\n",
       "      }\n",
       "    } else if (Date.now() < root._bokeh_timeout) {\n",
       "      setTimeout(display_loaded, 100)\n",
       "    }\n",
       "  }\n",
       "\n",
       "\n",
       "  function run_callbacks() {\n",
       "    try {\n",
       "      root._bokeh_onload_callbacks.forEach(function(callback) {\n",
       "        if (callback != null)\n",
       "          callback();\n",
       "      });\n",
       "    } finally {\n",
       "      delete root._bokeh_onload_callbacks\n",
       "    }\n",
       "    console.debug(\"Bokeh: all callbacks have finished\");\n",
       "  }\n",
       "\n",
       "  function load_libs(css_urls, js_urls, callback) {\n",
       "    if (css_urls == null) css_urls = [];\n",
       "    if (js_urls == null) js_urls = [];\n",
       "\n",
       "    root._bokeh_onload_callbacks.push(callback);\n",
       "    if (root._bokeh_is_loading > 0) {\n",
       "      console.debug(\"Bokeh: BokehJS is being loaded, scheduling callback at\", now());\n",
       "      return null;\n",
       "    }\n",
       "    if (js_urls == null || js_urls.length === 0) {\n",
       "      run_callbacks();\n",
       "      return null;\n",
       "    }\n",
       "    console.debug(\"Bokeh: BokehJS not loaded, scheduling load and callback at\", now());\n",
       "    root._bokeh_is_loading = css_urls.length + js_urls.length;\n",
       "\n",
       "    function on_load() {\n",
       "      root._bokeh_is_loading--;\n",
       "      if (root._bokeh_is_loading === 0) {\n",
       "        console.debug(\"Bokeh: all BokehJS libraries/stylesheets loaded\");\n",
       "        run_callbacks()\n",
       "      }\n",
       "    }\n",
       "\n",
       "    function on_error() {\n",
       "      console.error(\"failed to load \" + url);\n",
       "    }\n",
       "\n",
       "    for (var i = 0; i < css_urls.length; i++) {\n",
       "      var url = css_urls[i];\n",
       "      const element = document.createElement(\"link\");\n",
       "      element.onload = on_load;\n",
       "      element.onerror = on_error;\n",
       "      element.rel = \"stylesheet\";\n",
       "      element.type = \"text/css\";\n",
       "      element.href = url;\n",
       "      console.debug(\"Bokeh: injecting link tag for BokehJS stylesheet: \", url);\n",
       "      document.body.appendChild(element);\n",
       "    }\n",
       "\n",
       "    const hashes = {\"https://cdn.bokeh.org/bokeh/release/bokeh-2.2.3.min.js\": \"T2yuo9Oe71Cz/I4X9Ac5+gpEa5a8PpJCDlqKYO0CfAuEszu1JrXLl8YugMqYe3sM\", \"https://cdn.bokeh.org/bokeh/release/bokeh-widgets-2.2.3.min.js\": \"98GDGJ0kOMCUMUePhksaQ/GYgB3+NH9h996V88sh3aOiUNX3N+fLXAtry6xctSZ6\", \"https://cdn.bokeh.org/bokeh/release/bokeh-tables-2.2.3.min.js\": \"89bArO+nlbP3sgakeHjCo1JYxYR5wufVgA3IbUvDY+K7w4zyxJqssu7wVnfeKCq8\"};\n",
       "\n",
       "    for (var i = 0; i < js_urls.length; i++) {\n",
       "      var url = js_urls[i];\n",
       "      var element = document.createElement('script');\n",
       "      element.onload = on_load;\n",
       "      element.onerror = on_error;\n",
       "      element.async = false;\n",
       "      element.src = url;\n",
       "      if (url in hashes) {\n",
       "        element.crossOrigin = \"anonymous\";\n",
       "        element.integrity = \"sha384-\" + hashes[url];\n",
       "      }\n",
       "      console.debug(\"Bokeh: injecting script tag for BokehJS library: \", url);\n",
       "      document.head.appendChild(element);\n",
       "    }\n",
       "  };\n",
       "\n",
       "  function inject_raw_css(css) {\n",
       "    const element = document.createElement(\"style\");\n",
       "    element.appendChild(document.createTextNode(css));\n",
       "    document.body.appendChild(element);\n",
       "  }\n",
       "\n",
       "  \n",
       "  var js_urls = [\"https://cdn.bokeh.org/bokeh/release/bokeh-2.2.3.min.js\", \"https://cdn.bokeh.org/bokeh/release/bokeh-widgets-2.2.3.min.js\", \"https://cdn.bokeh.org/bokeh/release/bokeh-tables-2.2.3.min.js\"];\n",
       "  var css_urls = [];\n",
       "  \n",
       "\n",
       "  var inline_js = [\n",
       "    function(Bokeh) {\n",
       "      Bokeh.set_log_level(\"info\");\n",
       "    },\n",
       "    function(Bokeh) {\n",
       "    \n",
       "    \n",
       "    }\n",
       "  ];\n",
       "\n",
       "  function run_inline_js() {\n",
       "    \n",
       "    if (root.Bokeh !== undefined || force === true) {\n",
       "      \n",
       "    for (var i = 0; i < inline_js.length; i++) {\n",
       "      inline_js[i].call(root, root.Bokeh);\n",
       "    }\n",
       "    if (force === true) {\n",
       "        display_loaded();\n",
       "      }} else if (Date.now() < root._bokeh_timeout) {\n",
       "      setTimeout(run_inline_js, 100);\n",
       "    } else if (!root._bokeh_failed_load) {\n",
       "      console.log(\"Bokeh: BokehJS failed to load within specified timeout.\");\n",
       "      root._bokeh_failed_load = true;\n",
       "    } else if (force !== true) {\n",
       "      var cell = $(document.getElementById(\"1001\")).parents('.cell').data().cell;\n",
       "      cell.output_area.append_execute_result(NB_LOAD_WARNING)\n",
       "    }\n",
       "\n",
       "  }\n",
       "\n",
       "  if (root._bokeh_is_loading === 0) {\n",
       "    console.debug(\"Bokeh: BokehJS loaded, going straight to plotting\");\n",
       "    run_inline_js();\n",
       "  } else {\n",
       "    load_libs(css_urls, js_urls, function() {\n",
       "      console.debug(\"Bokeh: BokehJS plotting callback run at\", now());\n",
       "      run_inline_js();\n",
       "    });\n",
       "  }\n",
       "}(window));"
      ],
      "application/vnd.bokehjs_load.v0+json": "\n(function(root) {\n  function now() {\n    return new Date();\n  }\n\n  var force = true;\n\n  if (typeof root._bokeh_onload_callbacks === \"undefined\" || force === true) {\n    root._bokeh_onload_callbacks = [];\n    root._bokeh_is_loading = undefined;\n  }\n\n  \n\n  \n  if (typeof (root._bokeh_timeout) === \"undefined\" || force === true) {\n    root._bokeh_timeout = Date.now() + 5000;\n    root._bokeh_failed_load = false;\n  }\n\n  var NB_LOAD_WARNING = {'data': {'text/html':\n     \"<div style='background-color: #fdd'>\\n\"+\n     \"<p>\\n\"+\n     \"BokehJS does not appear to have successfully loaded. If loading BokehJS from CDN, this \\n\"+\n     \"may be due to a slow or bad network connection. Possible fixes:\\n\"+\n     \"</p>\\n\"+\n     \"<ul>\\n\"+\n     \"<li>re-rerun `output_notebook()` to attempt to load from CDN again, or</li>\\n\"+\n     \"<li>use INLINE resources instead, as so:</li>\\n\"+\n     \"</ul>\\n\"+\n     \"<code>\\n\"+\n     \"from bokeh.resources import INLINE\\n\"+\n     \"output_notebook(resources=INLINE)\\n\"+\n     \"</code>\\n\"+\n     \"</div>\"}};\n\n  function display_loaded() {\n    var el = document.getElementById(\"1001\");\n    if (el != null) {\n      el.textContent = \"BokehJS is loading...\";\n    }\n    if (root.Bokeh !== undefined) {\n      if (el != null) {\n        el.textContent = \"BokehJS \" + root.Bokeh.version + \" successfully loaded.\";\n      }\n    } else if (Date.now() < root._bokeh_timeout) {\n      setTimeout(display_loaded, 100)\n    }\n  }\n\n\n  function run_callbacks() {\n    try {\n      root._bokeh_onload_callbacks.forEach(function(callback) {\n        if (callback != null)\n          callback();\n      });\n    } finally {\n      delete root._bokeh_onload_callbacks\n    }\n    console.debug(\"Bokeh: all callbacks have finished\");\n  }\n\n  function load_libs(css_urls, js_urls, callback) {\n    if (css_urls == null) css_urls = [];\n    if (js_urls == null) js_urls = [];\n\n    root._bokeh_onload_callbacks.push(callback);\n    if (root._bokeh_is_loading > 0) {\n      console.debug(\"Bokeh: BokehJS is being loaded, scheduling callback at\", now());\n      return null;\n    }\n    if (js_urls == null || js_urls.length === 0) {\n      run_callbacks();\n      return null;\n    }\n    console.debug(\"Bokeh: BokehJS not loaded, scheduling load and callback at\", now());\n    root._bokeh_is_loading = css_urls.length + js_urls.length;\n\n    function on_load() {\n      root._bokeh_is_loading--;\n      if (root._bokeh_is_loading === 0) {\n        console.debug(\"Bokeh: all BokehJS libraries/stylesheets loaded\");\n        run_callbacks()\n      }\n    }\n\n    function on_error() {\n      console.error(\"failed to load \" + url);\n    }\n\n    for (var i = 0; i < css_urls.length; i++) {\n      var url = css_urls[i];\n      const element = document.createElement(\"link\");\n      element.onload = on_load;\n      element.onerror = on_error;\n      element.rel = \"stylesheet\";\n      element.type = \"text/css\";\n      element.href = url;\n      console.debug(\"Bokeh: injecting link tag for BokehJS stylesheet: \", url);\n      document.body.appendChild(element);\n    }\n\n    const hashes = {\"https://cdn.bokeh.org/bokeh/release/bokeh-2.2.3.min.js\": \"T2yuo9Oe71Cz/I4X9Ac5+gpEa5a8PpJCDlqKYO0CfAuEszu1JrXLl8YugMqYe3sM\", \"https://cdn.bokeh.org/bokeh/release/bokeh-widgets-2.2.3.min.js\": \"98GDGJ0kOMCUMUePhksaQ/GYgB3+NH9h996V88sh3aOiUNX3N+fLXAtry6xctSZ6\", \"https://cdn.bokeh.org/bokeh/release/bokeh-tables-2.2.3.min.js\": \"89bArO+nlbP3sgakeHjCo1JYxYR5wufVgA3IbUvDY+K7w4zyxJqssu7wVnfeKCq8\"};\n\n    for (var i = 0; i < js_urls.length; i++) {\n      var url = js_urls[i];\n      var element = document.createElement('script');\n      element.onload = on_load;\n      element.onerror = on_error;\n      element.async = false;\n      element.src = url;\n      if (url in hashes) {\n        element.crossOrigin = \"anonymous\";\n        element.integrity = \"sha384-\" + hashes[url];\n      }\n      console.debug(\"Bokeh: injecting script tag for BokehJS library: \", url);\n      document.head.appendChild(element);\n    }\n  };\n\n  function inject_raw_css(css) {\n    const element = document.createElement(\"style\");\n    element.appendChild(document.createTextNode(css));\n    document.body.appendChild(element);\n  }\n\n  \n  var js_urls = [\"https://cdn.bokeh.org/bokeh/release/bokeh-2.2.3.min.js\", \"https://cdn.bokeh.org/bokeh/release/bokeh-widgets-2.2.3.min.js\", \"https://cdn.bokeh.org/bokeh/release/bokeh-tables-2.2.3.min.js\"];\n  var css_urls = [];\n  \n\n  var inline_js = [\n    function(Bokeh) {\n      Bokeh.set_log_level(\"info\");\n    },\n    function(Bokeh) {\n    \n    \n    }\n  ];\n\n  function run_inline_js() {\n    \n    if (root.Bokeh !== undefined || force === true) {\n      \n    for (var i = 0; i < inline_js.length; i++) {\n      inline_js[i].call(root, root.Bokeh);\n    }\n    if (force === true) {\n        display_loaded();\n      }} else if (Date.now() < root._bokeh_timeout) {\n      setTimeout(run_inline_js, 100);\n    } else if (!root._bokeh_failed_load) {\n      console.log(\"Bokeh: BokehJS failed to load within specified timeout.\");\n      root._bokeh_failed_load = true;\n    } else if (force !== true) {\n      var cell = $(document.getElementById(\"1001\")).parents('.cell').data().cell;\n      cell.output_area.append_execute_result(NB_LOAD_WARNING)\n    }\n\n  }\n\n  if (root._bokeh_is_loading === 0) {\n    console.debug(\"Bokeh: BokehJS loaded, going straight to plotting\");\n    run_inline_js();\n  } else {\n    load_libs(css_urls, js_urls, function() {\n      console.debug(\"Bokeh: BokehJS plotting callback run at\", now());\n      run_inline_js();\n    });\n  }\n}(window));"
     },
     "metadata": {},
     "output_type": "display_data"
    }
   ],
   "source": [
    "from bokeh.io import output_notebook, show\n",
    "from bokeh.plotting import figure\n",
    "from bokeh.models import ColumnDataSource\n",
    "from bokeh.palettes import Spectral4\n",
    "output_notebook()"
   ]
  },
  {
   "cell_type": "markdown",
   "metadata": {},
   "source": [
    "testing expected functionality for web app input"
   ]
  },
  {
   "cell_type": "code",
   "execution_count": 11,
   "metadata": {},
   "outputs": [
    {
     "data": {
      "text/html": [
       "<div>\n",
       "<style scoped>\n",
       "    .dataframe tbody tr th:only-of-type {\n",
       "        vertical-align: middle;\n",
       "    }\n",
       "\n",
       "    .dataframe tbody tr th {\n",
       "        vertical-align: top;\n",
       "    }\n",
       "\n",
       "    .dataframe thead th {\n",
       "        text-align: right;\n",
       "    }\n",
       "</style>\n",
       "<table border=\"1\" class=\"dataframe\">\n",
       "  <thead>\n",
       "    <tr style=\"text-align: right;\">\n",
       "      <th></th>\n",
       "      <th>SUBJECT_ID</th>\n",
       "      <th>GENDER</th>\n",
       "      <th>HADM_ID</th>\n",
       "      <th>ADMITTIME</th>\n",
       "      <th>DISCHTIME</th>\n",
       "      <th>ADMISSION_TYPE</th>\n",
       "      <th>ADMISSION_LOCATION</th>\n",
       "      <th>INSURANCE</th>\n",
       "      <th>LANGUAGE</th>\n",
       "      <th>RELIGION</th>\n",
       "      <th>...</th>\n",
       "      <th>ADMIT_AGE</th>\n",
       "      <th>ICUSTAY_ID</th>\n",
       "      <th>DBSOURCE</th>\n",
       "      <th>INTIME</th>\n",
       "      <th>LOS</th>\n",
       "      <th>DAYS_ADM_TO_ICU</th>\n",
       "      <th>SAMEDAY_ADM_TO_ICU</th>\n",
       "      <th>ADM_TO_ICU_100p</th>\n",
       "      <th>ADM_TO_ICU_90m</th>\n",
       "      <th>ICU_URGENCY</th>\n",
       "    </tr>\n",
       "  </thead>\n",
       "  <tbody>\n",
       "    <tr>\n",
       "      <th>0</th>\n",
       "      <td>15896</td>\n",
       "      <td>F</td>\n",
       "      <td>124497</td>\n",
       "      <td>2141-05-25 23:16:00</td>\n",
       "      <td>2141-07-06 17:25:00</td>\n",
       "      <td>NEWBORN</td>\n",
       "      <td>CLINIC REFERRAL/PREMATURE</td>\n",
       "      <td>Private</td>\n",
       "      <td>***</td>\n",
       "      <td>CATHOLIC</td>\n",
       "      <td>...</td>\n",
       "      <td>0</td>\n",
       "      <td>276327</td>\n",
       "      <td>carevue</td>\n",
       "      <td>2141-05-25 23:25:40</td>\n",
       "      <td>41.7733</td>\n",
       "      <td>0.006713</td>\n",
       "      <td>1</td>\n",
       "      <td>49</td>\n",
       "      <td>0</td>\n",
       "      <td>immediate</td>\n",
       "    </tr>\n",
       "  </tbody>\n",
       "</table>\n",
       "<p>1 rows × 26 columns</p>\n",
       "</div>"
      ],
      "text/plain": [
       "   SUBJECT_ID GENDER  HADM_ID           ADMITTIME           DISCHTIME  \\\n",
       "0       15896      F   124497 2141-05-25 23:16:00 2141-07-06 17:25:00   \n",
       "\n",
       "  ADMISSION_TYPE         ADMISSION_LOCATION INSURANCE LANGUAGE  RELIGION  ...  \\\n",
       "0        NEWBORN  CLINIC REFERRAL/PREMATURE   Private      ***  CATHOLIC  ...   \n",
       "\n",
       "  ADMIT_AGE ICUSTAY_ID DBSOURCE              INTIME      LOS  DAYS_ADM_TO_ICU  \\\n",
       "0         0     276327  carevue 2141-05-25 23:25:40  41.7733         0.006713   \n",
       "\n",
       "   SAMEDAY_ADM_TO_ICU  ADM_TO_ICU_100p ADM_TO_ICU_90m ICU_URGENCY  \n",
       "0                   1               49              0   immediate  \n",
       "\n",
       "[1 rows x 26 columns]"
      ]
     },
     "execution_count": 11,
     "metadata": {},
     "output_type": "execute_result"
    }
   ],
   "source": [
    "foo = pd.DataFrame(X_test.iloc[0]).T\n",
    "foo = foo.to_dict()\n",
    "bar = {key: val for key in foo for val in foo[key].values() }\n",
    "xx_test = pd.DataFrame(bar,index=[0])\n",
    "xx_test"
   ]
  },
  {
   "cell_type": "code",
   "execution_count": 12,
   "metadata": {},
   "outputs": [],
   "source": [
    "y_pred = int(model_data['estimator'].predict(xx_test)[0])"
   ]
  },
  {
   "cell_type": "code",
   "execution_count": 13,
   "metadata": {},
   "outputs": [],
   "source": [
    "y_pred_proba =  model_data['estimator'].predict_proba(xx_test)[0]"
   ]
  },
  {
   "cell_type": "code",
   "execution_count": 14,
   "metadata": {},
   "outputs": [],
   "source": [
    "def make_urgency_plot(y_pred_proba):\n",
    "    factors = ['stable','questionable','urgent','immediate']\n",
    "    source = ColumnDataSource(data=dict(factors=factors, probs=y_pred_proba, color=Spectral4))\n",
    "\n",
    "    p = figure(x_range=factors, plot_height=250, title=\"IC-U Risk Factor\",\n",
    "            plot_width=300, toolbar_location=None, tools=\"\")\n",
    "\n",
    "    p.vbar(x='factors', top='probs', color='color', width=0.4, source=source)\n",
    "\n",
    "    p.xgrid.grid_line_color = None\n",
    "    p.y_range.start = 0\n",
    "    p.yaxis.axis_label = 'P(category)'\n",
    "\n",
    "    return p"
   ]
  },
  {
   "cell_type": "code",
   "execution_count": 15,
   "metadata": {},
   "outputs": [
    {
     "data": {
      "text/html": [
       "\n",
       "\n",
       "\n",
       "\n",
       "\n",
       "\n",
       "  <div class=\"bk-root\" id=\"22426402-1b7e-48ec-b070-6fa7f2816171\" data-root-id=\"1003\"></div>\n"
      ]
     },
     "metadata": {},
     "output_type": "display_data"
    },
    {
     "data": {
      "application/javascript": [
       "(function(root) {\n",
       "  function embed_document(root) {\n",
       "    \n",
       "  var docs_json = {\"5b2a4a0f-bc48-4ff8-9e8a-bb7e45a51213\":{\"roots\":{\"references\":[{\"attributes\":{\"below\":[{\"id\":\"1014\"}],\"center\":[{\"id\":\"1016\"},{\"id\":\"1020\"}],\"left\":[{\"id\":\"1017\"}],\"plot_height\":250,\"plot_width\":300,\"renderers\":[{\"id\":\"1025\"}],\"title\":{\"id\":\"1004\"},\"toolbar\":{\"id\":\"1021\"},\"toolbar_location\":null,\"x_range\":{\"id\":\"1006\"},\"x_scale\":{\"id\":\"1010\"},\"y_range\":{\"id\":\"1008\"},\"y_scale\":{\"id\":\"1012\"}},\"id\":\"1003\",\"subtype\":\"Figure\",\"type\":\"Plot\"},{\"attributes\":{},\"id\":\"1018\",\"type\":\"BasicTicker\"},{\"attributes\":{\"data\":{\"color\":[\"#2b83ba\",\"#abdda4\",\"#fdae61\",\"#d7191c\"],\"factors\":[\"stable\",\"questionable\",\"urgent\",\"immediate\"],\"probs\":{\"__ndarray__\":\"579Yci4QXD/CQ4RfBn2lPyqf+QrrXL0/fltvIYru6j8=\",\"dtype\":\"float64\",\"order\":\"little\",\"shape\":[4]}},\"selected\":{\"id\":\"1033\"},\"selection_policy\":{\"id\":\"1032\"}},\"id\":\"1002\",\"type\":\"ColumnDataSource\"},{\"attributes\":{\"active_drag\":\"auto\",\"active_inspect\":\"auto\",\"active_multi\":null,\"active_scroll\":\"auto\",\"active_tap\":\"auto\"},\"id\":\"1021\",\"type\":\"Toolbar\"},{\"attributes\":{},\"id\":\"1033\",\"type\":\"Selection\"},{\"attributes\":{},\"id\":\"1032\",\"type\":\"UnionRenderers\"},{\"attributes\":{\"fill_color\":{\"field\":\"color\"},\"line_color\":{\"field\":\"color\"},\"top\":{\"field\":\"probs\"},\"width\":{\"value\":0.4},\"x\":{\"field\":\"factors\"}},\"id\":\"1023\",\"type\":\"VBar\"},{\"attributes\":{\"text\":\"IC-U Risk Factor\"},\"id\":\"1004\",\"type\":\"Title\"},{\"attributes\":{\"axis\":{\"id\":\"1017\"},\"dimension\":1,\"ticker\":null},\"id\":\"1020\",\"type\":\"Grid\"},{\"attributes\":{},\"id\":\"1028\",\"type\":\"BasicTickFormatter\"},{\"attributes\":{},\"id\":\"1030\",\"type\":\"CategoricalTickFormatter\"},{\"attributes\":{\"source\":{\"id\":\"1002\"}},\"id\":\"1026\",\"type\":\"CDSView\"},{\"attributes\":{\"data_source\":{\"id\":\"1002\"},\"glyph\":{\"id\":\"1023\"},\"hover_glyph\":null,\"muted_glyph\":null,\"nonselection_glyph\":{\"id\":\"1024\"},\"selection_glyph\":null,\"view\":{\"id\":\"1026\"}},\"id\":\"1025\",\"type\":\"GlyphRenderer\"},{\"attributes\":{\"formatter\":{\"id\":\"1030\"},\"ticker\":{\"id\":\"1015\"}},\"id\":\"1014\",\"type\":\"CategoricalAxis\"},{\"attributes\":{\"axis\":{\"id\":\"1014\"},\"grid_line_color\":null,\"ticker\":null},\"id\":\"1016\",\"type\":\"Grid\"},{\"attributes\":{},\"id\":\"1012\",\"type\":\"LinearScale\"},{\"attributes\":{},\"id\":\"1010\",\"type\":\"CategoricalScale\"},{\"attributes\":{\"start\":0},\"id\":\"1008\",\"type\":\"DataRange1d\"},{\"attributes\":{\"fill_alpha\":{\"value\":0.1},\"fill_color\":{\"field\":\"color\"},\"line_alpha\":{\"value\":0.1},\"line_color\":{\"field\":\"color\"},\"top\":{\"field\":\"probs\"},\"width\":{\"value\":0.4},\"x\":{\"field\":\"factors\"}},\"id\":\"1024\",\"type\":\"VBar\"},{\"attributes\":{\"axis_label\":\"P(category)\",\"formatter\":{\"id\":\"1028\"},\"ticker\":{\"id\":\"1018\"}},\"id\":\"1017\",\"type\":\"LinearAxis\"},{\"attributes\":{\"factors\":[\"stable\",\"questionable\",\"urgent\",\"immediate\"]},\"id\":\"1006\",\"type\":\"FactorRange\"},{\"attributes\":{},\"id\":\"1015\",\"type\":\"CategoricalTicker\"}],\"root_ids\":[\"1003\"]},\"title\":\"Bokeh Application\",\"version\":\"2.2.3\"}};\n",
       "  var render_items = [{\"docid\":\"5b2a4a0f-bc48-4ff8-9e8a-bb7e45a51213\",\"root_ids\":[\"1003\"],\"roots\":{\"1003\":\"22426402-1b7e-48ec-b070-6fa7f2816171\"}}];\n",
       "  root.Bokeh.embed.embed_items_notebook(docs_json, render_items);\n",
       "\n",
       "  }\n",
       "  if (root.Bokeh !== undefined) {\n",
       "    embed_document(root);\n",
       "  } else {\n",
       "    var attempts = 0;\n",
       "    var timer = setInterval(function(root) {\n",
       "      if (root.Bokeh !== undefined) {\n",
       "        clearInterval(timer);\n",
       "        embed_document(root);\n",
       "      } else {\n",
       "        attempts++;\n",
       "        if (attempts > 100) {\n",
       "          clearInterval(timer);\n",
       "          console.log(\"Bokeh: ERROR: Unable to run BokehJS code because BokehJS library is missing\");\n",
       "        }\n",
       "      }\n",
       "    }, 10, root)\n",
       "  }\n",
       "})(window);"
      ],
      "application/vnd.bokehjs_exec.v0+json": ""
     },
     "metadata": {
      "application/vnd.bokehjs_exec.v0+json": {
       "id": "1003"
      }
     },
     "output_type": "display_data"
    }
   ],
   "source": [
    "p = make_urgency_plot(y_pred_proba)\n",
    "show(p)"
   ]
  },
  {
   "cell_type": "code",
   "execution_count": 16,
   "metadata": {},
   "outputs": [],
   "source": [
    "def getFeatureNames(categorical,bow,numerical=['ADMIT_AGE']):\n",
    "    feature_names = numerical\n",
    "    feature_names.extend([c.split('_')[-1] for c in categorical.get_feature_names()])\n",
    "    feature_names.extend(bow.get_feature_names())\n",
    "    \n",
    "    return feature_names"
   ]
  },
  {
   "cell_type": "code",
   "execution_count": 17,
   "metadata": {},
   "outputs": [],
   "source": [
    "def createFeatureCoeffDict(coefs,features):\n",
    "    feats_coeffs = [(f, c) for c,f in zip(coefs,features)]\n",
    "    return feats_coeffs"
   ]
  },
  {
   "cell_type": "code",
   "execution_count": 29,
   "metadata": {},
   "outputs": [],
   "source": [
    "def getMostImportantFeaturesUrg(feature_imp_urg, x_test, n_most=4):\n",
    "    x_test = fu.transform(x_test).toarray()[0]\n",
    "    features_scores = [(f[0], x * f[1]) for x,f in zip(x_test,feature_imp_urg)]\n",
    "    most_important = sorted(features_scores, key=lambda x: abs(x[1]))\n",
    "    return most_important[-n_most:]"
   ]
  },
  {
   "cell_type": "code",
   "execution_count": 19,
   "metadata": {},
   "outputs": [],
   "source": [
    "feature_names_urg = getFeatureNames(ohe, dv.named_steps.count,\n",
    "                                    num_cols)"
   ]
  },
  {
   "cell_type": "code",
   "execution_count": 20,
   "metadata": {},
   "outputs": [],
   "source": [
    "feature_imp_urg = createFeatureCoeffDict(est.best_estimator_.named_steps.reg.coef_[y_pred],\n",
    "                                        feature_names_urg)"
   ]
  },
  {
   "cell_type": "code",
   "execution_count": 21,
   "metadata": {},
   "outputs": [
    {
     "data": {
      "text/html": [
       "<div>\n",
       "<style scoped>\n",
       "    .dataframe tbody tr th:only-of-type {\n",
       "        vertical-align: middle;\n",
       "    }\n",
       "\n",
       "    .dataframe tbody tr th {\n",
       "        vertical-align: top;\n",
       "    }\n",
       "\n",
       "    .dataframe thead th {\n",
       "        text-align: right;\n",
       "    }\n",
       "</style>\n",
       "<table border=\"1\" class=\"dataframe\">\n",
       "  <thead>\n",
       "    <tr style=\"text-align: right;\">\n",
       "      <th></th>\n",
       "      <th>SUBJECT_ID</th>\n",
       "      <th>GENDER</th>\n",
       "      <th>HADM_ID</th>\n",
       "      <th>ADMITTIME</th>\n",
       "      <th>DISCHTIME</th>\n",
       "      <th>ADMISSION_TYPE</th>\n",
       "      <th>ADMISSION_LOCATION</th>\n",
       "      <th>INSURANCE</th>\n",
       "      <th>LANGUAGE</th>\n",
       "      <th>RELIGION</th>\n",
       "      <th>...</th>\n",
       "      <th>ADMIT_AGE</th>\n",
       "      <th>ICUSTAY_ID</th>\n",
       "      <th>DBSOURCE</th>\n",
       "      <th>INTIME</th>\n",
       "      <th>LOS</th>\n",
       "      <th>DAYS_ADM_TO_ICU</th>\n",
       "      <th>SAMEDAY_ADM_TO_ICU</th>\n",
       "      <th>ADM_TO_ICU_100p</th>\n",
       "      <th>ADM_TO_ICU_90m</th>\n",
       "      <th>ICU_URGENCY</th>\n",
       "    </tr>\n",
       "  </thead>\n",
       "  <tbody>\n",
       "    <tr>\n",
       "      <th>0</th>\n",
       "      <td>15896</td>\n",
       "      <td>F</td>\n",
       "      <td>124497</td>\n",
       "      <td>2141-05-25 23:16:00</td>\n",
       "      <td>2141-07-06 17:25:00</td>\n",
       "      <td>NEWBORN</td>\n",
       "      <td>CLINIC REFERRAL/PREMATURE</td>\n",
       "      <td>Private</td>\n",
       "      <td>***</td>\n",
       "      <td>CATHOLIC</td>\n",
       "      <td>...</td>\n",
       "      <td>0</td>\n",
       "      <td>276327</td>\n",
       "      <td>carevue</td>\n",
       "      <td>2141-05-25 23:25:40</td>\n",
       "      <td>41.7733</td>\n",
       "      <td>0.006713</td>\n",
       "      <td>1</td>\n",
       "      <td>49</td>\n",
       "      <td>0</td>\n",
       "      <td>immediate</td>\n",
       "    </tr>\n",
       "  </tbody>\n",
       "</table>\n",
       "<p>1 rows × 26 columns</p>\n",
       "</div>"
      ],
      "text/plain": [
       "   SUBJECT_ID GENDER  HADM_ID           ADMITTIME           DISCHTIME  \\\n",
       "0       15896      F   124497 2141-05-25 23:16:00 2141-07-06 17:25:00   \n",
       "\n",
       "  ADMISSION_TYPE         ADMISSION_LOCATION INSURANCE LANGUAGE  RELIGION  ...  \\\n",
       "0        NEWBORN  CLINIC REFERRAL/PREMATURE   Private      ***  CATHOLIC  ...   \n",
       "\n",
       "  ADMIT_AGE ICUSTAY_ID DBSOURCE              INTIME      LOS  DAYS_ADM_TO_ICU  \\\n",
       "0         0     276327  carevue 2141-05-25 23:25:40  41.7733         0.006713   \n",
       "\n",
       "   SAMEDAY_ADM_TO_ICU  ADM_TO_ICU_100p ADM_TO_ICU_90m ICU_URGENCY  \n",
       "0                   1               49              0   immediate  \n",
       "\n",
       "[1 rows x 26 columns]"
      ]
     },
     "execution_count": 21,
     "metadata": {},
     "output_type": "execute_result"
    }
   ],
   "source": [
    "xx_test"
   ]
  },
  {
   "cell_type": "code",
   "execution_count": 22,
   "metadata": {},
   "outputs": [],
   "source": [
    "foo=fu.transform(xx_test)"
   ]
  },
  {
   "cell_type": "code",
   "execution_count": 30,
   "metadata": {},
   "outputs": [],
   "source": [
    "most_imp_feats_urg = getMostImportantFeaturesUrg(feature_imp_urg, xx_test)"
   ]
  },
  {
   "cell_type": "code",
   "execution_count": 31,
   "metadata": {},
   "outputs": [
    {
     "data": {
      "text/plain": [
       "[('CLINIC REFERRAL/PREMATURE', 0.2452936432802994),\n",
       " ('UNKNOWN (DEFAULT)', 0.298331752872842),\n",
       " ('newborn', -0.5147241038765541),\n",
       " ('NEWBORN', 1.6389059014202116)]"
      ]
     },
     "execution_count": 31,
     "metadata": {},
     "output_type": "execute_result"
    }
   ],
   "source": [
    "most_imp_feats_urg"
   ]
  },
  {
   "cell_type": "code",
   "execution_count": 35,
   "metadata": {},
   "outputs": [],
   "source": [
    "def make_urgency_factors_plot(most_imp_feats_urg):\n",
    "    y = [m[0] for m in most_imp_feats_urg]\n",
    "    x = [abs(m[1]) for m in most_imp_feats_urg]\n",
    "    x = [val/np.round(max(x)) for val in x]\n",
    "\n",
    "    source = ColumnDataSource(dict(factors=y, scores=x,))\n",
    "\n",
    "    p = figure(y_range=y, plot_height=250, title=\"Main Factors\",\n",
    "            plot_width=400, toolbar_location=None, tools=\"\")\n",
    "\n",
    "    p.hbar(y='factors', right='scores', height=0.4, source=source)\n",
    "\n",
    "    p.ygrid.grid_line_color = None\n",
    "    p.x_range.start = 0\n",
    "    p.xaxis.visible = False\n",
    "    return p"
   ]
  },
  {
   "cell_type": "code",
   "execution_count": 36,
   "metadata": {},
   "outputs": [],
   "source": [
    "p_urg_factors = make_urgency_factors_plot(most_imp_feats_urg)"
   ]
  },
  {
   "cell_type": "code",
   "execution_count": 37,
   "metadata": {},
   "outputs": [
    {
     "data": {
      "text/html": [
       "\n",
       "\n",
       "\n",
       "\n",
       "\n",
       "\n",
       "  <div class=\"bk-root\" id=\"e0bf488f-083c-4195-bb73-ba3c42effddc\" data-root-id=\"1225\"></div>\n"
      ]
     },
     "metadata": {},
     "output_type": "display_data"
    },
    {
     "data": {
      "application/javascript": [
       "(function(root) {\n",
       "  function embed_document(root) {\n",
       "    \n",
       "  var docs_json = {\"5cb719d9-3d26-4b08-b9b3-2ed5a09e723b\":{\"roots\":{\"references\":[{\"attributes\":{\"below\":[{\"id\":\"1236\"}],\"center\":[{\"id\":\"1239\"},{\"id\":\"1242\"}],\"left\":[{\"id\":\"1240\"}],\"plot_height\":250,\"plot_width\":400,\"renderers\":[{\"id\":\"1247\"}],\"title\":{\"id\":\"1226\"},\"toolbar\":{\"id\":\"1243\"},\"toolbar_location\":null,\"x_range\":{\"id\":\"1228\"},\"x_scale\":{\"id\":\"1232\"},\"y_range\":{\"id\":\"1230\"},\"y_scale\":{\"id\":\"1234\"}},\"id\":\"1225\",\"subtype\":\"Figure\",\"type\":\"Plot\"},{\"attributes\":{\"data_source\":{\"id\":\"1224\"},\"glyph\":{\"id\":\"1245\"},\"hover_glyph\":null,\"muted_glyph\":null,\"nonselection_glyph\":{\"id\":\"1246\"},\"selection_glyph\":null,\"view\":{\"id\":\"1248\"}},\"id\":\"1247\",\"type\":\"GlyphRenderer\"},{\"attributes\":{\"factors\":[\"CLINIC REFERRAL/PREMATURE\",\"UNKNOWN (DEFAULT)\",\"newborn\",\"NEWBORN\"]},\"id\":\"1230\",\"type\":\"FactorRange\"},{\"attributes\":{\"axis_label\":\"Score\",\"formatter\":{\"id\":\"1273\"},\"ticker\":{\"id\":\"1237\"},\"visible\":false},\"id\":\"1236\",\"type\":\"LinearAxis\"},{\"attributes\":{},\"id\":\"1275\",\"type\":\"UnionRenderers\"},{\"attributes\":{\"fill_alpha\":{\"value\":0.1},\"fill_color\":{\"value\":\"#1f77b4\"},\"height\":{\"value\":0.4},\"line_alpha\":{\"value\":0.1},\"line_color\":{\"value\":\"#1f77b4\"},\"right\":{\"field\":\"scores\"},\"y\":{\"field\":\"factors\"}},\"id\":\"1246\",\"type\":\"HBar\"},{\"attributes\":{\"fill_color\":{\"value\":\"#1f77b4\"},\"height\":{\"value\":0.4},\"line_color\":{\"value\":\"#1f77b4\"},\"right\":{\"field\":\"scores\"},\"y\":{\"field\":\"factors\"}},\"id\":\"1245\",\"type\":\"HBar\"},{\"attributes\":{},\"id\":\"1276\",\"type\":\"Selection\"},{\"attributes\":{\"start\":0},\"id\":\"1228\",\"type\":\"DataRange1d\"},{\"attributes\":{},\"id\":\"1234\",\"type\":\"CategoricalScale\"},{\"attributes\":{\"axis\":{\"id\":\"1240\"},\"dimension\":1,\"grid_line_color\":null,\"ticker\":null},\"id\":\"1242\",\"type\":\"Grid\"},{\"attributes\":{},\"id\":\"1237\",\"type\":\"BasicTicker\"},{\"attributes\":{},\"id\":\"1271\",\"type\":\"CategoricalTickFormatter\"},{\"attributes\":{\"active_drag\":\"auto\",\"active_inspect\":\"auto\",\"active_multi\":null,\"active_scroll\":\"auto\",\"active_tap\":\"auto\"},\"id\":\"1243\",\"type\":\"Toolbar\"},{\"attributes\":{\"source\":{\"id\":\"1224\"}},\"id\":\"1248\",\"type\":\"CDSView\"},{\"attributes\":{\"data\":{\"factors\":[\"CLINIC REFERRAL/PREMATURE\",\"UNKNOWN (DEFAULT)\",\"newborn\",\"NEWBORN\"],\"scores\":[0.1226468216401497,0.149165876436421,0.25736205193827705,0.8194529507101058]},\"selected\":{\"id\":\"1276\"},\"selection_policy\":{\"id\":\"1275\"}},\"id\":\"1224\",\"type\":\"ColumnDataSource\"},{\"attributes\":{},\"id\":\"1273\",\"type\":\"BasicTickFormatter\"},{\"attributes\":{},\"id\":\"1232\",\"type\":\"LinearScale\"},{\"attributes\":{\"axis\":{\"id\":\"1236\"},\"ticker\":null},\"id\":\"1239\",\"type\":\"Grid\"},{\"attributes\":{},\"id\":\"1241\",\"type\":\"CategoricalTicker\"},{\"attributes\":{\"text\":\"Main Factors\"},\"id\":\"1226\",\"type\":\"Title\"},{\"attributes\":{\"formatter\":{\"id\":\"1271\"},\"ticker\":{\"id\":\"1241\"}},\"id\":\"1240\",\"type\":\"CategoricalAxis\"}],\"root_ids\":[\"1225\"]},\"title\":\"Bokeh Application\",\"version\":\"2.2.3\"}};\n",
       "  var render_items = [{\"docid\":\"5cb719d9-3d26-4b08-b9b3-2ed5a09e723b\",\"root_ids\":[\"1225\"],\"roots\":{\"1225\":\"e0bf488f-083c-4195-bb73-ba3c42effddc\"}}];\n",
       "  root.Bokeh.embed.embed_items_notebook(docs_json, render_items);\n",
       "\n",
       "  }\n",
       "  if (root.Bokeh !== undefined) {\n",
       "    embed_document(root);\n",
       "  } else {\n",
       "    var attempts = 0;\n",
       "    var timer = setInterval(function(root) {\n",
       "      if (root.Bokeh !== undefined) {\n",
       "        clearInterval(timer);\n",
       "        embed_document(root);\n",
       "      } else {\n",
       "        attempts++;\n",
       "        if (attempts > 100) {\n",
       "          clearInterval(timer);\n",
       "          console.log(\"Bokeh: ERROR: Unable to run BokehJS code because BokehJS library is missing\");\n",
       "        }\n",
       "      }\n",
       "    }, 10, root)\n",
       "  }\n",
       "})(window);"
      ],
      "application/vnd.bokehjs_exec.v0+json": ""
     },
     "metadata": {
      "application/vnd.bokehjs_exec.v0+json": {
       "id": "1225"
      }
     },
     "output_type": "display_data"
    }
   ],
   "source": [
    "show(p_urg_factors)"
   ]
  },
  {
   "cell_type": "code",
   "execution_count": 62,
   "metadata": {},
   "outputs": [
    {
     "data": {
      "text/plain": [
       "array([[ 0.06388616, -1.40906547, -1.31259421, ...,  0.        ,\n",
       "         0.        ,  0.        ],\n",
       "       [ 0.19920691, -0.91501042, -0.90308329, ...,  0.        ,\n",
       "         0.        ,  0.53267716],\n",
       "       [-0.04237232, -1.31372519, -1.37530598, ...,  0.        ,\n",
       "         0.        ,  0.        ],\n",
       "       [-0.08885758,  0.01463244,  0.        , ...,  0.        ,\n",
       "         0.        , -0.49348576]])"
      ]
     },
     "execution_count": 62,
     "metadata": {},
     "output_type": "execute_result"
    }
   ],
   "source": [
    "est.best_estimator_.named_steps.reg.coef_"
   ]
  },
  {
   "cell_type": "code",
   "execution_count": 51,
   "metadata": {},
   "outputs": [],
   "source": [
    "bam = pd.DataFrame(baz,index=[0])"
   ]
  },
  {
   "cell_type": "code",
   "execution_count": 60,
   "metadata": {},
   "outputs": [
    {
     "data": {
      "text/plain": [
       "array([3.])"
      ]
     },
     "execution_count": 60,
     "metadata": {},
     "output_type": "execute_result"
    }
   ],
   "source": [
    "est.predict(xx_test)"
   ]
  },
  {
   "cell_type": "code",
   "execution_count": 61,
   "metadata": {},
   "outputs": [
    {
     "data": {
      "text/plain": [
       "array([[ 0.06388147, -1.37698274, -1.28048517, ...,  0.        ,\n",
       "         0.        ,  0.        ],\n",
       "       [ 0.19920232, -0.98095228, -0.96901725, ...,  0.        ,\n",
       "         0.        ,  0.53344316],\n",
       "       [-0.04236483, -1.30158279, -1.36317284, ...,  0.        ,\n",
       "         0.        ,  0.        ],\n",
       "       [-0.08886696,  0.01463558,  0.        , ...,  0.        ,\n",
       "         0.        , -0.49353617]])"
      ]
     },
     "execution_count": 61,
     "metadata": {},
     "output_type": "execute_result"
    }
   ],
   "source": [
    "est.best_estimator_.named_steps.reg.coef_"
   ]
  },
  {
   "cell_type": "code",
   "execution_count": null,
   "metadata": {},
   "outputs": [],
   "source": []
  }
 ],
 "metadata": {
  "kernelspec": {
   "display_name": "base",
   "language": "python",
   "name": "base"
  },
  "language_info": {
   "codemirror_mode": {
    "name": "ipython",
    "version": 3
   },
   "file_extension": ".py",
   "mimetype": "text/x-python",
   "name": "python",
   "nbconvert_exporter": "python",
   "pygments_lexer": "ipython3",
   "version": "3.8.3"
  }
 },
 "nbformat": 4,
 "nbformat_minor": 4
}
