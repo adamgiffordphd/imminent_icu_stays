{
 "cells": [
  {
   "cell_type": "code",
   "execution_count": 1,
   "metadata": {},
   "outputs": [],
   "source": [
    "import pandas as pd\n",
    "import numpy as np\n",
    "import pickle"
   ]
  },
  {
   "cell_type": "code",
   "execution_count": 2,
   "metadata": {},
   "outputs": [],
   "source": [
    "X_train, y_train = pd.read_pickle('./data/pickle/preproc/df_patient_admit_icu__20210130_singleICUSTAY_TRAIN_final.pkl')"
   ]
  },
  {
   "cell_type": "markdown",
   "metadata": {},
   "source": [
    "## SAMEDAY ICU"
   ]
  },
  {
   "cell_type": "code",
   "execution_count": 5,
   "metadata": {},
   "outputs": [],
   "source": [
    "from sklearn.feature_extraction.text import TfidfTransformer, CountVectorizer\n",
    "from sklearn.pipeline import Pipeline, FeatureUnion\n",
    "from customTransformers import ColumnSelectTransformer, DiagnosisFrameTransformer, EstimatorTransformer, LinearNonlinear\n",
    "from sklearn.ensemble import RandomForestClassifier\n",
    "from sklearn.linear_model import LogisticRegression\n",
    "from sklearn.model_selection import GridSearchCV, StratifiedKFold\n",
    "from sklearn.preprocessing import StandardScaler, OneHotEncoder\n",
    "from sklearn.impute import SimpleImputer\n",
    "from sklearn.compose import ColumnTransformer\n",
    "from sklearn.ensemble import GradientBoostingClassifier\n",
    "from sklearn.metrics import precision_recall_curve\n",
    "from sklearn.metrics import plot_precision_recall_curve\n",
    "import matplotlib.pyplot as plt\n",
    "from sklearn.metrics import average_precision_score\n",
    "from sklearn.metrics import confusion_matrix, accuracy_score, f1_score\n",
    "from sklearn.metrics import plot_roc_curve, plot_confusion_matrix\n",
    "from sklearn.ensemble import GradientBoostingClassifier\n",
    "from sklearn.preprocessing import LabelEncoder\n",
    "from sklearn.metrics import plot_confusion_matrix\n",
    "from sklearn.linear_model import Ridge\n",
    "from sklearn.model_selection import KFold\n",
    "from sklearn.ensemble import RandomForestRegressor"
   ]
  },
  {
   "cell_type": "code",
   "execution_count": null,
   "metadata": {},
   "outputs": [],
   "source": [
    "cols = ['GENDER','ADMISSION_TYPE','ADMISSION_LOCATION','INSURANCE','LANGUAGE',\n",
    "       'RELIGION','MARITAL_STATUS','ETHNICITY']\n",
    "\n",
    "num_cols = ['ADMIT_AGE']\n",
    "demog_feats = FeatureUnion([\n",
    "    ('stdscl', ColumnTransformer([('numerical', StandardScaler(), num_cols)])),\n",
    "    ('ohe',  ColumnTransformer([('categorical', OneHotEncoder(handle_unknown='ignore'), cols)]))\n",
    "])\n",
    "demog_pipe = Pipeline([\n",
    "    ('features', demog_feats),\n",
    "    ('reg', LogisticRegression(solver='liblinear'))\n",
    "])\n",
    "demog_params = {\n",
    "    'reg__penalty': ['l1','l2','none'],\n",
    "    'reg__C': [0.01, 0.1, 1, 10],\n",
    "    'reg__class_weight': ['none','balanced'],\n",
    "}\n",
    "\n",
    "# lin_gs_regressor = GridSearchCV(demog_pipe, demog_params, cv=StratifiedKFold(n_splits=5, shuffle=True),verbose=3,n_jobs=-1)\n",
    "# lin_est = lin_gs_regressor.fit(X_train,X_train['SAMEDAY_ADM_TO_ICU'])"
   ]
  },
  {
   "cell_type": "code",
   "execution_count": null,
   "metadata": {},
   "outputs": [],
   "source": [
    "lin_est1.best_params_,lin_est1.best_score_"
   ]
  },
  {
   "cell_type": "code",
   "execution_count": null,
   "metadata": {},
   "outputs": [],
   "source": [
    "diagn_pipe = Pipeline([\n",
    "    ('cst', ColumnSelectTransformer(['DIAGNOSIS'])),\n",
    "    ('dst', DiagnosisFrameTransformer()),\n",
    "    ('count',CountVectorizer(max_features=3000)),\n",
    "    ('tfid', TfidfTransformer()),\n",
    "    ('rfc', RandomForestClassifier())\n",
    "])\n",
    "\n",
    "diagn_params = {\n",
    "    'rfc__criterion': ['gini','entropy'],\n",
    "    'rfc__max_features': ['auto', 'sqrt', 'log2'],\n",
    "    'rfc__min_samples_split': [2,5,8,11],\n",
    "    'rfc__min_samples_leaf': [1,4,7],\n",
    "    'rfc__class_weight': ['balanced', 'balanced_subsample'],\n",
    "}\n",
    "\n",
    "diagn_gs_regressor = GridSearchCV(diagn_pipe, diagn_params, cv=StratifiedKFold(n_splits=5, shuffle=True),verbose=3,n_jobs=10)\n",
    "tfidf_est = diagn_gs_regressor.fit(X_train,X_train['SAMEDAY_ADM_TO_ICU'])"
   ]
  },
  {
   "cell_type": "code",
   "execution_count": null,
   "metadata": {},
   "outputs": [],
   "source": [
    "tfidf_est.best_params_,tfidf_est.best_score_"
   ]
  },
  {
   "cell_type": "code",
   "execution_count": null,
   "metadata": {},
   "outputs": [],
   "source": [
    "demog_est1c = LogisticRegression(solver='liblinear', C=0.1, class_weight='balanced', penalty='l2')\n",
    "demog_pipe1c = Pipeline([\n",
    "    ('features', demog_feats1),\n",
    "    ('reg', demog_est1c)\n",
    "])\n",
    "\n",
    "diagn_est = RandomForestClassifier(class_weight='balanced_subsample',criterion='entropy',\n",
    "                                  max_features='log2',min_samples_leaf=1,\n",
    "                                  min_samples_split=2)\n",
    "diagn_pipe = Pipeline([\n",
    "    ('cst', ColumnSelectTransformer(['DIAGNOSIS'])),\n",
    "    ('dst', DiagnosisFrameTransformer()),\n",
    "    ('count',CountVectorizer(max_features=3000)),\n",
    "    ('tfid', TfidfTransformer()),\n",
    "    ('rfc', diagn_est)\n",
    "])\n",
    "\n",
    "union = FeatureUnion([\n",
    "    ('demog', EstimatorTransformer(demog_pipe)),# FeatureUnions use the same syntax as Pipelines\n",
    "    ('diagn',EstimatorTransformer(diagn_pipe))\n",
    "])\n",
    "\n",
    "\n",
    "full_pipe = Pipeline([\n",
    "    ('union',union),\n",
    "    ('xgb', GradientBoostingClassifier())\n",
    "])\n",
    "\n",
    "xgb_params = {\n",
    "    'xgb__loss': ['deviance','exponential'],\n",
    "    'xgb__learning_rate': [0.05, 0.1, 0.2],\n",
    "    'xgb__subsample': [0.8, 1, 1.2], # max is 1\n",
    "    'xgb__criterion': ['mse','friedman_mse'],\n",
    "    'xgb__min_samples_leaf': [1,4,7],\n",
    "    'xgb__max_depth': [2,3,4,5],\n",
    "    'xgb__max_features': ['auto','log2',None]\n",
    "}\n",
    "\n",
    "xgb_gs_classifier = GridSearchCV(full_pipe, xgb_params, cv=StratifiedKFold(n_splits=5, shuffle=True),verbose=3,n_jobs=12)\n",
    "xgb_est = xgb_gs_classifier1c.fit(X_train,X_train['SAMEDAY_ADM_TO_ICU'])\n",
    "\n",
    "xgb_est.best_params_,xgb_est.best_score_"
   ]
  },
  {
   "cell_type": "code",
   "execution_count": null,
   "metadata": {},
   "outputs": [],
   "source": [
    "file = './data/pickle/models/log_rf_xgb__SAMEDAY__20210127.pkl'\n",
    "pickle.dump((demog_pipe1c, diagn_pipe1c, xgb_est1c),open(file,'wb'))"
   ]
  }
 ],
 "metadata": {
  "kernelspec": {
   "display_name": "base",
   "language": "python",
   "name": "base"
  },
  "language_info": {
   "codemirror_mode": {
    "name": "ipython",
    "version": 3
   },
   "file_extension": ".py",
   "mimetype": "text/x-python",
   "name": "python",
   "nbconvert_exporter": "python",
   "pygments_lexer": "ipython3",
   "version": "3.8.3"
  }
 },
 "nbformat": 4,
 "nbformat_minor": 4
}
