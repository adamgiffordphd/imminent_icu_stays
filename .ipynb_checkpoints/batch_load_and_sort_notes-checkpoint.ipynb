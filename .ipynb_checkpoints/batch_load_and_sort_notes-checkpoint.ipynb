{
 "cells": [
  {
   "cell_type": "markdown",
   "metadata": {},
   "source": [
    "# THIS SHOULD BE TURNED INTO FUNCTION <br>\n",
    "## TO LOAD IN CHARTEVENTS, NOTEEVENTS, (labevents, inputevents_cv, inputevents_mv)"
   ]
  },
  {
   "cell_type": "code",
   "execution_count": 17,
   "metadata": {},
   "outputs": [],
   "source": [
    "import pandas as pd\n",
    "import numpy as np"
   ]
  },
  {
   "cell_type": "code",
   "execution_count": 18,
   "metadata": {},
   "outputs": [],
   "source": [
    "df_patient_admit_icu = pd.read_pickle('./data/pickle/preproc/df_patient_admit_icu__20210119.pkl')"
   ]
  },
  {
   "cell_type": "code",
   "execution_count": 19,
   "metadata": {},
   "outputs": [],
   "source": [
    "df_ids = df_patient_admit_icu[['SUBJECT_ID','HADM_ID','HAS_CHARTEVENTS_DATA','INTIME','DAYS_ADM_TO_ICU']]"
   ]
  },
  {
   "cell_type": "code",
   "execution_count": 20,
   "metadata": {},
   "outputs": [],
   "source": [
    "# import patient info\n",
    "data_dir = 'data/physionet.org/files/mimiciii/1.4/'\n",
    "notes_file = 'NOTEEVENTS.csv'"
   ]
  },
  {
   "cell_type": "code",
   "execution_count": 25,
   "metadata": {},
   "outputs": [
    {
     "name": "stdout",
     "output_type": "stream",
     "text": [
      "Iteration 0...\n",
      "11970\n",
      "Iteration 1...\n",
      "46892\n",
      "Iteration 2...\n",
      "80780\n",
      "Iteration 3...\n",
      "186057\n",
      "Iteration 4...\n",
      "296211\n",
      "Iteration 5...\n",
      "403277\n"
     ]
    }
   ],
   "source": [
    "skiplist = []\n",
    "\n",
    "row_count = 600000\n",
    "skiprows = 0\n",
    "nrows = 100000  # defualt\n",
    "\n",
    "colnames = np.array(['ROW_ID', 'SUBJECT_ID', 'HADM_ID', 'CHARTDATE',\n",
    "           'CHARTTIME', 'STORETIME', 'CATEGORY', 'DESCRIPTION',\n",
    "           'CGID', 'ISERROR','TEXT'\n",
    "          ])\n",
    "\n",
    "usecols = colnames[[0,1,2,4]]\n",
    "cnt=0\n",
    "\n",
    "while skiprows<row_count:\n",
    "    print('Iteration {}...'.format(cnt))\n",
    "    \n",
    "    if skiprows + nrows > row_count:\n",
    "        nrows = row_count - skiprows\n",
    "    else:\n",
    "        nrows = 100000\n",
    "            \n",
    "    df = pd.read_csv(data_dir + notes_file, sep=',', header=0, names=colnames,\n",
    "                     skiprows=skiprows, nrows=nrows, usecols=usecols)\n",
    "    # convert charttime to datetime\n",
    "    df.CHARTTIME = pd.to_datetime(df.CHARTTIME,format = '%Y-%m-%d %H:%M:%S', errors = 'coerce')\n",
    "    \n",
    "    # add to skiplist rows of df that don't have matching ['SUBJECT_ID', 'HADM_ID'] in df_ids\n",
    "    toskip = list(pd.merge(df, df_ids, on=['SUBJECT_ID', 'HADM_ID'], how=\"outer\", indicator=True\n",
    "              ).query('_merge==\"left_only\"').index)\n",
    "    if toskip:\n",
    "        skiplist.extend(toskip)\n",
    "    \n",
    "    # merge\n",
    "    df = df.merge(df_ids,how='inner',left_on=['SUBJECT_ID', 'HADM_ID'],right_on=['SUBJECT_ID', 'HADM_ID'])\n",
    "    \n",
    "    # calculate days from note event to icu admission\n",
    "    df['DAYS_NOTE_TO_ICU'] = (df['INTIME'] - df['CHARTTIME']).dt.total_seconds()/(24*60*60)\n",
    "    \n",
    "    # add to skiplist rows of df where df['DAYS_NOTE_TO_ICU']<0\n",
    "    toskip = list(df[df['DAYS_NOTE_TO_ICU']<0].index)\n",
    "    if toskip:\n",
    "        skiplist.extend(toskip)\n",
    "    \n",
    "    print(len(skiplist))\n",
    "    # anything else?\n",
    "    skiprows += nrows\n",
    "    cnt += 1"
   ]
  },
  {
   "cell_type": "code",
   "execution_count": null,
   "metadata": {},
   "outputs": [],
   "source": [
    "def "
   ]
  }
 ],
 "metadata": {
  "kernelspec": {
   "display_name": "base",
   "language": "python",
   "name": "base"
  },
  "language_info": {
   "codemirror_mode": {
    "name": "ipython",
    "version": 3
   },
   "file_extension": ".py",
   "mimetype": "text/x-python",
   "name": "python",
   "nbconvert_exporter": "python",
   "pygments_lexer": "ipython3",
   "version": "3.8.3"
  }
 },
 "nbformat": 4,
 "nbformat_minor": 4
}
