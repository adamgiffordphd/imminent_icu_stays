{
 "cells": [
  {
   "cell_type": "markdown",
   "metadata": {},
   "source": [
    "# EXPLORING THE RELATIONSHIP BETWEEN CHART EVENTS AND TIME TO ICU STAY\n",
    "Note: this dataset is open-source, but restricted access. You must request access via https://mimic.physionet.org/gettingstarted/access/. I downloaded the dataset onto my personal computer and ran the analyses locally. Given HIPAA and privacy considerations, I will only show summary plots from data in the database (no patient-specific information will be displayed."
   ]
  },
  {
   "cell_type": "markdown",
   "metadata": {},
   "source": [
    "This notebook utilizes previously analyzed data that looks at chart events (e.g., vital signs, lab results, etc.) that occurred between hospital admission and ICU stay to test whether certain events/measurements may predict \"imminent\" (e.g., <=1 day) ICU stays.<br>\n",
    "\n",
    "Briefly, data from the PATIENTS, ADMISSIONS, ICUSTAYS, PRESCRIPTIONS, and CHARTEVENTS databases are merged based on subject ID, hospital admission ID, and ICU stay (only drugs prescribed and chart events recorded after hospital admission time and before ICU stay were included in the dataframe). Finally, for each chart event across patients, I calculated the mean (+/- SEM) time from chart event to ICU admission to identify if there are any patterns in the types of chart events that imminently precede ICU stays.\n",
    "<br>\n",
    "\n",
    "The code to perform these analyses can be found on my github page (https://github.com/adamgiffordphd/imminent_icu_stays). The code includes functionality to parallel process the analysis to get through all ~330M rows in CHARTEVENTS.csv. This code was run on a private server with 40 processors."
   ]
  },
  {
   "cell_type": "code",
   "execution_count": 1,
   "metadata": {},
   "outputs": [],
   "source": [
    "import pickle\n",
    "import glob\n",
    "from numpy import append, unique, mean"
   ]
  },
  {
   "cell_type": "code",
   "execution_count": 2,
   "metadata": {},
   "outputs": [],
   "source": [
    "# there are ~3300 pickle files that contain the data that is described above\n",
    "# this cell finds the pickle files in the saved data directory\n",
    "# drugs.pickle is a list of all unique drugs in the dataset\n",
    "pckl_files = glob.glob(\"pickle/20200811/*.pickle\")"
   ]
  },
  {
   "cell_type": "code",
   "execution_count": 3,
   "metadata": {},
   "outputs": [
    {
     "name": "stderr",
     "output_type": "stream",
     "text": [
      "/opt/anaconda3/lib/python3.7/site-packages/ipykernel_launcher.py:35: SettingWithCopyWarning: \n",
      "A value is trying to be set on a copy of a slice from a DataFrame\n",
      "\n",
      "See the caveats in the documentation: https://pandas.pydata.org/pandas-docs/stable/user_guide/indexing.html#returning-a-view-versus-a-copy\n",
      "/opt/anaconda3/lib/python3.7/site-packages/ipykernel_launcher.py:38: SettingWithCopyWarning: \n",
      "A value is trying to be set on a copy of a slice from a DataFrame\n",
      "\n",
      "See the caveats in the documentation: https://pandas.pydata.org/pandas-docs/stable/user_guide/indexing.html#returning-a-view-versus-a-copy\n",
      "/opt/anaconda3/lib/python3.7/site-packages/ipykernel_launcher.py:39: SettingWithCopyWarning: \n",
      "A value is trying to be set on a copy of a slice from a DataFrame\n",
      "\n",
      "See the caveats in the documentation: https://pandas.pydata.org/pandas-docs/stable/user_guide/indexing.html#returning-a-view-versus-a-copy\n",
      "/opt/anaconda3/lib/python3.7/site-packages/ipykernel_launcher.py:40: SettingWithCopyWarning: \n",
      "A value is trying to be set on a copy of a slice from a DataFrame\n",
      "\n",
      "See the caveats in the documentation: https://pandas.pydata.org/pandas-docs/stable/user_guide/indexing.html#returning-a-view-versus-a-copy\n"
     ]
    }
   ],
   "source": [
    "# combine the data across pickle files\n",
    "'''note: have to load and combine the data in batches because the resulting dataframe would be too\n",
    "large. will do in batches of ~50, and compute running stats for visualization and assessment'''\n",
    "\n",
    "for st_ix in range(0,len(pckl_files),50):\n",
    "    # get the proper end ix\n",
    "    if st_ix + 50 > len(pckl_files):\n",
    "        en_ix = len(pckl_files)\n",
    "    else:\n",
    "        en_ix = st_ix + 50\n",
    "    \n",
    "    # load each pickle file, start anew for each batch, or append to existing otherwise\n",
    "    for f_ix in range(st_ix,en_ix):\n",
    "        if f_ix==st_ix:\n",
    "            df = pickle.load(open(pckl_files[f_ix],'rb'))\n",
    "        else:\n",
    "            tmp = pickle.load(open(pckl_files[f_ix],'rb'))\n",
    "            df = df.append(tmp)\n",
    "    \n",
    "    # for each batch, do some calculations on days from measurement to ICU\n",
    "    df['SAMEDAY_CHRT_TO_ICU'] = df['DAYS_CHRT_TO_ICU'].apply(lambda x: int(x<=1))\n",
    "    if st_ix==0: \n",
    "        df_bySubjAdICU = df.groupby(['SUBJECT_ID','HADM_ID','ICUSTAY_ID']).agg({'ITEMID': [list],'DAYS_CHRT_TO_ICU': [sum],'SAMEDAY_CHRT_TO_ICU': [sum]})\n",
    "        df_bySubjAdICU[('SUBJECT_HADM_ICU_ID','count')] = df_bySubjAdICU[('ITEMID','list')].apply(lambda x: len(x))\n",
    "        df_bySubjAdICU[('ITEMID','list')] = df_bySubjAdICU[('ITEMID','list')].apply(lambda x: unique(x))\n",
    "    else:\n",
    "        tmp = df.groupby(['SUBJECT_ID','HADM_ID','ICUSTAY_ID']).agg({'ITEMID': [list],'DAYS_CHRT_TO_ICU': [sum],'SAMEDAY_CHRT_TO_ICU': [sum]})\n",
    "        tmp[('SUBJECT_HADM_ICU_ID','count')] = tmp[('ITEMID','list')].apply(lambda x: len(x))\n",
    "        tmp[('ITEMID','list')] = tmp[('ITEMID','list')].apply(lambda x: unique(x))\n",
    "        \n",
    "        # check if ['SUBJECT_ID','HADM_ID','ICUSTAY_ID'] is in previous files and current file, combine if so\n",
    "        for m_ix in tmp.index:\n",
    "            if df_bySubjAdICU.index.isin([m_ix]).any():\n",
    "                # append list and take unique\n",
    "                df_bySubjAdICU.loc[m_ix][('ITEMID','list')] = unique(append(df_bySubjAdICU.loc[m_ix][('ITEMID','list')], tmp.loc[m_ix][('ITEMID','list')]))\n",
    "                \n",
    "                # sum the rest of the columns\n",
    "                df_bySubjAdICU.loc[m_ix][('DAYS_CHRT_TO_ICU','sum')] = df_bySubjAdICU.loc[m_ix][('DAYS_CHRT_TO_ICU','sum')]+tmp.loc[m_ix][('DAYS_CHRT_TO_ICU','sum')]\n",
    "                df_bySubjAdICU.loc[m_ix][('SAMEDAY_CHRT_TO_ICU','sum')] = df_bySubjAdICU.loc[m_ix][('SAMEDAY_CHRT_TO_ICU','sum')]+tmp.loc[m_ix][('SAMEDAY_CHRT_TO_ICU','sum')]\n",
    "                df_bySubjAdICU.loc[m_ix][('SUBJECT_HADM_ICU_ID','count')] = df_bySubjAdICU.loc[m_ix][('SUBJECT_HADM_ICU_ID','count')]+tmp.loc[m_ix][('SUBJECT_HADM_ICU_ID','count')]\n"
   ]
  },
  {
   "cell_type": "code",
   "execution_count": 4,
   "metadata": {},
   "outputs": [],
   "source": [
    "df_bySubjAdICU[('DAYS_CHRT_TO_ICU','mean')] = df_bySubjAdICU[('DAYS_CHRT_TO_ICU','sum')] / df_bySubjAdICU[('SUBJECT_HADM_ICU_ID','count')]\n",
    "df_bySubjAdICU[('SAMEDAY_CHRT_TO_ICU','mean')] = df_bySubjAdICU[('SAMEDAY_CHRT_TO_ICU','sum')] / df_bySubjAdICU[('SUBJECT_HADM_ICU_ID','count')]"
   ]
  },
  {
   "cell_type": "code",
   "execution_count": 5,
   "metadata": {},
   "outputs": [],
   "source": [
    "# for each event across subjects, create list of ('DAYS_CHRT_TO_ICU','mean') to calculate average\n",
    "item_dict = dict()\n",
    "for m_ix in df_bySubjAdICU.index:\n",
    "    items = df_bySubjAdICU.loc[m_ix][('ITEMID','list')]\n",
    "    for item in items:\n",
    "        if item not in item_dict.keys():\n",
    "            item_dict[item] = [df_bySubjAdICU.loc[m_ix][('DAYS_CHRT_TO_ICU','mean')]]\n",
    "        else:\n",
    "            item_dict[item].append([df_bySubjAdICU.loc[m_ix][('DAYS_CHRT_TO_ICU','mean')]])"
   ]
  },
  {
   "cell_type": "code",
   "execution_count": 6,
   "metadata": {},
   "outputs": [],
   "source": [
    "# get mean +/- SEM for each chart event\n",
    "import numpy as np\n",
    "item_dict_mn = dict()\n",
    "item_dict_sem = dict()\n",
    "for key in item_dict.keys():\n",
    "    item_dict_mn[key] = np.mean(item_dict[key])\n",
    "    item_dict_sem[key] = np.std(item_dict[key])/np.sqrt(len(item_dict[key]))"
   ]
  },
  {
   "cell_type": "code",
   "execution_count": 7,
   "metadata": {},
   "outputs": [],
   "source": [
    "# sort chart event IDs by increasing duration of event to ICU stay\n",
    "item_ids = np.array([i for i in item_dict_mn.keys()])\n",
    "item_mn_days = np.array([i for i in item_dict_mn.values()])\n",
    "item_sem_days = np.array([i for i in item_dict_sem.values()])"
   ]
  },
  {
   "cell_type": "code",
   "execution_count": 8,
   "metadata": {},
   "outputs": [],
   "source": [
    "ix = np.argsort(item_mn_days)\n",
    "item_ids = item_ids[ix]\n",
    "item_mn_days = item_mn_days[ix]\n",
    "item_sem_days = item_sem_days[ix]"
   ]
  },
  {
   "cell_type": "code",
   "execution_count": 9,
   "metadata": {},
   "outputs": [
    {
     "data": {
      "text/plain": [
       "Text(0.5, 0, 'Item ID')"
      ]
     },
     "execution_count": 9,
     "metadata": {},
     "output_type": "execute_result"
    },
    {
     "data": {
      "image/png": "[encoded data removed]",
      "text/plain": [
       "<Figure size 432x288 with 1 Axes>"
      ]
     },
     "metadata": {
      "needs_background": "light"
     },
     "output_type": "display_data"
    }
   ],
   "source": [
    "# let's look at the Top 50 events that most closely preceded an ICU stay\n",
    "import matplotlib.pyplot as plt\n",
    "plt.bar(x=range(0,50),\n",
    "        height=item_mn_days[:50],width=0.5,\n",
    "       yerr=item_sem_days[:50])\n",
    "plt.title('Top 50 Chart Events & ICU Stays')\n",
    "plt.ylabel('Days from Event to ICU')\n",
    "xlabels = item_ids[:50]\n",
    "plt.xticks(range(0,len(xlabels),3),xlabels[0::3],rotation=60,ha='right')\n",
    "plt.xlabel('Item ID')"
   ]
  },
  {
   "cell_type": "markdown",
   "metadata": {},
   "source": [
    "This figure shows the top 50 event items and their corresponding mean time to ICU stay from chart event time. <br>\n",
    "NOTE: I realize something seems weird here. Will need to look into the analysis that I've done so far in more detail."
   ]
  },
  {
   "cell_type": "code",
   "execution_count": 10,
   "metadata": {},
   "outputs": [],
   "source": [
    "# what are the top 50 item ids?\n",
    "# import patient info\n",
    "import pandas as pd\n",
    "data_dir = 'data/physionet.org/files/mimiciii/1.4/'\n",
    "items_file = 'D_ITEMS.csv'\n",
    "df_items = pd.read_csv(data_dir + items_file)"
   ]
  },
  {
   "cell_type": "code",
   "execution_count": 11,
   "metadata": {},
   "outputs": [],
   "source": [
    "# top 50 labels identifying item ids\n",
    "labels = []\n",
    "for item in item_ids[:50]:\n",
    "    labels.append(df_items.loc[df_items['ITEMID'] == item]['LABEL'])"
   ]
  },
  {
   "cell_type": "code",
   "execution_count": 12,
   "metadata": {},
   "outputs": [
    {
     "data": {
      "text/plain": [
       "[11885    Admission Weight (lbs.)\n",
       " Name: LABEL, dtype: object,\n",
       " 11055    22 G Infiltration Scale\n",
       " Name: LABEL, dtype: object,\n",
       " 9838    22 Gauge Site Appear\n",
       " Name: LABEL, dtype: object,\n",
       " 11054    22 G Phlebitis Scale\n",
       " Name: LABEL, dtype: object,\n",
       " 11554    Trach Tube Manufacturer\n",
       " Name: LABEL, dtype: object,\n",
       " 10737    Sputum Amount\n",
       " Name: LABEL, dtype: object,\n",
       " 10736    Sputum Source\n",
       " Name: LABEL, dtype: object,\n",
       " 10187    Sputum Color\n",
       " Name: LABEL, dtype: object,\n",
       " 10186    Sputum Consistency\n",
       " Name: LABEL, dtype: object,\n",
       " 11553    Trach Tube Type\n",
       " Name: LABEL, dtype: object,\n",
       " 11503    Arterial Blood Pressure diastolic\n",
       " Name: LABEL, dtype: object,\n",
       " 11502    Arterial Blood Pressure systolic\n",
       " Name: LABEL, dtype: object,\n",
       " 11875    Admission Weight (Kg)\n",
       " Name: LABEL, dtype: object,\n",
       " 10408    Cuff Pressure\n",
       " Name: LABEL, dtype: object,\n",
       " 11504    Arterial Blood Pressure mean\n",
       " Name: LABEL, dtype: object,\n",
       " 11976    18 Gauge placed in the field\n",
       " Name: LABEL, dtype: object,\n",
       " 9959    18 Gauge Dressing Occlusive\n",
       " Name: LABEL, dtype: object,\n",
       " 11376    18 Gauge placed in outside facility\n",
       " Name: LABEL, dtype: object,\n",
       " 9941    High risk (>51) interventions\n",
       " Name: LABEL, dtype: object,\n",
       " 10057    Peak Insp. Pressure\n",
       " Name: LABEL, dtype: object,\n",
       " 12357    Minute Volume Alarm - Low\n",
       " Name: LABEL, dtype: object,\n",
       " 12358    Minute Volume Alarm - High\n",
       " Name: LABEL, dtype: object,\n",
       " 12359    PEEP set\n",
       " Name: LABEL, dtype: object,\n",
       " 12027    Paw High\n",
       " Name: LABEL, dtype: object,\n",
       " 10059    Mean Airway Pressure\n",
       " Name: LABEL, dtype: object,\n",
       " 12030    Apnea Interval\n",
       " Name: LABEL, dtype: object,\n",
       " 12028    Vti High\n",
       " Name: LABEL, dtype: object,\n",
       " 10049    Tidal Volume (observed)\n",
       " Name: LABEL, dtype: object,\n",
       " 10051    Minute Volume\n",
       " Name: LABEL, dtype: object,\n",
       " 10052    Respiratory Rate (Set)\n",
       " Name: LABEL, dtype: object,\n",
       " 10053    Respiratory Rate (spontaneous)\n",
       " Name: LABEL, dtype: object,\n",
       " 9467    Inspiratory Ratio\n",
       " Name: LABEL, dtype: object,\n",
       " 9466    Expiratory Ratio\n",
       " Name: LABEL, dtype: object,\n",
       " 10048    Tidal Volume (set)\n",
       " Name: LABEL, dtype: object,\n",
       " 10701    Inspiratory Time\n",
       " Name: LABEL, dtype: object,\n",
       " 10536    Ionized Calcium\n",
       " Name: LABEL, dtype: object,\n",
       " 11887    Sodium (whole blood)\n",
       " Name: LABEL, dtype: object,\n",
       " 11889    Chloride (whole blood)\n",
       " Name: LABEL, dtype: object,\n",
       " 10864    Pronator drift present\n",
       " Name: LABEL, dtype: object,\n",
       " 12062    Radial Pulse R\n",
       " Name: LABEL, dtype: object,\n",
       " 10031    RUE Color\n",
       " Name: LABEL, dtype: object,\n",
       " 10032    RLE Color\n",
       " Name: LABEL, dtype: object,\n",
       " 10033    LUE Color\n",
       " Name: LABEL, dtype: object,\n",
       " 9857    Capillary Refill R\n",
       " Name: LABEL, dtype: object,\n",
       " 12053    RLE Sensation\n",
       " Name: LABEL, dtype: object,\n",
       " 10034    LLE Color\n",
       " Name: LABEL, dtype: object,\n",
       " 9855    Radial Pulse L\n",
       " Name: LABEL, dtype: object,\n",
       " 10716    RUE Sensation\n",
       " Name: LABEL, dtype: object,\n",
       " 11407    All Medications Tolerated without Adverse Side...\n",
       " Name: LABEL, dtype: object,\n",
       " 10717    LUE Sensation\n",
       " Name: LABEL, dtype: object]"
      ]
     },
     "execution_count": 12,
     "metadata": {},
     "output_type": "execute_result"
    }
   ],
   "source": [
    "labels"
   ]
  },
  {
   "cell_type": "markdown",
   "metadata": {},
   "source": [
    "Some general patterns emerge when looking at the categories of lab events that are related to the shortest durations between measurement and admission to ICU. The majority of the lab events above fall into the general category of \"vital signs\" (e.g., weight, blood pressure, HR, respiration, blood ion measurements, assessment of body extremeties). These could reflect true indicators of necessary trips to the ICU, or they could simply reflect vital signs measurements taken as (but slightly before) these patients were already being transferred to the ICU. To test for this, I will need to look at the relative proportions that these chart events show up for patients being quickly admitted to the ICU vs. for patients that are not. This would provide an estimate of the \"added influence\" these measures provide to predicting imminent ICU stays over the general prevalence."
   ]
  },
  {
   "cell_type": "code",
   "execution_count": 13,
   "metadata": {},
   "outputs": [
    {
     "data": {
      "text/plain": [
       "Text(0.5, 0, 'Item ID')"
      ]
     },
     "execution_count": 13,
     "metadata": {},
     "output_type": "execute_result"
    },
    {
     "data": {
      "image/png": "[encoded data removed]",
      "text/plain": [
       "<Figure size 432x288 with 1 Axes>"
      ]
     },
     "metadata": {
      "needs_background": "light"
     },
     "output_type": "display_data"
    }
   ],
   "source": [
    "# what about the bottom 50 item ids?\n",
    "plt.bar(x=range(0,50),\n",
    "        height=item_mn_days[-50:],width=0.5,\n",
    "       yerr=item_sem_days[-50:])\n",
    "plt.title('Bottom 50 Chart Events & ICU Stays')\n",
    "plt.ylabel('Days from Event to ICU')\n",
    "xlabels = item_ids[-50:]\n",
    "plt.xticks(range(0,len(xlabels),3),xlabels[0::3],rotation=60,ha='right')\n",
    "plt.xlabel('Item ID')"
   ]
  },
  {
   "cell_type": "markdown",
   "metadata": {},
   "source": [
    "NOTE: It seems that all of the chart events here are associated with measurements taken within 1 day of ICU admission (i.e., \"imminent admissions\"). This is likely due to the pre-selection of patients, hospital admission ID, and ICU stay ID that I carried over from the previous workbook. I will need to go through this again and look at chart events irrespective of the other factors I previously selected for. All that being said, this analysis does show that certain chart events are much more likely to occur close in time to an ICU admission, whereas certain others are less likely, suggesting that there is useful information in the kinds of charted events and their relation to ICU stays."
   ]
  },
  {
   "cell_type": "code",
   "execution_count": 14,
   "metadata": {},
   "outputs": [
    {
     "data": {
      "text/plain": [
       "[1559    Magnesium (1.6-2.6)\n",
       " Name: LABEL, dtype: object,\n",
       " 1520    BUN (6-20)\n",
       " Name: LABEL, dtype: object,\n",
       " 1527    Chloride (100-112)\n",
       " Name: LABEL, dtype: object,\n",
       " 1526    Carbon Dioxide\n",
       " Name: LABEL, dtype: object,\n",
       " 50    Pain Level/Response\n",
       " Name: LABEL, dtype: object,\n",
       " 962    Pt./Family Informed\n",
       " Name: LABEL, dtype: object,\n",
       " 10515    Differential-Atyps\n",
       " Name: LABEL, dtype: object,\n",
       " 11487    LDH\n",
       " Name: LABEL, dtype: object,\n",
       " 9305    Skin Integrity\n",
       " Name: LABEL, dtype: object,\n",
       " 1525    Calcium (8.4-10.2)\n",
       " Name: LABEL, dtype: object,\n",
       " 1523    CPK\n",
       " Name: LABEL, dtype: object,\n",
       " 9934    History of falling (within 3 mnths)\n",
       " Name: LABEL, dtype: object,\n",
       " 1514    Amylase\n",
       " Name: LABEL, dtype: object,\n",
       " 1474    Untoward Effect\n",
       " Name: LABEL, dtype: object,\n",
       " 1524    CPK/MB\n",
       " Name: LABEL, dtype: object,\n",
       " 9308    Edema Location\n",
       " Name: LABEL, dtype: object,\n",
       " 759    Total Bili (0-1.5)\n",
       " Name: LABEL, dtype: object,\n",
       " 1456    Trach Care\n",
       " Name: LABEL, dtype: object,\n",
       " 9317    MDI #1 Drug\n",
       " Name: LABEL, dtype: object,\n",
       " 1509    ALT\n",
       " Name: LABEL, dtype: object,\n",
       " 1510    AST\n",
       " Name: LABEL, dtype: object,\n",
       " 11492    Total Protein\n",
       " Name: LABEL, dtype: object,\n",
       " 1512    Alk. Phosphate\n",
       " Name: LABEL, dtype: object,\n",
       " 12413    Inspired O2 Fraction\n",
       " Name: LABEL, dtype: object,\n",
       " 12052    Seizure Activity\n",
       " Name: LABEL, dtype: object,\n",
       " 9440    PAP Alarm Source\n",
       " Name: LABEL, dtype: object,\n",
       " 12374    O2 Saturation Pulseoxymetry Alarm - High\n",
       " Name: LABEL, dtype: object,\n",
       " 11500    Heart Rate Alarm - Low\n",
       " Name: LABEL, dtype: object,\n",
       " 12375    O2 Saturation Pulseoxymetry Alarm - Low\n",
       " Name: LABEL, dtype: object,\n",
       " 9311    Resp Alarm - High\n",
       " Name: LABEL, dtype: object,\n",
       " 9312    Resp Alarm - Low\n",
       " Name: LABEL, dtype: object,\n",
       " 11499    Heart rate Alarm - High\n",
       " Name: LABEL, dtype: object,\n",
       " 750    Sed Rate\n",
       " Name: LABEL, dtype: object,\n",
       " 11926    SpO2 Desat Limit\n",
       " Name: LABEL, dtype: object,\n",
       " 751    Serum Osmolality\n",
       " Name: LABEL, dtype: object,\n",
       " 12055    Neuro Drain #1 Type\n",
       " Name: LABEL, dtype: object,\n",
       " 11612    Incision Drainage Amount #2\n",
       " Name: LABEL, dtype: object,\n",
       " 11607    Incision Drainage #2\n",
       " Name: LABEL, dtype: object,\n",
       " 11592    Incision Appearance #2\n",
       " Name: LABEL, dtype: object,\n",
       " 11597    Incision Cleansing #2\n",
       " Name: LABEL, dtype: object,\n",
       " 11603    Incision Closure #2\n",
       " Name: LABEL, dtype: object,\n",
       " 10312    Incision Site #2\n",
       " Name: LABEL, dtype: object,\n",
       " 11622    Dressing Status #2\n",
       " Name: LABEL, dtype: object,\n",
       " 11617    Incision Dressing #2\n",
       " Name: LABEL, dtype: object,\n",
       " 11506    Arterial Blood Pressure Alarm - High\n",
       " Name: LABEL, dtype: object,\n",
       " 11510    Pulmonary Artery Pressure Alarm - High\n",
       " Name: LABEL, dtype: object,\n",
       " 11513    Central Venous Pressure Alarm - High\n",
       " Name: LABEL, dtype: object,\n",
       " 11514    Central Venous Pressure  Alarm - Low\n",
       " Name: LABEL, dtype: object,\n",
       " 11505    Arterial Blood Pressure Alarm - Low\n",
       " Name: LABEL, dtype: object,\n",
       " 11511    Pulmonary Artery Pressure Alarm - Low\n",
       " Name: LABEL, dtype: object]"
      ]
     },
     "execution_count": 14,
     "metadata": {},
     "output_type": "execute_result"
    }
   ],
   "source": [
    "# get the bottom 50 labels\n",
    "bot_labels = []\n",
    "for item in item_ids[-50:]:\n",
    "    bot_labels.append(df_items.loc[df_items['ITEMID'] == item]['LABEL'])\n",
    "bot_labels"
   ]
  },
  {
   "cell_type": "markdown",
   "metadata": {},
   "source": [
    "In contrast to the top 50 chart events above, the bottom 50 chart events were more likely to be associated with alarms for automatic monitoring of vitals (e.g., blood pressure, heart rate), treatment of incisions, and measurements of certain other vitals (e.g., magnesium, CO2, etc.)."
   ]
  },
  {
   "cell_type": "code",
   "execution_count": null,
   "metadata": {},
   "outputs": [],
   "source": []
  }
 ],
 "metadata": {
  "kernelspec": {
   "display_name": "Python 3",
   "language": "python",
   "name": "python3"
  },
  "language_info": {
   "codemirror_mode": {
    "name": "ipython",
    "version": 3
   },
   "file_extension": ".py",
   "mimetype": "text/x-python",
   "name": "python",
   "nbconvert_exporter": "python",
   "pygments_lexer": "ipython3",
   "version": "3.7.7"
  }
 },
 "nbformat": 4,
 "nbformat_minor": 4
}
