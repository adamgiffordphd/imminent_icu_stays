{
 "cells": [
  {
   "cell_type": "code",
   "execution_count": 1,
   "metadata": {},
   "outputs": [],
   "source": [
    "import pandas as pd\n",
    "import numpy as np\n",
    "import pickle"
   ]
  },
  {
   "cell_type": "code",
   "execution_count": 2,
   "metadata": {},
   "outputs": [
    {
     "ename": "FileNotFoundError",
     "evalue": "[Errno 2] No such file or directory: './data/pickle/preproc/df_patient_admit_icu__20210130_TRAIN_final.pkl'",
     "output_type": "error",
     "traceback": [
      "\u001b[0;31m---------------------------------------------------------------------------\u001b[0m",
      "\u001b[0;31mFileNotFoundError\u001b[0m                         Traceback (most recent call last)",
      "\u001b[0;32m<ipython-input-2-f71c80865b03>\u001b[0m in \u001b[0;36m<module>\u001b[0;34m\u001b[0m\n\u001b[0;32m----> 1\u001b[0;31m \u001b[0mX_train\u001b[0m\u001b[0;34m,\u001b[0m \u001b[0my_train\u001b[0m \u001b[0;34m=\u001b[0m \u001b[0mpd\u001b[0m\u001b[0;34m.\u001b[0m\u001b[0mread_pickle\u001b[0m\u001b[0;34m(\u001b[0m\u001b[0;34m'./data/pickle/preproc/df_patient_admit_icu__20210130_TRAIN_final.pkl'\u001b[0m\u001b[0;34m)\u001b[0m\u001b[0;34m\u001b[0m\u001b[0;34m\u001b[0m\u001b[0m\n\u001b[0m",
      "\u001b[0;32m~/anaconda3/lib/python3.8/site-packages/pandas/io/pickle.py\u001b[0m in \u001b[0;36mread_pickle\u001b[0;34m(filepath_or_buffer, compression)\u001b[0m\n\u001b[1;32m    167\u001b[0m     \u001b[0;32mif\u001b[0m \u001b[0;32mnot\u001b[0m \u001b[0misinstance\u001b[0m\u001b[0;34m(\u001b[0m\u001b[0mfp_or_buf\u001b[0m\u001b[0;34m,\u001b[0m \u001b[0mstr\u001b[0m\u001b[0;34m)\u001b[0m \u001b[0;32mand\u001b[0m \u001b[0mcompression\u001b[0m \u001b[0;34m==\u001b[0m \u001b[0;34m\"infer\"\u001b[0m\u001b[0;34m:\u001b[0m\u001b[0;34m\u001b[0m\u001b[0;34m\u001b[0m\u001b[0m\n\u001b[1;32m    168\u001b[0m         \u001b[0mcompression\u001b[0m \u001b[0;34m=\u001b[0m \u001b[0;32mNone\u001b[0m\u001b[0;34m\u001b[0m\u001b[0;34m\u001b[0m\u001b[0m\n\u001b[0;32m--> 169\u001b[0;31m     \u001b[0mf\u001b[0m\u001b[0;34m,\u001b[0m \u001b[0mfh\u001b[0m \u001b[0;34m=\u001b[0m \u001b[0mget_handle\u001b[0m\u001b[0;34m(\u001b[0m\u001b[0mfp_or_buf\u001b[0m\u001b[0;34m,\u001b[0m \u001b[0;34m\"rb\"\u001b[0m\u001b[0;34m,\u001b[0m \u001b[0mcompression\u001b[0m\u001b[0;34m=\u001b[0m\u001b[0mcompression\u001b[0m\u001b[0;34m,\u001b[0m \u001b[0mis_text\u001b[0m\u001b[0;34m=\u001b[0m\u001b[0;32mFalse\u001b[0m\u001b[0;34m)\u001b[0m\u001b[0;34m\u001b[0m\u001b[0;34m\u001b[0m\u001b[0m\n\u001b[0m\u001b[1;32m    170\u001b[0m \u001b[0;34m\u001b[0m\u001b[0m\n\u001b[1;32m    171\u001b[0m     \u001b[0;31m# 1) try standard library Pickle\u001b[0m\u001b[0;34m\u001b[0m\u001b[0;34m\u001b[0m\u001b[0;34m\u001b[0m\u001b[0m\n",
      "\u001b[0;32m~/anaconda3/lib/python3.8/site-packages/pandas/io/common.py\u001b[0m in \u001b[0;36mget_handle\u001b[0;34m(path_or_buf, mode, encoding, compression, memory_map, is_text, errors)\u001b[0m\n\u001b[1;32m    497\u001b[0m         \u001b[0;32melse\u001b[0m\u001b[0;34m:\u001b[0m\u001b[0;34m\u001b[0m\u001b[0;34m\u001b[0m\u001b[0m\n\u001b[1;32m    498\u001b[0m             \u001b[0;31m# Binary mode\u001b[0m\u001b[0;34m\u001b[0m\u001b[0;34m\u001b[0m\u001b[0;34m\u001b[0m\u001b[0m\n\u001b[0;32m--> 499\u001b[0;31m             \u001b[0mf\u001b[0m \u001b[0;34m=\u001b[0m \u001b[0mopen\u001b[0m\u001b[0;34m(\u001b[0m\u001b[0mpath_or_buf\u001b[0m\u001b[0;34m,\u001b[0m \u001b[0mmode\u001b[0m\u001b[0;34m)\u001b[0m\u001b[0;34m\u001b[0m\u001b[0;34m\u001b[0m\u001b[0m\n\u001b[0m\u001b[1;32m    500\u001b[0m         \u001b[0mhandles\u001b[0m\u001b[0;34m.\u001b[0m\u001b[0mappend\u001b[0m\u001b[0;34m(\u001b[0m\u001b[0mf\u001b[0m\u001b[0;34m)\u001b[0m\u001b[0;34m\u001b[0m\u001b[0;34m\u001b[0m\u001b[0m\n\u001b[1;32m    501\u001b[0m \u001b[0;34m\u001b[0m\u001b[0m\n",
      "\u001b[0;31mFileNotFoundError\u001b[0m: [Errno 2] No such file or directory: './data/pickle/preproc/df_patient_admit_icu__20210130_TRAIN_final.pkl'"
     ]
    }
   ],
   "source": [
    "X_train, y_train = pd.read_pickle('./data/pickle/preproc/df_patient_admit_icu__20210130_TRAIN_final.pkl')"
   ]
  },
  {
   "cell_type": "markdown",
   "metadata": {},
   "source": [
    "# SAMEDAY ICU"
   ]
  },
  {
   "cell_type": "code",
   "execution_count": 3,
   "metadata": {},
   "outputs": [],
   "source": [
    "from sklearn.feature_extraction.text import TfidfTransformer, CountVectorizer\n",
    "from sklearn.pipeline import Pipeline, FeatureUnion\n",
    "from customTransformers import (ColumnSelectTransformer, DiagnosisFrameTransformer, \n",
    "                                EstimatorTransformer, LinearNonlinear, ColumnMergeTransformer\n",
    "                               )\n",
    "from sklearn.ensemble import RandomForestClassifier\n",
    "from sklearn.linear_model import LogisticRegression\n",
    "from sklearn.model_selection import GridSearchCV, StratifiedKFold\n",
    "from sklearn.preprocessing import StandardScaler, OneHotEncoder\n",
    "from sklearn.impute import SimpleImputer\n",
    "from sklearn.compose import ColumnTransformer\n",
    "from sklearn.ensemble import GradientBoostingClassifier\n",
    "from sklearn.metrics import precision_recall_curve\n",
    "from sklearn.metrics import plot_precision_recall_curve\n",
    "import matplotlib.pyplot as plt\n",
    "from sklearn.metrics import average_precision_score\n",
    "from sklearn.metrics import confusion_matrix, accuracy_score, f1_score\n",
    "from sklearn.metrics import plot_roc_curve, plot_confusion_matrix\n",
    "from sklearn.ensemble import GradientBoostingClassifier\n",
    "from sklearn.preprocessing import LabelEncoder\n",
    "from sklearn.metrics import plot_confusion_matrix\n",
    "from sklearn.linear_model import Ridge\n",
    "from sklearn.model_selection import KFold\n",
    "from sklearn.ensemble import RandomForestRegressor"
   ]
  },
  {
   "cell_type": "code",
   "execution_count": 8,
   "metadata": {},
   "outputs": [],
   "source": [
    "cols = ['GENDER','ADMISSION_TYPE','ADMISSION_LOCATION','INSURANCE','LANGUAGE',\n",
    "       'RELIGION','MARITAL_STATUS','ETHNICITY']\n",
    "\n",
    "num_cols = ['ADMIT_AGE']\n",
    "demog_feats1 = FeatureUnion([\n",
    "    ('stdscl', ColumnTransformer([('numerical', StandardScaler(), num_cols)])),\n",
    "    ('ohe',  ColumnTransformer([('categorical', OneHotEncoder(handle_unknown='ignore'), cols)]))\n",
    "])\n",
    "demog_pipe1 = Pipeline([\n",
    "    ('features', demog_feats1),\n",
    "    ('reg', LogisticRegression(solver='liblinear'))\n",
    "])\n",
    "demog_params1 = {\n",
    "    'reg__penalty': ['l1','l2','none'],\n",
    "    'reg__C': [0.01, 0.1, 1, 10],\n",
    "    'reg__class_weight': ['none','balanced'],\n",
    "}\n",
    "\n",
    "# lin_gs_regressor1 = GridSearchCV(demog_pipe1, demog_params1, cv=StratifiedKFold(n_splits=5, shuffle=True),verbose=3,n_jobs=-1)\n",
    "# lin_est1 = lin_gs_regressor1.fit(X_train,X_train['SAMEDAY_ADM_TO_ICU'])"
   ]
  },
  {
   "cell_type": "code",
   "execution_count": 11,
   "metadata": {},
   "outputs": [
    {
     "data": {
      "text/plain": [
       "({'reg__C': 0.1, 'reg__class_weight': 'balanced', 'reg__penalty': 'l2'},\n",
       " 0.5722280875294657)"
      ]
     },
     "execution_count": 11,
     "metadata": {},
     "output_type": "execute_result"
    }
   ],
   "source": [
    "lin_est1.best_params_,lin_est1.best_score_"
   ]
  },
  {
   "cell_type": "code",
   "execution_count": 5,
   "metadata": {},
   "outputs": [
    {
     "name": "stdout",
     "output_type": "stream",
     "text": [
      "Fitting 5 folds for each of 144 candidates, totalling 720 fits\n"
     ]
    },
    {
     "name": "stderr",
     "output_type": "stream",
     "text": [
      "[Parallel(n_jobs=10)]: Using backend LokyBackend with 10 concurrent workers.\n",
      "[Parallel(n_jobs=10)]: Done  12 tasks      | elapsed:   49.6s\n",
      "[Parallel(n_jobs=10)]: Done 108 tasks      | elapsed:  2.5min\n",
      "[Parallel(n_jobs=10)]: Done 268 tasks      | elapsed:  6.3min\n",
      "[Parallel(n_jobs=10)]: Done 492 tasks      | elapsed: 11.8min\n",
      "/Users/adamgifford/anaconda3/lib/python3.8/site-packages/joblib/externals/loky/process_executor.py:688: UserWarning: A worker stopped while some jobs were given to the executor. This can be caused by a too short worker timeout or by a memory leak.\n",
      "  warnings.warn(\n",
      "[Parallel(n_jobs=10)]: Done 720 out of 720 | elapsed: 16.5min finished\n"
     ]
    }
   ],
   "source": [
    "diagn_pipe1b = Pipeline([\n",
    "    ('cst', ColumnSelectTransformer(['DIAGNOSIS'])),\n",
    "    ('dst', DiagnosisFrameTransformer()),\n",
    "    ('count',CountVectorizer(max_features=3000)),\n",
    "    ('tfid', TfidfTransformer()),\n",
    "    ('rfc', RandomForestClassifier())\n",
    "])\n",
    "\n",
    "diagn_params1b = {\n",
    "    'rfc__criterion': ['gini','entropy'],\n",
    "    'rfc__max_features': ['auto', 'sqrt', 'log2'],\n",
    "    'rfc__min_samples_split': [2,5,8,11],\n",
    "    'rfc__min_samples_leaf': [1,4,7],\n",
    "    'rfc__class_weight': ['balanced', 'balanced_subsample'],\n",
    "}\n",
    "\n",
    "diagn_gs_regressor1b = GridSearchCV(diagn_pipe1b, diagn_params1b, cv=StratifiedKFold(n_splits=5, shuffle=True),verbose=3,n_jobs=10)\n",
    "tfidf_est1b = diagn_gs_regressor1b.fit(X_train,X_train['SAMEDAY_ADM_TO_ICU'])"
   ]
  },
  {
   "cell_type": "code",
   "execution_count": 6,
   "metadata": {},
   "outputs": [
    {
     "data": {
      "text/plain": [
       "({'rfc__class_weight': 'balanced_subsample',\n",
       "  'rfc__criterion': 'entropy',\n",
       "  'rfc__max_features': 'log2',\n",
       "  'rfc__min_samples_leaf': 1,\n",
       "  'rfc__min_samples_split': 2},\n",
       " 0.7360997577172081)"
      ]
     },
     "execution_count": 6,
     "metadata": {},
     "output_type": "execute_result"
    }
   ],
   "source": [
    "tfidf_est1b.best_params_,tfidf_est1b.best_score_"
   ]
  },
  {
   "cell_type": "code",
   "execution_count": 9,
   "metadata": {},
   "outputs": [
    {
     "name": "stdout",
     "output_type": "stream",
     "text": [
      "Fitting 5 folds for each of 1296 candidates, totalling 6480 fits\n"
     ]
    },
    {
     "name": "stderr",
     "output_type": "stream",
     "text": [
      "[Parallel(n_jobs=12)]: Using backend LokyBackend with 12 concurrent workers.\n",
      "[Parallel(n_jobs=12)]: Done   8 tasks      | elapsed:   53.8s\n",
      "/Users/adamgifford/anaconda3/lib/python3.8/site-packages/joblib/externals/loky/process_executor.py:688: UserWarning: A worker stopped while some jobs were given to the executor. This can be caused by a too short worker timeout or by a memory leak.\n",
      "  warnings.warn(\n",
      "[Parallel(n_jobs=12)]: Done 104 tasks      | elapsed:  8.2min\n",
      "[Parallel(n_jobs=12)]: Done 264 tasks      | elapsed: 52.7min\n",
      "[Parallel(n_jobs=12)]: Done 488 tasks      | elapsed: 554.2min\n",
      "[Parallel(n_jobs=12)]: Done 776 tasks      | elapsed: 576.0min\n",
      "[Parallel(n_jobs=12)]: Done 1128 tasks      | elapsed: 602.4min\n",
      "[Parallel(n_jobs=12)]: Done 1544 tasks      | elapsed: 640.9min\n",
      "[Parallel(n_jobs=12)]: Done 2024 tasks      | elapsed: 682.8min\n",
      "[Parallel(n_jobs=12)]: Done 2568 tasks      | elapsed: 730.6min\n",
      "[Parallel(n_jobs=12)]: Done 3176 tasks      | elapsed: 784.4min\n",
      "[Parallel(n_jobs=12)]: Done 3848 tasks      | elapsed: 844.3min\n",
      "[Parallel(n_jobs=12)]: Done 4584 tasks      | elapsed: 917.9min\n",
      "[Parallel(n_jobs=12)]: Done 5384 tasks      | elapsed: 1002.4min\n",
      "[Parallel(n_jobs=12)]: Done 6248 tasks      | elapsed: 1091.8min\n",
      "[Parallel(n_jobs=12)]: Done 6480 out of 6480 | elapsed: 1116.8min finished\n"
     ]
    },
    {
     "data": {
      "text/plain": [
       "({'xgb__criterion': 'mse',\n",
       "  'xgb__learning_rate': 0.05,\n",
       "  'xgb__loss': 'exponential',\n",
       "  'xgb__max_depth': 4,\n",
       "  'xgb__max_features': 'auto',\n",
       "  'xgb__min_samples_leaf': 4,\n",
       "  'xgb__subsample': 0.8},\n",
       " 0.761460606507654)"
      ]
     },
     "execution_count": 9,
     "metadata": {},
     "output_type": "execute_result"
    }
   ],
   "source": [
    "demog_est1c = LogisticRegression(solver='liblinear', C=0.1, class_weight='balanced', penalty='l2')\n",
    "demog_pipe1c = Pipeline([\n",
    "    ('features', demog_feats1),\n",
    "    ('reg', demog_est1c)\n",
    "])\n",
    "\n",
    "diagn_est1c = RandomForestClassifier(class_weight='balanced_subsample',criterion='entropy',\n",
    "                                  max_features='log2',min_samples_leaf=1,\n",
    "                                  min_samples_split=2)\n",
    "diagn_pipe1c = Pipeline([\n",
    "    ('cst', ColumnSelectTransformer(['DIAGNOSIS'])),\n",
    "    ('dst', DiagnosisFrameTransformer()),\n",
    "    ('count',CountVectorizer(max_features=3000)),\n",
    "    ('tfid', TfidfTransformer()),\n",
    "    ('rfc', diagn_est)\n",
    "])\n",
    "\n",
    "union1c = FeatureUnion([\n",
    "    ('demog', EstimatorTransformer(demog_pipe1c)),# FeatureUnions use the same syntax as Pipelines\n",
    "    ('diagn',EstimatorTransformer(diagn_pipe1c))\n",
    "])\n",
    "\n",
    "\n",
    "full_pipe1c = Pipeline([\n",
    "    ('union',union1c),\n",
    "    ('xgb', GradientBoostingClassifier())\n",
    "])\n",
    "\n",
    "xgb_params1c = {\n",
    "    'xgb__loss': ['deviance','exponential'],\n",
    "    'xgb__learning_rate': [0.05, 0.1, 0.2],\n",
    "    'xgb__subsample': [0.8, 1, 1.2], # max is 1\n",
    "    'xgb__criterion': ['mse','friedman_mse'],\n",
    "    'xgb__min_samples_leaf': [1,4,7],\n",
    "    'xgb__max_depth': [2,3,4,5],\n",
    "    'xgb__max_features': ['auto','log2',None]\n",
    "}\n",
    "\n",
    "xgb_gs_classifier1c = GridSearchCV(full_pipe1c, xgb_params1c, cv=StratifiedKFold(n_splits=5, shuffle=True),verbose=3,n_jobs=12)\n",
    "xgb_est1c = xgb_gs_classifier1c.fit(X_train,X_train['SAMEDAY_ADM_TO_ICU'])\n",
    "\n",
    "xgb_est1c.best_params_,xgb_est1c.best_score_"
   ]
  },
  {
   "cell_type": "code",
   "execution_count": 11,
   "metadata": {},
   "outputs": [],
   "source": [
    "X_test, y_test = pd.read_pickle('./data/pickle/preproc/df_patient_admit_icu__20210126_TEST_final.pkl')"
   ]
  },
  {
   "cell_type": "code",
   "execution_count": 50,
   "metadata": {},
   "outputs": [
    {
     "name": "stdout",
     "output_type": "stream",
     "text": [
      "[[1163 1659]\n",
      " [1306 8066]]\n",
      "0.7568476299819583\n",
      "0.844740011520134\n"
     ]
    }
   ],
   "source": [
    "y_pred = xgb_est1c.predict(X_test)\n",
    "print(confusion_matrix(X_test['SAMEDAY_ADM_TO_ICU'],y_pred))\n",
    "print(accuracy_score(X_test['SAMEDAY_ADM_TO_ICU'],y_pred))\n",
    "print(f1_score(X_test['SAMEDAY_ADM_TO_ICU'],y_pred))"
   ]
  },
  {
   "cell_type": "code",
   "execution_count": 18,
   "metadata": {},
   "outputs": [
    {
     "data": {
      "text/plain": [
       "Text(0.5, 1.0, '2-class Precision-Recall curve: AP=0.86')"
      ]
     },
     "execution_count": 18,
     "metadata": {},
     "output_type": "execute_result"
    },
    {
     "data": {
      "image/png": "[encoded data removed]",
      "text/plain": [
       "<Figure size 432x288 with 1 Axes>"
      ]
     },
     "metadata": {
      "needs_background": "light"
     },
     "output_type": "display_data"
    }
   ],
   "source": [
    "y_score = xgb_est1c.decision_function(X_test)\n",
    "average_precision = average_precision_score(X_test['SAMEDAY_ADM_TO_ICU'], y_score)\n",
    "\n",
    "disp = plot_precision_recall_curve(xgb_est, X_test, X_test['SAMEDAY_ADM_TO_ICU'])\n",
    "disp.ax_.set_title('2-class Precision-Recall curve: '\n",
    "                   'AP={0:0.2f}'.format(average_precision))"
   ]
  },
  {
   "cell_type": "code",
   "execution_count": 21,
   "metadata": {},
   "outputs": [],
   "source": [
    "file = './data/pickle/models/log_rf_xgb__SAMEDAY__20210127.pkl'\n",
    "pickle.dump((demog_pipe1c, diagn_pipe1c, xgb_est1c),open(file,'wb'))"
   ]
  },
  {
   "cell_type": "code",
   "execution_count": 103,
   "metadata": {},
   "outputs": [],
   "source": [
    "y_pred = xgb_est.predict(X_test)\n",
    "\n",
    "corr_sum = sum((y_pred==1) & (y_pred==X_test['SAMEDAY_ADM_TO_ICU']))\n",
    "incorr_sum = sum((y_pred==0) & (y_pred!=X_test['SAMEDAY_ADM_TO_ICU'])\n",
    "total = corr_sum+incorr_sum\n",
    "\n",
    "correct=np.mean(days_adm_icu[(y_pred==1) & (y_pred==X_test['SAMEDAY_ADM_TO_ICU'])])*24\n",
    "incorrect=np.mean(days_adm_icu[(y_pred==0) & (y_pred!=X_test['SAMEDAY_ADM_TO_ICU'])])*24\n",
    "\n",
    "hours_saved = (corr_sum/total)*correct - (incorr_sum/total)*incorrect\n",
    "minutes_saved = hours_saved*60\n",
    "minutes_saved"
   ]
  },
  {
   "cell_type": "code",
   "execution_count": 106,
   "metadata": {},
   "outputs": [
    {
     "data": {
      "text/plain": [
       "<sklearn.metrics._plot.roc_curve.RocCurveDisplay at 0x7fcba97967c0>"
      ]
     },
     "execution_count": 106,
     "metadata": {},
     "output_type": "execute_result"
    },
    {
     "data": {
      "image/png": "[encoded data removed]",
      "text/plain": [
       "<Figure size 432x288 with 1 Axes>"
      ]
     },
     "metadata": {
      "needs_background": "light"
     },
     "output_type": "display_data"
    }
   ],
   "source": [
    "plot_roc_curve(xgb_est, X_test, X_test['SAMEDAY_ADM_TO_ICU'])"
   ]
  },
  {
   "cell_type": "code",
   "execution_count": 114,
   "metadata": {},
   "outputs": [
    {
     "data": {
      "text/plain": [
       "<sklearn.metrics._plot.confusion_matrix.ConfusionMatrixDisplay at 0x7fcbdbde4880>"
      ]
     },
     "execution_count": 114,
     "metadata": {},
     "output_type": "execute_result"
    },
    {
     "data": {
      "image/png": "[encoded data removed]",
      "text/plain": [
       "<Figure size 432x288 with 2 Axes>"
      ]
     },
     "metadata": {
      "needs_background": "light"
     },
     "output_type": "display_data"
    }
   ],
   "source": [
    "plot_confusion_matrix(xgb_est, X_test, X_test['SAMEDAY_ADM_TO_ICU'],display_labels=['Not Urgent', 'Urgent'],normalize='true')"
   ]
  },
  {
   "cell_type": "markdown",
   "metadata": {},
   "source": [
    "# ICU URGENCY SCORE"
   ]
  },
  {
   "cell_type": "code",
   "execution_count": 38,
   "metadata": {},
   "outputs": [],
   "source": [
    "## TRYING TO IMPLEMENT 4 OVR CLASSIFICATION SYSTEMS FOR ICU_URGENCY.\n",
    "# 1. CREATE AND TUNE OVR for demographics\n",
    "# 2. use multinomial classifier for diagnoses\n",
    "# 3. use all 5 outputs as features in a second multinomial to pool results\n",
    "from sklearn.preprocessing import OrdinalEncoder\n",
    "\n",
    "cols = ['GENDER','ADMISSION_TYPE','ADMISSION_LOCATION','INSURANCE','LANGUAGE',\n",
    "       'RELIGION','MARITAL_STATUS','ETHNICITY']\n",
    "\n",
    "num_cols = ['ADMIT_AGE']\n",
    "demog_feats1 = FeatureUnion([\n",
    "    ('stdscl', ColumnTransformer([('numerical', StandardScaler(), num_cols)])),\n",
    "    ('ohe',  ColumnTransformer([('categorical', OneHotEncoder(handle_unknown='ignore'), cols)]))\n",
    "])\n",
    "\n",
    "demog_pipe1 = Pipeline([\n",
    "    ('features', demog_feats1),\n",
    "    ('reg', LogisticRegression(solver='saga'))\n",
    "])\n",
    "demog_params1 = {\n",
    "    'reg__penalty': ['l1','l2','none'],\n",
    "    'reg__C': [0.01, 0.1, 1, 10],\n",
    "    'reg__class_weight': ['none','balanced'],\n",
    "    'reg__multi_class': ['ovr','multinomial'],\n",
    "}\n",
    "\n",
    "ordenc = OrdinalEncoder(categories=[['stable','questionable','urgent','immediate']])\n",
    "y_train_enc = ordenc.fit_transform(y_train.to_numpy().reshape(-1,1))\n",
    "lin_gs_classifier1 = GridSearchCV(demog_pipe1, demog_params1, cv=StratifiedKFold(n_splits=5, shuffle=True),verbose=3,n_jobs=-1)\n",
    "lin_est1 = lin_gs_classifier1.fit(X_train,y_train_enc)\n",
    "\n",
    "lin_est1.best_params_,lin_est1.best_score_"
   ]
  },
  {
   "cell_type": "code",
   "execution_count": null,
   "metadata": {},
   "outputs": [],
   "source": [
    "diagn_pipe1 = Pipeline([\n",
    "    ('cst', ColumnSelectTransformer(['DIAGNOSIS'])),\n",
    "    ('dst', DiagnosisFrameTransformer()),\n",
    "    ('count',CountVectorizer(max_features=3000)),\n",
    "    ('tfid', TfidfTransformer()),\n",
    "    ('rfc', RandomForestClassifier())\n",
    "])\n",
    "\n",
    "diagn_params1 = {\n",
    "    'rfc__criterion': ['gini','entropy'],\n",
    "    'rfc__max_features': ['auto', 'sqrt', 'log2'],\n",
    "    'rfc__min_samples_split': [2,5,8,11],\n",
    "    'rfc__min_samples_leaf': [1,4,7],\n",
    "    'rfc__class_weight': ['balanced', 'balanced_subsample'],\n",
    "}\n",
    "\n",
    "diagn_gs_classifier1 = GridSearchCV(diagn_pipe1, diagn_params1, cv=StratifiedKFold(n_splits=5, shuffle=True),verbose=3,n_jobs=4)\n",
    "tfidf_est1 = diagn_gs_classifier1.fit(X_train,y_train_enc)\n",
    "tfidf_est1.best_params_,tfidf_est1.best_score_"
   ]
  },
  {
   "cell_type": "raw",
   "metadata": {},
   "source": [
    "({'rfc__class_weight': 'balanced',\n",
    "  'rfc__criterion': 'gini',\n",
    "  'rfc__max_features': 'sqrt',\n",
    "  'rfc__min_samples_leaf': 1,\n",
    "  'rfc__min_samples_split': 2},\n",
    " 0.58750192130317)"
   ]
  },
  {
   "cell_type": "code",
   "execution_count": null,
   "metadata": {},
   "outputs": [],
   "source": [
    "\n",
    "\n",
    "demog_est1 = LogisticRegression(solver='saga', C=0.1, class_weight='none', \n",
    "                               penalty='l2', multi_class='ovr')\n",
    "demog_pipe1 = Pipeline([\n",
    "    ('features', demog_feats),\n",
    "    ('reg', demog_est1)\n",
    "])\n",
    "\n",
    "diagn_est1 = RandomForestClassifier(class_weight='balanced',criterion='gini',\n",
    "                                  max_features='sqrt',min_samples_leaf=1,\n",
    "                                  min_samples_split=2)\n",
    "diagn_pipe1 = Pipeline([\n",
    "    ('cst', ColumnSelectTransformer(['DIAGNOSIS'])),\n",
    "    ('dst', DiagnosisFrameTransformer()),\n",
    "    ('count',CountVectorizer(max_features=3000)),\n",
    "    ('tfid', TfidfTransformer()),\n",
    "    ('rfc', diagn_est1)\n",
    "])\n",
    "\n",
    "union1 = FeatureUnion([\n",
    "    ('demog', EstimatorTransformer(demog_pipe1)),# FeatureUnions use the same syntax as Pipelines\n",
    "    ('diagn',EstimatorTransformer(diagn_pipe1))\n",
    "])\n",
    "\n",
    "\n",
    "full_pipe1 = Pipeline([\n",
    "    ('union',union1),\n",
    "    ('xgb', GradientBoostingClassifier())\n",
    "])\n",
    "\n",
    "xgb_params1 = {\n",
    "    'xgb__loss': ['deviance','exponential'],\n",
    "    'xgb__learning_rate': [0.05, 0.1, 0.2],\n",
    "    'xgb__subsample': [0.8, 1], # max is 1\n",
    "    'xgb__criterion': ['friedman_mse'],\n",
    "    'xgb__min_samples_leaf': [1, 4, 7],\n",
    "    'xgb__max_depth': [2,3,4],\n",
    "    'xgb__max_features': ['auto']\n",
    "}\n",
    "\n",
    "xgb_gs_classifier1 = GridSearchCV(full_pipe1, xgb_params1, cv=StratifiedKFold(n_splits=3, shuffle=True),verbose=3,n_jobs=4)\n",
    "xgb_est1 = xgb_gs_classifier1.fit(X_train,y_train_enc)\n",
    "\n",
    "xgb_est1.best_params_,xgb_est1.best_score_"
   ]
  },
  {
   "cell_type": "raw",
   "metadata": {},
   "source": [
    "({'xgb__criterion': 'friedman_mse',\n",
    "  'xgb__learning_rate': 0.05,\n",
    "  'xgb__loss': 'deviance',\n",
    "  'xgb__max_depth': 3,\n",
    "  'xgb__max_features': 'auto',\n",
    "  'xgb__min_samples_leaf': 7,\n",
    "  'xgb__subsample': 0.8},\n",
    " 0.6116328951484848)"
   ]
  },
  {
   "cell_type": "code",
   "execution_count": 75,
   "metadata": {},
   "outputs": [
    {
     "name": "stdout",
     "output_type": "stream",
     "text": [
      "Fitting 5 folds for each of 48 candidates, totalling 240 fits\n"
     ]
    },
    {
     "name": "stderr",
     "output_type": "stream",
     "text": [
      "[Parallel(n_jobs=-1)]: Using backend LokyBackend with 16 concurrent workers.\n",
      "[Parallel(n_jobs=-1)]: Done  96 tasks      | elapsed:   50.0s\n",
      "/Users/adamgifford/anaconda3/lib/python3.8/site-packages/joblib/externals/loky/process_executor.py:688: UserWarning: A worker stopped while some jobs were given to the executor. This can be caused by a too short worker timeout or by a memory leak.\n",
      "  warnings.warn(\n",
      "[Parallel(n_jobs=-1)]: Done 240 out of 240 | elapsed:  6.1min finished\n",
      "/Users/adamgifford/anaconda3/lib/python3.8/site-packages/sklearn/utils/validation.py:72: DataConversionWarning: A column-vector y was passed when a 1d array was expected. Please change the shape of y to (n_samples, ), for example using ravel().\n",
      "  return f(**kwargs)\n",
      "/Users/adamgifford/anaconda3/lib/python3.8/site-packages/sklearn/linear_model/_sag.py:329: ConvergenceWarning: The max_iter was reached which means the coef_ did not converge\n",
      "  warnings.warn(\"The max_iter was reached which means \"\n",
      "/Users/adamgifford/anaconda3/lib/python3.8/site-packages/sklearn/linear_model/_sag.py:329: ConvergenceWarning: The max_iter was reached which means the coef_ did not converge\n",
      "  warnings.warn(\"The max_iter was reached which means \"\n",
      "/Users/adamgifford/anaconda3/lib/python3.8/site-packages/sklearn/linear_model/_sag.py:329: ConvergenceWarning: The max_iter was reached which means the coef_ did not converge\n",
      "  warnings.warn(\"The max_iter was reached which means \"\n"
     ]
    },
    {
     "data": {
      "text/plain": [
       "({'reg__C': 1,\n",
       "  'reg__class_weight': 'none',\n",
       "  'reg__multi_class': 'ovr',\n",
       "  'reg__penalty': 'l2'},\n",
       " 0.6449278478945732)"
      ]
     },
     "execution_count": 75,
     "metadata": {},
     "output_type": "execute_result"
    }
   ],
   "source": [
    "cols = ['GENDER','ADMISSION_TYPE','ADMISSION_LOCATION','INSURANCE','LANGUAGE',\n",
    "       'RELIGION','MARITAL_STATUS','ETHNICITY']\n",
    "num_cols = ['ADMIT_AGE']\n",
    "\n",
    "demog_feats = FeatureUnion([\n",
    "    ('stdscl', ColumnTransformer([('numerical', StandardScaler(), num_cols)])),\n",
    "    ('ohe',  ColumnTransformer([('categorical', OneHotEncoder(handle_unknown='ignore'), cols)]))\n",
    "])\n",
    "diagn_feats = Pipeline([\n",
    "    ('cst', ColumnSelectTransformer(['DIAGNOSIS'])),\n",
    "    ('dst', DiagnosisFrameTransformer()),\n",
    "    ('count',CountVectorizer(max_features=3000)),\n",
    "    ('tfid', TfidfTransformer())\n",
    "])\n",
    "\n",
    "feats_union = FeatureUnion([\n",
    "    ('demog_feats', demog_feats),\n",
    "    ('diagn_feats', diagn_feats)\n",
    "])\n",
    "\n",
    "lin_pipe = Pipeline([\n",
    "    ('features', feats_union),\n",
    "    ('reg', LogisticRegression(solver='saga'))\n",
    "])\n",
    "\n",
    "lin_params = {\n",
    "    'reg__penalty': ['l1','l2','none'],\n",
    "    'reg__C': [0.01, 0.1, 1, 10],\n",
    "    'reg__class_weight': ['none','balanced'],\n",
    "    'reg__multi_class': ['ovr','multinomial'],\n",
    "}\n",
    "\n",
    "ordenc = OrdinalEncoder(categories=[['stable','questionable','urgent','immediate']])\n",
    "y_train_enc = ordenc.fit_transform(y_train.to_numpy().reshape(-1,1))\n",
    "lin_gs_classifier = GridSearchCV(lin_pipe, lin_params, cv=StratifiedKFold(n_splits=5, shuffle=True),verbose=3,n_jobs=-1)\n",
    "lin_est = lin_gs_classifier.fit(X_train,y_train_enc)\n",
    "\n",
    "lin_est.best_params_,lin_est.best_score_"
   ]
  },
  {
   "cell_type": "code",
   "execution_count": 76,
   "metadata": {},
   "outputs": [
    {
     "name": "stdout",
     "output_type": "stream",
     "text": [
      "[[ 121  143  141  744]\n",
      " [  88  305  298  982]\n",
      " [  51  176 1052 1359]\n",
      " [  52  168  111 6403]]\n",
      "0.6463014597342955\n",
      "0.5928604185555643\n"
     ]
    }
   ],
   "source": [
    "y_test_enc = ordenc.transform(y_test.to_numpy().reshape(-1,1))\n",
    "y_pred = lin_est.predict(X_test)\n",
    "print(confusion_matrix(y_test_enc,y_pred))\n",
    "print(accuracy_score(y_test_enc,y_pred))\n",
    "print(f1_score(y_test_enc,y_pred, average='weighted'))"
   ]
  },
  {
   "cell_type": "code",
   "execution_count": 77,
   "metadata": {},
   "outputs": [],
   "source": [
    "file = './data/pickle/models/log__URGENCY__20210130.pkl'\n",
    "pickle.dump(lin_est,open(file,'wb'))"
   ]
  },
  {
   "cell_type": "code",
   "execution_count": null,
   "metadata": {},
   "outputs": [],
   "source": [
    "y_test_enc = ordenc.transform(y_test.to_numpy().reshape(-1,1))\n",
    "y_pred = xgb_est1.predict(X_test)\n",
    "print(confusion_matrix(y_test_enc,y_pred))\n",
    "print(accuracy_score(y_test_enc,y_pred))\n",
    "print(f1_score(y_test_enc,y_pred, average='weighted'))"
   ]
  },
  {
   "cell_type": "raw",
   "metadata": {},
   "source": [
    "[[5963  528   19  224]\n",
    " [ 828  553   71  221]\n",
    " [ 731  243   72  103]\n",
    " [1255  350   63  970]]\n",
    "0.6198130227980975\n",
    "0.5807983189727202"
   ]
  },
  {
   "cell_type": "code",
   "execution_count": null,
   "metadata": {},
   "outputs": [],
   "source": [
    "file = './data/pickle/models/log_rf_xgb__URGENCY__20210127.pkl'\n",
    "pickle.dump((demog_pipe1, diagn_pipe1, xgb_est1),open(file,'wb'))"
   ]
  },
  {
   "cell_type": "markdown",
   "metadata": {},
   "source": [
    "# Length of stay"
   ]
  },
  {
   "cell_type": "markdown",
   "metadata": {},
   "source": [
    "## modeling separately"
   ]
  },
  {
   "cell_type": "code",
   "execution_count": 4,
   "metadata": {},
   "outputs": [
    {
     "name": "stdout",
     "output_type": "stream",
     "text": [
      "Fitting 5 folds for each of 20 candidates, totalling 100 fits\n"
     ]
    },
    {
     "name": "stderr",
     "output_type": "stream",
     "text": [
      "[Parallel(n_jobs=-1)]: Using backend LokyBackend with 16 concurrent workers.\n",
      "[Parallel(n_jobs=-1)]: Done 100 out of 100 | elapsed:    5.5s finished\n"
     ]
    },
    {
     "data": {
      "text/plain": [
       "({'ridge__alpha': 1,\n",
       "  'ridge__fit_intercept': False,\n",
       "  'ridge__normalize': 'uniform'},\n",
       " 0.09518435501757001)"
      ]
     },
     "execution_count": 4,
     "metadata": {},
     "output_type": "execute_result"
    }
   ],
   "source": [
    "cols = ['GENDER','ADMISSION_TYPE','ADMISSION_LOCATION','INSURANCE','LANGUAGE',\n",
    "       'RELIGION','MARITAL_STATUS','ETHNICITY']\n",
    "num_cols = ['ADMIT_AGE']\n",
    "\n",
    "demog_feats2 = FeatureUnion([\n",
    "    ('stdscl', ColumnTransformer([('numerical', StandardScaler(), num_cols)])),\n",
    "    ('ohe',  ColumnTransformer([('categorical', OneHotEncoder(handle_unknown='ignore'), cols)]))\n",
    "])\n",
    "demog_pipe2 = Pipeline([\n",
    "    ('features', demog_feats2),\n",
    "    ('ridge', Ridge())\n",
    "])\n",
    "demog_params2 = {\n",
    "    'ridge__alpha': (0.01, 0.1, 1, 10, 100),\n",
    "    'ridge__normalize': ('uniform', 'distance'),\n",
    "    'ridge__fit_intercept': (True, False)\n",
    "}\n",
    "simp = SimpleImputer(strategy='median')\n",
    "y_train_imp = simp.fit(X_train[['LOS']]).transform(X_train[['LOS']])\n",
    "lin_gs_regressor2 = GridSearchCV(demog_pipe2, demog_params2, cv=KFold(n_splits=5, shuffle=True),verbose=3,n_jobs=-1)\n",
    "lin_est2 = lin_gs_regressor2.fit(X_train,y_train_imp)\n",
    "lin_est2.best_params_,lin_est2.best_score_"
   ]
  },
  {
   "cell_type": "code",
   "execution_count": 11,
   "metadata": {},
   "outputs": [
    {
     "name": "stdout",
     "output_type": "stream",
     "text": [
      "Fitting 5 folds for each of 144 candidates, totalling 720 fits\n"
     ]
    },
    {
     "name": "stderr",
     "output_type": "stream",
     "text": [
      "[Parallel(n_jobs=12)]: Using backend LokyBackend with 12 concurrent workers.\n",
      "[Parallel(n_jobs=12)]: Done   8 tasks      | elapsed:    3.0s\n",
      "[Parallel(n_jobs=12)]: Done 104 tasks      | elapsed:   10.5s\n",
      "[Parallel(n_jobs=12)]: Done 264 tasks      | elapsed:   24.3s\n",
      "/Users/adamgifford/anaconda3/lib/python3.8/site-packages/joblib/externals/loky/process_executor.py:688: UserWarning: A worker stopped while some jobs were given to the executor. This can be caused by a too short worker timeout or by a memory leak.\n",
      "  warnings.warn(\n",
      "[Parallel(n_jobs=12)]: Done 488 tasks      | elapsed: 10.7min\n",
      "[Parallel(n_jobs=12)]: Done 720 out of 720 | elapsed: 25.4min finished\n"
     ]
    },
    {
     "data": {
      "text/plain": [
       "({'rfr__criterion': 'mse',\n",
       "  'rfr__max_depth': 40,\n",
       "  'rfr__max_features': 'sqrt',\n",
       "  'rfr__min_samples_leaf': 0.01,\n",
       "  'rfr__min_samples_split': 0.225},\n",
       " 0.005239045801969722)"
      ]
     },
     "execution_count": 11,
     "metadata": {},
     "output_type": "execute_result"
    }
   ],
   "source": [
    "diagn_pipe2 = Pipeline([\n",
    "    ('cst', ColumnSelectTransformer(['DIAGNOSIS'])),\n",
    "    ('dst', DiagnosisFrameTransformer()),\n",
    "    ('count',CountVectorizer(max_features=3000)),\n",
    "    ('tfid', TfidfTransformer()),\n",
    "    ('rfr', RandomForestRegressor(n_estimators=50))\n",
    "])\n",
    "\n",
    "diagn_params2 = {\n",
    "    'rfr__criterion': ['mse','mae'],\n",
    "    'rfr__max_features': ['sqrt', 'log2'],\n",
    "    'rfr__min_samples_split': [0.2,0.225, 0.25],\n",
    "    'rfr__min_samples_leaf': [0.01, 0.02, 0.03],\n",
    "#     'rfr__ccp_alpha': [0,0.5,1],\n",
    "    'rfr__max_depth': [35, 40, 45, 50]\n",
    "}\n",
    "# y_train_imp.values.ravel() --> DataConversionWarning: A column-vector y was passed\n",
    "##                       when a 1d array was expected. Please change the shape of y to \n",
    "##                       (n_samples,), for example using ravel().\n",
    "diagn_gs_classifier2 = GridSearchCV(diagn_pipe2, diagn_params2, cv=KFold(n_splits=5, shuffle=True),verbose=3,n_jobs=12)\n",
    "tfidf_est2 = diagn_gs_classifier2.fit(X_train,y_train_imp.ravel())\n",
    "tfidf_est2.best_params_,tfidf_est2.best_score_"
   ]
  },
  {
   "cell_type": "markdown",
   "metadata": {},
   "source": [
    "## linear/nonlinear model fitting both simultaneously"
   ]
  },
  {
   "cell_type": "code",
   "execution_count": 74,
   "metadata": {},
   "outputs": [
    {
     "name": "stdout",
     "output_type": "stream",
     "text": [
      "Fitting 5 folds for each of 20 candidates, totalling 100 fits\n"
     ]
    },
    {
     "name": "stderr",
     "output_type": "stream",
     "text": [
      "[Parallel(n_jobs=-1)]: Using backend LokyBackend with 16 concurrent workers.\n",
      "[Parallel(n_jobs=-1)]: Done 100 out of 100 | elapsed:   12.8s finished\n"
     ]
    },
    {
     "data": {
      "text/plain": [
       "({'ridge__alpha': 10,\n",
       "  'ridge__fit_intercept': False,\n",
       "  'ridge__normalize': 'uniform'},\n",
       " 0.10842094596107854)"
      ]
     },
     "execution_count": 74,
     "metadata": {},
     "output_type": "execute_result"
    }
   ],
   "source": [
    "cols = ['GENDER','ADMISSION_TYPE','ADMISSION_LOCATION','INSURANCE','LANGUAGE',\n",
    "       'RELIGION','MARITAL_STATUS','ETHNICITY']\n",
    "num_cols = ['ADMIT_AGE']\n",
    "\n",
    "diagn_feats = Pipeline([\n",
    "    ('cst', ColumnSelectTransformer(['DIAGNOSIS'])),\n",
    "    ('dst', DiagnosisFrameTransformer()),\n",
    "    ('count',CountVectorizer(max_features=3000)),\n",
    "    ('tfid', TfidfTransformer()),\n",
    "])\n",
    "\n",
    "all_feats = FeatureUnion([\n",
    "    ('stdscl', ColumnTransformer([('numerical', StandardScaler(), num_cols)])),\n",
    "    ('ohe',  ColumnTransformer([('categorical', OneHotEncoder(handle_unknown='ignore'), cols)])),\n",
    "    ('diagn', diagn_feats)\n",
    "])\n",
    "\n",
    "all_pipe_a = Pipeline([\n",
    "    ('features', all_feats),\n",
    "    ('ridge', Ridge())\n",
    "])\n",
    "\n",
    "all_params3a = {\n",
    "    'ridge__alpha': (0.01, 0.1, 1, 10, 100),\n",
    "    'ridge__normalize': ('uniform', 'distance'),\n",
    "    'ridge__fit_intercept': (True, False)\n",
    "}\n",
    "simp = SimpleImputer(strategy='median')\n",
    "y_train_imp = simp.fit(X_train[['LOS']]).transform(X_train[['LOS']])\n",
    "lin_gs_regressor3 = GridSearchCV(all_pipe_a, all_params3a, cv=KFold(n_splits=5, shuffle=True),verbose=3,n_jobs=-1)\n",
    "lin_est3 = lin_gs_regressor3.fit(X_train,y_train_imp)\n",
    "lin_est3.best_params_,lin_est3.best_score_"
   ]
  },
  {
   "cell_type": "code",
   "execution_count": 7,
   "metadata": {},
   "outputs": [],
   "source": [
    "all_pipe_b = Pipeline([\n",
    "    ('features', all_feats),\n",
    "    ('rfr', RandomForestRegressor(n_estimators=75))\n",
    "])\n",
    "\n",
    "all_params3b = {\n",
    "    'rfr__criterion': ['mse','mae'],\n",
    "    'rfr__max_features': ['sqrt', 'log2'],\n",
    "    'rfr__min_samples_split': [0.2, 0.225, 0.25],\n",
    "    'rfr__min_samples_leaf': [0.0075, 0.01, 0.02, 0.03],\n",
    "    'rfr__ccp_alpha': [0, 0.5, 1],\n",
    "    'rfr__max_depth': [30, 35, 40, 45, 50, 55]\n",
    "}\n",
    "simp = SimpleImputer(strategy='median')\n",
    "y_train_imp = simp.fit(X_train[['LOS']]).transform(X_train[['LOS']])\n",
    "nl_gs_regressor3 = GridSearchCV(all_pipe_b, all_params3b, cv=KFold(n_splits=5, shuffle=True),verbose=3,n_jobs=6)\n",
    "nl_est3 = nl_gs_regressor3.fit(X_train,y_train_imp.ravel())\n",
    "nl_est3.best_params_,nl_est3.best_score_"
   ]
  },
  {
   "cell_type": "code",
   "execution_count": 11,
   "metadata": {},
   "outputs": [
    {
     "data": {
      "text/plain": [
       "({'rfr__ccp_alpha': 0,\n",
       "  'rfr__criterion': 'mse',\n",
       "  'rfr__max_depth': 45,\n",
       "  'rfr__max_features': 'sqrt',\n",
       "  'rfr__min_samples_leaf': 0.0075,\n",
       "  'rfr__min_samples_split': 0.2},\n",
       " 0.0290428004774425)"
      ]
     },
     "execution_count": 11,
     "metadata": {},
     "output_type": "execute_result"
    }
   ],
   "source": [
    "nl_est3.best_params_,nl_est3.best_score_"
   ]
  },
  {
   "cell_type": "code",
   "execution_count": 14,
   "metadata": {},
   "outputs": [],
   "source": [
    "linreg = Ridge(alpha=10,normalize ='uniform', fit_intercept=False)\n",
    "nonlinreg = RandomForestRegressor(n_estimators=75, criterion='mse',\n",
    "                                  max_depth=45,min_samples_leaf=0.0075,\n",
    "                                  min_samples_split=0.2, max_features = 'sqrt')\n",
    "regressor = LinearNonlinear(lin=linreg,nonlin=nonlinreg)\n",
    "l_nl_pipe = Pipeline([\n",
    "        ('features', all_feats), # features\n",
    "        ('regressor', regressor) # Ridge' + RandomForest\n",
    "    ])\n",
    "y_train_imp = simp.fit(X_train[['LOS']]).transform(X_train[['LOS']])\n",
    "l_nl_est4 = l_nl_pipe.fit(X_train,y_train_imp.ravel())"
   ]
  },
  {
   "cell_type": "code",
   "execution_count": 17,
   "metadata": {},
   "outputs": [
    {
     "data": {
      "text/plain": [
       "0.12740024567731567"
      ]
     },
     "execution_count": 17,
     "metadata": {},
     "output_type": "execute_result"
    }
   ],
   "source": [
    "score = l_nl_est4.score(X_train,y_train_imp.ravel())\n",
    "score"
   ]
  },
  {
   "cell_type": "code",
   "execution_count": 168,
   "metadata": {},
   "outputs": [
    {
     "data": {
      "text/html": [
       "\n",
       "    <div class=\"bk-root\">\n",
       "        <a href=\"https://bokeh.org\" target=\"_blank\" class=\"bk-logo bk-logo-small bk-logo-notebook\"></a>\n",
       "        <span id=\"6064\">Loading BokehJS ...</span>\n",
       "    </div>"
      ]
     },
     "metadata": {},
     "output_type": "display_data"
    },
    {
     "data": {
      "application/javascript": [
       "\n",
       "(function(root) {\n",
       "  function now() {\n",
       "    return new Date();\n",
       "  }\n",
       "\n",
       "  var force = true;\n",
       "\n",
       "  if (typeof root._bokeh_onload_callbacks === \"undefined\" || force === true) {\n",
       "    root._bokeh_onload_callbacks = [];\n",
       "    root._bokeh_is_loading = undefined;\n",
       "  }\n",
       "\n",
       "  var JS_MIME_TYPE = 'application/javascript';\n",
       "  var HTML_MIME_TYPE = 'text/html';\n",
       "  var EXEC_MIME_TYPE = 'application/vnd.bokehjs_exec.v0+json';\n",
       "  var CLASS_NAME = 'output_bokeh rendered_html';\n",
       "\n",
       "  /**\n",
       "   * Render data to the DOM node\n",
       "   */\n",
       "  function render(props, node) {\n",
       "    var script = document.createElement(\"script\");\n",
       "    node.appendChild(script);\n",
       "  }\n",
       "\n",
       "  /**\n",
       "   * Handle when an output is cleared or removed\n",
       "   */\n",
       "  function handleClearOutput(event, handle) {\n",
       "    var cell = handle.cell;\n",
       "\n",
       "    var id = cell.output_area._bokeh_element_id;\n",
       "    var server_id = cell.output_area._bokeh_server_id;\n",
       "    // Clean up Bokeh references\n",
       "    if (id != null && id in Bokeh.index) {\n",
       "      Bokeh.index[id].model.document.clear();\n",
       "      delete Bokeh.index[id];\n",
       "    }\n",
       "\n",
       "    if (server_id !== undefined) {\n",
       "      // Clean up Bokeh references\n",
       "      var cmd = \"from bokeh.io.state import curstate; print(curstate().uuid_to_server['\" + server_id + \"'].get_sessions()[0].document.roots[0]._id)\";\n",
       "      cell.notebook.kernel.execute(cmd, {\n",
       "        iopub: {\n",
       "          output: function(msg) {\n",
       "            var id = msg.content.text.trim();\n",
       "            if (id in Bokeh.index) {\n",
       "              Bokeh.index[id].model.document.clear();\n",
       "              delete Bokeh.index[id];\n",
       "            }\n",
       "          }\n",
       "        }\n",
       "      });\n",
       "      // Destroy server and session\n",
       "      var cmd = \"import bokeh.io.notebook as ion; ion.destroy_server('\" + server_id + \"')\";\n",
       "      cell.notebook.kernel.execute(cmd);\n",
       "    }\n",
       "  }\n",
       "\n",
       "  /**\n",
       "   * Handle when a new output is added\n",
       "   */\n",
       "  function handleAddOutput(event, handle) {\n",
       "    var output_area = handle.output_area;\n",
       "    var output = handle.output;\n",
       "\n",
       "    // limit handleAddOutput to display_data with EXEC_MIME_TYPE content only\n",
       "    if ((output.output_type != \"display_data\") || (!output.data.hasOwnProperty(EXEC_MIME_TYPE))) {\n",
       "      return\n",
       "    }\n",
       "\n",
       "    var toinsert = output_area.element.find(\".\" + CLASS_NAME.split(' ')[0]);\n",
       "\n",
       "    if (output.metadata[EXEC_MIME_TYPE][\"id\"] !== undefined) {\n",
       "      toinsert[toinsert.length - 1].firstChild.textContent = output.data[JS_MIME_TYPE];\n",
       "      // store reference to embed id on output_area\n",
       "      output_area._bokeh_element_id = output.metadata[EXEC_MIME_TYPE][\"id\"];\n",
       "    }\n",
       "    if (output.metadata[EXEC_MIME_TYPE][\"server_id\"] !== undefined) {\n",
       "      var bk_div = document.createElement(\"div\");\n",
       "      bk_div.innerHTML = output.data[HTML_MIME_TYPE];\n",
       "      var script_attrs = bk_div.children[0].attributes;\n",
       "      for (var i = 0; i < script_attrs.length; i++) {\n",
       "        toinsert[toinsert.length - 1].firstChild.setAttribute(script_attrs[i].name, script_attrs[i].value);\n",
       "        toinsert[toinsert.length - 1].firstChild.textContent = bk_div.children[0].textContent\n",
       "      }\n",
       "      // store reference to server id on output_area\n",
       "      output_area._bokeh_server_id = output.metadata[EXEC_MIME_TYPE][\"server_id\"];\n",
       "    }\n",
       "  }\n",
       "\n",
       "  function register_renderer(events, OutputArea) {\n",
       "\n",
       "    function append_mime(data, metadata, element) {\n",
       "      // create a DOM node to render to\n",
       "      var toinsert = this.create_output_subarea(\n",
       "        metadata,\n",
       "        CLASS_NAME,\n",
       "        EXEC_MIME_TYPE\n",
       "      );\n",
       "      this.keyboard_manager.register_events(toinsert);\n",
       "      // Render to node\n",
       "      var props = {data: data, metadata: metadata[EXEC_MIME_TYPE]};\n",
       "      render(props, toinsert[toinsert.length - 1]);\n",
       "      element.append(toinsert);\n",
       "      return toinsert\n",
       "    }\n",
       "\n",
       "    /* Handle when an output is cleared or removed */\n",
       "    events.on('clear_output.CodeCell', handleClearOutput);\n",
       "    events.on('delete.Cell', handleClearOutput);\n",
       "\n",
       "    /* Handle when a new output is added */\n",
       "    events.on('output_added.OutputArea', handleAddOutput);\n",
       "\n",
       "    /**\n",
       "     * Register the mime type and append_mime function with output_area\n",
       "     */\n",
       "    OutputArea.prototype.register_mime_type(EXEC_MIME_TYPE, append_mime, {\n",
       "      /* Is output safe? */\n",
       "      safe: true,\n",
       "      /* Index of renderer in `output_area.display_order` */\n",
       "      index: 0\n",
       "    });\n",
       "  }\n",
       "\n",
       "  // register the mime type if in Jupyter Notebook environment and previously unregistered\n",
       "  if (root.Jupyter !== undefined) {\n",
       "    var events = require('base/js/events');\n",
       "    var OutputArea = require('notebook/js/outputarea').OutputArea;\n",
       "\n",
       "    if (OutputArea.prototype.mime_types().indexOf(EXEC_MIME_TYPE) == -1) {\n",
       "      register_renderer(events, OutputArea);\n",
       "    }\n",
       "  }\n",
       "\n",
       "  \n",
       "  if (typeof (root._bokeh_timeout) === \"undefined\" || force === true) {\n",
       "    root._bokeh_timeout = Date.now() + 5000;\n",
       "    root._bokeh_failed_load = false;\n",
       "  }\n",
       "\n",
       "  var NB_LOAD_WARNING = {'data': {'text/html':\n",
       "     \"<div style='background-color: #fdd'>\\n\"+\n",
       "     \"<p>\\n\"+\n",
       "     \"BokehJS does not appear to have successfully loaded. If loading BokehJS from CDN, this \\n\"+\n",
       "     \"may be due to a slow or bad network connection. Possible fixes:\\n\"+\n",
       "     \"</p>\\n\"+\n",
       "     \"<ul>\\n\"+\n",
       "     \"<li>re-rerun `output_notebook()` to attempt to load from CDN again, or</li>\\n\"+\n",
       "     \"<li>use INLINE resources instead, as so:</li>\\n\"+\n",
       "     \"</ul>\\n\"+\n",
       "     \"<code>\\n\"+\n",
       "     \"from bokeh.resources import INLINE\\n\"+\n",
       "     \"output_notebook(resources=INLINE)\\n\"+\n",
       "     \"</code>\\n\"+\n",
       "     \"</div>\"}};\n",
       "\n",
       "  function display_loaded() {\n",
       "    var el = document.getElementById(\"6064\");\n",
       "    if (el != null) {\n",
       "      el.textContent = \"BokehJS is loading...\";\n",
       "    }\n",
       "    if (root.Bokeh !== undefined) {\n",
       "      if (el != null) {\n",
       "        el.textContent = \"BokehJS \" + root.Bokeh.version + \" successfully loaded.\";\n",
       "      }\n",
       "    } else if (Date.now() < root._bokeh_timeout) {\n",
       "      setTimeout(display_loaded, 100)\n",
       "    }\n",
       "  }\n",
       "\n",
       "\n",
       "  function run_callbacks() {\n",
       "    try {\n",
       "      root._bokeh_onload_callbacks.forEach(function(callback) {\n",
       "        if (callback != null)\n",
       "          callback();\n",
       "      });\n",
       "    } finally {\n",
       "      delete root._bokeh_onload_callbacks\n",
       "    }\n",
       "    console.debug(\"Bokeh: all callbacks have finished\");\n",
       "  }\n",
       "\n",
       "  function load_libs(css_urls, js_urls, callback) {\n",
       "    if (css_urls == null) css_urls = [];\n",
       "    if (js_urls == null) js_urls = [];\n",
       "\n",
       "    root._bokeh_onload_callbacks.push(callback);\n",
       "    if (root._bokeh_is_loading > 0) {\n",
       "      console.debug(\"Bokeh: BokehJS is being loaded, scheduling callback at\", now());\n",
       "      return null;\n",
       "    }\n",
       "    if (js_urls == null || js_urls.length === 0) {\n",
       "      run_callbacks();\n",
       "      return null;\n",
       "    }\n",
       "    console.debug(\"Bokeh: BokehJS not loaded, scheduling load and callback at\", now());\n",
       "    root._bokeh_is_loading = css_urls.length + js_urls.length;\n",
       "\n",
       "    function on_load() {\n",
       "      root._bokeh_is_loading--;\n",
       "      if (root._bokeh_is_loading === 0) {\n",
       "        console.debug(\"Bokeh: all BokehJS libraries/stylesheets loaded\");\n",
       "        run_callbacks()\n",
       "      }\n",
       "    }\n",
       "\n",
       "    function on_error() {\n",
       "      console.error(\"failed to load \" + url);\n",
       "    }\n",
       "\n",
       "    for (var i = 0; i < css_urls.length; i++) {\n",
       "      var url = css_urls[i];\n",
       "      const element = document.createElement(\"link\");\n",
       "      element.onload = on_load;\n",
       "      element.onerror = on_error;\n",
       "      element.rel = \"stylesheet\";\n",
       "      element.type = \"text/css\";\n",
       "      element.href = url;\n",
       "      console.debug(\"Bokeh: injecting link tag for BokehJS stylesheet: \", url);\n",
       "      document.body.appendChild(element);\n",
       "    }\n",
       "\n",
       "    const hashes = {\"https://cdn.bokeh.org/bokeh/release/bokeh-2.2.3.min.js\": \"T2yuo9Oe71Cz/I4X9Ac5+gpEa5a8PpJCDlqKYO0CfAuEszu1JrXLl8YugMqYe3sM\", \"https://cdn.bokeh.org/bokeh/release/bokeh-widgets-2.2.3.min.js\": \"98GDGJ0kOMCUMUePhksaQ/GYgB3+NH9h996V88sh3aOiUNX3N+fLXAtry6xctSZ6\", \"https://cdn.bokeh.org/bokeh/release/bokeh-tables-2.2.3.min.js\": \"89bArO+nlbP3sgakeHjCo1JYxYR5wufVgA3IbUvDY+K7w4zyxJqssu7wVnfeKCq8\"};\n",
       "\n",
       "    for (var i = 0; i < js_urls.length; i++) {\n",
       "      var url = js_urls[i];\n",
       "      var element = document.createElement('script');\n",
       "      element.onload = on_load;\n",
       "      element.onerror = on_error;\n",
       "      element.async = false;\n",
       "      element.src = url;\n",
       "      if (url in hashes) {\n",
       "        element.crossOrigin = \"anonymous\";\n",
       "        element.integrity = \"sha384-\" + hashes[url];\n",
       "      }\n",
       "      console.debug(\"Bokeh: injecting script tag for BokehJS library: \", url);\n",
       "      document.head.appendChild(element);\n",
       "    }\n",
       "  };\n",
       "\n",
       "  function inject_raw_css(css) {\n",
       "    const element = document.createElement(\"style\");\n",
       "    element.appendChild(document.createTextNode(css));\n",
       "    document.body.appendChild(element);\n",
       "  }\n",
       "\n",
       "  \n",
       "  var js_urls = [\"https://cdn.bokeh.org/bokeh/release/bokeh-2.2.3.min.js\", \"https://cdn.bokeh.org/bokeh/release/bokeh-widgets-2.2.3.min.js\", \"https://cdn.bokeh.org/bokeh/release/bokeh-tables-2.2.3.min.js\"];\n",
       "  var css_urls = [];\n",
       "  \n",
       "\n",
       "  var inline_js = [\n",
       "    function(Bokeh) {\n",
       "      Bokeh.set_log_level(\"info\");\n",
       "    },\n",
       "    function(Bokeh) {\n",
       "    \n",
       "    \n",
       "    }\n",
       "  ];\n",
       "\n",
       "  function run_inline_js() {\n",
       "    \n",
       "    if (root.Bokeh !== undefined || force === true) {\n",
       "      \n",
       "    for (var i = 0; i < inline_js.length; i++) {\n",
       "      inline_js[i].call(root, root.Bokeh);\n",
       "    }\n",
       "    if (force === true) {\n",
       "        display_loaded();\n",
       "      }} else if (Date.now() < root._bokeh_timeout) {\n",
       "      setTimeout(run_inline_js, 100);\n",
       "    } else if (!root._bokeh_failed_load) {\n",
       "      console.log(\"Bokeh: BokehJS failed to load within specified timeout.\");\n",
       "      root._bokeh_failed_load = true;\n",
       "    } else if (force !== true) {\n",
       "      var cell = $(document.getElementById(\"6064\")).parents('.cell').data().cell;\n",
       "      cell.output_area.append_execute_result(NB_LOAD_WARNING)\n",
       "    }\n",
       "\n",
       "  }\n",
       "\n",
       "  if (root._bokeh_is_loading === 0) {\n",
       "    console.debug(\"Bokeh: BokehJS loaded, going straight to plotting\");\n",
       "    run_inline_js();\n",
       "  } else {\n",
       "    load_libs(css_urls, js_urls, function() {\n",
       "      console.debug(\"Bokeh: BokehJS plotting callback run at\", now());\n",
       "      run_inline_js();\n",
       "    });\n",
       "  }\n",
       "}(window));"
      ],
      "application/vnd.bokehjs_load.v0+json": "\n(function(root) {\n  function now() {\n    return new Date();\n  }\n\n  var force = true;\n\n  if (typeof root._bokeh_onload_callbacks === \"undefined\" || force === true) {\n    root._bokeh_onload_callbacks = [];\n    root._bokeh_is_loading = undefined;\n  }\n\n  \n\n  \n  if (typeof (root._bokeh_timeout) === \"undefined\" || force === true) {\n    root._bokeh_timeout = Date.now() + 5000;\n    root._bokeh_failed_load = false;\n  }\n\n  var NB_LOAD_WARNING = {'data': {'text/html':\n     \"<div style='background-color: #fdd'>\\n\"+\n     \"<p>\\n\"+\n     \"BokehJS does not appear to have successfully loaded. If loading BokehJS from CDN, this \\n\"+\n     \"may be due to a slow or bad network connection. Possible fixes:\\n\"+\n     \"</p>\\n\"+\n     \"<ul>\\n\"+\n     \"<li>re-rerun `output_notebook()` to attempt to load from CDN again, or</li>\\n\"+\n     \"<li>use INLINE resources instead, as so:</li>\\n\"+\n     \"</ul>\\n\"+\n     \"<code>\\n\"+\n     \"from bokeh.resources import INLINE\\n\"+\n     \"output_notebook(resources=INLINE)\\n\"+\n     \"</code>\\n\"+\n     \"</div>\"}};\n\n  function display_loaded() {\n    var el = document.getElementById(\"6064\");\n    if (el != null) {\n      el.textContent = \"BokehJS is loading...\";\n    }\n    if (root.Bokeh !== undefined) {\n      if (el != null) {\n        el.textContent = \"BokehJS \" + root.Bokeh.version + \" successfully loaded.\";\n      }\n    } else if (Date.now() < root._bokeh_timeout) {\n      setTimeout(display_loaded, 100)\n    }\n  }\n\n\n  function run_callbacks() {\n    try {\n      root._bokeh_onload_callbacks.forEach(function(callback) {\n        if (callback != null)\n          callback();\n      });\n    } finally {\n      delete root._bokeh_onload_callbacks\n    }\n    console.debug(\"Bokeh: all callbacks have finished\");\n  }\n\n  function load_libs(css_urls, js_urls, callback) {\n    if (css_urls == null) css_urls = [];\n    if (js_urls == null) js_urls = [];\n\n    root._bokeh_onload_callbacks.push(callback);\n    if (root._bokeh_is_loading > 0) {\n      console.debug(\"Bokeh: BokehJS is being loaded, scheduling callback at\", now());\n      return null;\n    }\n    if (js_urls == null || js_urls.length === 0) {\n      run_callbacks();\n      return null;\n    }\n    console.debug(\"Bokeh: BokehJS not loaded, scheduling load and callback at\", now());\n    root._bokeh_is_loading = css_urls.length + js_urls.length;\n\n    function on_load() {\n      root._bokeh_is_loading--;\n      if (root._bokeh_is_loading === 0) {\n        console.debug(\"Bokeh: all BokehJS libraries/stylesheets loaded\");\n        run_callbacks()\n      }\n    }\n\n    function on_error() {\n      console.error(\"failed to load \" + url);\n    }\n\n    for (var i = 0; i < css_urls.length; i++) {\n      var url = css_urls[i];\n      const element = document.createElement(\"link\");\n      element.onload = on_load;\n      element.onerror = on_error;\n      element.rel = \"stylesheet\";\n      element.type = \"text/css\";\n      element.href = url;\n      console.debug(\"Bokeh: injecting link tag for BokehJS stylesheet: \", url);\n      document.body.appendChild(element);\n    }\n\n    const hashes = {\"https://cdn.bokeh.org/bokeh/release/bokeh-2.2.3.min.js\": \"T2yuo9Oe71Cz/I4X9Ac5+gpEa5a8PpJCDlqKYO0CfAuEszu1JrXLl8YugMqYe3sM\", \"https://cdn.bokeh.org/bokeh/release/bokeh-widgets-2.2.3.min.js\": \"98GDGJ0kOMCUMUePhksaQ/GYgB3+NH9h996V88sh3aOiUNX3N+fLXAtry6xctSZ6\", \"https://cdn.bokeh.org/bokeh/release/bokeh-tables-2.2.3.min.js\": \"89bArO+nlbP3sgakeHjCo1JYxYR5wufVgA3IbUvDY+K7w4zyxJqssu7wVnfeKCq8\"};\n\n    for (var i = 0; i < js_urls.length; i++) {\n      var url = js_urls[i];\n      var element = document.createElement('script');\n      element.onload = on_load;\n      element.onerror = on_error;\n      element.async = false;\n      element.src = url;\n      if (url in hashes) {\n        element.crossOrigin = \"anonymous\";\n        element.integrity = \"sha384-\" + hashes[url];\n      }\n      console.debug(\"Bokeh: injecting script tag for BokehJS library: \", url);\n      document.head.appendChild(element);\n    }\n  };\n\n  function inject_raw_css(css) {\n    const element = document.createElement(\"style\");\n    element.appendChild(document.createTextNode(css));\n    document.body.appendChild(element);\n  }\n\n  \n  var js_urls = [\"https://cdn.bokeh.org/bokeh/release/bokeh-2.2.3.min.js\", \"https://cdn.bokeh.org/bokeh/release/bokeh-widgets-2.2.3.min.js\", \"https://cdn.bokeh.org/bokeh/release/bokeh-tables-2.2.3.min.js\"];\n  var css_urls = [];\n  \n\n  var inline_js = [\n    function(Bokeh) {\n      Bokeh.set_log_level(\"info\");\n    },\n    function(Bokeh) {\n    \n    \n    }\n  ];\n\n  function run_inline_js() {\n    \n    if (root.Bokeh !== undefined || force === true) {\n      \n    for (var i = 0; i < inline_js.length; i++) {\n      inline_js[i].call(root, root.Bokeh);\n    }\n    if (force === true) {\n        display_loaded();\n      }} else if (Date.now() < root._bokeh_timeout) {\n      setTimeout(run_inline_js, 100);\n    } else if (!root._bokeh_failed_load) {\n      console.log(\"Bokeh: BokehJS failed to load within specified timeout.\");\n      root._bokeh_failed_load = true;\n    } else if (force !== true) {\n      var cell = $(document.getElementById(\"6064\")).parents('.cell').data().cell;\n      cell.output_area.append_execute_result(NB_LOAD_WARNING)\n    }\n\n  }\n\n  if (root._bokeh_is_loading === 0) {\n    console.debug(\"Bokeh: BokehJS loaded, going straight to plotting\");\n    run_inline_js();\n  } else {\n    load_libs(css_urls, js_urls, function() {\n      console.debug(\"Bokeh: BokehJS plotting callback run at\", now());\n      run_inline_js();\n    });\n  }\n}(window));"
     },
     "metadata": {},
     "output_type": "display_data"
    }
   ],
   "source": [
    "from bokeh.io import output_notebook, show\n",
    "from bokeh.plotting import figure\n",
    "from bokeh.models import ColumnDataSource\n",
    "output_notebook()"
   ]
  },
  {
   "cell_type": "code",
   "execution_count": 21,
   "metadata": {},
   "outputs": [],
   "source": [
    "file = './data/pickle/models/log_rf_xgb__URGENCY__20210127.pkl'\n",
    "urg_demog_pipe, urg_diagn_pipe, urg_est = pickle.load(open(file,'rb'))\n",
    "X_test, y_test = pd.read_pickle('./data/pickle/preproc/df_patient_admit_icu__20210126_TEST_final.pkl')"
   ]
  },
  {
   "cell_type": "code",
   "execution_count": 25,
   "metadata": {},
   "outputs": [],
   "source": [
    "from sklearn.preprocessing import OrdinalEncoder\n",
    "ordenc = OrdinalEncoder(categories=[['stable','questionable','urgent','immediate']])\n",
    "y_train_enc = ordenc.fit_transform(y_train.to_numpy().reshape(-1,1))\n",
    "y_test_enc = ordenc.transform(y_test.to_numpy().reshape(-1,1))\n",
    "y_pred = urg_est.predict(X_test)\n",
    "y_pred_proba = urg_est.predict_proba(X_test)"
   ]
  },
  {
   "cell_type": "code",
   "execution_count": 26,
   "metadata": {},
   "outputs": [
    {
     "data": {
      "text/plain": [
       "array([0.81543065, 0.0492553 , 0.03016013, 0.10515393])"
      ]
     },
     "execution_count": 26,
     "metadata": {},
     "output_type": "execute_result"
    }
   ],
   "source": [
    "y_pred_proba[0]"
   ]
  },
  {
   "cell_type": "code",
   "execution_count": 123,
   "metadata": {},
   "outputs": [],
   "source": [
    "y_pred = lin_est.predict(X_test)\n",
    "y_pred_proba = lin_est.predict_proba(X_test)"
   ]
  },
  {
   "cell_type": "code",
   "execution_count": 152,
   "metadata": {},
   "outputs": [
    {
     "data": {
      "text/html": [
       "\n",
       "\n",
       "\n",
       "\n",
       "\n",
       "\n",
       "  <div class=\"bk-root\" id=\"63dd6059-2b22-44c1-8fc7-6b9d517ec063\" data-root-id=\"3471\"></div>\n"
      ]
     },
     "metadata": {},
     "output_type": "display_data"
    },
    {
     "data": {
      "application/javascript": [
       "(function(root) {\n",
       "  function embed_document(root) {\n",
       "    \n",
       "  var docs_json = {\"17ca0c2a-760b-4969-bdec-db162521a9fc\":{\"roots\":{\"references\":[{\"attributes\":{\"below\":[{\"id\":\"3482\"}],\"center\":[{\"id\":\"3484\"},{\"id\":\"3488\"}],\"left\":[{\"id\":\"3485\"}],\"plot_height\":250,\"plot_width\":300,\"renderers\":[{\"id\":\"3493\"}],\"title\":{\"id\":\"3472\"},\"toolbar\":{\"id\":\"3489\"},\"toolbar_location\":null,\"x_range\":{\"id\":\"3474\"},\"x_scale\":{\"id\":\"3478\"},\"y_range\":{\"id\":\"3476\"},\"y_scale\":{\"id\":\"3480\"}},\"id\":\"3471\",\"subtype\":\"Figure\",\"type\":\"Plot\"},{\"attributes\":{\"fill_color\":{\"field\":\"color\"},\"line_color\":{\"field\":\"color\"},\"top\":{\"field\":\"probs\"},\"width\":{\"value\":0.4},\"x\":{\"field\":\"factors\"}},\"id\":\"3491\",\"type\":\"VBar\"},{\"attributes\":{},\"id\":\"3633\",\"type\":\"UnionRenderers\"},{\"attributes\":{},\"id\":\"3631\",\"type\":\"BasicTickFormatter\"},{\"attributes\":{\"axis\":{\"id\":\"3485\"},\"dimension\":1,\"ticker\":null},\"id\":\"3488\",\"type\":\"Grid\"},{\"attributes\":{\"axis_label\":\"P(category)\",\"formatter\":{\"id\":\"3631\"},\"ticker\":{\"id\":\"3486\"}},\"id\":\"3485\",\"type\":\"LinearAxis\"},{\"attributes\":{\"active_drag\":\"auto\",\"active_inspect\":\"auto\",\"active_multi\":null,\"active_scroll\":\"auto\",\"active_tap\":\"auto\"},\"id\":\"3489\",\"type\":\"Toolbar\"},{\"attributes\":{},\"id\":\"3486\",\"type\":\"BasicTicker\"},{\"attributes\":{\"data\":{\"color\":[\"#2b83ba\",\"#abdda4\",\"#fdae61\",\"#d7191c\"],\"factors\":[\"stable\",\"questionable\",\"urgent\",\"immediate\"],\"probs\":{\"__ndarray__\":\"RIDdYwSJyz+Dp52gRJzKP6bwyCI/39A/eXv5WhwO1D8=\",\"dtype\":\"float64\",\"order\":\"little\",\"shape\":[4]}},\"selected\":{\"id\":\"3634\"},\"selection_policy\":{\"id\":\"3633\"}},\"id\":\"3470\",\"type\":\"ColumnDataSource\"},{\"attributes\":{},\"id\":\"3634\",\"type\":\"Selection\"},{\"attributes\":{\"factors\":[\"stable\",\"questionable\",\"urgent\",\"immediate\"]},\"id\":\"3474\",\"type\":\"FactorRange\"},{\"attributes\":{\"formatter\":{\"id\":\"3629\"},\"ticker\":{\"id\":\"3483\"}},\"id\":\"3482\",\"type\":\"CategoricalAxis\"},{\"attributes\":{\"source\":{\"id\":\"3470\"}},\"id\":\"3494\",\"type\":\"CDSView\"},{\"attributes\":{\"start\":0},\"id\":\"3476\",\"type\":\"DataRange1d\"},{\"attributes\":{},\"id\":\"3483\",\"type\":\"CategoricalTicker\"},{\"attributes\":{\"fill_alpha\":{\"value\":0.1},\"fill_color\":{\"field\":\"color\"},\"line_alpha\":{\"value\":0.1},\"line_color\":{\"field\":\"color\"},\"top\":{\"field\":\"probs\"},\"width\":{\"value\":0.4},\"x\":{\"field\":\"factors\"}},\"id\":\"3492\",\"type\":\"VBar\"},{\"attributes\":{},\"id\":\"3629\",\"type\":\"CategoricalTickFormatter\"},{\"attributes\":{},\"id\":\"3478\",\"type\":\"CategoricalScale\"},{\"attributes\":{\"axis\":{\"id\":\"3482\"},\"grid_line_color\":null,\"ticker\":null},\"id\":\"3484\",\"type\":\"Grid\"},{\"attributes\":{\"text\":\"IC-U Risk Factor\"},\"id\":\"3472\",\"type\":\"Title\"},{\"attributes\":{\"data_source\":{\"id\":\"3470\"},\"glyph\":{\"id\":\"3491\"},\"hover_glyph\":null,\"muted_glyph\":null,\"nonselection_glyph\":{\"id\":\"3492\"},\"selection_glyph\":null,\"view\":{\"id\":\"3494\"}},\"id\":\"3493\",\"type\":\"GlyphRenderer\"},{\"attributes\":{},\"id\":\"3480\",\"type\":\"LinearScale\"}],\"root_ids\":[\"3471\"]},\"title\":\"Bokeh Application\",\"version\":\"2.2.3\"}};\n",
       "  var render_items = [{\"docid\":\"17ca0c2a-760b-4969-bdec-db162521a9fc\",\"root_ids\":[\"3471\"],\"roots\":{\"3471\":\"63dd6059-2b22-44c1-8fc7-6b9d517ec063\"}}];\n",
       "  root.Bokeh.embed.embed_items_notebook(docs_json, render_items);\n",
       "\n",
       "  }\n",
       "  if (root.Bokeh !== undefined) {\n",
       "    embed_document(root);\n",
       "  } else {\n",
       "    var attempts = 0;\n",
       "    var timer = setInterval(function(root) {\n",
       "      if (root.Bokeh !== undefined) {\n",
       "        clearInterval(timer);\n",
       "        embed_document(root);\n",
       "      } else {\n",
       "        attempts++;\n",
       "        if (attempts > 100) {\n",
       "          clearInterval(timer);\n",
       "          console.log(\"Bokeh: ERROR: Unable to run BokehJS code because BokehJS library is missing\");\n",
       "        }\n",
       "      }\n",
       "    }, 10, root)\n",
       "  }\n",
       "})(window);"
      ],
      "application/vnd.bokehjs_exec.v0+json": ""
     },
     "metadata": {
      "application/vnd.bokehjs_exec.v0+json": {
       "id": "3471"
      }
     },
     "output_type": "display_data"
    }
   ],
   "source": [
    "from bokeh.palettes import Spectral4\n",
    "\n",
    "factors = ['stable','questionable','urgent','immediate']\n",
    "probs = y_pred_proba[10]\n",
    "source = ColumnDataSource(data=dict(factors=factors, probs=probs, color=Spectral4))\n",
    "\n",
    "p = figure(x_range=factors, plot_height=250, title=\"IC-U Risk Factor\",\n",
    "           plot_width=300, toolbar_location=None, tools=\"\")\n",
    "\n",
    "p.vbar(x='factors', top='probs', color='color', width=0.4, source=source)\n",
    "# (x='fruits', top='counts', width=0.9, color='color', legend_field=\"fruits\", source=source)\n",
    "\n",
    "p.xgrid.grid_line_color = None\n",
    "p.y_range.start = 0\n",
    "p.yaxis.axis_label = 'P(category)'\n",
    "\n",
    "show(p)"
   ]
  },
  {
   "cell_type": "code",
   "execution_count": 56,
   "metadata": {},
   "outputs": [
    {
     "data": {
      "text/plain": [
       "<AxesSubplot:>"
      ]
     },
     "execution_count": 56,
     "metadata": {},
     "output_type": "execute_result"
    },
    {
     "data": {
      "image/png": "[encoded data removed]",
      "text/plain": [
       "<Figure size 432x288 with 1 Axes>"
      ]
     },
     "metadata": {
      "needs_background": "light"
     },
     "output_type": "display_data"
    }
   ],
   "source": [
    "pd.Series(y_pred).hist()"
   ]
  },
  {
   "cell_type": "code",
   "execution_count": 78,
   "metadata": {},
   "outputs": [
    {
     "data": {
      "text/plain": [
       "3126"
      ]
     },
     "execution_count": 78,
     "metadata": {},
     "output_type": "execute_result"
    }
   ],
   "source": [
    "len(lin_est.best_estimator_.named_steps.reg.coef_[3])"
   ]
  },
  {
   "cell_type": "code",
   "execution_count": 79,
   "metadata": {},
   "outputs": [
    {
     "data": {
      "text/plain": [
       "[('demog_feats',\n",
       "  FeatureUnion(transformer_list=[('stdscl',\n",
       "                                  ColumnTransformer(transformers=[('numerical',\n",
       "                                                                   StandardScaler(),\n",
       "                                                                   ['ADMIT_AGE'])])),\n",
       "                                 ('ohe',\n",
       "                                  ColumnTransformer(transformers=[('categorical',\n",
       "                                                                   OneHotEncoder(handle_unknown='ignore'),\n",
       "                                                                   ['GENDER',\n",
       "                                                                    'ADMISSION_TYPE',\n",
       "                                                                    'ADMISSION_LOCATION',\n",
       "                                                                    'INSURANCE',\n",
       "                                                                    'LANGUAGE',\n",
       "                                                                    'RELIGION',\n",
       "                                                                    'MARITAL_STATUS',\n",
       "                                                                    'ETHNICITY'])]))])),\n",
       " ('diagn_feats',\n",
       "  Pipeline(steps=[('cst', ColumnSelectTransformer(col_names=['DIAGNOSIS'])),\n",
       "                  ('dst', DiagnosisFrameTransformer()),\n",
       "                  ('count', CountVectorizer(max_features=3000)),\n",
       "                  ('tfid', TfidfTransformer())]))]"
      ]
     },
     "execution_count": 79,
     "metadata": {},
     "output_type": "execute_result"
    }
   ],
   "source": [
    "lin_est.best_estimator_.named_steps.features.transformer_list"
   ]
  },
  {
   "cell_type": "code",
   "execution_count": 92,
   "metadata": {},
   "outputs": [],
   "source": [
    "def getFeatureNames(numerical,categorical,bow):\n",
    "    feature_names = numerical\n",
    "    feature_names.extend([c.split('_')[-1] for c in categorical.get_feature_names()])\n",
    "    feature_names.extend(bow.get_feature_names())\n",
    "    \n",
    "    return feature_names"
   ]
  },
  {
   "cell_type": "code",
   "execution_count": 69,
   "metadata": {},
   "outputs": [],
   "source": [
    "foo = feats_union.fit_transform(X_train)"
   ]
  },
  {
   "cell_type": "code",
   "execution_count": 80,
   "metadata": {},
   "outputs": [
    {
     "data": {
      "text/plain": [
       "<48776x125 sparse matrix of type '<class 'numpy.float64'>'\n",
       "\twith 390208 stored elements in Compressed Sparse Row format>"
      ]
     },
     "execution_count": 80,
     "metadata": {},
     "output_type": "execute_result"
    }
   ],
   "source": [
    "bar = ColumnTransformer([('categorical', OneHotEncoder(handle_unknown='ignore'), cols)])\n",
    "bar.fit_transform(X_train)"
   ]
  },
  {
   "cell_type": "code",
   "execution_count": 90,
   "metadata": {},
   "outputs": [
    {
     "data": {
      "text/plain": [
       "'F'"
      ]
     },
     "execution_count": 90,
     "metadata": {},
     "output_type": "execute_result"
    }
   ],
   "source": [
    "bar.get_feature_names()[0].split('_')[-1]"
   ]
  },
  {
   "cell_type": "code",
   "execution_count": 94,
   "metadata": {},
   "outputs": [],
   "source": [
    "feature_names = getFeatureNames(['ADMIT_AGE'],bar,baz)"
   ]
  },
  {
   "cell_type": "code",
   "execution_count": 95,
   "metadata": {},
   "outputs": [
    {
     "data": {
      "text/plain": [
       "3126"
      ]
     },
     "execution_count": 95,
     "metadata": {},
     "output_type": "execute_result"
    }
   ],
   "source": [
    "len(feature_names)"
   ]
  },
  {
   "cell_type": "code",
   "execution_count": 141,
   "metadata": {},
   "outputs": [],
   "source": [
    "def createFeatureCoeffDict(coef,features):\n",
    "    feats_coeff = [(f, c) for c,f in zip(coef,features)]\n",
    "    return feats_coeff"
   ]
  },
  {
   "cell_type": "code",
   "execution_count": 138,
   "metadata": {},
   "outputs": [
    {
     "data": {
      "text/plain": [
       "3126"
      ]
     },
     "execution_count": 138,
     "metadata": {},
     "output_type": "execute_result"
    }
   ],
   "source": [
    "len(x_test[0].toarray()[0])"
   ]
  },
  {
   "cell_type": "code",
   "execution_count": 142,
   "metadata": {},
   "outputs": [],
   "source": [
    "feature_importance = createFeatureCoeffDict(lin_est.best_estimator_.named_steps.reg.coef_[0],feature_names)"
   ]
  },
  {
   "cell_type": "code",
   "execution_count": 146,
   "metadata": {},
   "outputs": [],
   "source": [
    "feats_union.fit(X_train)\n",
    "x_test = feats_union.transform(X_test)\n",
    "xtest0 = x_test[0].toarray()[0]\n",
    "features_scores = [(f[0], x * f[1]) for x,f in zip(xtest0,feature_importance)]\n",
    "most_important = sorted(features_scores, key=lambda x: -abs(x[1]))"
   ]
  },
  {
   "cell_type": "code",
   "execution_count": 150,
   "metadata": {},
   "outputs": [
    {
     "data": {
      "text/plain": [
       "[('NEWBORN', -1.9359744914915578),\n",
       " ('newborn', -1.732725484874877),\n",
       " ('F', -0.8878545151738019),\n",
       " ('CLINIC REFERRAL/PREMATURE', -0.46512602580238843),\n",
       " ('UNKNOWN (DEFAULT)', -0.4110579917380167)]"
      ]
     },
     "execution_count": 150,
     "metadata": {},
     "output_type": "execute_result"
    }
   ],
   "source": [
    "most_important[:5]"
   ]
  },
  {
   "cell_type": "code",
   "execution_count": null,
   "metadata": {},
   "outputs": [],
   "source": [
    "p.h"
   ]
  },
  {
   "cell_type": "code",
   "execution_count": 166,
   "metadata": {},
   "outputs": [
    {
     "data": {
      "text/html": [
       "\n",
       "\n",
       "\n",
       "\n",
       "\n",
       "\n",
       "  <div class=\"bk-root\" id=\"2203ef27-cb3c-4e50-88d4-1be8f7b2eabb\" data-root-id=\"5795\"></div>\n"
      ]
     },
     "metadata": {},
     "output_type": "display_data"
    },
    {
     "data": {
      "application/javascript": [
       "(function(root) {\n",
       "  function embed_document(root) {\n",
       "    \n",
       "  var docs_json = {\"55b4f00e-a497-4443-b6e2-fb6f9f404562\":{\"roots\":{\"references\":[{\"attributes\":{\"below\":[{\"id\":\"5806\"}],\"center\":[{\"id\":\"5809\"},{\"id\":\"5812\"}],\"left\":[{\"id\":\"5810\"}],\"plot_height\":250,\"plot_width\":400,\"renderers\":[{\"id\":\"5817\"}],\"title\":{\"id\":\"5796\"},\"toolbar\":{\"id\":\"5813\"},\"toolbar_location\":null,\"x_range\":{\"id\":\"5798\"},\"x_scale\":{\"id\":\"5802\"},\"y_range\":{\"id\":\"5800\"},\"y_scale\":{\"id\":\"5804\"}},\"id\":\"5795\",\"subtype\":\"Figure\",\"type\":\"Plot\"},{\"attributes\":{\"data_source\":{\"id\":\"5794\"},\"glyph\":{\"id\":\"5815\"},\"hover_glyph\":null,\"muted_glyph\":null,\"nonselection_glyph\":{\"id\":\"5816\"},\"selection_glyph\":null,\"view\":{\"id\":\"5818\"}},\"id\":\"5817\",\"type\":\"GlyphRenderer\"},{\"attributes\":{\"start\":0},\"id\":\"5798\",\"type\":\"DataRange1d\"},{\"attributes\":{},\"id\":\"6025\",\"type\":\"CategoricalTickFormatter\"},{\"attributes\":{},\"id\":\"6027\",\"type\":\"UnionRenderers\"},{\"attributes\":{\"fill_color\":{\"value\":\"#1f77b4\"},\"height\":{\"value\":0.4},\"line_color\":{\"value\":\"#1f77b4\"},\"right\":{\"field\":\"scores\"},\"y\":{\"field\":\"factors\"}},\"id\":\"5815\",\"type\":\"HBar\"},{\"attributes\":{\"source\":{\"id\":\"5794\"}},\"id\":\"5818\",\"type\":\"CDSView\"},{\"attributes\":{},\"id\":\"5807\",\"type\":\"BasicTicker\"},{\"attributes\":{\"axis\":{\"id\":\"5810\"},\"dimension\":1,\"grid_line_color\":null,\"ticker\":null},\"id\":\"5812\",\"type\":\"Grid\"},{\"attributes\":{\"fill_alpha\":{\"value\":0.1},\"fill_color\":{\"value\":\"#1f77b4\"},\"height\":{\"value\":0.4},\"line_alpha\":{\"value\":0.1},\"line_color\":{\"value\":\"#1f77b4\"},\"right\":{\"field\":\"scores\"},\"y\":{\"field\":\"factors\"}},\"id\":\"5816\",\"type\":\"HBar\"},{\"attributes\":{\"factors\":[\"NEWBORN\",\"newborn\",\"F\",\"CLINIC REFERRAL/PREMATURE\"]},\"id\":\"5800\",\"type\":\"FactorRange\"},{\"attributes\":{\"active_drag\":\"auto\",\"active_inspect\":\"auto\",\"active_multi\":null,\"active_scroll\":\"auto\",\"active_tap\":\"auto\"},\"id\":\"5813\",\"type\":\"Toolbar\"},{\"attributes\":{\"data\":{\"factors\":[\"NEWBORN\",\"newborn\",\"F\",\"CLINIC REFERRAL/PREMATURE\"],\"scores\":[0.9679872457457789,0.8663627424374385,0.44392725758690094,0.23256301290119422]},\"selected\":{\"id\":\"6028\"},\"selection_policy\":{\"id\":\"6027\"}},\"id\":\"5794\",\"type\":\"ColumnDataSource\"},{\"attributes\":{},\"id\":\"6028\",\"type\":\"Selection\"},{\"attributes\":{},\"id\":\"5811\",\"type\":\"CategoricalTicker\"},{\"attributes\":{\"axis_label\":\"Score\",\"formatter\":{\"id\":\"6023\"},\"ticker\":{\"id\":\"5807\"}},\"id\":\"5806\",\"type\":\"LinearAxis\"},{\"attributes\":{},\"id\":\"5804\",\"type\":\"CategoricalScale\"},{\"attributes\":{},\"id\":\"5802\",\"type\":\"LinearScale\"},{\"attributes\":{\"text\":\"Main Factors\"},\"id\":\"5796\",\"type\":\"Title\"},{\"attributes\":{},\"id\":\"6023\",\"type\":\"BasicTickFormatter\"},{\"attributes\":{\"formatter\":{\"id\":\"6025\"},\"ticker\":{\"id\":\"5811\"}},\"id\":\"5810\",\"type\":\"CategoricalAxis\"},{\"attributes\":{\"axis\":{\"id\":\"5806\"},\"ticker\":null},\"id\":\"5809\",\"type\":\"Grid\"}],\"root_ids\":[\"5795\"]},\"title\":\"Bokeh Application\",\"version\":\"2.2.3\"}};\n",
       "  var render_items = [{\"docid\":\"55b4f00e-a497-4443-b6e2-fb6f9f404562\",\"root_ids\":[\"5795\"],\"roots\":{\"5795\":\"2203ef27-cb3c-4e50-88d4-1be8f7b2eabb\"}}];\n",
       "  root.Bokeh.embed.embed_items_notebook(docs_json, render_items);\n",
       "\n",
       "  }\n",
       "  if (root.Bokeh !== undefined) {\n",
       "    embed_document(root);\n",
       "  } else {\n",
       "    var attempts = 0;\n",
       "    var timer = setInterval(function(root) {\n",
       "      if (root.Bokeh !== undefined) {\n",
       "        clearInterval(timer);\n",
       "        embed_document(root);\n",
       "      } else {\n",
       "        attempts++;\n",
       "        if (attempts > 100) {\n",
       "          clearInterval(timer);\n",
       "          console.log(\"Bokeh: ERROR: Unable to run BokehJS code because BokehJS library is missing\");\n",
       "        }\n",
       "      }\n",
       "    }, 10, root)\n",
       "  }\n",
       "})(window);"
      ],
      "application/vnd.bokehjs_exec.v0+json": ""
     },
     "metadata": {
      "application/vnd.bokehjs_exec.v0+json": {
       "id": "5795"
      }
     },
     "output_type": "display_data"
    }
   ],
   "source": [
    "import numpy as np\n",
    "\n",
    "from bokeh.io import curdoc, show\n",
    "from bokeh.models import ColumnDataSource, Grid, HBar, LinearAxis, Plot\n",
    "\n",
    "y = [m[0] for m in most_important[:4]]\n",
    "x = [abs(m[1]) for m in most_important[:4]]\n",
    "x = [val/np.round(max(x)) for val in x]\n",
    "\n",
    "source = ColumnDataSource(dict(factors=y, scores=x,))\n",
    "\n",
    "p = figure(y_range=y, plot_height=250, title=\"Main Factors\",\n",
    "           plot_width=400, toolbar_location=None, tools=\"\")\n",
    "\n",
    "p.hbar(y='factors', right='scores', height=0.4, source=source)\n",
    "\n",
    "p.ygrid.grid_line_color = None\n",
    "p.x_range.start = 0\n",
    "p.xaxis.axis_label = 'Score'\n",
    "\n",
    "show(p)"
   ]
  },
  {
   "cell_type": "code",
   "execution_count": 159,
   "metadata": {},
   "outputs": [
    {
     "data": {
      "text/plain": [
       "{'factors': ['NEWBORN', 'newborn', 'F', 'CLINIC REFERRAL/PREMATURE'],\n",
       " 'scores': [0.9679872457457789,\n",
       "  0.8663627424374385,\n",
       "  0.44392725758690094,\n",
       "  0.23256301290119422]}"
      ]
     },
     "execution_count": 159,
     "metadata": {},
     "output_type": "execute_result"
    }
   ],
   "source": [
    "source.data"
   ]
  },
  {
   "cell_type": "code",
   "execution_count": null,
   "metadata": {},
   "outputs": [],
   "source": []
  }
 ],
 "metadata": {
  "kernelspec": {
   "display_name": "base",
   "language": "python",
   "name": "base"
  },
  "language_info": {
   "codemirror_mode": {
    "name": "ipython",
    "version": 3
   },
   "file_extension": ".py",
   "mimetype": "text/x-python",
   "name": "python",
   "nbconvert_exporter": "python",
   "pygments_lexer": "ipython3",
   "version": "3.8.3"
  }
 },
 "nbformat": 4,
 "nbformat_minor": 4
}
