{
 "cells": [
  {
   "cell_type": "code",
   "execution_count": 1,
   "metadata": {},
   "outputs": [],
   "source": [
    "import pandas as pd\n",
    "import numpy as np\n",
    "import pickle"
   ]
  },
  {
   "cell_type": "code",
   "execution_count": 2,
   "metadata": {},
   "outputs": [],
   "source": [
    "X_train, y_train = pd.read_pickle('./data/pickle/preproc/df_patient_admit_icu__20210126_TRAIN_final.pkl')"
   ]
  },
  {
   "cell_type": "markdown",
   "metadata": {},
   "source": [
    "# SAMEDAY ICU"
   ]
  },
  {
   "cell_type": "code",
   "execution_count": 8,
   "metadata": {},
   "outputs": [],
   "source": [
    "from sklearn.feature_extraction.text import TfidfTransformer, CountVectorizer\n",
    "from sklearn.pipeline import Pipeline, FeatureUnion\n",
    "from customTransformers import ColumnSelectTransformer, DiagnosisFrameTransformer, EstimatorTransformer\n",
    "from sklearn.ensemble import RandomForestClassifier\n",
    "from sklearn.linear_model import LogisticRegression\n",
    "from sklearn.model_selection import GridSearchCV, StratifiedKFold\n",
    "from sklearn.preprocessing import StandardScaler, OneHotEncoder\n",
    "from sklearn.compose import ColumnTransformer\n",
    "from sklearn.ensemble import GradientBoostingClassifier\n",
    "from sklearn.metrics import precision_recall_curve\n",
    "from sklearn.metrics import plot_precision_recall_curve\n",
    "import matplotlib.pyplot as plt\n",
    "from sklearn.metrics import average_precision_score\n",
    "from sklearn.metrics import confusion_matrix, accuracy_score, f1_score\n",
    "from sklearn.metrics import plot_roc_curve, plot_confusion_matrix\n",
    "from sklearn.ensemble import GradientBoostingClassifier\n",
    "from sklearn.preprocessing import LabelEncoder\n",
    "from sklearn.metrics import plot_confusion_matrix\n",
    "from sklearn.linear_model import Ridge\n",
    "from sklearn.model_selection import KFold\n",
    "from sklearn.ensemble import RandomForestRegressor"
   ]
  },
  {
   "cell_type": "code",
   "execution_count": 8,
   "metadata": {},
   "outputs": [],
   "source": [
    "cols = ['GENDER','ADMISSION_TYPE','ADMISSION_LOCATION','INSURANCE','LANGUAGE',\n",
    "       'RELIGION','MARITAL_STATUS','ETHNICITY','ADMIT_AGE']\n",
    "\n",
    "demog_feats = FeatureUnion([\n",
    "    ('stdscl', ColumnTransformer([('numerical', StandardScaler(), ['ADMIT_AGE'])])),\n",
    "    ('ohe',  ColumnTransformer([('categorical', OneHotEncoder(handle_unknown='ignore'), cols)]))\n",
    "])\n",
    "demog_pipe = Pipeline([\n",
    "    ('features', demog_feats),\n",
    "    ('reg', LogisticRegression(solver='liblinear'))\n",
    "])\n",
    "demog_params = {\n",
    "    'reg__penalty': ['l1','l2','none'],\n",
    "    'reg__C': [0.01, 0.1, 1, 10],\n",
    "    'reg__class_weight': ['none','balanced'],\n",
    "}\n",
    "\n",
    "# lin_gs_regressor = GridSearchCV(demog_pipe, demog_params, cv=StratifiedKFold(n_splits=5, shuffle=True),verbose=3,n_jobs=-1)\n",
    "# lin_est = lin_gs_regressor.fit(X_train,X_train['SAMEDAY_ADM_TO_ICU'])"
   ]
  },
  {
   "cell_type": "code",
   "execution_count": 11,
   "metadata": {},
   "outputs": [
    {
     "data": {
      "text/plain": [
       "({'reg__C': 0.1, 'reg__class_weight': 'balanced', 'reg__penalty': 'l2'},\n",
       " 0.5722280875294657)"
      ]
     },
     "execution_count": 11,
     "metadata": {},
     "output_type": "execute_result"
    }
   ],
   "source": [
    "lin_est.best_params_,lin_est.best_score_"
   ]
  },
  {
   "cell_type": "code",
   "execution_count": 5,
   "metadata": {},
   "outputs": [
    {
     "name": "stdout",
     "output_type": "stream",
     "text": [
      "Fitting 5 folds for each of 144 candidates, totalling 720 fits\n"
     ]
    },
    {
     "name": "stderr",
     "output_type": "stream",
     "text": [
      "[Parallel(n_jobs=10)]: Using backend LokyBackend with 10 concurrent workers.\n",
      "[Parallel(n_jobs=10)]: Done  12 tasks      | elapsed:   49.6s\n",
      "[Parallel(n_jobs=10)]: Done 108 tasks      | elapsed:  2.5min\n",
      "[Parallel(n_jobs=10)]: Done 268 tasks      | elapsed:  6.3min\n",
      "[Parallel(n_jobs=10)]: Done 492 tasks      | elapsed: 11.8min\n",
      "/Users/adamgifford/anaconda3/lib/python3.8/site-packages/joblib/externals/loky/process_executor.py:688: UserWarning: A worker stopped while some jobs were given to the executor. This can be caused by a too short worker timeout or by a memory leak.\n",
      "  warnings.warn(\n",
      "[Parallel(n_jobs=10)]: Done 720 out of 720 | elapsed: 16.5min finished\n"
     ]
    }
   ],
   "source": [
    "diagn_pipe = Pipeline([\n",
    "    ('cst', ColumnSelectTransformer(['DIAGNOSIS'])),\n",
    "    ('dst', DiagnosisFrameTransformer()),\n",
    "    ('count',CountVectorizer(max_features=3000)),\n",
    "    ('tfid', TfidfTransformer()),\n",
    "    ('rfc', RandomForestClassifier())\n",
    "])\n",
    "\n",
    "diagn_params = {\n",
    "    'rfc__criterion': ['gini','entropy'],\n",
    "    'rfc__max_features': ['auto', 'sqrt', 'log2'],\n",
    "    'rfc__min_samples_split': [2,5,8,11],\n",
    "    'rfc__min_samples_leaf': [1,4,7],\n",
    "    'rfc__class_weight': ['balanced', 'balanced_subsample'],\n",
    "}\n",
    "\n",
    "diagn_gs_regressor = GridSearchCV(diagn_pipe, diagn_params, cv=StratifiedKFold(n_splits=5, shuffle=True),verbose=3,n_jobs=10)\n",
    "tfidf_est = diagn_gs_regressor.fit(X_train,X_train['SAMEDAY_ADM_TO_ICU'])"
   ]
  },
  {
   "cell_type": "code",
   "execution_count": 6,
   "metadata": {},
   "outputs": [
    {
     "data": {
      "text/plain": [
       "({'rfc__class_weight': 'balanced_subsample',\n",
       "  'rfc__criterion': 'entropy',\n",
       "  'rfc__max_features': 'log2',\n",
       "  'rfc__min_samples_leaf': 1,\n",
       "  'rfc__min_samples_split': 2},\n",
       " 0.7360997577172081)"
      ]
     },
     "execution_count": 6,
     "metadata": {},
     "output_type": "execute_result"
    }
   ],
   "source": [
    "tfidf_est.best_params_,tfidf_est.best_score_"
   ]
  },
  {
   "cell_type": "code",
   "execution_count": 9,
   "metadata": {},
   "outputs": [
    {
     "name": "stdout",
     "output_type": "stream",
     "text": [
      "Fitting 5 folds for each of 1296 candidates, totalling 6480 fits\n"
     ]
    },
    {
     "name": "stderr",
     "output_type": "stream",
     "text": [
      "[Parallel(n_jobs=12)]: Using backend LokyBackend with 12 concurrent workers.\n",
      "[Parallel(n_jobs=12)]: Done   8 tasks      | elapsed:   53.8s\n",
      "/Users/adamgifford/anaconda3/lib/python3.8/site-packages/joblib/externals/loky/process_executor.py:688: UserWarning: A worker stopped while some jobs were given to the executor. This can be caused by a too short worker timeout or by a memory leak.\n",
      "  warnings.warn(\n",
      "[Parallel(n_jobs=12)]: Done 104 tasks      | elapsed:  8.2min\n",
      "[Parallel(n_jobs=12)]: Done 264 tasks      | elapsed: 52.7min\n",
      "[Parallel(n_jobs=12)]: Done 488 tasks      | elapsed: 554.2min\n",
      "[Parallel(n_jobs=12)]: Done 776 tasks      | elapsed: 576.0min\n",
      "[Parallel(n_jobs=12)]: Done 1128 tasks      | elapsed: 602.4min\n",
      "[Parallel(n_jobs=12)]: Done 1544 tasks      | elapsed: 640.9min\n",
      "[Parallel(n_jobs=12)]: Done 2024 tasks      | elapsed: 682.8min\n",
      "[Parallel(n_jobs=12)]: Done 2568 tasks      | elapsed: 730.6min\n",
      "[Parallel(n_jobs=12)]: Done 3176 tasks      | elapsed: 784.4min\n",
      "[Parallel(n_jobs=12)]: Done 3848 tasks      | elapsed: 844.3min\n",
      "[Parallel(n_jobs=12)]: Done 4584 tasks      | elapsed: 917.9min\n",
      "[Parallel(n_jobs=12)]: Done 5384 tasks      | elapsed: 1002.4min\n",
      "[Parallel(n_jobs=12)]: Done 6248 tasks      | elapsed: 1091.8min\n",
      "[Parallel(n_jobs=12)]: Done 6480 out of 6480 | elapsed: 1116.8min finished\n"
     ]
    },
    {
     "data": {
      "text/plain": [
       "({'xgb__criterion': 'mse',\n",
       "  'xgb__learning_rate': 0.05,\n",
       "  'xgb__loss': 'exponential',\n",
       "  'xgb__max_depth': 4,\n",
       "  'xgb__max_features': 'auto',\n",
       "  'xgb__min_samples_leaf': 4,\n",
       "  'xgb__subsample': 0.8},\n",
       " 0.761460606507654)"
      ]
     },
     "execution_count": 9,
     "metadata": {},
     "output_type": "execute_result"
    }
   ],
   "source": [
    "demog_est = LogisticRegression(solver='liblinear', C=0.1, class_weight='balanced', penalty='l2')\n",
    "demog_pipe = Pipeline([\n",
    "    ('features', demog_feats),\n",
    "    ('reg', demog_est)\n",
    "])\n",
    "\n",
    "diagn_est = RandomForestClassifier(class_weight='balanced_subsample',criterion='entropy',\n",
    "                                  max_features='log2',min_samples_leaf=1,\n",
    "                                  min_samples_split=2)\n",
    "diagn_pipe = Pipeline([\n",
    "    ('cst', ColumnSelectTransformer(['DIAGNOSIS'])),\n",
    "    ('dst', DiagnosisFrameTransformer()),\n",
    "    ('count',CountVectorizer(max_features=3000)),\n",
    "    ('tfid', TfidfTransformer()),\n",
    "    ('rfc', diagn_est)\n",
    "])\n",
    "\n",
    "union = FeatureUnion([\n",
    "    ('demog', EstimatorTransformer(demog_pipe)),# FeatureUnions use the same syntax as Pipelines\n",
    "    ('diagn',EstimatorTransformer(diagn_pipe))\n",
    "])\n",
    "\n",
    "\n",
    "full_pipe = Pipeline([\n",
    "    ('union',union),\n",
    "    ('xgb', GradientBoostingClassifier())\n",
    "])\n",
    "\n",
    "xgb_params = {\n",
    "    'xgb__loss': ['deviance','exponential'],\n",
    "    'xgb__learning_rate': [0.05, 0.1, 0.2],\n",
    "    'xgb__subsample': [0.8, 1, 1.2], # max is 1\n",
    "    'xgb__criterion': ['mse','friedman_mse'],\n",
    "    'xgb__min_samples_leaf': [1,4,7],\n",
    "    'xgb__max_depth': [2,3,4,5],\n",
    "    'xgb__max_features': ['auto','log2',None]\n",
    "}\n",
    "\n",
    "xgb_gs_classifier = GridSearchCV(full_pipe, xgb_params, cv=StratifiedKFold(n_splits=5, shuffle=True),verbose=3,n_jobs=12)\n",
    "xgb_est = xgb_gs_classifier.fit(X_train,X_train['SAMEDAY_ADM_TO_ICU'])\n",
    "\n",
    "xgb_est.best_params_,xgb_est.best_score_"
   ]
  },
  {
   "cell_type": "code",
   "execution_count": 11,
   "metadata": {},
   "outputs": [],
   "source": [
    "X_test, y_test = pd.read_pickle('./data/pickle/preproc/df_patient_admit_icu__20210126_TEST_final.pkl')"
   ]
  },
  {
   "cell_type": "code",
   "execution_count": 50,
   "metadata": {},
   "outputs": [
    {
     "name": "stdout",
     "output_type": "stream",
     "text": [
      "[[1163 1659]\n",
      " [1306 8066]]\n",
      "0.7568476299819583\n",
      "0.844740011520134\n"
     ]
    }
   ],
   "source": [
    "y_pred = xgb_est.predict(X_test)\n",
    "print(confusion_matrix(X_test['SAMEDAY_ADM_TO_ICU'],y_pred))\n",
    "print(accuracy_score(X_test['SAMEDAY_ADM_TO_ICU'],y_pred))\n",
    "print(f1_score(X_test['SAMEDAY_ADM_TO_ICU'],y_pred))"
   ]
  },
  {
   "cell_type": "code",
   "execution_count": 18,
   "metadata": {},
   "outputs": [
    {
     "data": {
      "text/plain": [
       "Text(0.5, 1.0, '2-class Precision-Recall curve: AP=0.86')"
      ]
     },
     "execution_count": 18,
     "metadata": {},
     "output_type": "execute_result"
    },
    {
     "data": {
      "image/png": "[encoded data removed]",
      "text/plain": [
       "<Figure size 432x288 with 1 Axes>"
      ]
     },
     "metadata": {
      "needs_background": "light"
     },
     "output_type": "display_data"
    }
   ],
   "source": [
    "y_score = xgb_est.decision_function(X_test)\n",
    "average_precision = average_precision_score(X_test['SAMEDAY_ADM_TO_ICU'], y_score)\n",
    "\n",
    "disp = plot_precision_recall_curve(xgb_est, X_test, X_test['SAMEDAY_ADM_TO_ICU'])\n",
    "disp.ax_.set_title('2-class Precision-Recall curve: '\n",
    "                   'AP={0:0.2f}'.format(average_precision))"
   ]
  },
  {
   "cell_type": "code",
   "execution_count": 21,
   "metadata": {},
   "outputs": [],
   "source": [
    "file = './data/pickle/models/log_rf_xgb__SAMEDAY__20210127.pkl'\n",
    "pickle.dump((demog_pipe, diagn_pipe, xgb_est),open(file,'wb'))"
   ]
  },
  {
   "cell_type": "code",
   "execution_count": 103,
   "metadata": {},
   "outputs": [],
   "source": [
    "y_pred = xgb_est.predict(X_test)\n",
    "\n",
    "corr_sum = sum((y_pred==1) & (y_pred==X_test['SAMEDAY_ADM_TO_ICU']))\n",
    "incorr_sum = sum((y_pred==0) & (y_pred!=X_test['SAMEDAY_ADM_TO_ICU'])\n",
    "total = corr_sum+incorr_sum\n",
    "\n",
    "correct=np.mean(days_adm_icu[(y_pred==1) & (y_pred==X_test['SAMEDAY_ADM_TO_ICU'])])*24\n",
    "incorrect=np.mean(days_adm_icu[(y_pred==0) & (y_pred!=X_test['SAMEDAY_ADM_TO_ICU'])])*24\n",
    "\n",
    "hours_saved = (corr_sum/total)*correct - (incorr_sum/total)*incorrect\n",
    "minutes_saved = hours_saved*60\n",
    "minutes_saved"
   ]
  },
  {
   "cell_type": "code",
   "execution_count": 106,
   "metadata": {},
   "outputs": [
    {
     "data": {
      "text/plain": [
       "<sklearn.metrics._plot.roc_curve.RocCurveDisplay at 0x7fcba97967c0>"
      ]
     },
     "execution_count": 106,
     "metadata": {},
     "output_type": "execute_result"
    },
    {
     "data": {
      "image/png": "[encoded data removed]",
      "text/plain": [
       "<Figure size 432x288 with 1 Axes>"
      ]
     },
     "metadata": {
      "needs_background": "light"
     },
     "output_type": "display_data"
    }
   ],
   "source": [
    "plot_roc_curve(xgb_est, X_test, X_test['SAMEDAY_ADM_TO_ICU'])"
   ]
  },
  {
   "cell_type": "code",
   "execution_count": 114,
   "metadata": {},
   "outputs": [
    {
     "data": {
      "text/plain": [
       "<sklearn.metrics._plot.confusion_matrix.ConfusionMatrixDisplay at 0x7fcbdbde4880>"
      ]
     },
     "execution_count": 114,
     "metadata": {},
     "output_type": "execute_result"
    },
    {
     "data": {
      "image/png": "[encoded data removed]",
      "text/plain": [
       "<Figure size 432x288 with 2 Axes>"
      ]
     },
     "metadata": {
      "needs_background": "light"
     },
     "output_type": "display_data"
    }
   ],
   "source": [
    "plot_confusion_matrix(xgb_est, X_test, X_test['SAMEDAY_ADM_TO_ICU'],display_labels=['Not Urgent', 'Urgent'],normalize='true')"
   ]
  },
  {
   "cell_type": "markdown",
   "metadata": {},
   "source": [
    "# ICU URGENCY SCORE"
   ]
  },
  {
   "cell_type": "code",
   "execution_count": null,
   "metadata": {},
   "outputs": [],
   "source": [
    "## TRYING TO IMPLEMENT 4 OVR CLASSIFICATION SYSTEMS FOR ICU_URGENCY.\n",
    "# 1. CREATE AND TUNE OVR for demographics\n",
    "# 2. use multinomial classifier for diagnoses\n",
    "# 3. use all 5 outputs as features in a second multinomial to pool results\n",
    "from sklearn.preprocessing import OrdinalEncoder\n",
    "\n",
    "cols = ['GENDER','ADMISSION_TYPE','ADMISSION_LOCATION','INSURANCE','LANGUAGE',\n",
    "       'RELIGION','MARITAL_STATUS','ETHNICITY','ADMIT_AGE']\n",
    "\n",
    "demog_feats1 = FeatureUnion([\n",
    "    ('stdscl', ColumnTransformer([('numerical', StandardScaler(), ['ADMIT_AGE'])])),\n",
    "    ('ohe',  ColumnTransformer([('categorical', OneHotEncoder(handle_unknown='ignore'), cols)]))\n",
    "])\n",
    "\n",
    "demog_pipe1 = Pipeline([\n",
    "    ('features', demog_feats),\n",
    "    ('reg', LogisticRegression(solver='saga'))\n",
    "])\n",
    "demog_params1 = {\n",
    "    'reg__penalty': ['l1','l2','none'],\n",
    "    'reg__C': [0.01, 0.1, 1, 10],\n",
    "    'reg__class_weight': ['none','balanced'],\n",
    "    'reg__multi_class': ['ovr','multinomial'],\n",
    "}\n",
    "\n",
    "ordenc = OrdinalEncoder(categories=[['stable','questionable','urgent','immediate']])\n",
    "y_train_enc = ordenc.fit_transform(y_train.to_numpy().reshape(-1,1))\n",
    "lin_gs_classifier1 = GridSearchCV(demog_pipe1, demog_params1, cv=StratifiedKFold(n_splits=5, shuffle=True),verbose=3,n_jobs=4)\n",
    "lin_est1 = lin_gs_classifier1.fit(X_train,y_train_enc)\n",
    "lin_est1.best_params_,lin_est.best_score_"
   ]
  },
  {
   "cell_type": "raw",
   "metadata": {},
   "source": [
    "({'reg__C': 0.1,\n",
    "  'reg__class_weight': 'none',\n",
    "  'reg__multi_class': 'ovr',\n",
    "  'reg__penalty': 'l2'},\n",
    " 0.6278292394917798)"
   ]
  },
  {
   "cell_type": "code",
   "execution_count": null,
   "metadata": {},
   "outputs": [],
   "source": [
    "diagn_pipe1 = Pipeline([\n",
    "    ('cst', ColumnSelectTransformer(['DIAGNOSIS'])),\n",
    "    ('dst', DiagnosisFrameTransformer()),\n",
    "    ('count',CountVectorizer(max_features=3000)),\n",
    "    ('tfid', TfidfTransformer()),\n",
    "    ('rfc', RandomForestClassifier())\n",
    "])\n",
    "\n",
    "diagn_params1 = {\n",
    "    'rfc__criterion': ['gini','entropy'],\n",
    "    'rfc__max_features': ['auto', 'sqrt', 'log2'],\n",
    "    'rfc__min_samples_split': [2,5,8,11],\n",
    "    'rfc__min_samples_leaf': [1,4,7],\n",
    "    'rfc__class_weight': ['balanced', 'balanced_subsample'],\n",
    "}\n",
    "\n",
    "diagn_gs_classifier1 = GridSearchCV(diagn_pipe1, diagn_params1, cv=StratifiedKFold(n_splits=5, shuffle=True),verbose=3,n_jobs=4)\n",
    "tfidf_est1 = diagn_gs_classifier1.fit(X_train,y_train_enc)\n",
    "tfidf_est1.best_params_,tfidf_est1.best_score_"
   ]
  },
  {
   "cell_type": "raw",
   "metadata": {},
   "source": [
    "({'rfc__class_weight': 'balanced',\n",
    "  'rfc__criterion': 'gini',\n",
    "  'rfc__max_features': 'sqrt',\n",
    "  'rfc__min_samples_leaf': 1,\n",
    "  'rfc__min_samples_split': 2},\n",
    " 0.58750192130317)"
   ]
  },
  {
   "cell_type": "code",
   "execution_count": null,
   "metadata": {},
   "outputs": [],
   "source": [
    "\n",
    "\n",
    "demog_est1 = LogisticRegression(solver='saga', C=0.1, class_weight='none', \n",
    "                               penalty='l2', multi_class='ovr')\n",
    "demog_pipe1 = Pipeline([\n",
    "    ('features', demog_feats),\n",
    "    ('reg', demog_est1)\n",
    "])\n",
    "\n",
    "diagn_est1 = RandomForestClassifier(class_weight='balanced',criterion='gini',\n",
    "                                  max_features='sqrt',min_samples_leaf=1,\n",
    "                                  min_samples_split=2)\n",
    "diagn_pipe1 = Pipeline([\n",
    "    ('cst', ColumnSelectTransformer(['DIAGNOSIS'])),\n",
    "    ('dst', DiagnosisFrameTransformer()),\n",
    "    ('count',CountVectorizer(max_features=3000)),\n",
    "    ('tfid', TfidfTransformer()),\n",
    "    ('rfc', diagn_est1)\n",
    "])\n",
    "\n",
    "union1 = FeatureUnion([\n",
    "    ('demog', EstimatorTransformer(demog_pipe1)),# FeatureUnions use the same syntax as Pipelines\n",
    "    ('diagn',EstimatorTransformer(diagn_pipe1))\n",
    "])\n",
    "\n",
    "\n",
    "full_pipe1 = Pipeline([\n",
    "    ('union',union1),\n",
    "    ('xgb', GradientBoostingClassifier())\n",
    "])\n",
    "\n",
    "xgb_params1 = {\n",
    "    'xgb__loss': ['deviance','exponential'],\n",
    "    'xgb__learning_rate': [0.05, 0.1, 0.2],\n",
    "    'xgb__subsample': [0.8, 1], # max is 1\n",
    "    'xgb__criterion': ['friedman_mse'],\n",
    "    'xgb__min_samples_leaf': [1, 4, 7],\n",
    "    'xgb__max_depth': [2,3,4],\n",
    "    'xgb__max_features': ['auto']\n",
    "}\n",
    "\n",
    "xgb_gs_classifier1 = GridSearchCV(full_pipe1, xgb_params1, cv=StratifiedKFold(n_splits=3, shuffle=True),verbose=3,n_jobs=4)\n",
    "xgb_est1 = xgb_gs_classifier1.fit(X_train,y_train_enc)\n",
    "\n",
    "xgb_est1.best_params_,xgb_est1.best_score_"
   ]
  },
  {
   "cell_type": "raw",
   "metadata": {},
   "source": [
    "({'xgb__criterion': 'friedman_mse',\n",
    "  'xgb__learning_rate': 0.05,\n",
    "  'xgb__loss': 'deviance',\n",
    "  'xgb__max_depth': 3,\n",
    "  'xgb__max_features': 'auto',\n",
    "  'xgb__min_samples_leaf': 7,\n",
    "  'xgb__subsample': 0.8},\n",
    " 0.6116328951484848)"
   ]
  },
  {
   "cell_type": "code",
   "execution_count": null,
   "metadata": {},
   "outputs": [],
   "source": [
    "y_test_enc = ordenc.transform(y_test.to_numpy().reshape(-1,1))\n",
    "y_pred = xgb_est1.predict(X_test)\n",
    "print(confusion_matrix(y_test_enc,y_pred))\n",
    "print(accuracy_score(y_test_enc,y_pred))\n",
    "print(f1_score(y_test_enc,y_pred, average='weighted'))"
   ]
  },
  {
   "cell_type": "raw",
   "metadata": {},
   "source": [
    "[[5963  528   19  224]\n",
    " [ 828  553   71  221]\n",
    " [ 731  243   72  103]\n",
    " [1255  350   63  970]]\n",
    "0.6198130227980975\n",
    "0.5807983189727202"
   ]
  },
  {
   "cell_type": "code",
   "execution_count": null,
   "metadata": {},
   "outputs": [],
   "source": [
    "file = './data/pickle/models/log_rf_xgb__URGENCY__20210127.pkl'\n",
    "pickle.dump((demog_pipe1, diagn_pipe1, xgb_est1),open(file,'wb'))"
   ]
  },
  {
   "cell_type": "markdown",
   "metadata": {},
   "source": [
    "# Length of stay"
   ]
  },
  {
   "cell_type": "code",
   "execution_count": 116,
   "metadata": {},
   "outputs": [
    {
     "name": "stdout",
     "output_type": "stream",
     "text": [
      "Fitting 5 folds for each of 20 candidates, totalling 100 fits\n"
     ]
    },
    {
     "name": "stderr",
     "output_type": "stream",
     "text": [
      "[Parallel(n_jobs=-1)]: Using backend LokyBackend with 16 concurrent workers.\n",
      "[Parallel(n_jobs=-1)]: Done 100 out of 100 | elapsed:    4.2s finished\n"
     ]
    },
    {
     "data": {
      "text/plain": [
       "({'ridge__alpha': 100,\n",
       "  'ridge__fit_intercept': False,\n",
       "  'ridge__normalize': 'uniform'},\n",
       " 0.022632554083947865)"
      ]
     },
     "execution_count": 116,
     "metadata": {},
     "output_type": "execute_result"
    }
   ],
   "source": [
    "cols = ['GENDER','ADMISSION_TYPE','ADMISSION_LOCATION','INSURANCE','LANGUAGE',\n",
    "       'RELIGION','MARITAL_STATUS','ETHNICITY','ADMIT_AGE']\n",
    "\n",
    "demog_feats2 = FeatureUnion([\n",
    "    ('stdscl', ColumnTransformer([('numerical', StandardScaler(), ['ADMIT_AGE'])])),\n",
    "    ('ohe',  ColumnTransformer([('categorical', OneHotEncoder(handle_unknown='ignore'), cols)]))\n",
    "])\n",
    "demog_pipe2 = Pipeline([\n",
    "    ('features', demog_feats),\n",
    "    ('ridge', Ridge())\n",
    "])\n",
    "demog_params2 = {\n",
    "    'ridge__alpha': (0.01, 0.1, 1, 10, 100),\n",
    "    'ridge__normalize': ('uniform', 'distance'),\n",
    "    'ridge__fit_intercept': (True, False)\n",
    "}\n",
    "lin_gs_regressor2 = GridSearchCV(demog_pipe2, demog_params2, cv=KFold(n_splits=5, shuffle=True),verbose=3,n_jobs=-1)\n",
    "lin_est2 = lin_gs_regressor2.fit(X_train,X_train['DAYS_ADM_TO_ICU'])\n",
    "lin_est2.best_params_,lin_est2.best_score_"
   ]
  },
  {
   "cell_type": "code",
   "execution_count": 119,
   "metadata": {},
   "outputs": [
    {
     "name": "stdout",
     "output_type": "stream",
     "text": [
      "Fitting 5 folds for each of 288 candidates, totalling 1440 fits\n"
     ]
    },
    {
     "name": "stderr",
     "output_type": "stream",
     "text": [
      "[Parallel(n_jobs=14)]: Using backend LokyBackend with 14 concurrent workers.\n",
      "[Parallel(n_jobs=14)]: Done   4 tasks      | elapsed:  6.0min\n"
     ]
    },
    {
     "ename": "KeyboardInterrupt",
     "evalue": "",
     "output_type": "error",
     "traceback": [
      "\u001b[0;31m---------------------------------------------------------------------------\u001b[0m",
      "\u001b[0;31mKeyboardInterrupt\u001b[0m                         Traceback (most recent call last)",
      "\u001b[0;32m<ipython-input-119-ab1f1a4a4a8b>\u001b[0m in \u001b[0;36m<module>\u001b[0;34m\u001b[0m\n\u001b[1;32m     18\u001b[0m \u001b[0;34m\u001b[0m\u001b[0m\n\u001b[1;32m     19\u001b[0m \u001b[0mdiagn_gs_classifier2\u001b[0m \u001b[0;34m=\u001b[0m \u001b[0mGridSearchCV\u001b[0m\u001b[0;34m(\u001b[0m\u001b[0mdiagn_pipe2\u001b[0m\u001b[0;34m,\u001b[0m \u001b[0mdiagn_params2\u001b[0m\u001b[0;34m,\u001b[0m \u001b[0mcv\u001b[0m\u001b[0;34m=\u001b[0m\u001b[0mKFold\u001b[0m\u001b[0;34m(\u001b[0m\u001b[0mn_splits\u001b[0m\u001b[0;34m=\u001b[0m\u001b[0;36m5\u001b[0m\u001b[0;34m,\u001b[0m \u001b[0mshuffle\u001b[0m\u001b[0;34m=\u001b[0m\u001b[0;32mTrue\u001b[0m\u001b[0;34m)\u001b[0m\u001b[0;34m,\u001b[0m\u001b[0mverbose\u001b[0m\u001b[0;34m=\u001b[0m\u001b[0;36m3\u001b[0m\u001b[0;34m,\u001b[0m\u001b[0mn_jobs\u001b[0m\u001b[0;34m=\u001b[0m\u001b[0;36m14\u001b[0m\u001b[0;34m)\u001b[0m\u001b[0;34m\u001b[0m\u001b[0;34m\u001b[0m\u001b[0m\n\u001b[0;32m---> 20\u001b[0;31m \u001b[0mtfidf_est2\u001b[0m \u001b[0;34m=\u001b[0m \u001b[0mdiagn_gs_classifier2\u001b[0m\u001b[0;34m.\u001b[0m\u001b[0mfit\u001b[0m\u001b[0;34m(\u001b[0m\u001b[0mX_train\u001b[0m\u001b[0;34m,\u001b[0m\u001b[0mX_train\u001b[0m\u001b[0;34m[\u001b[0m\u001b[0;34m'DAYS_ADM_TO_ICU'\u001b[0m\u001b[0;34m]\u001b[0m\u001b[0;34m)\u001b[0m\u001b[0;34m\u001b[0m\u001b[0;34m\u001b[0m\u001b[0m\n\u001b[0m\u001b[1;32m     21\u001b[0m \u001b[0mtfidf_est2\u001b[0m\u001b[0;34m.\u001b[0m\u001b[0mbest_params_\u001b[0m\u001b[0;34m,\u001b[0m\u001b[0mtfidf_est2\u001b[0m\u001b[0;34m.\u001b[0m\u001b[0mbest_score_\u001b[0m\u001b[0;34m\u001b[0m\u001b[0;34m\u001b[0m\u001b[0m\n",
      "\u001b[0;32m~/anaconda3/lib/python3.8/site-packages/sklearn/utils/validation.py\u001b[0m in \u001b[0;36minner_f\u001b[0;34m(*args, **kwargs)\u001b[0m\n\u001b[1;32m     70\u001b[0m                           FutureWarning)\n\u001b[1;32m     71\u001b[0m         \u001b[0mkwargs\u001b[0m\u001b[0;34m.\u001b[0m\u001b[0mupdate\u001b[0m\u001b[0;34m(\u001b[0m\u001b[0;34m{\u001b[0m\u001b[0mk\u001b[0m\u001b[0;34m:\u001b[0m \u001b[0marg\u001b[0m \u001b[0;32mfor\u001b[0m \u001b[0mk\u001b[0m\u001b[0;34m,\u001b[0m \u001b[0marg\u001b[0m \u001b[0;32min\u001b[0m \u001b[0mzip\u001b[0m\u001b[0;34m(\u001b[0m\u001b[0msig\u001b[0m\u001b[0;34m.\u001b[0m\u001b[0mparameters\u001b[0m\u001b[0;34m,\u001b[0m \u001b[0margs\u001b[0m\u001b[0;34m)\u001b[0m\u001b[0;34m}\u001b[0m\u001b[0;34m)\u001b[0m\u001b[0;34m\u001b[0m\u001b[0;34m\u001b[0m\u001b[0m\n\u001b[0;32m---> 72\u001b[0;31m         \u001b[0;32mreturn\u001b[0m \u001b[0mf\u001b[0m\u001b[0;34m(\u001b[0m\u001b[0;34m**\u001b[0m\u001b[0mkwargs\u001b[0m\u001b[0;34m)\u001b[0m\u001b[0;34m\u001b[0m\u001b[0;34m\u001b[0m\u001b[0m\n\u001b[0m\u001b[1;32m     73\u001b[0m     \u001b[0;32mreturn\u001b[0m \u001b[0minner_f\u001b[0m\u001b[0;34m\u001b[0m\u001b[0;34m\u001b[0m\u001b[0m\n\u001b[1;32m     74\u001b[0m \u001b[0;34m\u001b[0m\u001b[0m\n",
      "\u001b[0;32m~/anaconda3/lib/python3.8/site-packages/sklearn/model_selection/_search.py\u001b[0m in \u001b[0;36mfit\u001b[0;34m(self, X, y, groups, **fit_params)\u001b[0m\n\u001b[1;32m    734\u001b[0m                 \u001b[0;32mreturn\u001b[0m \u001b[0mresults\u001b[0m\u001b[0;34m\u001b[0m\u001b[0;34m\u001b[0m\u001b[0m\n\u001b[1;32m    735\u001b[0m \u001b[0;34m\u001b[0m\u001b[0m\n\u001b[0;32m--> 736\u001b[0;31m             \u001b[0mself\u001b[0m\u001b[0;34m.\u001b[0m\u001b[0m_run_search\u001b[0m\u001b[0;34m(\u001b[0m\u001b[0mevaluate_candidates\u001b[0m\u001b[0;34m)\u001b[0m\u001b[0;34m\u001b[0m\u001b[0;34m\u001b[0m\u001b[0m\n\u001b[0m\u001b[1;32m    737\u001b[0m \u001b[0;34m\u001b[0m\u001b[0m\n\u001b[1;32m    738\u001b[0m         \u001b[0;31m# For multi-metric evaluation, store the best_index_, best_params_ and\u001b[0m\u001b[0;34m\u001b[0m\u001b[0;34m\u001b[0m\u001b[0;34m\u001b[0m\u001b[0m\n",
      "\u001b[0;32m~/anaconda3/lib/python3.8/site-packages/sklearn/model_selection/_search.py\u001b[0m in \u001b[0;36m_run_search\u001b[0;34m(self, evaluate_candidates)\u001b[0m\n\u001b[1;32m   1186\u001b[0m     \u001b[0;32mdef\u001b[0m \u001b[0m_run_search\u001b[0m\u001b[0;34m(\u001b[0m\u001b[0mself\u001b[0m\u001b[0;34m,\u001b[0m \u001b[0mevaluate_candidates\u001b[0m\u001b[0;34m)\u001b[0m\u001b[0;34m:\u001b[0m\u001b[0;34m\u001b[0m\u001b[0;34m\u001b[0m\u001b[0m\n\u001b[1;32m   1187\u001b[0m         \u001b[0;34m\"\"\"Search all candidates in param_grid\"\"\"\u001b[0m\u001b[0;34m\u001b[0m\u001b[0;34m\u001b[0m\u001b[0m\n\u001b[0;32m-> 1188\u001b[0;31m         \u001b[0mevaluate_candidates\u001b[0m\u001b[0;34m(\u001b[0m\u001b[0mParameterGrid\u001b[0m\u001b[0;34m(\u001b[0m\u001b[0mself\u001b[0m\u001b[0;34m.\u001b[0m\u001b[0mparam_grid\u001b[0m\u001b[0;34m)\u001b[0m\u001b[0;34m)\u001b[0m\u001b[0;34m\u001b[0m\u001b[0;34m\u001b[0m\u001b[0m\n\u001b[0m\u001b[1;32m   1189\u001b[0m \u001b[0;34m\u001b[0m\u001b[0m\n\u001b[1;32m   1190\u001b[0m \u001b[0;34m\u001b[0m\u001b[0m\n",
      "\u001b[0;32m~/anaconda3/lib/python3.8/site-packages/sklearn/model_selection/_search.py\u001b[0m in \u001b[0;36mevaluate_candidates\u001b[0;34m(candidate_params)\u001b[0m\n\u001b[1;32m    706\u001b[0m                               n_splits, n_candidates, n_candidates * n_splits))\n\u001b[1;32m    707\u001b[0m \u001b[0;34m\u001b[0m\u001b[0m\n\u001b[0;32m--> 708\u001b[0;31m                 out = parallel(delayed(_fit_and_score)(clone(base_estimator),\n\u001b[0m\u001b[1;32m    709\u001b[0m                                                        \u001b[0mX\u001b[0m\u001b[0;34m,\u001b[0m \u001b[0my\u001b[0m\u001b[0;34m,\u001b[0m\u001b[0;34m\u001b[0m\u001b[0;34m\u001b[0m\u001b[0m\n\u001b[1;32m    710\u001b[0m                                                        \u001b[0mtrain\u001b[0m\u001b[0;34m=\u001b[0m\u001b[0mtrain\u001b[0m\u001b[0;34m,\u001b[0m \u001b[0mtest\u001b[0m\u001b[0;34m=\u001b[0m\u001b[0mtest\u001b[0m\u001b[0;34m,\u001b[0m\u001b[0;34m\u001b[0m\u001b[0;34m\u001b[0m\u001b[0m\n",
      "\u001b[0;32m~/anaconda3/lib/python3.8/site-packages/joblib/parallel.py\u001b[0m in \u001b[0;36m__call__\u001b[0;34m(self, iterable)\u001b[0m\n\u001b[1;32m   1059\u001b[0m \u001b[0;34m\u001b[0m\u001b[0m\n\u001b[1;32m   1060\u001b[0m             \u001b[0;32mwith\u001b[0m \u001b[0mself\u001b[0m\u001b[0;34m.\u001b[0m\u001b[0m_backend\u001b[0m\u001b[0;34m.\u001b[0m\u001b[0mretrieval_context\u001b[0m\u001b[0;34m(\u001b[0m\u001b[0;34m)\u001b[0m\u001b[0;34m:\u001b[0m\u001b[0;34m\u001b[0m\u001b[0;34m\u001b[0m\u001b[0m\n\u001b[0;32m-> 1061\u001b[0;31m                 \u001b[0mself\u001b[0m\u001b[0;34m.\u001b[0m\u001b[0mretrieve\u001b[0m\u001b[0;34m(\u001b[0m\u001b[0;34m)\u001b[0m\u001b[0;34m\u001b[0m\u001b[0;34m\u001b[0m\u001b[0m\n\u001b[0m\u001b[1;32m   1062\u001b[0m             \u001b[0;31m# Make sure that we get a last message telling us we are done\u001b[0m\u001b[0;34m\u001b[0m\u001b[0;34m\u001b[0m\u001b[0;34m\u001b[0m\u001b[0m\n\u001b[1;32m   1063\u001b[0m             \u001b[0melapsed_time\u001b[0m \u001b[0;34m=\u001b[0m \u001b[0mtime\u001b[0m\u001b[0;34m.\u001b[0m\u001b[0mtime\u001b[0m\u001b[0;34m(\u001b[0m\u001b[0;34m)\u001b[0m \u001b[0;34m-\u001b[0m \u001b[0mself\u001b[0m\u001b[0;34m.\u001b[0m\u001b[0m_start_time\u001b[0m\u001b[0;34m\u001b[0m\u001b[0;34m\u001b[0m\u001b[0m\n",
      "\u001b[0;32m~/anaconda3/lib/python3.8/site-packages/joblib/parallel.py\u001b[0m in \u001b[0;36mretrieve\u001b[0;34m(self)\u001b[0m\n\u001b[1;32m    938\u001b[0m             \u001b[0;32mtry\u001b[0m\u001b[0;34m:\u001b[0m\u001b[0;34m\u001b[0m\u001b[0;34m\u001b[0m\u001b[0m\n\u001b[1;32m    939\u001b[0m                 \u001b[0;32mif\u001b[0m \u001b[0mgetattr\u001b[0m\u001b[0;34m(\u001b[0m\u001b[0mself\u001b[0m\u001b[0;34m.\u001b[0m\u001b[0m_backend\u001b[0m\u001b[0;34m,\u001b[0m \u001b[0;34m'supports_timeout'\u001b[0m\u001b[0;34m,\u001b[0m \u001b[0;32mFalse\u001b[0m\u001b[0;34m)\u001b[0m\u001b[0;34m:\u001b[0m\u001b[0;34m\u001b[0m\u001b[0;34m\u001b[0m\u001b[0m\n\u001b[0;32m--> 940\u001b[0;31m                     \u001b[0mself\u001b[0m\u001b[0;34m.\u001b[0m\u001b[0m_output\u001b[0m\u001b[0;34m.\u001b[0m\u001b[0mextend\u001b[0m\u001b[0;34m(\u001b[0m\u001b[0mjob\u001b[0m\u001b[0;34m.\u001b[0m\u001b[0mget\u001b[0m\u001b[0;34m(\u001b[0m\u001b[0mtimeout\u001b[0m\u001b[0;34m=\u001b[0m\u001b[0mself\u001b[0m\u001b[0;34m.\u001b[0m\u001b[0mtimeout\u001b[0m\u001b[0;34m)\u001b[0m\u001b[0;34m)\u001b[0m\u001b[0;34m\u001b[0m\u001b[0;34m\u001b[0m\u001b[0m\n\u001b[0m\u001b[1;32m    941\u001b[0m                 \u001b[0;32melse\u001b[0m\u001b[0;34m:\u001b[0m\u001b[0;34m\u001b[0m\u001b[0;34m\u001b[0m\u001b[0m\n\u001b[1;32m    942\u001b[0m                     \u001b[0mself\u001b[0m\u001b[0;34m.\u001b[0m\u001b[0m_output\u001b[0m\u001b[0;34m.\u001b[0m\u001b[0mextend\u001b[0m\u001b[0;34m(\u001b[0m\u001b[0mjob\u001b[0m\u001b[0;34m.\u001b[0m\u001b[0mget\u001b[0m\u001b[0;34m(\u001b[0m\u001b[0;34m)\u001b[0m\u001b[0;34m)\u001b[0m\u001b[0;34m\u001b[0m\u001b[0;34m\u001b[0m\u001b[0m\n",
      "\u001b[0;32m~/anaconda3/lib/python3.8/site-packages/joblib/_parallel_backends.py\u001b[0m in \u001b[0;36mwrap_future_result\u001b[0;34m(future, timeout)\u001b[0m\n\u001b[1;32m    540\u001b[0m         AsyncResults.get from multiprocessing.\"\"\"\n\u001b[1;32m    541\u001b[0m         \u001b[0;32mtry\u001b[0m\u001b[0;34m:\u001b[0m\u001b[0;34m\u001b[0m\u001b[0;34m\u001b[0m\u001b[0m\n\u001b[0;32m--> 542\u001b[0;31m             \u001b[0;32mreturn\u001b[0m \u001b[0mfuture\u001b[0m\u001b[0;34m.\u001b[0m\u001b[0mresult\u001b[0m\u001b[0;34m(\u001b[0m\u001b[0mtimeout\u001b[0m\u001b[0;34m=\u001b[0m\u001b[0mtimeout\u001b[0m\u001b[0;34m)\u001b[0m\u001b[0;34m\u001b[0m\u001b[0;34m\u001b[0m\u001b[0m\n\u001b[0m\u001b[1;32m    543\u001b[0m         \u001b[0;32mexcept\u001b[0m \u001b[0mCfTimeoutError\u001b[0m \u001b[0;32mas\u001b[0m \u001b[0me\u001b[0m\u001b[0;34m:\u001b[0m\u001b[0;34m\u001b[0m\u001b[0;34m\u001b[0m\u001b[0m\n\u001b[1;32m    544\u001b[0m             \u001b[0;32mraise\u001b[0m \u001b[0mTimeoutError\u001b[0m \u001b[0;32mfrom\u001b[0m \u001b[0me\u001b[0m\u001b[0;34m\u001b[0m\u001b[0;34m\u001b[0m\u001b[0m\n",
      "\u001b[0;32m~/anaconda3/lib/python3.8/concurrent/futures/_base.py\u001b[0m in \u001b[0;36mresult\u001b[0;34m(self, timeout)\u001b[0m\n\u001b[1;32m    432\u001b[0m                 \u001b[0;32mreturn\u001b[0m \u001b[0mself\u001b[0m\u001b[0;34m.\u001b[0m\u001b[0m__get_result\u001b[0m\u001b[0;34m(\u001b[0m\u001b[0;34m)\u001b[0m\u001b[0;34m\u001b[0m\u001b[0;34m\u001b[0m\u001b[0m\n\u001b[1;32m    433\u001b[0m \u001b[0;34m\u001b[0m\u001b[0m\n\u001b[0;32m--> 434\u001b[0;31m             \u001b[0mself\u001b[0m\u001b[0;34m.\u001b[0m\u001b[0m_condition\u001b[0m\u001b[0;34m.\u001b[0m\u001b[0mwait\u001b[0m\u001b[0;34m(\u001b[0m\u001b[0mtimeout\u001b[0m\u001b[0;34m)\u001b[0m\u001b[0;34m\u001b[0m\u001b[0;34m\u001b[0m\u001b[0m\n\u001b[0m\u001b[1;32m    435\u001b[0m \u001b[0;34m\u001b[0m\u001b[0m\n\u001b[1;32m    436\u001b[0m             \u001b[0;32mif\u001b[0m \u001b[0mself\u001b[0m\u001b[0;34m.\u001b[0m\u001b[0m_state\u001b[0m \u001b[0;32min\u001b[0m \u001b[0;34m[\u001b[0m\u001b[0mCANCELLED\u001b[0m\u001b[0;34m,\u001b[0m \u001b[0mCANCELLED_AND_NOTIFIED\u001b[0m\u001b[0;34m]\u001b[0m\u001b[0;34m:\u001b[0m\u001b[0;34m\u001b[0m\u001b[0;34m\u001b[0m\u001b[0m\n",
      "\u001b[0;32m~/anaconda3/lib/python3.8/threading.py\u001b[0m in \u001b[0;36mwait\u001b[0;34m(self, timeout)\u001b[0m\n\u001b[1;32m    300\u001b[0m         \u001b[0;32mtry\u001b[0m\u001b[0;34m:\u001b[0m    \u001b[0;31m# restore state no matter what (e.g., KeyboardInterrupt)\u001b[0m\u001b[0;34m\u001b[0m\u001b[0;34m\u001b[0m\u001b[0m\n\u001b[1;32m    301\u001b[0m             \u001b[0;32mif\u001b[0m \u001b[0mtimeout\u001b[0m \u001b[0;32mis\u001b[0m \u001b[0;32mNone\u001b[0m\u001b[0;34m:\u001b[0m\u001b[0;34m\u001b[0m\u001b[0;34m\u001b[0m\u001b[0m\n\u001b[0;32m--> 302\u001b[0;31m                 \u001b[0mwaiter\u001b[0m\u001b[0;34m.\u001b[0m\u001b[0macquire\u001b[0m\u001b[0;34m(\u001b[0m\u001b[0;34m)\u001b[0m\u001b[0;34m\u001b[0m\u001b[0;34m\u001b[0m\u001b[0m\n\u001b[0m\u001b[1;32m    303\u001b[0m                 \u001b[0mgotit\u001b[0m \u001b[0;34m=\u001b[0m \u001b[0;32mTrue\u001b[0m\u001b[0;34m\u001b[0m\u001b[0;34m\u001b[0m\u001b[0m\n\u001b[1;32m    304\u001b[0m             \u001b[0;32melse\u001b[0m\u001b[0;34m:\u001b[0m\u001b[0;34m\u001b[0m\u001b[0;34m\u001b[0m\u001b[0m\n",
      "\u001b[0;31mKeyboardInterrupt\u001b[0m: "
     ]
    }
   ],
   "source": [
    "diagn_pipe2 = Pipeline([\n",
    "    ('cst', ColumnSelectTransformer(['DIAGNOSIS'])),\n",
    "    ('dst', DiagnosisFrameTransformer()),\n",
    "    ('count',CountVectorizer(max_features=3000)),\n",
    "    ('tfid', TfidfTransformer()),\n",
    "    ('rfr', RandomForestRegressor())\n",
    "])\n",
    "\n",
    "diagn_params2 = {\n",
    "    'rfr__criterion': ['mse','mae'],\n",
    "    'rfr__max_features': ['auto', 'sqrt', 'log2'],\n",
    "    'rfr__min_samples_split': [2,5,8,11],\n",
    "    'rfr__min_samples_leaf': [1,4,7],\n",
    "    'rfr__ccp_alpha': [0,0.5,1,2]\n",
    "}\n",
    "\n",
    "diagn_gs_classifier2 = GridSearchCV(diagn_pipe2, diagn_params2, cv=KFold(n_splits=5, shuffle=True),verbose=3,n_jobs=14)\n",
    "tfidf_est2 = diagn_gs_classifier2.fit(X_train,X_train['DAYS_ADM_TO_ICU'])\n",
    "tfidf_est2.best_params_,tfidf_est2.best_score_"
   ]
  },
  {
   "cell_type": "code",
   "execution_count": null,
   "metadata": {},
   "outputs": [],
   "source": []
  }
 ],
 "metadata": {
  "kernelspec": {
   "display_name": "base",
   "language": "python",
   "name": "base"
  },
  "language_info": {
   "codemirror_mode": {
    "name": "ipython",
    "version": 3
   },
   "file_extension": ".py",
   "mimetype": "text/x-python",
   "name": "python",
   "nbconvert_exporter": "python",
   "pygments_lexer": "ipython3",
   "version": "3.8.3"
  }
 },
 "nbformat": 4,
 "nbformat_minor": 4
}
