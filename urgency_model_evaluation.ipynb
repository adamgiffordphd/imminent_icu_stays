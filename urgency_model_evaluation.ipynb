{
 "cells": [
  {
   "cell_type": "code",
   "execution_count": 1,
   "metadata": {},
   "outputs": [],
   "source": [
    "import pandas as pd\n",
    "import numpy as np\n",
    "import pickle\n",
    "\n",
    "from sklearn.compose import ColumnTransformer\n",
    "from sklearn.preprocessing import StandardScaler, OneHotEncoder, OrdinalEncoder\n",
    "from sklearn.feature_extraction.text import TfidfTransformer, CountVectorizer\n",
    "from sklearn.pipeline import Pipeline, FeatureUnion\n",
    "from sklearn.linear_model import LogisticRegression\n",
    "from customTransformers import (ColumnSelectTransformer, DiagnosisFrameTransformer, \n",
    "                                ColumnMergeTransformer\n",
    "                               )"
   ]
  },
  {
   "cell_type": "code",
   "execution_count": 2,
   "metadata": {},
   "outputs": [],
   "source": [
    "X_train, y_train = pd.read_pickle('./data/pickle/preproc/df_patient_admit_icu_notes__20210206_singleICUSTAY_TRAIN_final.pkl')"
   ]
  },
  {
   "cell_type": "code",
   "execution_count": 2,
   "metadata": {},
   "outputs": [],
   "source": [
    "file = './data/pickle/models/log__URGENCY__20210216_withTEXT_diagnNoNumerics.pkl'\n",
    "model_data = pickle.load(open(file,'rb'))"
   ]
  },
  {
   "cell_type": "code",
   "execution_count": 3,
   "metadata": {},
   "outputs": [],
   "source": [
    "num_cols = model_data['numeric_cols']\n",
    "cols = model_data['categorical_cols']\n",
    "ohe = model_data['ohe_categoricals']\n",
    "ordenc = model_data['ord_enc_y']\n",
    "fu = model_data['feature_union']\n",
    "tv = model_data['text_vect']\n",
    "est = model_data['estimator'].best_estimator_"
   ]
  },
  {
   "cell_type": "code",
   "execution_count": 32,
   "metadata": {},
   "outputs": [],
   "source": [
    "file = './data/pickle/models/log__URGENCY__20210304_forFlask_from_20210216.pkl'\n",
    "pickle.dump((text_dft, est), open(file,'wb'))"
   ]
  },
  {
   "cell_type": "code",
   "execution_count": 5,
   "metadata": {},
   "outputs": [],
   "source": [
    "# count = CountVectorizer(max_features=11000, min_df=5e-5, ngram_range=(1,2))\n",
    "# tfidf = TfidfTransformer(norm='l2')\n",
    "# reg = LogisticRegression(solver='saga', C=5, multi_class='ovr', l1_ratio=0.1, penalty='elasticnet')"
   ]
  },
  {
   "cell_type": "code",
   "execution_count": 6,
   "metadata": {},
   "outputs": [
    {
     "name": "stderr",
     "output_type": "stream",
     "text": [
      "/Users/adamgifford/anaconda3/lib/python3.8/site-packages/sklearn/utils/validation.py:72: DataConversionWarning: A column-vector y was passed when a 1d array was expected. Please change the shape of y to (n_samples, ), for example using ravel().\n",
      "  return f(**kwargs)\n",
      "/Users/adamgifford/anaconda3/lib/python3.8/site-packages/sklearn/linear_model/_sag.py:329: ConvergenceWarning: The max_iter was reached which means the coef_ did not converge\n",
      "  warnings.warn(\"The max_iter was reached which means \"\n",
      "/Users/adamgifford/anaconda3/lib/python3.8/site-packages/sklearn/linear_model/_sag.py:329: ConvergenceWarning: The max_iter was reached which means the coef_ did not converge\n",
      "  warnings.warn(\"The max_iter was reached which means \"\n",
      "/Users/adamgifford/anaconda3/lib/python3.8/site-packages/sklearn/linear_model/_sag.py:329: ConvergenceWarning: The max_iter was reached which means the coef_ did not converge\n",
      "  warnings.warn(\"The max_iter was reached which means \"\n",
      "/Users/adamgifford/anaconda3/lib/python3.8/site-packages/sklearn/linear_model/_sag.py:329: ConvergenceWarning: The max_iter was reached which means the coef_ did not converge\n",
      "  warnings.warn(\"The max_iter was reached which means \"\n"
     ]
    }
   ],
   "source": [
    "# cols = ['GENDER','ADMISSION_TYPE','ADMISSION_LOCATION','INSURANCE','LANGUAGE',\n",
    "#        'RELIGION','MARITAL_STATUS','ETHNICITY']\n",
    "# num_cols = ['ADMIT_AGE']\n",
    "\n",
    "# ohe = ColumnTransformer([('categorical', OneHotEncoder(handle_unknown='ignore'), cols)])\n",
    "# demog_feats = FeatureUnion([\n",
    "#     ('stdscl', ColumnTransformer([('numerical', StandardScaler(), num_cols)])),\n",
    "#     ('ohe',  ohe)\n",
    "# ])\n",
    "\n",
    "# text_feats = Pipeline([\n",
    "#     ('dft', DiagnosisFrameTransformer(['DIAGNOSIS'])),\n",
    "#     ('cmt', ColumnMergeTransformer(['DIAGNOSIS','TEXT'])),\n",
    "#     ('cst', ColumnSelectTransformer('DIAGNOSIS_TEXT')),\n",
    "#     ('count', count),\n",
    "#     ('tfidf', tfidf)\n",
    "# ])\n",
    "\n",
    "# feats_union = FeatureUnion([\n",
    "#     ('demog_feats', demog_feats),\n",
    "#     ('text_feats', text_feats)\n",
    "# ])\n",
    "\n",
    "# lin_pipe = Pipeline([\n",
    "#     ('features', feats_union),\n",
    "#     ('reg', reg)\n",
    "# ])\n",
    "\n",
    "# pd.set_option('mode.chained_assignment',None)\n",
    "# ordenc = OrdinalEncoder(categories=[['stable','questionable','urgent','immediate']])\n",
    "# y_train_enc = ordenc.fit_transform(pd.DataFrame(y_train)) \n",
    "\n",
    "# lin_est = lin_pipe.fit(X_train,y_train_enc)"
   ]
  },
  {
   "cell_type": "code",
   "execution_count": 5,
   "metadata": {},
   "outputs": [],
   "source": [
    "X_test, y_test = pd.read_pickle('./data/pickle/preproc/df_patient_admit_icu_notes__20210206_singleICUSTAY_TEST_final.pkl')"
   ]
  },
  {
   "cell_type": "code",
   "execution_count": 6,
   "metadata": {},
   "outputs": [],
   "source": [
    "y_test_enc = ordenc.transform(pd.DataFrame(y_test))\n",
    "y_pred = est.predict(X_test)"
   ]
  },
  {
   "cell_type": "code",
   "execution_count": 7,
   "metadata": {},
   "outputs": [],
   "source": [
    "from sklearn.metrics import plot_confusion_matrix, accuracy_score, f1_score, confusion_matrix"
   ]
  },
  {
   "cell_type": "code",
   "execution_count": 10,
   "metadata": {},
   "outputs": [
    {
     "name": "stdout",
     "output_type": "stream",
     "text": [
      "0.651414309484193\n",
      "0.642933543921841\n",
      "PRED\n"
     ]
    },
    {
     "name": "stderr",
     "output_type": "stream",
     "text": [
      "/Users/adamgifford/anaconda3/lib/python3.8/site-packages/sklearn/compose/_column_transformer.py:437: FutureWarning: Given feature/column names or counts do not match the ones for the data given during fit. This will fail from v0.24.\n",
      "  warnings.warn(\"Given feature/column names or counts do not match \"\n",
      "/Users/adamgifford/anaconda3/lib/python3.8/site-packages/sklearn/compose/_column_transformer.py:437: FutureWarning: Given feature/column names or counts do not match the ones for the data given during fit. This will fail from v0.24.\n",
      "  warnings.warn(\"Given feature/column names or counts do not match \"\n"
     ]
    },
    {
     "data": {
      "image/png": "[encoded data removed]",
      "text/plain": [
       "<Figure size 432x288 with 2 Axes>"
      ]
     },
     "metadata": {
      "needs_background": "light"
     },
     "output_type": "display_data"
    }
   ],
   "source": [
    "print(accuracy_score(y_test_enc,y_pred))\n",
    "print(f1_score(y_test_enc,y_pred, average='weighted'))\n",
    "print('PRED')\n",
    "plot_confusion_matrix(est, X_test,y_test_enc,display_labels=['stable','questionable','urgent','immediate'],normalize='pred');"
   ]
  },
  {
   "cell_type": "code",
   "execution_count": 11,
   "metadata": {},
   "outputs": [
    {
     "name": "stdout",
     "output_type": "stream",
     "text": [
      "TRUE\n"
     ]
    },
    {
     "name": "stderr",
     "output_type": "stream",
     "text": [
      "/Users/adamgifford/anaconda3/lib/python3.8/site-packages/sklearn/compose/_column_transformer.py:437: FutureWarning: Given feature/column names or counts do not match the ones for the data given during fit. This will fail from v0.24.\n",
      "  warnings.warn(\"Given feature/column names or counts do not match \"\n",
      "/Users/adamgifford/anaconda3/lib/python3.8/site-packages/sklearn/compose/_column_transformer.py:437: FutureWarning: Given feature/column names or counts do not match the ones for the data given during fit. This will fail from v0.24.\n",
      "  warnings.warn(\"Given feature/column names or counts do not match \"\n"
     ]
    },
    {
     "data": {
      "image/png": "[encoded data removed]",
      "text/plain": [
       "<Figure size 432x288 with 2 Axes>"
      ]
     },
     "metadata": {
      "needs_background": "light"
     },
     "output_type": "display_data"
    }
   ],
   "source": [
    "print('TRUE')\n",
    "plot_confusion_matrix(est, X_test,y_test_enc,display_labels=['stable','questionable','urgent','immediate'],normalize='true');"
   ]
  },
  {
   "cell_type": "code",
   "execution_count": 12,
   "metadata": {},
   "outputs": [],
   "source": [
    "from bokeh.plotting import figure, output_notebook, show\n",
    "from bokeh.palettes import Viridis256\n",
    "from bokeh.models import LinearColorMapper, ColumnDataSource, ColorBar"
   ]
  },
  {
   "cell_type": "code",
   "execution_count": 13,
   "metadata": {},
   "outputs": [
    {
     "data": {
      "text/html": [
       "\n",
       "    <div class=\"bk-root\">\n",
       "        <a href=\"https://bokeh.org\" target=\"_blank\" class=\"bk-logo bk-logo-small bk-logo-notebook\"></a>\n",
       "        <span id=\"1001\">Loading BokehJS ...</span>\n",
       "    </div>"
      ]
     },
     "metadata": {},
     "output_type": "display_data"
    },
    {
     "data": {
      "application/javascript": [
       "\n",
       "(function(root) {\n",
       "  function now() {\n",
       "    return new Date();\n",
       "  }\n",
       "\n",
       "  var force = true;\n",
       "\n",
       "  if (typeof root._bokeh_onload_callbacks === \"undefined\" || force === true) {\n",
       "    root._bokeh_onload_callbacks = [];\n",
       "    root._bokeh_is_loading = undefined;\n",
       "  }\n",
       "\n",
       "  var JS_MIME_TYPE = 'application/javascript';\n",
       "  var HTML_MIME_TYPE = 'text/html';\n",
       "  var EXEC_MIME_TYPE = 'application/vnd.bokehjs_exec.v0+json';\n",
       "  var CLASS_NAME = 'output_bokeh rendered_html';\n",
       "\n",
       "  /**\n",
       "   * Render data to the DOM node\n",
       "   */\n",
       "  function render(props, node) {\n",
       "    var script = document.createElement(\"script\");\n",
       "    node.appendChild(script);\n",
       "  }\n",
       "\n",
       "  /**\n",
       "   * Handle when an output is cleared or removed\n",
       "   */\n",
       "  function handleClearOutput(event, handle) {\n",
       "    var cell = handle.cell;\n",
       "\n",
       "    var id = cell.output_area._bokeh_element_id;\n",
       "    var server_id = cell.output_area._bokeh_server_id;\n",
       "    // Clean up Bokeh references\n",
       "    if (id != null && id in Bokeh.index) {\n",
       "      Bokeh.index[id].model.document.clear();\n",
       "      delete Bokeh.index[id];\n",
       "    }\n",
       "\n",
       "    if (server_id !== undefined) {\n",
       "      // Clean up Bokeh references\n",
       "      var cmd = \"from bokeh.io.state import curstate; print(curstate().uuid_to_server['\" + server_id + \"'].get_sessions()[0].document.roots[0]._id)\";\n",
       "      cell.notebook.kernel.execute(cmd, {\n",
       "        iopub: {\n",
       "          output: function(msg) {\n",
       "            var id = msg.content.text.trim();\n",
       "            if (id in Bokeh.index) {\n",
       "              Bokeh.index[id].model.document.clear();\n",
       "              delete Bokeh.index[id];\n",
       "            }\n",
       "          }\n",
       "        }\n",
       "      });\n",
       "      // Destroy server and session\n",
       "      var cmd = \"import bokeh.io.notebook as ion; ion.destroy_server('\" + server_id + \"')\";\n",
       "      cell.notebook.kernel.execute(cmd);\n",
       "    }\n",
       "  }\n",
       "\n",
       "  /**\n",
       "   * Handle when a new output is added\n",
       "   */\n",
       "  function handleAddOutput(event, handle) {\n",
       "    var output_area = handle.output_area;\n",
       "    var output = handle.output;\n",
       "\n",
       "    // limit handleAddOutput to display_data with EXEC_MIME_TYPE content only\n",
       "    if ((output.output_type != \"display_data\") || (!output.data.hasOwnProperty(EXEC_MIME_TYPE))) {\n",
       "      return\n",
       "    }\n",
       "\n",
       "    var toinsert = output_area.element.find(\".\" + CLASS_NAME.split(' ')[0]);\n",
       "\n",
       "    if (output.metadata[EXEC_MIME_TYPE][\"id\"] !== undefined) {\n",
       "      toinsert[toinsert.length - 1].firstChild.textContent = output.data[JS_MIME_TYPE];\n",
       "      // store reference to embed id on output_area\n",
       "      output_area._bokeh_element_id = output.metadata[EXEC_MIME_TYPE][\"id\"];\n",
       "    }\n",
       "    if (output.metadata[EXEC_MIME_TYPE][\"server_id\"] !== undefined) {\n",
       "      var bk_div = document.createElement(\"div\");\n",
       "      bk_div.innerHTML = output.data[HTML_MIME_TYPE];\n",
       "      var script_attrs = bk_div.children[0].attributes;\n",
       "      for (var i = 0; i < script_attrs.length; i++) {\n",
       "        toinsert[toinsert.length - 1].firstChild.setAttribute(script_attrs[i].name, script_attrs[i].value);\n",
       "        toinsert[toinsert.length - 1].firstChild.textContent = bk_div.children[0].textContent\n",
       "      }\n",
       "      // store reference to server id on output_area\n",
       "      output_area._bokeh_server_id = output.metadata[EXEC_MIME_TYPE][\"server_id\"];\n",
       "    }\n",
       "  }\n",
       "\n",
       "  function register_renderer(events, OutputArea) {\n",
       "\n",
       "    function append_mime(data, metadata, element) {\n",
       "      // create a DOM node to render to\n",
       "      var toinsert = this.create_output_subarea(\n",
       "        metadata,\n",
       "        CLASS_NAME,\n",
       "        EXEC_MIME_TYPE\n",
       "      );\n",
       "      this.keyboard_manager.register_events(toinsert);\n",
       "      // Render to node\n",
       "      var props = {data: data, metadata: metadata[EXEC_MIME_TYPE]};\n",
       "      render(props, toinsert[toinsert.length - 1]);\n",
       "      element.append(toinsert);\n",
       "      return toinsert\n",
       "    }\n",
       "\n",
       "    /* Handle when an output is cleared or removed */\n",
       "    events.on('clear_output.CodeCell', handleClearOutput);\n",
       "    events.on('delete.Cell', handleClearOutput);\n",
       "\n",
       "    /* Handle when a new output is added */\n",
       "    events.on('output_added.OutputArea', handleAddOutput);\n",
       "\n",
       "    /**\n",
       "     * Register the mime type and append_mime function with output_area\n",
       "     */\n",
       "    OutputArea.prototype.register_mime_type(EXEC_MIME_TYPE, append_mime, {\n",
       "      /* Is output safe? */\n",
       "      safe: true,\n",
       "      /* Index of renderer in `output_area.display_order` */\n",
       "      index: 0\n",
       "    });\n",
       "  }\n",
       "\n",
       "  // register the mime type if in Jupyter Notebook environment and previously unregistered\n",
       "  if (root.Jupyter !== undefined) {\n",
       "    var events = require('base/js/events');\n",
       "    var OutputArea = require('notebook/js/outputarea').OutputArea;\n",
       "\n",
       "    if (OutputArea.prototype.mime_types().indexOf(EXEC_MIME_TYPE) == -1) {\n",
       "      register_renderer(events, OutputArea);\n",
       "    }\n",
       "  }\n",
       "\n",
       "  \n",
       "  if (typeof (root._bokeh_timeout) === \"undefined\" || force === true) {\n",
       "    root._bokeh_timeout = Date.now() + 5000;\n",
       "    root._bokeh_failed_load = false;\n",
       "  }\n",
       "\n",
       "  var NB_LOAD_WARNING = {'data': {'text/html':\n",
       "     \"<div style='background-color: #fdd'>\\n\"+\n",
       "     \"<p>\\n\"+\n",
       "     \"BokehJS does not appear to have successfully loaded. If loading BokehJS from CDN, this \\n\"+\n",
       "     \"may be due to a slow or bad network connection. Possible fixes:\\n\"+\n",
       "     \"</p>\\n\"+\n",
       "     \"<ul>\\n\"+\n",
       "     \"<li>re-rerun `output_notebook()` to attempt to load from CDN again, or</li>\\n\"+\n",
       "     \"<li>use INLINE resources instead, as so:</li>\\n\"+\n",
       "     \"</ul>\\n\"+\n",
       "     \"<code>\\n\"+\n",
       "     \"from bokeh.resources import INLINE\\n\"+\n",
       "     \"output_notebook(resources=INLINE)\\n\"+\n",
       "     \"</code>\\n\"+\n",
       "     \"</div>\"}};\n",
       "\n",
       "  function display_loaded() {\n",
       "    var el = document.getElementById(\"1001\");\n",
       "    if (el != null) {\n",
       "      el.textContent = \"BokehJS is loading...\";\n",
       "    }\n",
       "    if (root.Bokeh !== undefined) {\n",
       "      if (el != null) {\n",
       "        el.textContent = \"BokehJS \" + root.Bokeh.version + \" successfully loaded.\";\n",
       "      }\n",
       "    } else if (Date.now() < root._bokeh_timeout) {\n",
       "      setTimeout(display_loaded, 100)\n",
       "    }\n",
       "  }\n",
       "\n",
       "\n",
       "  function run_callbacks() {\n",
       "    try {\n",
       "      root._bokeh_onload_callbacks.forEach(function(callback) {\n",
       "        if (callback != null)\n",
       "          callback();\n",
       "      });\n",
       "    } finally {\n",
       "      delete root._bokeh_onload_callbacks\n",
       "    }\n",
       "    console.debug(\"Bokeh: all callbacks have finished\");\n",
       "  }\n",
       "\n",
       "  function load_libs(css_urls, js_urls, callback) {\n",
       "    if (css_urls == null) css_urls = [];\n",
       "    if (js_urls == null) js_urls = [];\n",
       "\n",
       "    root._bokeh_onload_callbacks.push(callback);\n",
       "    if (root._bokeh_is_loading > 0) {\n",
       "      console.debug(\"Bokeh: BokehJS is being loaded, scheduling callback at\", now());\n",
       "      return null;\n",
       "    }\n",
       "    if (js_urls == null || js_urls.length === 0) {\n",
       "      run_callbacks();\n",
       "      return null;\n",
       "    }\n",
       "    console.debug(\"Bokeh: BokehJS not loaded, scheduling load and callback at\", now());\n",
       "    root._bokeh_is_loading = css_urls.length + js_urls.length;\n",
       "\n",
       "    function on_load() {\n",
       "      root._bokeh_is_loading--;\n",
       "      if (root._bokeh_is_loading === 0) {\n",
       "        console.debug(\"Bokeh: all BokehJS libraries/stylesheets loaded\");\n",
       "        run_callbacks()\n",
       "      }\n",
       "    }\n",
       "\n",
       "    function on_error() {\n",
       "      console.error(\"failed to load \" + url);\n",
       "    }\n",
       "\n",
       "    for (var i = 0; i < css_urls.length; i++) {\n",
       "      var url = css_urls[i];\n",
       "      const element = document.createElement(\"link\");\n",
       "      element.onload = on_load;\n",
       "      element.onerror = on_error;\n",
       "      element.rel = \"stylesheet\";\n",
       "      element.type = \"text/css\";\n",
       "      element.href = url;\n",
       "      console.debug(\"Bokeh: injecting link tag for BokehJS stylesheet: \", url);\n",
       "      document.body.appendChild(element);\n",
       "    }\n",
       "\n",
       "    const hashes = {\"https://cdn.bokeh.org/bokeh/release/bokeh-2.2.3.min.js\": \"T2yuo9Oe71Cz/I4X9Ac5+gpEa5a8PpJCDlqKYO0CfAuEszu1JrXLl8YugMqYe3sM\", \"https://cdn.bokeh.org/bokeh/release/bokeh-widgets-2.2.3.min.js\": \"98GDGJ0kOMCUMUePhksaQ/GYgB3+NH9h996V88sh3aOiUNX3N+fLXAtry6xctSZ6\", \"https://cdn.bokeh.org/bokeh/release/bokeh-tables-2.2.3.min.js\": \"89bArO+nlbP3sgakeHjCo1JYxYR5wufVgA3IbUvDY+K7w4zyxJqssu7wVnfeKCq8\"};\n",
       "\n",
       "    for (var i = 0; i < js_urls.length; i++) {\n",
       "      var url = js_urls[i];\n",
       "      var element = document.createElement('script');\n",
       "      element.onload = on_load;\n",
       "      element.onerror = on_error;\n",
       "      element.async = false;\n",
       "      element.src = url;\n",
       "      if (url in hashes) {\n",
       "        element.crossOrigin = \"anonymous\";\n",
       "        element.integrity = \"sha384-\" + hashes[url];\n",
       "      }\n",
       "      console.debug(\"Bokeh: injecting script tag for BokehJS library: \", url);\n",
       "      document.head.appendChild(element);\n",
       "    }\n",
       "  };\n",
       "\n",
       "  function inject_raw_css(css) {\n",
       "    const element = document.createElement(\"style\");\n",
       "    element.appendChild(document.createTextNode(css));\n",
       "    document.body.appendChild(element);\n",
       "  }\n",
       "\n",
       "  \n",
       "  var js_urls = [\"https://cdn.bokeh.org/bokeh/release/bokeh-2.2.3.min.js\", \"https://cdn.bokeh.org/bokeh/release/bokeh-widgets-2.2.3.min.js\", \"https://cdn.bokeh.org/bokeh/release/bokeh-tables-2.2.3.min.js\"];\n",
       "  var css_urls = [];\n",
       "  \n",
       "\n",
       "  var inline_js = [\n",
       "    function(Bokeh) {\n",
       "      Bokeh.set_log_level(\"info\");\n",
       "    },\n",
       "    function(Bokeh) {\n",
       "    \n",
       "    \n",
       "    }\n",
       "  ];\n",
       "\n",
       "  function run_inline_js() {\n",
       "    \n",
       "    if (root.Bokeh !== undefined || force === true) {\n",
       "      \n",
       "    for (var i = 0; i < inline_js.length; i++) {\n",
       "      inline_js[i].call(root, root.Bokeh);\n",
       "    }\n",
       "    if (force === true) {\n",
       "        display_loaded();\n",
       "      }} else if (Date.now() < root._bokeh_timeout) {\n",
       "      setTimeout(run_inline_js, 100);\n",
       "    } else if (!root._bokeh_failed_load) {\n",
       "      console.log(\"Bokeh: BokehJS failed to load within specified timeout.\");\n",
       "      root._bokeh_failed_load = true;\n",
       "    } else if (force !== true) {\n",
       "      var cell = $(document.getElementById(\"1001\")).parents('.cell').data().cell;\n",
       "      cell.output_area.append_execute_result(NB_LOAD_WARNING)\n",
       "    }\n",
       "\n",
       "  }\n",
       "\n",
       "  if (root._bokeh_is_loading === 0) {\n",
       "    console.debug(\"Bokeh: BokehJS loaded, going straight to plotting\");\n",
       "    run_inline_js();\n",
       "  } else {\n",
       "    load_libs(css_urls, js_urls, function() {\n",
       "      console.debug(\"Bokeh: BokehJS plotting callback run at\", now());\n",
       "      run_inline_js();\n",
       "    });\n",
       "  }\n",
       "}(window));"
      ],
      "application/vnd.bokehjs_load.v0+json": "\n(function(root) {\n  function now() {\n    return new Date();\n  }\n\n  var force = true;\n\n  if (typeof root._bokeh_onload_callbacks === \"undefined\" || force === true) {\n    root._bokeh_onload_callbacks = [];\n    root._bokeh_is_loading = undefined;\n  }\n\n  \n\n  \n  if (typeof (root._bokeh_timeout) === \"undefined\" || force === true) {\n    root._bokeh_timeout = Date.now() + 5000;\n    root._bokeh_failed_load = false;\n  }\n\n  var NB_LOAD_WARNING = {'data': {'text/html':\n     \"<div style='background-color: #fdd'>\\n\"+\n     \"<p>\\n\"+\n     \"BokehJS does not appear to have successfully loaded. If loading BokehJS from CDN, this \\n\"+\n     \"may be due to a slow or bad network connection. Possible fixes:\\n\"+\n     \"</p>\\n\"+\n     \"<ul>\\n\"+\n     \"<li>re-rerun `output_notebook()` to attempt to load from CDN again, or</li>\\n\"+\n     \"<li>use INLINE resources instead, as so:</li>\\n\"+\n     \"</ul>\\n\"+\n     \"<code>\\n\"+\n     \"from bokeh.resources import INLINE\\n\"+\n     \"output_notebook(resources=INLINE)\\n\"+\n     \"</code>\\n\"+\n     \"</div>\"}};\n\n  function display_loaded() {\n    var el = document.getElementById(\"1001\");\n    if (el != null) {\n      el.textContent = \"BokehJS is loading...\";\n    }\n    if (root.Bokeh !== undefined) {\n      if (el != null) {\n        el.textContent = \"BokehJS \" + root.Bokeh.version + \" successfully loaded.\";\n      }\n    } else if (Date.now() < root._bokeh_timeout) {\n      setTimeout(display_loaded, 100)\n    }\n  }\n\n\n  function run_callbacks() {\n    try {\n      root._bokeh_onload_callbacks.forEach(function(callback) {\n        if (callback != null)\n          callback();\n      });\n    } finally {\n      delete root._bokeh_onload_callbacks\n    }\n    console.debug(\"Bokeh: all callbacks have finished\");\n  }\n\n  function load_libs(css_urls, js_urls, callback) {\n    if (css_urls == null) css_urls = [];\n    if (js_urls == null) js_urls = [];\n\n    root._bokeh_onload_callbacks.push(callback);\n    if (root._bokeh_is_loading > 0) {\n      console.debug(\"Bokeh: BokehJS is being loaded, scheduling callback at\", now());\n      return null;\n    }\n    if (js_urls == null || js_urls.length === 0) {\n      run_callbacks();\n      return null;\n    }\n    console.debug(\"Bokeh: BokehJS not loaded, scheduling load and callback at\", now());\n    root._bokeh_is_loading = css_urls.length + js_urls.length;\n\n    function on_load() {\n      root._bokeh_is_loading--;\n      if (root._bokeh_is_loading === 0) {\n        console.debug(\"Bokeh: all BokehJS libraries/stylesheets loaded\");\n        run_callbacks()\n      }\n    }\n\n    function on_error() {\n      console.error(\"failed to load \" + url);\n    }\n\n    for (var i = 0; i < css_urls.length; i++) {\n      var url = css_urls[i];\n      const element = document.createElement(\"link\");\n      element.onload = on_load;\n      element.onerror = on_error;\n      element.rel = \"stylesheet\";\n      element.type = \"text/css\";\n      element.href = url;\n      console.debug(\"Bokeh: injecting link tag for BokehJS stylesheet: \", url);\n      document.body.appendChild(element);\n    }\n\n    const hashes = {\"https://cdn.bokeh.org/bokeh/release/bokeh-2.2.3.min.js\": \"T2yuo9Oe71Cz/I4X9Ac5+gpEa5a8PpJCDlqKYO0CfAuEszu1JrXLl8YugMqYe3sM\", \"https://cdn.bokeh.org/bokeh/release/bokeh-widgets-2.2.3.min.js\": \"98GDGJ0kOMCUMUePhksaQ/GYgB3+NH9h996V88sh3aOiUNX3N+fLXAtry6xctSZ6\", \"https://cdn.bokeh.org/bokeh/release/bokeh-tables-2.2.3.min.js\": \"89bArO+nlbP3sgakeHjCo1JYxYR5wufVgA3IbUvDY+K7w4zyxJqssu7wVnfeKCq8\"};\n\n    for (var i = 0; i < js_urls.length; i++) {\n      var url = js_urls[i];\n      var element = document.createElement('script');\n      element.onload = on_load;\n      element.onerror = on_error;\n      element.async = false;\n      element.src = url;\n      if (url in hashes) {\n        element.crossOrigin = \"anonymous\";\n        element.integrity = \"sha384-\" + hashes[url];\n      }\n      console.debug(\"Bokeh: injecting script tag for BokehJS library: \", url);\n      document.head.appendChild(element);\n    }\n  };\n\n  function inject_raw_css(css) {\n    const element = document.createElement(\"style\");\n    element.appendChild(document.createTextNode(css));\n    document.body.appendChild(element);\n  }\n\n  \n  var js_urls = [\"https://cdn.bokeh.org/bokeh/release/bokeh-2.2.3.min.js\", \"https://cdn.bokeh.org/bokeh/release/bokeh-widgets-2.2.3.min.js\", \"https://cdn.bokeh.org/bokeh/release/bokeh-tables-2.2.3.min.js\"];\n  var css_urls = [];\n  \n\n  var inline_js = [\n    function(Bokeh) {\n      Bokeh.set_log_level(\"info\");\n    },\n    function(Bokeh) {\n    \n    \n    }\n  ];\n\n  function run_inline_js() {\n    \n    if (root.Bokeh !== undefined || force === true) {\n      \n    for (var i = 0; i < inline_js.length; i++) {\n      inline_js[i].call(root, root.Bokeh);\n    }\n    if (force === true) {\n        display_loaded();\n      }} else if (Date.now() < root._bokeh_timeout) {\n      setTimeout(run_inline_js, 100);\n    } else if (!root._bokeh_failed_load) {\n      console.log(\"Bokeh: BokehJS failed to load within specified timeout.\");\n      root._bokeh_failed_load = true;\n    } else if (force !== true) {\n      var cell = $(document.getElementById(\"1001\")).parents('.cell').data().cell;\n      cell.output_area.append_execute_result(NB_LOAD_WARNING)\n    }\n\n  }\n\n  if (root._bokeh_is_loading === 0) {\n    console.debug(\"Bokeh: BokehJS loaded, going straight to plotting\");\n    run_inline_js();\n  } else {\n    load_libs(css_urls, js_urls, function() {\n      console.debug(\"Bokeh: BokehJS plotting callback run at\", now());\n      run_inline_js();\n    });\n  }\n}(window));"
     },
     "metadata": {},
     "output_type": "display_data"
    }
   ],
   "source": [
    "output_notebook()"
   ]
  },
  {
   "cell_type": "code",
   "execution_count": 9,
   "metadata": {},
   "outputs": [],
   "source": [
    "labels = ['stable','questionable','urgent','immediate']\n",
    "y_true_labels = [labels[int(y[0])] for y in y_test_enc]\n",
    "y_pred_labels = [labels[int(y)] for y in y_pred]\n",
    "\n",
    "# perf = {'y_pred': ,\n",
    "#           'counts': confusion_matrix(y_test_enc,y_pred).ravel(),\n",
    "#           'y_true': }\n",
    "\n",
    "matrix = confusion_matrix(y_test_enc,y_pred)\n",
    "pred = matrix/matrix.sum(axis=0)\n",
    "true = matrix / matrix.sum(axis=1)[:,None]\n",
    "all_ = matrix/matrix.sum()\n",
    "# ('s','s'), ('q','s'), ('u','s'), ('i', 's')"
   ]
  },
  {
   "cell_type": "code",
   "execution_count": 14,
   "metadata": {},
   "outputs": [
    {
     "data": {
      "text/html": [
       "\n",
       "\n",
       "\n",
       "\n",
       "\n",
       "\n",
       "  <div class=\"bk-root\" id=\"601a43c8-a08c-4574-a8d0-b689977aec9f\" data-root-id=\"1220\"></div>\n"
      ]
     },
     "metadata": {},
     "output_type": "display_data"
    },
    {
     "data": {
      "application/javascript": [
       "(function(root) {\n",
       "  function embed_document(root) {\n",
       "    \n",
       "  var docs_json = {\"a7af88fa-28d1-4b67-87d3-78c2ba3ec4ee\":{\"roots\":{\"references\":[{\"attributes\":{\"below\":[{\"id\":\"1231\"}],\"center\":[{\"id\":\"1233\"},{\"id\":\"1236\"}],\"left\":[{\"id\":\"1234\"}],\"plot_height\":500,\"renderers\":[{\"id\":\"1256\"}],\"right\":[{\"id\":\"1219\"}],\"title\":{\"id\":\"1221\"},\"toolbar\":{\"id\":\"1245\"},\"toolbar_location\":null,\"x_range\":{\"id\":\"1223\"},\"x_scale\":{\"id\":\"1227\"},\"y_range\":{\"id\":\"1225\"},\"y_scale\":{\"id\":\"1229\"}},\"id\":\"1220\",\"subtype\":\"Figure\",\"type\":\"Plot\"},{\"attributes\":{\"active_drag\":\"auto\",\"active_inspect\":\"auto\",\"active_multi\":null,\"active_scroll\":\"auto\",\"active_tap\":\"auto\",\"tools\":[{\"id\":\"1237\"},{\"id\":\"1238\"},{\"id\":\"1239\"},{\"id\":\"1240\"},{\"id\":\"1241\"},{\"id\":\"1242\"},{\"id\":\"1244\"}]},\"id\":\"1245\",\"type\":\"Toolbar\"},{\"attributes\":{\"callback\":null,\"tooltips\":[[\"(Pred., True)\",\"(@x, @y)\"],[\"Raw Count\",\"@raw\"],[\"Norm. by True\",\"@true{1.111}\"],[\"Norm. by Pred.\",\"@pred{1.111}\"],[\"Norm. by Total\",\"@all{1.111}\"]]},\"id\":\"1244\",\"type\":\"HoverTool\"},{\"attributes\":{\"factors\":[\"immediate\",\"urgent\",\"questionable\",\"stable\"]},\"id\":\"1225\",\"type\":\"FactorRange\"},{\"attributes\":{\"color_mapper\":{\"id\":\"1218\"},\"formatter\":{\"id\":\"1284\"},\"location\":[0,0],\"ticker\":{\"id\":\"1283\"}},\"id\":\"1219\",\"type\":\"ColorBar\"},{\"attributes\":{\"data\":{\"all\":{\"__ndarray__\":\"sfv6KWkSqz+b02nEigyXPyRGdp3hQaA/XIdURvLhej8FWlK0Xk+TP8DD2JxOI7Y/MPEY0f74sz8HcKEN4EKLP1sTh5pfnIg/Zu1od4V8qT/BlJnzRfrYP/JdXwGDMJ8/Wf03Qd6oYD8vw2TPopCAP6pVLo05QLM/rfYkk3stvz8=\",\"dtype\":\"float64\",\"order\":\"little\",\"shape\":[16]},\"pred\":{\"__ndarray__\":\"EpZ7GmG54z/3tbHHgETBPxHHF+L4Qqw/g4HDc+mFoz/3NMJyTyPMP61neUjFleA/V4ThijBcwT8Oz6UXTsyzP4TlnkZY7sE/FAnADvgX0z9t9a6t3rXlP4+z8TuipsY/7mmE5Z5GmD+zZKLj59GoPy+03IWWu8A/IqHSFm+k5j8=\",\"dtype\":\"float64\",\"order\":\"little\",\"shape\":[16]},\"raw\":[1144,487,687,142,408,1871,1688,288,260,1077,8444,659,44,175,1627,2635],\"true\":{\"__ndarray__\":\"w50z3DnD3T9X+W+V/1bJP+CB+B2I39E/jh3f2PGNrT8aUcQfEIy4P31/p+BWJNw/GosITrFj2T+LhHslz1OxP4OyQox9gJk/EIymB8Fouj/5cfM/yuHpP4Q3rZXNKLA/JAWmphschD/XzW1+2/6jPwjvqPPXPNc/ihOq3zXR4j8=\",\"dtype\":\"float64\",\"order\":\"little\",\"shape\":[16]},\"x\":[\"stable\",\"stable\",\"stable\",\"stable\",\"questionable\",\"questionable\",\"questionable\",\"questionable\",\"urgent\",\"urgent\",\"urgent\",\"urgent\",\"immediate\",\"immediate\",\"immediate\",\"immediate\"],\"y\":[\"stable\",\"questionable\",\"urgent\",\"immediate\",\"stable\",\"questionable\",\"urgent\",\"immediate\",\"stable\",\"questionable\",\"urgent\",\"immediate\",\"stable\",\"questionable\",\"urgent\",\"immediate\"]},\"selected\":{\"id\":\"1286\"},\"selection_policy\":{\"id\":\"1285\"}},\"id\":\"1217\",\"type\":\"ColumnDataSource\"},{\"attributes\":{\"source\":{\"id\":\"1217\"}},\"id\":\"1257\",\"type\":\"CDSView\"},{\"attributes\":{\"axis\":{\"id\":\"1231\"},\"ticker\":null},\"id\":\"1233\",\"type\":\"Grid\"},{\"attributes\":{},\"id\":\"1280\",\"type\":\"CategoricalTickFormatter\"},{\"attributes\":{\"bottom_units\":\"screen\",\"fill_alpha\":0.5,\"fill_color\":\"lightgrey\",\"left_units\":\"screen\",\"level\":\"overlay\",\"line_alpha\":1.0,\"line_color\":\"black\",\"line_dash\":[4,4],\"line_width\":2,\"right_units\":\"screen\",\"top_units\":\"screen\"},\"id\":\"1243\",\"type\":\"BoxAnnotation\"},{\"attributes\":{},\"id\":\"1227\",\"type\":\"CategoricalScale\"},{\"attributes\":{\"fill_color\":{\"field\":\"true\",\"transform\":{\"id\":\"1218\"}},\"height\":{\"units\":\"data\",\"value\":1},\"width\":{\"units\":\"data\",\"value\":1},\"x\":{\"field\":\"y\"},\"y\":{\"field\":\"x\"}},\"id\":\"1254\",\"type\":\"Rect\"},{\"attributes\":{\"text\":\"Confusion Matrix\",\"text_font_size\":{\"value\":\"16pt\"}},\"id\":\"1221\",\"type\":\"Title\"},{\"attributes\":{},\"id\":\"1232\",\"type\":\"CategoricalTicker\"},{\"attributes\":{},\"id\":\"1235\",\"type\":\"CategoricalTicker\"},{\"attributes\":{\"high\":0.8088122605363984,\"low\":0,\"palette\":[\"#440154\",\"#440255\",\"#440357\",\"#450558\",\"#45065A\",\"#45085B\",\"#46095C\",\"#460B5E\",\"#460C5F\",\"#460E61\",\"#470F62\",\"#471163\",\"#471265\",\"#471466\",\"#471567\",\"#471669\",\"#47186A\",\"#48196B\",\"#481A6C\",\"#481C6E\",\"#481D6F\",\"#481E70\",\"#482071\",\"#482172\",\"#482273\",\"#482374\",\"#472575\",\"#472676\",\"#472777\",\"#472878\",\"#472A79\",\"#472B7A\",\"#472C7B\",\"#462D7C\",\"#462F7C\",\"#46307D\",\"#46317E\",\"#45327F\",\"#45347F\",\"#453580\",\"#453681\",\"#443781\",\"#443982\",\"#433A83\",\"#433B83\",\"#433C84\",\"#423D84\",\"#423E85\",\"#424085\",\"#414186\",\"#414286\",\"#404387\",\"#404487\",\"#3F4587\",\"#3F4788\",\"#3E4888\",\"#3E4989\",\"#3D4A89\",\"#3D4B89\",\"#3D4C89\",\"#3C4D8A\",\"#3C4E8A\",\"#3B508A\",\"#3B518A\",\"#3A528B\",\"#3A538B\",\"#39548B\",\"#39558B\",\"#38568B\",\"#38578C\",\"#37588C\",\"#37598C\",\"#365A8C\",\"#365B8C\",\"#355C8C\",\"#355D8C\",\"#345E8D\",\"#345F8D\",\"#33608D\",\"#33618D\",\"#32628D\",\"#32638D\",\"#31648D\",\"#31658D\",\"#31668D\",\"#30678D\",\"#30688D\",\"#2F698D\",\"#2F6A8D\",\"#2E6B8E\",\"#2E6C8E\",\"#2E6D8E\",\"#2D6E8E\",\"#2D6F8E\",\"#2C708E\",\"#2C718E\",\"#2C728E\",\"#2B738E\",\"#2B748E\",\"#2A758E\",\"#2A768E\",\"#2A778E\",\"#29788E\",\"#29798E\",\"#287A8E\",\"#287A8E\",\"#287B8E\",\"#277C8E\",\"#277D8E\",\"#277E8E\",\"#267F8E\",\"#26808E\",\"#26818E\",\"#25828E\",\"#25838D\",\"#24848D\",\"#24858D\",\"#24868D\",\"#23878D\",\"#23888D\",\"#23898D\",\"#22898D\",\"#228A8D\",\"#228B8D\",\"#218C8D\",\"#218D8C\",\"#218E8C\",\"#208F8C\",\"#20908C\",\"#20918C\",\"#1F928C\",\"#1F938B\",\"#1F948B\",\"#1F958B\",\"#1F968B\",\"#1E978A\",\"#1E988A\",\"#1E998A\",\"#1E998A\",\"#1E9A89\",\"#1E9B89\",\"#1E9C89\",\"#1E9D88\",\"#1E9E88\",\"#1E9F88\",\"#1EA087\",\"#1FA187\",\"#1FA286\",\"#1FA386\",\"#20A485\",\"#20A585\",\"#21A685\",\"#21A784\",\"#22A784\",\"#23A883\",\"#23A982\",\"#24AA82\",\"#25AB81\",\"#26AC81\",\"#27AD80\",\"#28AE7F\",\"#29AF7F\",\"#2AB07E\",\"#2BB17D\",\"#2CB17D\",\"#2EB27C\",\"#2FB37B\",\"#30B47A\",\"#32B57A\",\"#33B679\",\"#35B778\",\"#36B877\",\"#38B976\",\"#39B976\",\"#3BBA75\",\"#3DBB74\",\"#3EBC73\",\"#40BD72\",\"#42BE71\",\"#44BE70\",\"#45BF6F\",\"#47C06E\",\"#49C16D\",\"#4BC26C\",\"#4DC26B\",\"#4FC369\",\"#51C468\",\"#53C567\",\"#55C666\",\"#57C665\",\"#59C764\",\"#5BC862\",\"#5EC961\",\"#60C960\",\"#62CA5F\",\"#64CB5D\",\"#67CC5C\",\"#69CC5B\",\"#6BCD59\",\"#6DCE58\",\"#70CE56\",\"#72CF55\",\"#74D054\",\"#77D052\",\"#79D151\",\"#7CD24F\",\"#7ED24E\",\"#81D34C\",\"#83D34B\",\"#86D449\",\"#88D547\",\"#8BD546\",\"#8DD644\",\"#90D643\",\"#92D741\",\"#95D73F\",\"#97D83E\",\"#9AD83C\",\"#9DD93A\",\"#9FD938\",\"#A2DA37\",\"#A5DA35\",\"#A7DB33\",\"#AADB32\",\"#ADDC30\",\"#AFDC2E\",\"#B2DD2C\",\"#B5DD2B\",\"#B7DD29\",\"#BADE27\",\"#BDDE26\",\"#BFDF24\",\"#C2DF22\",\"#C5DF21\",\"#C7E01F\",\"#CAE01E\",\"#CDE01D\",\"#CFE11C\",\"#D2E11B\",\"#D4E11A\",\"#D7E219\",\"#DAE218\",\"#DCE218\",\"#DFE318\",\"#E1E318\",\"#E4E318\",\"#E7E419\",\"#E9E419\",\"#ECE41A\",\"#EEE51B\",\"#F1E51C\",\"#F3E51E\",\"#F6E61F\",\"#F8E621\",\"#FAE622\",\"#FDE724\"]},\"id\":\"1218\",\"type\":\"LinearColorMapper\"},{\"attributes\":{\"fill_alpha\":{\"value\":0.1},\"fill_color\":{\"field\":\"true\",\"transform\":{\"id\":\"1218\"}},\"height\":{\"units\":\"data\",\"value\":1},\"line_alpha\":{\"value\":0.1},\"width\":{\"units\":\"data\",\"value\":1},\"x\":{\"field\":\"y\"},\"y\":{\"field\":\"x\"}},\"id\":\"1255\",\"type\":\"Rect\"},{\"attributes\":{\"data_source\":{\"id\":\"1217\"},\"glyph\":{\"id\":\"1254\"},\"hover_glyph\":null,\"muted_glyph\":null,\"nonselection_glyph\":{\"id\":\"1255\"},\"selection_glyph\":null,\"view\":{\"id\":\"1257\"}},\"id\":\"1256\",\"type\":\"GlyphRenderer\"},{\"attributes\":{},\"id\":\"1285\",\"type\":\"UnionRenderers\"},{\"attributes\":{\"factors\":[\"stable\",\"questionable\",\"urgent\",\"immediate\"]},\"id\":\"1223\",\"type\":\"FactorRange\"},{\"attributes\":{},\"id\":\"1229\",\"type\":\"CategoricalScale\"},{\"attributes\":{\"axis\":{\"id\":\"1234\"},\"dimension\":1,\"ticker\":null},\"id\":\"1236\",\"type\":\"Grid\"},{\"attributes\":{},\"id\":\"1283\",\"type\":\"BasicTicker\"},{\"attributes\":{},\"id\":\"1286\",\"type\":\"Selection\"},{\"attributes\":{},\"id\":\"1282\",\"type\":\"CategoricalTickFormatter\"},{\"attributes\":{\"overlay\":{\"id\":\"1243\"}},\"id\":\"1239\",\"type\":\"BoxZoomTool\"},{\"attributes\":{},\"id\":\"1240\",\"type\":\"SaveTool\"},{\"attributes\":{},\"id\":\"1241\",\"type\":\"ResetTool\"},{\"attributes\":{},\"id\":\"1242\",\"type\":\"HelpTool\"},{\"attributes\":{\"axis_label\":\"Predicted\",\"axis_label_text_font_size\":\"14pt\",\"formatter\":{\"id\":\"1280\"},\"major_label_text_font_size\":\"11pt\",\"ticker\":{\"id\":\"1232\"}},\"id\":\"1231\",\"type\":\"CategoricalAxis\"},{\"attributes\":{},\"id\":\"1238\",\"type\":\"WheelZoomTool\"},{\"attributes\":{},\"id\":\"1237\",\"type\":\"PanTool\"},{\"attributes\":{},\"id\":\"1284\",\"type\":\"BasicTickFormatter\"},{\"attributes\":{\"axis_label\":\"True\",\"axis_label_text_font_size\":\"14pt\",\"formatter\":{\"id\":\"1282\"},\"major_label_text_font_size\":\"11pt\",\"ticker\":{\"id\":\"1235\"}},\"id\":\"1234\",\"type\":\"CategoricalAxis\"}],\"root_ids\":[\"1220\"]},\"title\":\"Bokeh Application\",\"version\":\"2.2.3\"}};\n",
       "  var render_items = [{\"docid\":\"a7af88fa-28d1-4b67-87d3-78c2ba3ec4ee\",\"root_ids\":[\"1220\"],\"roots\":{\"1220\":\"601a43c8-a08c-4574-a8d0-b689977aec9f\"}}];\n",
       "  root.Bokeh.embed.embed_items_notebook(docs_json, render_items);\n",
       "\n",
       "  }\n",
       "  if (root.Bokeh !== undefined) {\n",
       "    embed_document(root);\n",
       "  } else {\n",
       "    var attempts = 0;\n",
       "    var timer = setInterval(function(root) {\n",
       "      if (root.Bokeh !== undefined) {\n",
       "        clearInterval(timer);\n",
       "        embed_document(root);\n",
       "      } else {\n",
       "        attempts++;\n",
       "        if (attempts > 100) {\n",
       "          clearInterval(timer);\n",
       "          console.log(\"Bokeh: ERROR: Unable to run BokehJS code because BokehJS library is missing\");\n",
       "        }\n",
       "      }\n",
       "    }, 10, root)\n",
       "  }\n",
       "})(window);"
      ],
      "application/vnd.bokehjs_exec.v0+json": ""
     },
     "metadata": {
      "application/vnd.bokehjs_exec.v0+json": {
       "id": "1220"
      }
     },
     "output_type": "display_data"
    }
   ],
   "source": [
    "data_dict = {\n",
    "    'y' : ['stable', 'questionable', 'urgent', 'immediate',\n",
    "           'stable', 'questionable', 'urgent', 'immediate',\n",
    "           'stable', 'questionable', 'urgent', 'immediate',\n",
    "           'stable', 'questionable', 'urgent', 'immediate',],\n",
    "    'x' : ['stable','stable','stable','stable',\n",
    "                    'questionable','questionable','questionable','questionable',\n",
    "                    'urgent','urgent','urgent','urgent',\n",
    "                    'immediate','immediate','immediate','immediate'],\n",
    "    'raw': matrix.ravel(),\n",
    "    'true': true.ravel(),\n",
    "    'pred': pred.ravel(),\n",
    "    'all': all_.ravel()\n",
    "}\n",
    "source = ColumnDataSource(data=data_dict)\n",
    "\n",
    "mapper = LinearColorMapper(\n",
    "    palette='Viridis256',\n",
    "    low=0,\n",
    "    high=true.max()\n",
    ")\n",
    "colors= { 'field': true, 'transform': mapper}\n",
    "color_bar = ColorBar( color_mapper=mapper, location=( 0, 0))\n",
    "\n",
    "TOOLTIPS = [\n",
    "    (\"(Pred., True)\", \"(@x, @y)\"),\n",
    "    (\"Raw Count\", \"@raw\"),\n",
    "    (\"Norm. by True\", \"@true{1.111}\"),\n",
    "    (\"Norm. by Pred.\", \"@pred{1.111}\"),\n",
    "    (\"Norm. by Total\", \"@all{1.111}\")\n",
    "]\n",
    "\n",
    "p = figure(title=\"Confusion Matrix\", tooltips=TOOLTIPS, toolbar_location=None,\n",
    "            x_range=labels, y_range=labels[-1::-1], plot_height=500, plot_width=600)\n",
    "p.rect('y', 'x', source=source, fill_color={'field': 'true', 'transform': mapper}, line_color='black', width=1, height=1)\n",
    "p.add_layout(color_bar, 'right')\n",
    "\n",
    "p.xaxis.axis_label = 'Predicted'\n",
    "p.yaxis.axis_label = 'True'\n",
    "p.title.text_font_size = '16pt'\n",
    "p.yaxis.axis_label_text_font_size = '14pt'\n",
    "p.xaxis.axis_label_text_font_size = '14pt'\n",
    "p.yaxis.major_label_text_font_size = '11pt'\n",
    "p.xaxis.major_label_text_font_size = '11pt'\n",
    "    \n",
    "show(p)"
   ]
  },
  {
   "cell_type": "code",
   "execution_count": 14,
   "metadata": {},
   "outputs": [
    {
     "data": {
      "text/html": [
       "\n",
       "\n",
       "\n",
       "\n",
       "\n",
       "\n",
       "  <div class=\"bk-root\" id=\"1adae5b2-3cca-442a-803b-e9ce50e2d412\" data-root-id=\"1045\"></div>\n"
      ]
     },
     "metadata": {},
     "output_type": "display_data"
    },
    {
     "data": {
      "application/javascript": [
       "(function(root) {\n",
       "  function embed_document(root) {\n",
       "    \n",
       "  var docs_json = {\"8517ee0f-995b-4ea5-bd91-929dce0b08d8\":{\"roots\":{\"references\":[{\"attributes\":{\"children\":[{\"id\":\"1043\"},{\"id\":\"1005\"}]},\"id\":\"1045\",\"type\":\"Column\"},{\"attributes\":{\"source\":{\"id\":\"1002\"}},\"id\":\"1042\",\"type\":\"CDSView\"},{\"attributes\":{\"args\":{\"fig\":{\"id\":\"1005\"},\"rect\":{\"id\":\"1041\"},\"select\":{\"id\":\"1043\"},\"source\":{\"id\":\"1002\"}},\"code\":\"\\n    var data = source.data;\\n    var f = select.value;\\n    const {transform} = rect.glyph.fill_color;\\n    switch(f) {\\n       case \\\"Raw Counts\\\":\\n           data['color'] = data['raw'];\\n           break;\\n       case \\\"Normalize by True Labels\\\":\\n           data['color'] = data['true'];\\n           break;\\n       case \\\"Normalize by Predicted Labels\\\":\\n           data['color'] = data['pred'];\\n           break;\\n       case \\\"Normalize by Total\\\":\\n           data['color'] = data['all'];\\n           break;\\n       default:\\n           data['color'] = data['true'];\\n    }\\n    transform.low = 0;\\n    transform.high = Math.max.apply(Math,data['color']);\\n    rect.glyph.fill_color = {field: 'color', transform: transform};\\n    // necessary becasue we mutated source.data in-place\\n    source.change.emit();\\n\"},\"id\":\"1044\",\"type\":\"CustomJS\"},{\"attributes\":{},\"id\":\"1051\",\"type\":\"BasicTickFormatter\"},{\"attributes\":{\"high\":0.8088122605363984,\"low\":0,\"palette\":[\"#440154\",\"#440255\",\"#440357\",\"#450558\",\"#45065A\",\"#45085B\",\"#46095C\",\"#460B5E\",\"#460C5F\",\"#460E61\",\"#470F62\",\"#471163\",\"#471265\",\"#471466\",\"#471567\",\"#471669\",\"#47186A\",\"#48196B\",\"#481A6C\",\"#481C6E\",\"#481D6F\",\"#481E70\",\"#482071\",\"#482172\",\"#482273\",\"#482374\",\"#472575\",\"#472676\",\"#472777\",\"#472878\",\"#472A79\",\"#472B7A\",\"#472C7B\",\"#462D7C\",\"#462F7C\",\"#46307D\",\"#46317E\",\"#45327F\",\"#45347F\",\"#453580\",\"#453681\",\"#443781\",\"#443982\",\"#433A83\",\"#433B83\",\"#433C84\",\"#423D84\",\"#423E85\",\"#424085\",\"#414186\",\"#414286\",\"#404387\",\"#404487\",\"#3F4587\",\"#3F4788\",\"#3E4888\",\"#3E4989\",\"#3D4A89\",\"#3D4B89\",\"#3D4C89\",\"#3C4D8A\",\"#3C4E8A\",\"#3B508A\",\"#3B518A\",\"#3A528B\",\"#3A538B\",\"#39548B\",\"#39558B\",\"#38568B\",\"#38578C\",\"#37588C\",\"#37598C\",\"#365A8C\",\"#365B8C\",\"#355C8C\",\"#355D8C\",\"#345E8D\",\"#345F8D\",\"#33608D\",\"#33618D\",\"#32628D\",\"#32638D\",\"#31648D\",\"#31658D\",\"#31668D\",\"#30678D\",\"#30688D\",\"#2F698D\",\"#2F6A8D\",\"#2E6B8E\",\"#2E6C8E\",\"#2E6D8E\",\"#2D6E8E\",\"#2D6F8E\",\"#2C708E\",\"#2C718E\",\"#2C728E\",\"#2B738E\",\"#2B748E\",\"#2A758E\",\"#2A768E\",\"#2A778E\",\"#29788E\",\"#29798E\",\"#287A8E\",\"#287A8E\",\"#287B8E\",\"#277C8E\",\"#277D8E\",\"#277E8E\",\"#267F8E\",\"#26808E\",\"#26818E\",\"#25828E\",\"#25838D\",\"#24848D\",\"#24858D\",\"#24868D\",\"#23878D\",\"#23888D\",\"#23898D\",\"#22898D\",\"#228A8D\",\"#228B8D\",\"#218C8D\",\"#218D8C\",\"#218E8C\",\"#208F8C\",\"#20908C\",\"#20918C\",\"#1F928C\",\"#1F938B\",\"#1F948B\",\"#1F958B\",\"#1F968B\",\"#1E978A\",\"#1E988A\",\"#1E998A\",\"#1E998A\",\"#1E9A89\",\"#1E9B89\",\"#1E9C89\",\"#1E9D88\",\"#1E9E88\",\"#1E9F88\",\"#1EA087\",\"#1FA187\",\"#1FA286\",\"#1FA386\",\"#20A485\",\"#20A585\",\"#21A685\",\"#21A784\",\"#22A784\",\"#23A883\",\"#23A982\",\"#24AA82\",\"#25AB81\",\"#26AC81\",\"#27AD80\",\"#28AE7F\",\"#29AF7F\",\"#2AB07E\",\"#2BB17D\",\"#2CB17D\",\"#2EB27C\",\"#2FB37B\",\"#30B47A\",\"#32B57A\",\"#33B679\",\"#35B778\",\"#36B877\",\"#38B976\",\"#39B976\",\"#3BBA75\",\"#3DBB74\",\"#3EBC73\",\"#40BD72\",\"#42BE71\",\"#44BE70\",\"#45BF6F\",\"#47C06E\",\"#49C16D\",\"#4BC26C\",\"#4DC26B\",\"#4FC369\",\"#51C468\",\"#53C567\",\"#55C666\",\"#57C665\",\"#59C764\",\"#5BC862\",\"#5EC961\",\"#60C960\",\"#62CA5F\",\"#64CB5D\",\"#67CC5C\",\"#69CC5B\",\"#6BCD59\",\"#6DCE58\",\"#70CE56\",\"#72CF55\",\"#74D054\",\"#77D052\",\"#79D151\",\"#7CD24F\",\"#7ED24E\",\"#81D34C\",\"#83D34B\",\"#86D449\",\"#88D547\",\"#8BD546\",\"#8DD644\",\"#90D643\",\"#92D741\",\"#95D73F\",\"#97D83E\",\"#9AD83C\",\"#9DD93A\",\"#9FD938\",\"#A2DA37\",\"#A5DA35\",\"#A7DB33\",\"#AADB32\",\"#ADDC30\",\"#AFDC2E\",\"#B2DD2C\",\"#B5DD2B\",\"#B7DD29\",\"#BADE27\",\"#BDDE26\",\"#BFDF24\",\"#C2DF22\",\"#C5DF21\",\"#C7E01F\",\"#CAE01E\",\"#CDE01D\",\"#CFE11C\",\"#D2E11B\",\"#D4E11A\",\"#D7E219\",\"#DAE218\",\"#DCE218\",\"#DFE318\",\"#E1E318\",\"#E4E318\",\"#E7E419\",\"#E9E419\",\"#ECE41A\",\"#EEE51B\",\"#F1E51C\",\"#F3E51E\",\"#F6E61F\",\"#F8E621\",\"#FAE622\",\"#FDE724\"]},\"id\":\"1003\",\"type\":\"LinearColorMapper\"},{\"attributes\":{},\"id\":\"1052\",\"type\":\"BasicTicker\"},{\"attributes\":{\"data\":{\"all\":{\"__ndarray__\":\"sfv6KWkSqz+b02nEigyXPyRGdp3hQaA/XIdURvLhej8FWlK0Xk+TP8DD2JxOI7Y/MPEY0f74sz8HcKEN4EKLP1sTh5pfnIg/Zu1od4V8qT/BlJnzRfrYP/JdXwGDMJ8/Wf03Qd6oYD8vw2TPopCAP6pVLo05QLM/rfYkk3stvz8=\",\"dtype\":\"float64\",\"order\":\"little\",\"shape\":[16]},\"color\":{\"__ndarray__\":\"w50z3DnD3T9X+W+V/1bJP+CB+B2I39E/jh3f2PGNrT8aUcQfEIy4P31/p+BWJNw/GosITrFj2T+LhHslz1OxP4OyQox9gJk/EIymB8Fouj/5cfM/yuHpP4Q3rZXNKLA/JAWmphschD/XzW1+2/6jPwjvqPPXPNc/ihOq3zXR4j8=\",\"dtype\":\"float64\",\"order\":\"little\",\"shape\":[16]},\"pred\":{\"__ndarray__\":\"EpZ7GmG54z/3tbHHgETBPxHHF+L4Qqw/g4HDc+mFoz/3NMJyTyPMP61neUjFleA/V4ThijBcwT8Oz6UXTsyzP4TlnkZY7sE/FAnADvgX0z9t9a6t3rXlP4+z8TuipsY/7mmE5Z5GmD+zZKLj59GoPy+03IWWu8A/IqHSFm+k5j8=\",\"dtype\":\"float64\",\"order\":\"little\",\"shape\":[16]},\"raw\":[1144,487,687,142,408,1871,1688,288,260,1077,8444,659,44,175,1627,2635],\"true\":{\"__ndarray__\":\"w50z3DnD3T9X+W+V/1bJP+CB+B2I39E/jh3f2PGNrT8aUcQfEIy4P31/p+BWJNw/GosITrFj2T+LhHslz1OxP4OyQox9gJk/EIymB8Fouj/5cfM/yuHpP4Q3rZXNKLA/JAWmphschD/XzW1+2/6jPwjvqPPXPNc/ihOq3zXR4j8=\",\"dtype\":\"float64\",\"order\":\"little\",\"shape\":[16]},\"x\":[\"stable\",\"stable\",\"stable\",\"stable\",\"questionable\",\"questionable\",\"questionable\",\"questionable\",\"urgent\",\"urgent\",\"urgent\",\"urgent\",\"immediate\",\"immediate\",\"immediate\",\"immediate\"],\"y\":[\"stable\",\"questionable\",\"urgent\",\"immediate\",\"stable\",\"questionable\",\"urgent\",\"immediate\",\"stable\",\"questionable\",\"urgent\",\"immediate\",\"stable\",\"questionable\",\"urgent\",\"immediate\"]},\"selected\":{\"id\":\"1053\"},\"selection_policy\":{\"id\":\"1054\"}},\"id\":\"1002\",\"type\":\"ColumnDataSource\"},{\"attributes\":{},\"id\":\"1053\",\"type\":\"Selection\"},{\"attributes\":{\"color_mapper\":{\"id\":\"1003\"},\"formatter\":{\"id\":\"1051\"},\"location\":[0,0],\"ticker\":{\"id\":\"1052\"}},\"id\":\"1004\",\"type\":\"ColorBar\"},{\"attributes\":{},\"id\":\"1054\",\"type\":\"UnionRenderers\"},{\"attributes\":{\"below\":[{\"id\":\"1016\"}],\"center\":[{\"id\":\"1018\"},{\"id\":\"1021\"}],\"left\":[{\"id\":\"1019\"}],\"plot_height\":500,\"renderers\":[{\"id\":\"1041\"}],\"right\":[{\"id\":\"1004\"}],\"title\":{\"id\":\"1006\"},\"toolbar\":{\"id\":\"1030\"},\"toolbar_location\":null,\"x_range\":{\"id\":\"1008\"},\"x_scale\":{\"id\":\"1012\"},\"y_range\":{\"id\":\"1010\"},\"y_scale\":{\"id\":\"1014\"}},\"id\":\"1005\",\"subtype\":\"Figure\",\"type\":\"Plot\"},{\"attributes\":{\"text\":\"Confusion Matrix\",\"text_font_size\":{\"value\":\"16pt\"}},\"id\":\"1006\",\"type\":\"Title\"},{\"attributes\":{\"factors\":[\"immediate\",\"urgent\",\"questionable\",\"stable\"]},\"id\":\"1010\",\"type\":\"FactorRange\"},{\"attributes\":{\"fill_color\":{\"field\":\"color\",\"transform\":{\"id\":\"1003\"}},\"height\":{\"units\":\"data\",\"value\":1},\"width\":{\"units\":\"data\",\"value\":1},\"x\":{\"field\":\"y\"},\"y\":{\"field\":\"x\"}},\"id\":\"1039\",\"type\":\"Rect\"},{\"attributes\":{\"bottom_units\":\"screen\",\"fill_alpha\":0.5,\"fill_color\":\"lightgrey\",\"left_units\":\"screen\",\"level\":\"overlay\",\"line_alpha\":1.0,\"line_color\":\"black\",\"line_dash\":[4,4],\"line_width\":2,\"right_units\":\"screen\",\"top_units\":\"screen\"},\"id\":\"1028\",\"type\":\"BoxAnnotation\"},{\"attributes\":{},\"id\":\"1014\",\"type\":\"CategoricalScale\"},{\"attributes\":{},\"id\":\"1027\",\"type\":\"HelpTool\"},{\"attributes\":{\"factors\":[\"stable\",\"questionable\",\"urgent\",\"immediate\"]},\"id\":\"1008\",\"type\":\"FactorRange\"},{\"attributes\":{},\"id\":\"1017\",\"type\":\"CategoricalTicker\"},{\"attributes\":{\"axis_label\":\"True\",\"axis_label_text_font_size\":\"14pt\",\"formatter\":{\"id\":\"1047\"},\"major_label_text_font_size\":\"11pt\",\"ticker\":{\"id\":\"1020\"}},\"id\":\"1019\",\"type\":\"CategoricalAxis\"},{\"attributes\":{},\"id\":\"1012\",\"type\":\"CategoricalScale\"},{\"attributes\":{\"axis_label\":\"Predicted\",\"axis_label_text_font_size\":\"14pt\",\"formatter\":{\"id\":\"1049\"},\"major_label_text_font_size\":\"11pt\",\"ticker\":{\"id\":\"1017\"}},\"id\":\"1016\",\"type\":\"CategoricalAxis\"},{\"attributes\":{\"axis\":{\"id\":\"1016\"},\"ticker\":null},\"id\":\"1018\",\"type\":\"Grid\"},{\"attributes\":{\"callback\":null,\"tooltips\":[[\"(Pred., True)\",\"(@x, @y)\"],[\"Raw Count\",\"@raw\"],[\"Norm. by True\",\"@true{1.111}\"],[\"Norm. by Pred.\",\"@pred{1.111}\"],[\"Norm. by Total\",\"@all{1.111}\"]]},\"id\":\"1029\",\"type\":\"HoverTool\"},{\"attributes\":{\"axis\":{\"id\":\"1019\"},\"dimension\":1,\"ticker\":null},\"id\":\"1021\",\"type\":\"Grid\"},{\"attributes\":{},\"id\":\"1020\",\"type\":\"CategoricalTicker\"},{\"attributes\":{\"fill_alpha\":{\"value\":0.1},\"fill_color\":{\"field\":\"color\",\"transform\":{\"id\":\"1003\"}},\"height\":{\"units\":\"data\",\"value\":1},\"line_alpha\":{\"value\":0.1},\"width\":{\"units\":\"data\",\"value\":1},\"x\":{\"field\":\"y\"},\"y\":{\"field\":\"x\"}},\"id\":\"1040\",\"type\":\"Rect\"},{\"attributes\":{},\"id\":\"1023\",\"type\":\"WheelZoomTool\"},{\"attributes\":{},\"id\":\"1022\",\"type\":\"PanTool\"},{\"attributes\":{},\"id\":\"1047\",\"type\":\"CategoricalTickFormatter\"},{\"attributes\":{\"data_source\":{\"id\":\"1002\"},\"glyph\":{\"id\":\"1039\"},\"hover_glyph\":null,\"muted_glyph\":null,\"nonselection_glyph\":{\"id\":\"1040\"},\"selection_glyph\":null,\"view\":{\"id\":\"1042\"}},\"id\":\"1041\",\"type\":\"GlyphRenderer\"},{\"attributes\":{\"overlay\":{\"id\":\"1028\"}},\"id\":\"1024\",\"type\":\"BoxZoomTool\"},{\"attributes\":{},\"id\":\"1025\",\"type\":\"SaveTool\"},{\"attributes\":{},\"id\":\"1049\",\"type\":\"CategoricalTickFormatter\"},{\"attributes\":{},\"id\":\"1026\",\"type\":\"ResetTool\"},{\"attributes\":{\"active_drag\":\"auto\",\"active_inspect\":\"auto\",\"active_multi\":null,\"active_scroll\":\"auto\",\"active_tap\":\"auto\",\"tools\":[{\"id\":\"1022\"},{\"id\":\"1023\"},{\"id\":\"1024\"},{\"id\":\"1025\"},{\"id\":\"1026\"},{\"id\":\"1027\"},{\"id\":\"1029\"}]},\"id\":\"1030\",\"type\":\"Toolbar\"},{\"attributes\":{\"js_property_callbacks\":{\"change:value\":[{\"id\":\"1044\"}]},\"options\":[\"Raw Counts\",\"Normalize by True Labels\",\"Normalize by Predicted Labels\",\"Normalize by Total\"],\"title\":\"Plot Options:\",\"value\":\"Normalize by True Labels\"},\"id\":\"1043\",\"type\":\"Select\"}],\"root_ids\":[\"1045\"]},\"title\":\"Bokeh Application\",\"version\":\"2.2.3\"}};\n",
       "  var render_items = [{\"docid\":\"8517ee0f-995b-4ea5-bd91-929dce0b08d8\",\"root_ids\":[\"1045\"],\"roots\":{\"1045\":\"1adae5b2-3cca-442a-803b-e9ce50e2d412\"}}];\n",
       "  root.Bokeh.embed.embed_items_notebook(docs_json, render_items);\n",
       "\n",
       "  }\n",
       "  if (root.Bokeh !== undefined) {\n",
       "    embed_document(root);\n",
       "  } else {\n",
       "    var attempts = 0;\n",
       "    var timer = setInterval(function(root) {\n",
       "      if (root.Bokeh !== undefined) {\n",
       "        clearInterval(timer);\n",
       "        embed_document(root);\n",
       "      } else {\n",
       "        attempts++;\n",
       "        if (attempts > 100) {\n",
       "          clearInterval(timer);\n",
       "          console.log(\"Bokeh: ERROR: Unable to run BokehJS code because BokehJS library is missing\");\n",
       "        }\n",
       "      }\n",
       "    }, 10, root)\n",
       "  }\n",
       "})(window);"
      ],
      "application/vnd.bokehjs_exec.v0+json": ""
     },
     "metadata": {
      "application/vnd.bokehjs_exec.v0+json": {
       "id": "1045"
      }
     },
     "output_type": "display_data"
    }
   ],
   "source": [
    "from bokeh.models import CustomJS, Select\n",
    "from bokeh.layouts import column\n",
    "from copy import copy\n",
    "\n",
    "data_dict = {\n",
    "    'y' : ['stable', 'questionable', 'urgent', 'immediate',\n",
    "           'stable', 'questionable', 'urgent', 'immediate',\n",
    "           'stable', 'questionable', 'urgent', 'immediate',\n",
    "           'stable', 'questionable', 'urgent', 'immediate',],\n",
    "    'x' : ['stable','stable','stable','stable',\n",
    "                    'questionable','questionable','questionable','questionable',\n",
    "                    'urgent','urgent','urgent','urgent',\n",
    "                    'immediate','immediate','immediate','immediate'],\n",
    "    'raw': matrix.ravel(),\n",
    "    'true': true.ravel(),\n",
    "    'pred': pred.ravel(),\n",
    "    'all': all_.ravel(),\n",
    "    'color': copy(true.ravel())\n",
    "}\n",
    "source = ColumnDataSource(data=data_dict)\n",
    "\n",
    "mapper = LinearColorMapper(\n",
    "    palette='Viridis256',\n",
    "    low=0,\n",
    "    high=max(true.max(),pred.max(),all_.max())\n",
    ")\n",
    "colors= { 'field': true, 'transform': mapper}\n",
    "color_bar = ColorBar( color_mapper=mapper, location=( 0, 0))\n",
    "\n",
    "TOOLTIPS = [\n",
    "    (\"(Pred., True)\", \"(@x, @y)\"),\n",
    "    (\"Raw Count\", \"@raw\"),\n",
    "    (\"Norm. by True\", \"@true{1.111}\"),\n",
    "    (\"Norm. by Pred.\", \"@pred{1.111}\"),\n",
    "    (\"Norm. by Total\", \"@all{1.111}\")\n",
    "]\n",
    "\n",
    "fig = figure(title=\"Confusion Matrix\", tooltips=TOOLTIPS, toolbar_location=None,\n",
    "            x_range=labels, y_range=labels[-1::-1], plot_height=500, plot_width=600)\n",
    "rect = fig.rect('y', 'x', source=source, fill_color={'field': 'color', 'transform': mapper}, line_color='black', width=1, height=1)\n",
    "fig.add_layout(color_bar, 'right')\n",
    "\n",
    "fig.xaxis.axis_label = 'Predicted'\n",
    "fig.yaxis.axis_label = 'True'\n",
    "fig.title.text_font_size = '16pt'\n",
    "fig.yaxis.axis_label_text_font_size = '14pt'\n",
    "fig.xaxis.axis_label_text_font_size = '14pt'\n",
    "fig.yaxis.major_label_text_font_size = '11pt'\n",
    "fig.xaxis.major_label_text_font_size = '11pt'\n",
    "\n",
    "opts = ['Raw Counts', 'Normalize by True Labels', 'Normalize by Predicted Labels', 'Normalize by Total']\n",
    "select = Select(title=\"Plot Options:\", value=opts[1], options=opts)\n",
    "\n",
    "codec = \"\"\"\n",
    "    var data = source.data;\n",
    "    var f = select.value;\n",
    "    const {transform} = rect.glyph.fill_color;\n",
    "    switch(f) {\n",
    "       case \"Raw Counts\":\n",
    "           data['color'] = data['raw'];\n",
    "           break;\n",
    "       case \"Normalize by True Labels\":\n",
    "           data['color'] = data['true'];\n",
    "           break;\n",
    "       case \"Normalize by Predicted Labels\":\n",
    "           data['color'] = data['pred'];\n",
    "           break;\n",
    "       case \"Normalize by Total\":\n",
    "           data['color'] = data['all'];\n",
    "           break;\n",
    "       default:\n",
    "           data['color'] = data['true'];\n",
    "    }\n",
    "    transform.low = 0;\n",
    "    transform.high = Math.max.apply(Math,data['color']);\n",
    "    rect.glyph.fill_color = {field: 'color', transform: transform};\n",
    "    // necessary becasue we mutated source.data in-place\n",
    "    source.change.emit();\n",
    "\"\"\"\n",
    "update_cm = CustomJS(args=dict(source=source, select=select, rect=rect, \n",
    "                               fig=fig), code=codec)\n",
    "\n",
    "# update_cm = CustomJS(args=dict(source=source, select=select), code=\"\"\"\n",
    "#     var data = source.data;\n",
    "#     var f = select.value;\n",
    "#     switch(f) {\n",
    "#        case \"Raw Counts\":\n",
    "#            data['color'] = data['raw'];\n",
    "#            break;\n",
    "#        case \"Normalize by True Labels\":\n",
    "#            data['color'] = data['true'];\n",
    "#            break;\n",
    "#        case \"Normalize by Predicted Labels\":\n",
    "#            data['color'] = data['pred'];\n",
    "#            break;\n",
    "#        case \"Normalize by Total\":\n",
    "#            data['color'] = data['all'];\n",
    "#            break;\n",
    "#        default:\n",
    "#            data['color'] = data['true'];\n",
    "#     }    \n",
    "#     // necessary becasue we mutated source.data in-place\n",
    "#     source.change.emit();\n",
    "# \"\"\")\n",
    "\n",
    "select.js_on_change('value', update_cm)\n",
    "\n",
    "show(column(select, fig))"
   ]
  },
  {
   "cell_type": "code",
   "execution_count": 11,
   "metadata": {},
   "outputs": [],
   "source": [
    "file = './data/pickle/performance/cf__URGENCY__for_model_20210216.pkl'\n",
    "pickle.dump(data_dict,open(file,'wb'))"
   ]
  },
  {
   "cell_type": "code",
   "execution_count": 18,
   "metadata": {},
   "outputs": [
    {
     "data": {
      "text/plain": [
       "array([0.46504065, 0.19796748, 0.27926829, 0.05772358, 0.09588719,\n",
       "       0.43971798, 0.39670975, 0.06768508, 0.02490421, 0.10316092,\n",
       "       0.80881226, 0.06312261, 0.00981924, 0.03905378, 0.3630886 ,\n",
       "       0.58803838])"
      ]
     },
     "execution_count": 18,
     "metadata": {},
     "output_type": "execute_result"
    }
   ],
   "source": [
    "data_dict['color'][:100]"
   ]
  },
  {
   "cell_type": "code",
   "execution_count": null,
   "metadata": {},
   "outputs": [],
   "source": [
    "from bokeh.layouts import Column"
   ]
  },
  {
   "cell_type": "code",
   "execution_count": 18,
   "metadata": {},
   "outputs": [],
   "source": [
    "mask = np.array([p==t for p,t in zip(y_pred,y_test_enc)]).ravel()"
   ]
  },
  {
   "cell_type": "code",
   "execution_count": 19,
   "metadata": {},
   "outputs": [],
   "source": [
    "X_test_corr = X_test[mask]"
   ]
  },
  {
   "cell_type": "code",
   "execution_count": 20,
   "metadata": {},
   "outputs": [
    {
     "data": {
      "text/plain": [
       "((1144, 23), (1871, 23), (8444, 23), (2635, 23))"
      ]
     },
     "execution_count": 20,
     "metadata": {},
     "output_type": "execute_result"
    }
   ],
   "source": [
    "X_text_corr_s = X_test_corr[X_test_corr['ICU_URGENCY']=='stable']\n",
    "X_text_corr_q = X_test_corr[X_test_corr['ICU_URGENCY']=='questionable']\n",
    "X_text_corr_u = X_test_corr[X_test_corr['ICU_URGENCY']=='urgent']\n",
    "X_text_corr_i = X_test_corr[X_test_corr['ICU_URGENCY']=='immediate']\n",
    "(X_text_corr_s.shape, X_text_corr_q.shape, X_text_corr_u.shape, X_text_corr_i.shape)"
   ]
  },
  {
   "cell_type": "code",
   "execution_count": 21,
   "metadata": {},
   "outputs": [],
   "source": [
    "from bokeh.palettes import Spectral4\n",
    "from bokeh.models import ColumnDataSource, HoverTool\n",
    "\n",
    "def make_urgency_plot(y_pred_proba):\n",
    "    factors = ['stable','questionable','urgent','immediate']\n",
    "    source = ColumnDataSource(data=dict(factors=factors, probs=y_pred_proba, color=Spectral4))\n",
    "    \n",
    "    hover = HoverTool(\n",
    "        tooltips=[\n",
    "            (\"Level\", \"@factors\"),\n",
    "            (\"Probability\", \"@probs\"),\n",
    "        ]\n",
    "    )\n",
    "    \n",
    "    ttl = \"IC-U Risk Factor: {}\".format(factors[y_pred_proba.argmax()].upper())\n",
    "    p = figure(x_range=factors, plot_height=250, title=ttl,\n",
    "            plot_width=300, tools=[hover])\n",
    "\n",
    "    p.vbar(x='factors', top='probs', color='color', width=0.4, source=source)\n",
    "\n",
    "    p.xgrid.grid_line_color = None\n",
    "    p.y_range.start = 0\n",
    "    p.yaxis.axis_label = 'P(category)'\n",
    "\n",
    "    return p"
   ]
  },
  {
   "cell_type": "code",
   "execution_count": 22,
   "metadata": {},
   "outputs": [],
   "source": [
    "def getFeatureNames(categorical,bow,numerical=['ADMIT_AGE']):\n",
    "    feature_names = numerical\n",
    "    feature_names.extend([c.split('_')[-1] for c in categorical.get_feature_names()])\n",
    "    feature_names.extend(bow.get_feature_names())\n",
    "    \n",
    "    return feature_names"
   ]
  },
  {
   "cell_type": "code",
   "execution_count": 23,
   "metadata": {},
   "outputs": [],
   "source": [
    "def createFeatureCoeffDict(coefs,features):\n",
    "    feats_coeffs = [(f, c) for c,f in zip(coefs,features)]\n",
    "    return feats_coeffs"
   ]
  },
  {
   "cell_type": "code",
   "execution_count": 24,
   "metadata": {},
   "outputs": [],
   "source": [
    "def getMostImportantFeaturesUrg(feature_imp_urg, x_test, n_most=4):\n",
    "    x_test = fu.transform(x_test).toarray()[0]\n",
    "    total = sum([abs(fs[1]) for fs in feature_imp_urg])\n",
    "    features_scores = [(f[0], x * f[1] / total) for x,f in zip(x_test,feature_imp_urg)]\n",
    "    most_important = sorted(features_scores, key=lambda x: abs(x[1]))\n",
    "    return most_important[-n_most:]"
   ]
  },
  {
   "cell_type": "code",
   "execution_count": 25,
   "metadata": {},
   "outputs": [],
   "source": [
    "def make_urgency_factors_plot(most_imp_feats_urg):\n",
    "    y = [m[0] for m in most_imp_feats_urg]\n",
    "    x = [abs(m[1]) for m in most_imp_feats_urg]\n",
    "    x = [val/max(x) for val in x]\n",
    "\n",
    "    source = ColumnDataSource(dict(factors=y, scores=x))\n",
    "\n",
    "    hover = HoverTool(\n",
    "        tooltips=[\n",
    "            (\"Factor\", \"@factors\"),\n",
    "            (\"Scaled Score\", \"@scores\"),\n",
    "        ]\n",
    "    )\n",
    "    \n",
    "    p = figure(y_range=y, plot_height=250, title=\"Main Factors\",\n",
    "            plot_width=400, tools=[hover])\n",
    "\n",
    "    p.hbar(y='factors', right='scores', height=0.4, source=source)\n",
    "\n",
    "    p.ygrid.grid_line_color = None\n",
    "    p.x_range.start = 0\n",
    "    p.xaxis.visible = False\n",
    "    return p"
   ]
  },
  {
   "cell_type": "code",
   "execution_count": 208,
   "metadata": {},
   "outputs": [
    {
     "name": "stderr",
     "output_type": "stream",
     "text": [
      "/Users/adamgifford/anaconda3/lib/python3.8/site-packages/sklearn/compose/_column_transformer.py:437: FutureWarning: Given feature/column names or counts do not match the ones for the data given during fit. This will fail from v0.24.\n",
      "  warnings.warn(\"Given feature/column names or counts do not match \"\n",
      "/Users/adamgifford/anaconda3/lib/python3.8/site-packages/sklearn/compose/_column_transformer.py:437: FutureWarning: Given feature/column names or counts do not match the ones for the data given during fit. This will fail from v0.24.\n",
      "  warnings.warn(\"Given feature/column names or counts do not match \"\n",
      "/Users/adamgifford/anaconda3/lib/python3.8/site-packages/sklearn/compose/_column_transformer.py:437: FutureWarning: Given feature/column names or counts do not match the ones for the data given during fit. This will fail from v0.24.\n",
      "  warnings.warn(\"Given feature/column names or counts do not match \"\n",
      "/Users/adamgifford/anaconda3/lib/python3.8/site-packages/sklearn/compose/_column_transformer.py:437: FutureWarning: Given feature/column names or counts do not match the ones for the data given during fit. This will fail from v0.24.\n",
      "  warnings.warn(\"Given feature/column names or counts do not match \"\n"
     ]
    },
    {
     "data": {
      "text/html": [
       "\n",
       "\n",
       "\n",
       "\n",
       "\n",
       "\n",
       "  <div class=\"bk-root\" id=\"7c11b1eb-6e05-4135-a27b-d4e5eb46c6fd\" data-root-id=\"52163\"></div>\n"
      ]
     },
     "metadata": {},
     "output_type": "display_data"
    },
    {
     "data": {
      "application/javascript": [
       "(function(root) {\n",
       "  function embed_document(root) {\n",
       "    \n",
       "  var docs_json = {\"14a25b54-9f03-4736-bc31-b0a7e7c69e56\":{\"roots\":{\"references\":[{\"attributes\":{\"below\":[{\"id\":\"52174\"}],\"center\":[{\"id\":\"52176\"},{\"id\":\"52180\"}],\"left\":[{\"id\":\"52177\"}],\"plot_height\":250,\"plot_width\":300,\"renderers\":[{\"id\":\"52186\"}],\"title\":{\"id\":\"52164\"},\"toolbar\":{\"id\":\"52181\"},\"x_range\":{\"id\":\"52166\"},\"x_scale\":{\"id\":\"52170\"},\"y_range\":{\"id\":\"52168\"},\"y_scale\":{\"id\":\"52172\"}},\"id\":\"52163\",\"subtype\":\"Figure\",\"type\":\"Plot\"},{\"attributes\":{},\"id\":\"52975\",\"type\":\"CategoricalTickFormatter\"},{\"attributes\":{\"formatter\":{\"id\":\"52975\"},\"ticker\":{\"id\":\"52175\"}},\"id\":\"52174\",\"type\":\"CategoricalAxis\"},{\"attributes\":{},\"id\":\"52170\",\"type\":\"CategoricalScale\"},{\"attributes\":{\"fill_alpha\":{\"value\":0.1},\"fill_color\":{\"field\":\"color\"},\"line_alpha\":{\"value\":0.1},\"line_color\":{\"field\":\"color\"},\"top\":{\"field\":\"probs\"},\"width\":{\"value\":0.4},\"x\":{\"field\":\"factors\"}},\"id\":\"52185\",\"type\":\"VBar\"},{\"attributes\":{\"axis\":{\"id\":\"52174\"},\"grid_line_color\":null,\"ticker\":null},\"id\":\"52176\",\"type\":\"Grid\"},{\"attributes\":{},\"id\":\"52175\",\"type\":\"CategoricalTicker\"},{\"attributes\":{\"callback\":null,\"tooltips\":[[\"Level\",\"@factors\"],[\"Probability\",\"@probs\"]]},\"id\":\"52162\",\"type\":\"HoverTool\"},{\"attributes\":{\"start\":0},\"id\":\"52168\",\"type\":\"DataRange1d\"},{\"attributes\":{\"axis\":{\"id\":\"52177\"},\"dimension\":1,\"ticker\":null},\"id\":\"52180\",\"type\":\"Grid\"},{\"attributes\":{\"axis_label\":\"P(category)\",\"formatter\":{\"id\":\"52973\"},\"ticker\":{\"id\":\"52178\"}},\"id\":\"52177\",\"type\":\"LinearAxis\"},{\"attributes\":{\"factors\":[\"stable\",\"questionable\",\"urgent\",\"immediate\"]},\"id\":\"52166\",\"type\":\"FactorRange\"},{\"attributes\":{\"data\":{\"color\":[\"#2b83ba\",\"#abdda4\",\"#fdae61\",\"#d7191c\"],\"factors\":[\"stable\",\"questionable\",\"urgent\",\"immediate\"],\"probs\":{\"__ndarray__\":\"SD9+tK/k2z8zuiXalCHYP3vY3fqpZMI/LNJonzM7pj8=\",\"dtype\":\"float64\",\"order\":\"little\",\"shape\":[4]}},\"selected\":{\"id\":\"52977\"},\"selection_policy\":{\"id\":\"52976\"}},\"id\":\"52161\",\"type\":\"ColumnDataSource\"},{\"attributes\":{},\"id\":\"52172\",\"type\":\"LinearScale\"},{\"attributes\":{\"active_drag\":\"auto\",\"active_inspect\":\"auto\",\"active_multi\":null,\"active_scroll\":\"auto\",\"active_tap\":\"auto\",\"tools\":[{\"id\":\"52162\"}]},\"id\":\"52181\",\"type\":\"Toolbar\"},{\"attributes\":{},\"id\":\"52178\",\"type\":\"BasicTicker\"},{\"attributes\":{\"source\":{\"id\":\"52161\"}},\"id\":\"52187\",\"type\":\"CDSView\"},{\"attributes\":{\"fill_color\":{\"field\":\"color\"},\"line_color\":{\"field\":\"color\"},\"top\":{\"field\":\"probs\"},\"width\":{\"value\":0.4},\"x\":{\"field\":\"factors\"}},\"id\":\"52184\",\"type\":\"VBar\"},{\"attributes\":{\"data_source\":{\"id\":\"52161\"},\"glyph\":{\"id\":\"52184\"},\"hover_glyph\":null,\"muted_glyph\":null,\"nonselection_glyph\":{\"id\":\"52185\"},\"selection_glyph\":null,\"view\":{\"id\":\"52187\"}},\"id\":\"52186\",\"type\":\"GlyphRenderer\"},{\"attributes\":{},\"id\":\"52976\",\"type\":\"UnionRenderers\"},{\"attributes\":{},\"id\":\"52977\",\"type\":\"Selection\"},{\"attributes\":{},\"id\":\"52973\",\"type\":\"BasicTickFormatter\"},{\"attributes\":{\"text\":\"IC-U Risk Factor: STABLE\"},\"id\":\"52164\",\"type\":\"Title\"}],\"root_ids\":[\"52163\"]},\"title\":\"Bokeh Application\",\"version\":\"2.2.3\"}};\n",
       "  var render_items = [{\"docid\":\"14a25b54-9f03-4736-bc31-b0a7e7c69e56\",\"root_ids\":[\"52163\"],\"roots\":{\"52163\":\"7c11b1eb-6e05-4135-a27b-d4e5eb46c6fd\"}}];\n",
       "  root.Bokeh.embed.embed_items_notebook(docs_json, render_items);\n",
       "\n",
       "  }\n",
       "  if (root.Bokeh !== undefined) {\n",
       "    embed_document(root);\n",
       "  } else {\n",
       "    var attempts = 0;\n",
       "    var timer = setInterval(function(root) {\n",
       "      if (root.Bokeh !== undefined) {\n",
       "        clearInterval(timer);\n",
       "        embed_document(root);\n",
       "      } else {\n",
       "        attempts++;\n",
       "        if (attempts > 100) {\n",
       "          clearInterval(timer);\n",
       "          console.log(\"Bokeh: ERROR: Unable to run BokehJS code because BokehJS library is missing\");\n",
       "        }\n",
       "      }\n",
       "    }, 10, root)\n",
       "  }\n",
       "})(window);"
      ],
      "application/vnd.bokehjs_exec.v0+json": ""
     },
     "metadata": {
      "application/vnd.bokehjs_exec.v0+json": {
       "id": "52163"
      }
     },
     "output_type": "display_data"
    }
   ],
   "source": [
    "ix= 20\n",
    "loc = 68757\n",
    "\n",
    "# foo = pd.DataFrame(X_text_corr_i.iloc[ix]).T\n",
    "foo = pd.DataFrame(X_text_corr_s.loc[loc]).T\n",
    "foo = foo.to_dict()\n",
    "bar = {key: val for key in foo for val in foo[key].values()}\n",
    "xx_test = pd.DataFrame(bar,index=[0])\n",
    "\n",
    "y_pred = int(est.predict(xx_test)[0])\n",
    "\n",
    "y_pred_proba =  est.predict_proba(xx_test)[0]\n",
    "\n",
    "p = make_urgency_plot(y_pred_proba)\n",
    "show(p)"
   ]
  },
  {
   "cell_type": "code",
   "execution_count": 209,
   "metadata": {},
   "outputs": [
    {
     "data": {
      "text/html": [
       "\n",
       "\n",
       "\n",
       "\n",
       "\n",
       "\n",
       "  <div class=\"bk-root\" id=\"7e8eb711-1f01-4c0e-9467-8056004e8e9a\" data-root-id=\"53015\"></div>\n"
      ]
     },
     "metadata": {},
     "output_type": "display_data"
    },
    {
     "data": {
      "application/javascript": [
       "(function(root) {\n",
       "  function embed_document(root) {\n",
       "    \n",
       "  var docs_json = {\"57337677-8f85-482e-b2e3-9ae231149449\":{\"roots\":{\"references\":[{\"attributes\":{\"below\":[{\"id\":\"53026\"}],\"center\":[{\"id\":\"53029\"},{\"id\":\"53032\"}],\"left\":[{\"id\":\"53030\"}],\"plot_height\":250,\"plot_width\":400,\"renderers\":[{\"id\":\"53038\"}],\"title\":{\"id\":\"53016\"},\"toolbar\":{\"id\":\"53033\"},\"x_range\":{\"id\":\"53018\"},\"x_scale\":{\"id\":\"53022\"},\"y_range\":{\"id\":\"53020\"},\"y_scale\":{\"id\":\"53024\"}},\"id\":\"53015\",\"subtype\":\"Figure\",\"type\":\"Plot\"},{\"attributes\":{},\"id\":\"53834\",\"type\":\"BasicTickFormatter\"},{\"attributes\":{\"fill_alpha\":{\"value\":0.1},\"fill_color\":{\"value\":\"#1f77b4\"},\"height\":{\"value\":0.4},\"line_alpha\":{\"value\":0.1},\"line_color\":{\"value\":\"#1f77b4\"},\"right\":{\"field\":\"scores\"},\"y\":{\"field\":\"factors\"}},\"id\":\"53037\",\"type\":\"HBar\"},{\"attributes\":{\"callback\":null,\"tooltips\":[[\"Factor\",\"@factors\"],[\"Scaled Score\",\"@scores\"]]},\"id\":\"53014\",\"type\":\"HoverTool\"},{\"attributes\":{\"text\":\"Main Factors\"},\"id\":\"53016\",\"type\":\"Title\"},{\"attributes\":{\"data_source\":{\"id\":\"53013\"},\"glyph\":{\"id\":\"53036\"},\"hover_glyph\":null,\"muted_glyph\":null,\"nonselection_glyph\":{\"id\":\"53037\"},\"selection_glyph\":null,\"view\":{\"id\":\"53039\"}},\"id\":\"53038\",\"type\":\"GlyphRenderer\"},{\"attributes\":{\"active_drag\":\"auto\",\"active_inspect\":\"auto\",\"active_multi\":null,\"active_scroll\":\"auto\",\"active_tap\":\"auto\",\"tools\":[{\"id\":\"53014\"}]},\"id\":\"53033\",\"type\":\"Toolbar\"},{\"attributes\":{},\"id\":\"53835\",\"type\":\"UnionRenderers\"},{\"attributes\":{\"formatter\":{\"id\":\"53834\"},\"ticker\":{\"id\":\"53027\"},\"visible\":false},\"id\":\"53026\",\"type\":\"LinearAxis\"},{\"attributes\":{\"axis\":{\"id\":\"53026\"},\"ticker\":null},\"id\":\"53029\",\"type\":\"Grid\"},{\"attributes\":{},\"id\":\"53836\",\"type\":\"Selection\"},{\"attributes\":{},\"id\":\"53022\",\"type\":\"LinearScale\"},{\"attributes\":{},\"id\":\"53031\",\"type\":\"CategoricalTicker\"},{\"attributes\":{\"axis\":{\"id\":\"53030\"},\"dimension\":1,\"grid_line_color\":null,\"ticker\":null},\"id\":\"53032\",\"type\":\"Grid\"},{\"attributes\":{},\"id\":\"53024\",\"type\":\"CategoricalScale\"},{\"attributes\":{\"factors\":[\"ENGL\",\"cystectomy\",\"ELECTIVE\",\"M\"]},\"id\":\"53020\",\"type\":\"FactorRange\"},{\"attributes\":{\"formatter\":{\"id\":\"53832\"},\"ticker\":{\"id\":\"53031\"}},\"id\":\"53030\",\"type\":\"CategoricalAxis\"},{\"attributes\":{\"data\":{\"factors\":[\"ENGL\",\"cystectomy\",\"ELECTIVE\",\"M\"],\"scores\":[0.36459477391717804,0.5090708639030427,0.7276786565910321,1.0]},\"selected\":{\"id\":\"53836\"},\"selection_policy\":{\"id\":\"53835\"}},\"id\":\"53013\",\"type\":\"ColumnDataSource\"},{\"attributes\":{},\"id\":\"53027\",\"type\":\"BasicTicker\"},{\"attributes\":{},\"id\":\"53832\",\"type\":\"CategoricalTickFormatter\"},{\"attributes\":{\"source\":{\"id\":\"53013\"}},\"id\":\"53039\",\"type\":\"CDSView\"},{\"attributes\":{\"fill_color\":{\"value\":\"#1f77b4\"},\"height\":{\"value\":0.4},\"line_color\":{\"value\":\"#1f77b4\"},\"right\":{\"field\":\"scores\"},\"y\":{\"field\":\"factors\"}},\"id\":\"53036\",\"type\":\"HBar\"},{\"attributes\":{\"start\":0},\"id\":\"53018\",\"type\":\"DataRange1d\"}],\"root_ids\":[\"53015\"]},\"title\":\"Bokeh Application\",\"version\":\"2.2.3\"}};\n",
       "  var render_items = [{\"docid\":\"57337677-8f85-482e-b2e3-9ae231149449\",\"root_ids\":[\"53015\"],\"roots\":{\"53015\":\"7e8eb711-1f01-4c0e-9467-8056004e8e9a\"}}];\n",
       "  root.Bokeh.embed.embed_items_notebook(docs_json, render_items);\n",
       "\n",
       "  }\n",
       "  if (root.Bokeh !== undefined) {\n",
       "    embed_document(root);\n",
       "  } else {\n",
       "    var attempts = 0;\n",
       "    var timer = setInterval(function(root) {\n",
       "      if (root.Bokeh !== undefined) {\n",
       "        clearInterval(timer);\n",
       "        embed_document(root);\n",
       "      } else {\n",
       "        attempts++;\n",
       "        if (attempts > 100) {\n",
       "          clearInterval(timer);\n",
       "          console.log(\"Bokeh: ERROR: Unable to run BokehJS code because BokehJS library is missing\");\n",
       "        }\n",
       "      }\n",
       "    }, 10, root)\n",
       "  }\n",
       "})(window);"
      ],
      "application/vnd.bokehjs_exec.v0+json": ""
     },
     "metadata": {
      "application/vnd.bokehjs_exec.v0+json": {
       "id": "53015"
      }
     },
     "output_type": "display_data"
    }
   ],
   "source": [
    "feature_names_urg = getFeatureNames(ohe, tv.named_steps.count,\n",
    "                                    ['ADMIT_AGE'])\n",
    "feature_imp_urg = createFeatureCoeffDict(\\\n",
    "                    est.named_steps.reg.coef_[y_pred],\n",
    "                                feature_names_urg)\n",
    "most_imp_feats_urg = getMostImportantFeaturesUrg(feature_imp_urg, \n",
    "                                                 xx_test,4)\n",
    "\n",
    "p_urg_factors = make_urgency_factors_plot(most_imp_feats_urg)\n",
    "show(p_urg_factors)"
   ]
  },
  {
   "cell_type": "code",
   "execution_count": 212,
   "metadata": {},
   "outputs": [
    {
     "data": {
      "text/plain": [
       "'  portable abdomen clip clip number radiology reason please verify ureteral stent placement admitting diagnosis bladder cancer sda hospital medical condition year old man cystectomy reason examination please verify ureteral stent placement wet read ehab tue right lower quadrant ostomy two stents coursing superiorly right left exact location indeterminate single view pelvic surgical clips midline surgical staples seen possible left lower pelvic drain incompletely imaged enteric catheter likely terminates stomach sternal wires incompletely imaged air stool seen colon final report history year old male status post radical cystectomy prostatectomy evaluation ureteral stent placement comparison comparison made ct abdomen pelvis findings non obstructive bowel gas pattern air filled loops colon air rectum right lower quadrant ostomy two overlying stents seen coursing superiorly stent overlying projected course left ureter overlying projected course right ureter exact location difficult determine single view please correlate position stent placement time procedure multiple surgical clips seen pelvis initials namepattern last namepattern location un drain seen lower portion pelvis vertical midline skin staples seen lower abdomen pelvis enteric tube distal tip body stomach median sternotomy wires seen impression bilateral stents seen projected course mid distal ureters exact position difficult determine image without knowledge postsurgical anatomy position stents time placement please correlate positioning time procedure  chest portable ap clip clip number radiology reason pleural effusion admitting diagnosis bladder cancer sda hospital medical condition year old man history afib radical cystectomy reason examination pleural effusion final report type examination chest ap portable single view indication year old male history atrial fibrillation status post radical cystectomy evaluate pleural effusion findings ap single view chest obtained semi upright sitting position analysis performed direct comparison next preceding pa lateral chest examination high positioned diaphragms explained recent abdominal surgical intervention bilateral small amount subdiaphragmatic air present moderate cardiac enlargement present status post sternotomy apparently related previous aortic valve replacement metallic prosthesis noted within heart shadow aortic appearance unaltered pulmonary vasculature congested lateral pleural sinuses free thus evidence pleural effusion portable examination pneumothorax identified apical area possibly present small amounts pleural effusion could expected posterior pleural sinuses cannot identified single ap chest view  abdomen supine erect clip clip number radiology reason ngt evaluation admitting diagnosis bladder cancer sda hospital medical condition year old man post operative ileus s cystectomy conduit ngt placement reason examination ngt evaluation final report history ng tube placement findings nasogastric tube extends upper stomach dilated loops appear large small bowel consistent adynamic ileus however clinical concern obstruction ct obtained evidence free intraperitoneal gas beneath hemidiaphragms presumably related recent surgery '"
      ]
     },
     "execution_count": 212,
     "metadata": {},
     "output_type": "execute_result"
    }
   ],
   "source": [
    "X_text_corr_s.loc[loc].TEXT"
   ]
  },
  {
   "cell_type": "raw",
   "metadata": {},
   "source": [
    "Stable (X_text_corr_s): ix=6\n",
    "Questionable (X_text_corr_q): ix=0\n",
    "Urgent (X_text_corr_u): ix=3\n",
    "Immediate (X_text_corr_i): ix=20"
   ]
  },
  {
   "cell_type": "code",
   "execution_count": null,
   "metadata": {},
   "outputs": [],
   "source": [
    "import pickle"
   ]
  },
  {
   "cell_type": "code",
   "execution_count": 179,
   "metadata": {},
   "outputs": [],
   "source": [
    "figfile = './data/pickle/examples/urgent_examp_loc10547_20210216.pkl'\n",
    "pickle.dump((y_pred_proba, most_imp_feats_urg),open(figfile,'wb'))"
   ]
  },
  {
   "cell_type": "code",
   "execution_count": 84,
   "metadata": {},
   "outputs": [
    {
     "data": {
      "text/plain": [
       "Index(['SUBJECT_ID', 'HADM_ID', 'ICUSTAY_ID', 'ADMITTIME', 'CHARTTIME',\n",
       "       'INTIME', 'GENDER', 'ADMIT_AGE', 'ADMISSION_TYPE', 'ADMISSION_LOCATION',\n",
       "       'INSURANCE', 'LANGUAGE', 'RELIGION', 'MARITAL_STATUS', 'ETHNICITY',\n",
       "       'DIAGNOSIS', 'TEXT', 'DBSOURCE', 'LOS', 'DAYS_EVENT_TO_ICU',\n",
       "       'ICU_URGENCY', 'SAMEDAY_EVENT_TO_ICU', 'DIAGNOSIS_TEXT'],\n",
       "      dtype='object')"
      ]
     },
     "execution_count": 84,
     "metadata": {},
     "output_type": "execute_result"
    }
   ],
   "source": [
    "X_text_corr_q.columns"
   ]
  },
  {
   "cell_type": "code",
   "execution_count": 89,
   "metadata": {},
   "outputs": [],
   "source": [
    "df_Q_to_U = X_text_corr_q.append(X_text_corr_u)"
   ]
  },
  {
   "cell_type": "code",
   "execution_count": 90,
   "metadata": {},
   "outputs": [],
   "source": [
    "df_Q_to_U = df_Q_to_U.sort_values(by = ['SUBJECT_ID', 'HADM_ID', 'ICUSTAY_ID']) "
   ]
  },
  {
   "cell_type": "code",
   "execution_count": 96,
   "metadata": {},
   "outputs": [],
   "source": [
    "df_Q_to_U_gb = df_Q_to_U.groupby(['SUBJECT_ID', 'HADM_ID', 'ICUSTAY_ID']).agg({'ICU_URGENCY': np.unique})"
   ]
  },
  {
   "cell_type": "code",
   "execution_count": 116,
   "metadata": {},
   "outputs": [],
   "source": [
    "mask = df_Q_to_U_gb['ICU_URGENCY'].apply(lambda x: len(x)==2)"
   ]
  },
  {
   "cell_type": "code",
   "execution_count": 118,
   "metadata": {},
   "outputs": [],
   "source": [
    "df_Q_to_U_same = df_Q_to_U_gb[mask]"
   ]
  },
  {
   "cell_type": "code",
   "execution_count": 137,
   "metadata": {},
   "outputs": [],
   "source": [
    "subj_ids = [ix[0] for ix in df_Q_to_U_same.index]\n",
    "hadm_ids = [ix[1] for ix in df_Q_to_U_same.index]\n",
    "icu_ids = [ix[2] for ix in df_Q_to_U_same.index]\n",
    "\n",
    "mask0 = df_Q_to_U['SUBJECT_ID'].apply(lambda x: x in subj_ids).to_numpy()\n",
    "mask1 = df_Q_to_U['HADM_ID'].apply(lambda x: x in hadm_ids).to_numpy()\n",
    "mask2 = df_Q_to_U['ICUSTAY_ID'].apply(lambda x: x in icu_ids).to_numpy()\n",
    "df_Q_to_U_ex = df_Q_to_U[mask0 & mask1 & mask2]"
   ]
  },
  {
   "cell_type": "code",
   "execution_count": 202,
   "metadata": {},
   "outputs": [
    {
     "data": {
      "text/plain": [
       "'  carotid series complete clip clip number radiology reason preop cad admitting diagnosis coronary artery disease sda aortic valve replacement sternotomy hospital medical condition year old woman pre op cabg reason examination eval stenosis final report carotid series complete reason preop cabg findings duplex evaluation performed bilateral carotid arteries mild plaque seen proximal ica distal cca bilaterally minimal diastolic flow seen bilaterally common carotid internal carotid vertebral arteries likely consistent aortic valve disease right peak velocities cm sec ica cca eca respectively consistent less ica stenosis left peak velocities cm sec ica cca eca respectively consistent less stenosis antegrade vertebral flow bilaterally impression bilateral less ica stenosis  ct neck contrast egparotids clip clip number radiology reason eval cause hoarseness quality aorta pre op cabg admitting diagnosis coronary artery disease sda aortic valve replacement sternotomy contrast optiray amt hospital medical condition year old woman pre op cabg avr mvr reason examination eval cause hoarseness quality aorta pre op cabg avr mvr contraindications iv contrast provisional findings impression pfi kyg wed findings explain symptoms hoarseness specifically evidence mass along course recurrent laryngeal nerve slight asymmetric dilatation right piriform sinus evidence vocal cord palsy recommend evaluation ent laryngoscopy emphysema final report clinical history year old female new onset hoarseness pre op study prior re do cabg avr mvr comparison none technique contrast enhanced mdct acquired axial images neck skull base lung apices findings soft tissues neck normal mass identified along course recurrent laryngeal nerves note made asymmetric dilatation right piriform sinus however medialization vocal cord secondary evidence vocal cord paralysis neck vessels normally opacified without evidence stenosis mild atherosclerotic calcification seen origin bilateral internal carotid arteries enlarged lymph nodes identied neck small lymph nodes seen superior mediastinum however none meets ct criteria pathologic enlargement limited views lung apices demonstrate moderately severe panlobular emphysema post surgical changes related median sternotomy identified visualized paranasal sinuses show mild right maxillary mucosal thickening impression mass lymphadenopathy ct finding explain new symptom hoarseness note made asymmetric dilatation right piriform sinus however primary secondary evidence vocal cord palsy recommend direct evaluation including laryngoscopy ent service moderately severe emphysema mild atherosclerosis mural calcification involving origin bilateral internal carotid arteries aortic arch over ct neck contrast egparotids clip clip number radiology reason eval cause hoarseness quality aorta pre op cabg admitting diagnosis coronary artery disease sda aortic valve replacement sternotomy contrast optiray amt final report cont discussed ms last titles np cardiac surgery service dr last stitle last lf first lf r csurg fa ct neck contrast egparotids clip clip number radiology reason eval cause hoarseness quality aorta pre op cabg admitting diagnosis coronary artery disease sda aortic valve replacement sternotomy contrast optiray amt hospital medical condition year old woman pre op cabg avr mvr reason examination eval cause hoarseness quality aorta pre op cabg avr mvr contraindications iv contrast pfi report findings explain symptoms hoarseness specifically evidence mass along course recurrent laryngeal nerve slight asymmetric dilatation right piriform sinus evidence vocal cord palsy recommend evaluation ent laryngoscopy emphysema  cta chest ww crecons non coronary clip clip number radiology reason eval aorta calcification pseudoaneurysm arch admitting diagnosis coronary artery disease sda aortic valve replacement sternotomy hospital medical condition year old woman redo redo cabg pre op avr mvr reason examination eval aorta calcification pseudoaneurysm arch contraindications iv contrast provisional findings impression pfi first namepattern doctor first evidence aortic dissection aneurysm pseudoaneurysm evidence leak around aortic graft final report history year old female status post replacement ascending aorta resuspension aortic valve coronary artery bypass preop redo aortic valve replacement due aortic insufficiency evaluate aorta calcification pseudoaneurysm arch comparison mdct performed technique mdct chest performed administration intravenous contrast images reformatted axial sagittal coronal oblique planes findings status post ascending aorta repair multiple surgical clips demonstrated within mediastinum thoracic aorta demonstrates evidence aortic dissection intramural hematoma aneurysmal pseudoaneurysmal dilatation mild diffuse atherosclerotic disease seen throughout thoracic aorta minimal calcification present aortic arch appears unchanged compared prior study patent left main coronary artery origin patent stents seen lcx lad origin rca cannot identified which occluded proximal portion rca seen filled right internal mammary artery filling defect within pulmonary artery branches suggestive pulmonary embolism presence mm right hilar lymph node pathologically enlarged mediastinal axillary lymph nodes according ct size criteria lung window images demonstrate severe emphysematous change within apices bilaterally appears unchanged compared prior study pleural effusion bone windows suspicious lytic sclerotic lesions present degenerative changes present spine impression status post ascending aorta repair evidence aortic dissection pseudoaneurysm minimum calcification aortic arch unchanged compared prior study over cta chest ww crecons non coronary clip clip number radiology reason eval aorta calcification pseudoaneurysm arch admitting diagnosis coronary artery disease sda aortic valve replacement sternotomy final report cont marked emphysematous changes upper lobes appears unchanged compared prior study mm right hilar lymph node creased size prior study follow ct months recommended ensure stability finding '"
      ]
     },
     "execution_count": 202,
     "metadata": {},
     "output_type": "execute_result"
    }
   ],
   "source": [
    "X_text_corr_u.loc[10547].TEXT"
   ]
  },
  {
   "cell_type": "code",
   "execution_count": 169,
   "metadata": {},
   "outputs": [
    {
     "data": {
      "text/html": [
       "<div>\n",
       "<style scoped>\n",
       "    .dataframe tbody tr th:only-of-type {\n",
       "        vertical-align: middle;\n",
       "    }\n",
       "\n",
       "    .dataframe tbody tr th {\n",
       "        vertical-align: top;\n",
       "    }\n",
       "\n",
       "    .dataframe thead th {\n",
       "        text-align: right;\n",
       "    }\n",
       "</style>\n",
       "<table border=\"1\" class=\"dataframe\">\n",
       "  <thead>\n",
       "    <tr style=\"text-align: right;\">\n",
       "      <th></th>\n",
       "      <th>SUBJECT_ID</th>\n",
       "      <th>HADM_ID</th>\n",
       "      <th>ICUSTAY_ID</th>\n",
       "      <th>ADMITTIME</th>\n",
       "      <th>CHARTTIME</th>\n",
       "      <th>INTIME</th>\n",
       "      <th>GENDER</th>\n",
       "      <th>ADMIT_AGE</th>\n",
       "      <th>ADMISSION_TYPE</th>\n",
       "      <th>ADMISSION_LOCATION</th>\n",
       "      <th>...</th>\n",
       "      <th>MARITAL_STATUS</th>\n",
       "      <th>ETHNICITY</th>\n",
       "      <th>DIAGNOSIS</th>\n",
       "      <th>TEXT</th>\n",
       "      <th>DBSOURCE</th>\n",
       "      <th>LOS</th>\n",
       "      <th>DAYS_EVENT_TO_ICU</th>\n",
       "      <th>ICU_URGENCY</th>\n",
       "      <th>SAMEDAY_EVENT_TO_ICU</th>\n",
       "      <th>DIAGNOSIS_TEXT</th>\n",
       "    </tr>\n",
       "  </thead>\n",
       "  <tbody>\n",
       "    <tr>\n",
       "      <th>10545</th>\n",
       "      <td>5285</td>\n",
       "      <td>127903.0</td>\n",
       "      <td>259613</td>\n",
       "      <td>2202-09-22 07:15:00</td>\n",
       "      <td>2202-09-22 15:53:00</td>\n",
       "      <td>2202-09-24 12:02:26</td>\n",
       "      <td>F</td>\n",
       "      <td>60</td>\n",
       "      <td>ELECTIVE</td>\n",
       "      <td>PHYS REFERRAL/NORMAL DELI</td>\n",
       "      <td>...</td>\n",
       "      <td>MARRIED</td>\n",
       "      <td>WHITE</td>\n",
       "      <td>coronary artery disease sda aortic valve repla...</td>\n",
       "      <td>carotid series complete clip clip number rad...</td>\n",
       "      <td>carevue</td>\n",
       "      <td>4.2838</td>\n",
       "      <td>1.839884</td>\n",
       "      <td>questionable</td>\n",
       "      <td>0</td>\n",
       "      <td>coronary artery disease sda aortic valve repla...</td>\n",
       "    </tr>\n",
       "    <tr>\n",
       "      <th>10547</th>\n",
       "      <td>5285</td>\n",
       "      <td>127903.0</td>\n",
       "      <td>259613</td>\n",
       "      <td>2202-09-22 07:15:00</td>\n",
       "      <td>2202-09-23 14:45:00</td>\n",
       "      <td>2202-09-24 12:02:26</td>\n",
       "      <td>F</td>\n",
       "      <td>60</td>\n",
       "      <td>ELECTIVE</td>\n",
       "      <td>PHYS REFERRAL/NORMAL DELI</td>\n",
       "      <td>...</td>\n",
       "      <td>MARRIED</td>\n",
       "      <td>WHITE</td>\n",
       "      <td>coronary artery disease sda aortic valve repla...</td>\n",
       "      <td>carotid series complete clip clip number rad...</td>\n",
       "      <td>carevue</td>\n",
       "      <td>4.2838</td>\n",
       "      <td>0.887106</td>\n",
       "      <td>urgent</td>\n",
       "      <td>1</td>\n",
       "      <td>coronary artery disease sda aortic valve repla...</td>\n",
       "    </tr>\n",
       "  </tbody>\n",
       "</table>\n",
       "<p>2 rows × 23 columns</p>\n",
       "</div>"
      ],
      "text/plain": [
       "      SUBJECT_ID   HADM_ID ICUSTAY_ID           ADMITTIME           CHARTTIME  \\\n",
       "10545       5285  127903.0     259613 2202-09-22 07:15:00 2202-09-22 15:53:00   \n",
       "10547       5285  127903.0     259613 2202-09-22 07:15:00 2202-09-23 14:45:00   \n",
       "\n",
       "                   INTIME GENDER ADMIT_AGE ADMISSION_TYPE  \\\n",
       "10545 2202-09-24 12:02:26      F        60       ELECTIVE   \n",
       "10547 2202-09-24 12:02:26      F        60       ELECTIVE   \n",
       "\n",
       "              ADMISSION_LOCATION  ... MARITAL_STATUS ETHNICITY  \\\n",
       "10545  PHYS REFERRAL/NORMAL DELI  ...        MARRIED     WHITE   \n",
       "10547  PHYS REFERRAL/NORMAL DELI  ...        MARRIED     WHITE   \n",
       "\n",
       "                                               DIAGNOSIS  \\\n",
       "10545  coronary artery disease sda aortic valve repla...   \n",
       "10547  coronary artery disease sda aortic valve repla...   \n",
       "\n",
       "                                                    TEXT DBSOURCE     LOS  \\\n",
       "10545    carotid series complete clip clip number rad...  carevue  4.2838   \n",
       "10547    carotid series complete clip clip number rad...  carevue  4.2838   \n",
       "\n",
       "      DAYS_EVENT_TO_ICU   ICU_URGENCY  SAMEDAY_EVENT_TO_ICU  \\\n",
       "10545          1.839884  questionable                     0   \n",
       "10547          0.887106        urgent                     1   \n",
       "\n",
       "                                          DIAGNOSIS_TEXT  \n",
       "10545  coronary artery disease sda aortic valve repla...  \n",
       "10547  coronary artery disease sda aortic valve repla...  \n",
       "\n",
       "[2 rows x 23 columns]"
      ]
     },
     "execution_count": 169,
     "metadata": {},
     "output_type": "execute_result"
    }
   ],
   "source": [
    "df_Q_to_U_ex.iloc[17:19,:]"
   ]
  },
  {
   "cell_type": "code",
   "execution_count": 157,
   "metadata": {},
   "outputs": [
    {
     "name": "stderr",
     "output_type": "stream",
     "text": [
      "/Users/adamgifford/anaconda3/lib/python3.8/site-packages/sklearn/compose/_column_transformer.py:437: FutureWarning: Given feature/column names or counts do not match the ones for the data given during fit. This will fail from v0.24.\n",
      "  warnings.warn(\"Given feature/column names or counts do not match \"\n",
      "/Users/adamgifford/anaconda3/lib/python3.8/site-packages/sklearn/compose/_column_transformer.py:437: FutureWarning: Given feature/column names or counts do not match the ones for the data given during fit. This will fail from v0.24.\n",
      "  warnings.warn(\"Given feature/column names or counts do not match \"\n",
      "/Users/adamgifford/anaconda3/lib/python3.8/site-packages/sklearn/compose/_column_transformer.py:437: FutureWarning: Given feature/column names or counts do not match the ones for the data given during fit. This will fail from v0.24.\n",
      "  warnings.warn(\"Given feature/column names or counts do not match \"\n",
      "/Users/adamgifford/anaconda3/lib/python3.8/site-packages/sklearn/compose/_column_transformer.py:437: FutureWarning: Given feature/column names or counts do not match the ones for the data given during fit. This will fail from v0.24.\n",
      "  warnings.warn(\"Given feature/column names or counts do not match \"\n"
     ]
    },
    {
     "data": {
      "text/html": [
       "\n",
       "\n",
       "\n",
       "\n",
       "\n",
       "\n",
       "  <div class=\"bk-root\" id=\"1c780a17-e092-4192-bca6-e93e330f70a0\" data-root-id=\"33815\"></div>\n"
      ]
     },
     "metadata": {},
     "output_type": "display_data"
    },
    {
     "data": {
      "application/javascript": [
       "(function(root) {\n",
       "  function embed_document(root) {\n",
       "    \n",
       "  var docs_json = {\"361d8150-a379-4f15-8ab5-8526007b3b92\":{\"roots\":{\"references\":[{\"attributes\":{\"below\":[{\"id\":\"33826\"}],\"center\":[{\"id\":\"33828\"},{\"id\":\"33832\"}],\"left\":[{\"id\":\"33829\"}],\"plot_height\":250,\"plot_width\":300,\"renderers\":[{\"id\":\"33838\"}],\"title\":{\"id\":\"33816\"},\"toolbar\":{\"id\":\"33833\"},\"x_range\":{\"id\":\"33818\"},\"x_scale\":{\"id\":\"33822\"},\"y_range\":{\"id\":\"33820\"},\"y_scale\":{\"id\":\"33824\"}},\"id\":\"33815\",\"subtype\":\"Figure\",\"type\":\"Plot\"},{\"attributes\":{},\"id\":\"34461\",\"type\":\"Selection\"},{\"attributes\":{},\"id\":\"34459\",\"type\":\"CategoricalTickFormatter\"},{\"attributes\":{},\"id\":\"33824\",\"type\":\"LinearScale\"},{\"attributes\":{\"formatter\":{\"id\":\"34459\"},\"ticker\":{\"id\":\"33827\"}},\"id\":\"33826\",\"type\":\"CategoricalAxis\"},{\"attributes\":{\"text\":\"IC-U Risk Factor: URGENT\"},\"id\":\"33816\",\"type\":\"Title\"},{\"attributes\":{},\"id\":\"33830\",\"type\":\"BasicTicker\"},{\"attributes\":{},\"id\":\"34457\",\"type\":\"BasicTickFormatter\"},{\"attributes\":{\"factors\":[\"stable\",\"questionable\",\"urgent\",\"immediate\"]},\"id\":\"33818\",\"type\":\"FactorRange\"},{\"attributes\":{\"source\":{\"id\":\"33813\"}},\"id\":\"33839\",\"type\":\"CDSView\"},{\"attributes\":{},\"id\":\"33827\",\"type\":\"CategoricalTicker\"},{\"attributes\":{},\"id\":\"33822\",\"type\":\"CategoricalScale\"},{\"attributes\":{\"start\":0},\"id\":\"33820\",\"type\":\"DataRange1d\"},{\"attributes\":{\"data_source\":{\"id\":\"33813\"},\"glyph\":{\"id\":\"33836\"},\"hover_glyph\":null,\"muted_glyph\":null,\"nonselection_glyph\":{\"id\":\"33837\"},\"selection_glyph\":null,\"view\":{\"id\":\"33839\"}},\"id\":\"33838\",\"type\":\"GlyphRenderer\"},{\"attributes\":{\"active_drag\":\"auto\",\"active_inspect\":\"auto\",\"active_multi\":null,\"active_scroll\":\"auto\",\"active_tap\":\"auto\",\"tools\":[{\"id\":\"33814\"}]},\"id\":\"33833\",\"type\":\"Toolbar\"},{\"attributes\":{\"callback\":null,\"tooltips\":[[\"Level\",\"@factors\"],[\"Probability\",\"@probs\"]]},\"id\":\"33814\",\"type\":\"HoverTool\"},{\"attributes\":{\"axis\":{\"id\":\"33829\"},\"dimension\":1,\"ticker\":null},\"id\":\"33832\",\"type\":\"Grid\"},{\"attributes\":{\"axis_label\":\"P(category)\",\"formatter\":{\"id\":\"34457\"},\"ticker\":{\"id\":\"33830\"}},\"id\":\"33829\",\"type\":\"LinearAxis\"},{\"attributes\":{\"axis\":{\"id\":\"33826\"},\"grid_line_color\":null,\"ticker\":null},\"id\":\"33828\",\"type\":\"Grid\"},{\"attributes\":{\"data\":{\"color\":[\"#2b83ba\",\"#abdda4\",\"#fdae61\",\"#d7191c\"],\"factors\":[\"stable\",\"questionable\",\"urgent\",\"immediate\"],\"probs\":{\"__ndarray__\":\"527uRqxkkT/iz/6sYADbP0oNUcDv5OE/3pwu8A11Xz8=\",\"dtype\":\"float64\",\"order\":\"little\",\"shape\":[4]}},\"selected\":{\"id\":\"34461\"},\"selection_policy\":{\"id\":\"34460\"}},\"id\":\"33813\",\"type\":\"ColumnDataSource\"},{\"attributes\":{\"fill_alpha\":{\"value\":0.1},\"fill_color\":{\"field\":\"color\"},\"line_alpha\":{\"value\":0.1},\"line_color\":{\"field\":\"color\"},\"top\":{\"field\":\"probs\"},\"width\":{\"value\":0.4},\"x\":{\"field\":\"factors\"}},\"id\":\"33837\",\"type\":\"VBar\"},{\"attributes\":{\"fill_color\":{\"field\":\"color\"},\"line_color\":{\"field\":\"color\"},\"top\":{\"field\":\"probs\"},\"width\":{\"value\":0.4},\"x\":{\"field\":\"factors\"}},\"id\":\"33836\",\"type\":\"VBar\"},{\"attributes\":{},\"id\":\"34460\",\"type\":\"UnionRenderers\"}],\"root_ids\":[\"33815\"]},\"title\":\"Bokeh Application\",\"version\":\"2.2.3\"}};\n",
       "  var render_items = [{\"docid\":\"361d8150-a379-4f15-8ab5-8526007b3b92\",\"root_ids\":[\"33815\"],\"roots\":{\"33815\":\"1c780a17-e092-4192-bca6-e93e330f70a0\"}}];\n",
       "  root.Bokeh.embed.embed_items_notebook(docs_json, render_items);\n",
       "\n",
       "  }\n",
       "  if (root.Bokeh !== undefined) {\n",
       "    embed_document(root);\n",
       "  } else {\n",
       "    var attempts = 0;\n",
       "    var timer = setInterval(function(root) {\n",
       "      if (root.Bokeh !== undefined) {\n",
       "        clearInterval(timer);\n",
       "        embed_document(root);\n",
       "      } else {\n",
       "        attempts++;\n",
       "        if (attempts > 100) {\n",
       "          clearInterval(timer);\n",
       "          console.log(\"Bokeh: ERROR: Unable to run BokehJS code because BokehJS library is missing\");\n",
       "        }\n",
       "      }\n",
       "    }, 10, root)\n",
       "  }\n",
       "})(window);"
      ],
      "application/vnd.bokehjs_exec.v0+json": ""
     },
     "metadata": {
      "application/vnd.bokehjs_exec.v0+json": {
       "id": "33815"
      }
     },
     "output_type": "display_data"
    },
    {
     "data": {
      "text/html": [
       "\n",
       "\n",
       "\n",
       "\n",
       "\n",
       "\n",
       "  <div class=\"bk-root\" id=\"18549ef8-4f93-415b-acdb-ac6629e7ce4d\" data-root-id=\"34499\"></div>\n"
      ]
     },
     "metadata": {},
     "output_type": "display_data"
    },
    {
     "data": {
      "application/javascript": [
       "(function(root) {\n",
       "  function embed_document(root) {\n",
       "    \n",
       "  var docs_json = {\"ad3bc1db-8812-4180-b344-16c585244fd2\":{\"roots\":{\"references\":[{\"attributes\":{\"below\":[{\"id\":\"34510\"}],\"center\":[{\"id\":\"34513\"},{\"id\":\"34516\"}],\"left\":[{\"id\":\"34514\"}],\"plot_height\":250,\"plot_width\":400,\"renderers\":[{\"id\":\"34522\"}],\"title\":{\"id\":\"34500\"},\"toolbar\":{\"id\":\"34517\"},\"x_range\":{\"id\":\"34502\"},\"x_scale\":{\"id\":\"34506\"},\"y_range\":{\"id\":\"34504\"},\"y_scale\":{\"id\":\"34508\"}},\"id\":\"34499\",\"subtype\":\"Figure\",\"type\":\"Plot\"},{\"attributes\":{},\"id\":\"35152\",\"type\":\"Selection\"},{\"attributes\":{\"factors\":[\"asymmetric\",\"aorta\",\"F\",\"aortic\"]},\"id\":\"34504\",\"type\":\"FactorRange\"},{\"attributes\":{},\"id\":\"34506\",\"type\":\"LinearScale\"},{\"attributes\":{\"active_drag\":\"auto\",\"active_inspect\":\"auto\",\"active_multi\":null,\"active_scroll\":\"auto\",\"active_tap\":\"auto\",\"tools\":[{\"id\":\"34498\"}]},\"id\":\"34517\",\"type\":\"Toolbar\"},{\"attributes\":{\"axis\":{\"id\":\"34510\"},\"ticker\":null},\"id\":\"34513\",\"type\":\"Grid\"},{\"attributes\":{},\"id\":\"34511\",\"type\":\"BasicTicker\"},{\"attributes\":{\"formatter\":{\"id\":\"35150\"},\"ticker\":{\"id\":\"34511\"},\"visible\":false},\"id\":\"34510\",\"type\":\"LinearAxis\"},{\"attributes\":{\"source\":{\"id\":\"34497\"}},\"id\":\"34523\",\"type\":\"CDSView\"},{\"attributes\":{},\"id\":\"35150\",\"type\":\"BasicTickFormatter\"},{\"attributes\":{\"data_source\":{\"id\":\"34497\"},\"glyph\":{\"id\":\"34520\"},\"hover_glyph\":null,\"muted_glyph\":null,\"nonselection_glyph\":{\"id\":\"34521\"},\"selection_glyph\":null,\"view\":{\"id\":\"34523\"}},\"id\":\"34522\",\"type\":\"GlyphRenderer\"},{\"attributes\":{},\"id\":\"35148\",\"type\":\"CategoricalTickFormatter\"},{\"attributes\":{},\"id\":\"34508\",\"type\":\"CategoricalScale\"},{\"attributes\":{\"callback\":null,\"tooltips\":[[\"Factor\",\"@factors\"],[\"Scaled Score\",\"@scores\"]]},\"id\":\"34498\",\"type\":\"HoverTool\"},{\"attributes\":{\"start\":0},\"id\":\"34502\",\"type\":\"DataRange1d\"},{\"attributes\":{\"formatter\":{\"id\":\"35148\"},\"ticker\":{\"id\":\"34515\"}},\"id\":\"34514\",\"type\":\"CategoricalAxis\"},{\"attributes\":{\"axis\":{\"id\":\"34514\"},\"dimension\":1,\"grid_line_color\":null,\"ticker\":null},\"id\":\"34516\",\"type\":\"Grid\"},{\"attributes\":{\"fill_alpha\":{\"value\":0.1},\"fill_color\":{\"value\":\"#1f77b4\"},\"height\":{\"value\":0.4},\"line_alpha\":{\"value\":0.1},\"line_color\":{\"value\":\"#1f77b4\"},\"right\":{\"field\":\"scores\"},\"y\":{\"field\":\"factors\"}},\"id\":\"34521\",\"type\":\"HBar\"},{\"attributes\":{\"text\":\"Main Factors\"},\"id\":\"34500\",\"type\":\"Title\"},{\"attributes\":{},\"id\":\"35151\",\"type\":\"UnionRenderers\"},{\"attributes\":{\"fill_color\":{\"value\":\"#1f77b4\"},\"height\":{\"value\":0.4},\"line_color\":{\"value\":\"#1f77b4\"},\"right\":{\"field\":\"scores\"},\"y\":{\"field\":\"factors\"}},\"id\":\"34520\",\"type\":\"HBar\"},{\"attributes\":{\"data\":{\"factors\":[\"asymmetric\",\"aorta\",\"F\",\"aortic\"],\"scores\":[0.7242947181967313,0.734801985363469,0.9071138180191503,1.0]},\"selected\":{\"id\":\"35152\"},\"selection_policy\":{\"id\":\"35151\"}},\"id\":\"34497\",\"type\":\"ColumnDataSource\"},{\"attributes\":{},\"id\":\"34515\",\"type\":\"CategoricalTicker\"}],\"root_ids\":[\"34499\"]},\"title\":\"Bokeh Application\",\"version\":\"2.2.3\"}};\n",
       "  var render_items = [{\"docid\":\"ad3bc1db-8812-4180-b344-16c585244fd2\",\"root_ids\":[\"34499\"],\"roots\":{\"34499\":\"18549ef8-4f93-415b-acdb-ac6629e7ce4d\"}}];\n",
       "  root.Bokeh.embed.embed_items_notebook(docs_json, render_items);\n",
       "\n",
       "  }\n",
       "  if (root.Bokeh !== undefined) {\n",
       "    embed_document(root);\n",
       "  } else {\n",
       "    var attempts = 0;\n",
       "    var timer = setInterval(function(root) {\n",
       "      if (root.Bokeh !== undefined) {\n",
       "        clearInterval(timer);\n",
       "        embed_document(root);\n",
       "      } else {\n",
       "        attempts++;\n",
       "        if (attempts > 100) {\n",
       "          clearInterval(timer);\n",
       "          console.log(\"Bokeh: ERROR: Unable to run BokehJS code because BokehJS library is missing\");\n",
       "        }\n",
       "      }\n",
       "    }, 10, root)\n",
       "  }\n",
       "})(window);"
      ],
      "application/vnd.bokehjs_exec.v0+json": ""
     },
     "metadata": {
      "application/vnd.bokehjs_exec.v0+json": {
       "id": "34499"
      }
     },
     "output_type": "display_data"
    }
   ],
   "source": [
    "ix= 18 # 17, 18\n",
    "\n",
    "foo = pd.DataFrame(df_Q_to_U_ex.iloc[ix]).T\n",
    "foo = foo.to_dict()\n",
    "bar = {key: val for key in foo for val in foo[key].values()}\n",
    "xx_test = pd.DataFrame(bar,index=[0])\n",
    "\n",
    "y_pred = int(est.predict(xx_test)[0])\n",
    "\n",
    "y_pred_proba =  est.predict_proba(xx_test)[0]\n",
    "\n",
    "p = make_urgency_plot(y_pred_proba)\n",
    "show(p)\n",
    "\n",
    "feature_names_urg = getFeatureNames(ohe, tv.named_steps.count,\n",
    "                                    ['ADMIT_AGE'])\n",
    "feature_imp_urg = createFeatureCoeffDict(\\\n",
    "                    est.named_steps.reg.coef_[y_pred],\n",
    "                                feature_names_urg)\n",
    "most_imp_feats_urg = getMostImportantFeaturesUrg(feature_imp_urg, \n",
    "                                                 xx_test,4)\n",
    "\n",
    "p_urg_factors = make_urgency_factors_plot(most_imp_feats_urg)\n",
    "show(p_urg_factors)"
   ]
  },
  {
   "cell_type": "code",
   "execution_count": 200,
   "metadata": {},
   "outputs": [
    {
     "data": {
      "text/plain": [
       "65.0"
      ]
     },
     "execution_count": 200,
     "metadata": {},
     "output_type": "execute_result"
    }
   ],
   "source": [
    "X_test['ADMIT_AGE'].median()"
   ]
  },
  {
   "cell_type": "code",
   "execution_count": 214,
   "metadata": {},
   "outputs": [
    {
     "data": {
      "text/plain": [
       "'afwjkvbekr'"
      ]
     },
     "execution_count": 214,
     "metadata": {},
     "output_type": "execute_result"
    }
   ],
   "source": [
    "foo = 'afwjkvbekrbv'\n",
    "foo[:10]"
   ]
  },
  {
   "cell_type": "code",
   "execution_count": 215,
   "metadata": {},
   "outputs": [
    {
     "data": {
      "text/plain": [
       "25"
      ]
     },
     "execution_count": 215,
     "metadata": {},
     "output_type": "execute_result"
    }
   ],
   "source": [
    "len('CLINIC REFERRAL/PREMATURE')"
   ]
  },
  {
   "cell_type": "code",
   "execution_count": null,
   "metadata": {},
   "outputs": [],
   "source": []
  }
 ],
 "metadata": {
  "kernelspec": {
   "display_name": "base",
   "language": "python",
   "name": "base"
  },
  "language_info": {
   "codemirror_mode": {
    "name": "ipython",
    "version": 3
   },
   "file_extension": ".py",
   "mimetype": "text/x-python",
   "name": "python",
   "nbconvert_exporter": "python",
   "pygments_lexer": "ipython3",
   "version": "3.8.3"
  }
 },
 "nbformat": 4,
 "nbformat_minor": 4
}
