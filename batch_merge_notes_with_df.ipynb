{
 "cells": [
  {
   "cell_type": "code",
   "execution_count": 1,
   "metadata": {},
   "outputs": [],
   "source": [
    "import pandas as pd\n",
    "import numpy as np"
   ]
  },
  {
   "cell_type": "code",
   "execution_count": 11,
   "metadata": {},
   "outputs": [],
   "source": [
    "df = pd.read_pickle('./data/pickle/preproc/df_patient_admit_icu__20210204_singleICUSTAY_final.pkl')"
   ]
  },
  {
   "cell_type": "code",
   "execution_count": 3,
   "metadata": {},
   "outputs": [],
   "source": [
    "# import patient info\n",
    "data_dir = 'data/physionet.org/files/mimiciii/1.4/'\n",
    "notes_file = 'NOTEEVENTS.csv'"
   ]
  },
  {
   "cell_type": "code",
   "execution_count": 29,
   "metadata": {},
   "outputs": [],
   "source": [
    "skiplist = []\n",
    "\n",
    "row_count = 700000\n",
    "skiprows = 0\n",
    "nrows = 100000  # defualt\n",
    "\n",
    "colnames = np.array(['ROW_ID', 'SUBJECT_ID', 'HADM_ID', 'CHARTDATE',\n",
    "           'CHARTTIME', 'STORETIME', 'CATEGORY', 'DESCRIPTION',\n",
    "           'CGID', 'ISERROR','TEXT'\n",
    "          ])\n",
    "\n",
    "usecols = colnames[[1,2,4, 9, 10]]\n",
    "cnt=0"
   ]
  },
  {
   "cell_type": "code",
   "execution_count": 30,
   "metadata": {},
   "outputs": [],
   "source": [
    "def preprocess_text(df):\n",
    "    # This function preprocesses the text by filling not a number and replacing new lines ('\\n') and carriage returns ('\\r')\n",
    "    df.TEXT = df.TEXT.fillna(' ')\n",
    "    df.TEXT = df.TEXT.str.replace('\\n',' ')\n",
    "    df.TEXT = df.TEXT.str.replace('\\r',' ')\n",
    "    return df"
   ]
  },
  {
   "cell_type": "code",
   "execution_count": 31,
   "metadata": {},
   "outputs": [
    {
     "name": "stdout",
     "output_type": "stream",
     "text": [
      "Iteration 0...\n",
      "Iteration 0...\n",
      "Iteration 0...\n",
      "Iteration 0...\n",
      "Iteration 0...\n",
      "Iteration 0...\n",
      "Iteration 0...\n"
     ]
    }
   ],
   "source": [
    "all_colnames = ['CHARTTIME', 'TEXT', 'SUBJECT_ID', 'GENDER', 'HADM_ID', 'ADMITTIME',\n",
    "       'DISCHTIME', 'ADMISSION_TYPE', 'ADMISSION_LOCATION', 'INSURANCE',\n",
    "       'LANGUAGE', 'RELIGION', 'MARITAL_STATUS', 'ETHNICITY', 'DIAGNOSIS',\n",
    "       'HOSPITAL_EXPIRE_FLAG', 'HAS_CHARTEVENTS_DATA', 'HOSPITAL_DAYS',\n",
    "       'ADMIT_AGE', 'ICUSTAY_ID', 'DBSOURCE', 'INTIME', 'LOS',\n",
    "       'DAYS_ADM_TO_ICU', 'SAMEDAY_ADM_TO_ICU', 'ADM_TO_ICU_100p',\n",
    "       'ADM_TO_ICU_90m', 'ICU_URGENCY', 'DAYS_NOTE_TO_ICU']\n",
    "\n",
    "df_all = pd.DataFrame(columns = all_colnames)\n",
    "while skiprows<row_count:\n",
    "    print('Iteration {}...'.format(cnt))\n",
    "    \n",
    "    if skiprows + nrows > row_count:\n",
    "        nrows = row_count - skiprows\n",
    "    else:\n",
    "        nrows = 100000\n",
    "            \n",
    "    df_note = pd.read_csv(data_dir + notes_file, sep=',', header=0, names=colnames,\n",
    "                     skiprows=skiprows, nrows=nrows, usecols=usecols)\n",
    "    \n",
    "    # drop charttime=na\n",
    "    df_note = df_note.dropna(subset=['CHARTTIME'])\n",
    "    \n",
    "    # drop note errors\n",
    "    df_note = df_note[df_note['ISERROR']!=1] # 1 is error\n",
    "    df_note = df_note.drop(columns=['ISERROR'])\n",
    "    \n",
    "    # keep only rows that have matching ['SUBJECT_ID', 'HADM_ID'] in df_ids\n",
    "    df_note = df_note.merge(df, on=['SUBJECT_ID', 'HADM_ID'], how='inner')\n",
    "    \n",
    "    # convert charttime to datetime\n",
    "    df_note.CHARTTIME = pd.to_datetime(df_note.CHARTTIME,format = '%Y-%m-%d %H:%M:%S', errors = 'coerce')\n",
    "    \n",
    "    # calculate days from note event to icu admission\n",
    "    df_note['DAYS_NOTE_TO_ICU'] = (df_note['INTIME'] - df_note['CHARTTIME']).dt.total_seconds()/(24*60*60)\n",
    "    \n",
    "    # keep only chartevents that occurred before ICU INTIME (>0)\n",
    "    df_note = df_note[df_note['DAYS_NOTE_TO_ICU']>0]\n",
    "    \n",
    "    # fix text\n",
    "    df_note = preprocess_text(df_note)\n",
    "    \n",
    "    ## TO DO:\n",
    "    # 1. for each SUBJECT_ID, find first entry time HADM_ID and create new row with empty TEXT \n",
    "    #    (indicating info received immediately after first admission)\n",
    "    # 2. clean up TEXT (similar to DIAGNOSES) \n",
    "    # 3. for each SUBJECT_ID & HADM_ID, order rows by ADMITTIME, then CHARTTIME\n",
    "    # 4. for every row after first for each  SUBJECT_ID (across all HADM_IDs): \n",
    "    #(\n",
    "    #    just concatenate all subsequent note events for by SUBJECT_ID (this serves to extend \n",
    "    #    running tally of notes for each subject across hospital admits)\n",
    "    \n",
    "    #    or TEXT as running set() of words that gets extended at each later time for each new note \n",
    "    #    event, but converted back to text (with proper word counts) to use with CountVectorizer and TfidfTransformer \n",
    "    \n",
    "    #)\n",
    "    \n",
    "    # 5. create new DAYS_EVENT_TO_ICU that collapses DAYS_ADM_TO_ICU (for admit info only) and DAYS_NOTE_TO_ICU (for all notes)\n",
    "    df_all = df_all.append(df_note)\n",
    "    \n",
    "    skiprows+=nrows"
   ]
  },
  {
   "cell_type": "code",
   "execution_count": 46,
   "metadata": {},
   "outputs": [
    {
     "data": {
      "text/html": [
       "<div>\n",
       "<style scoped>\n",
       "    .dataframe tbody tr th:only-of-type {\n",
       "        vertical-align: middle;\n",
       "    }\n",
       "\n",
       "    .dataframe tbody tr th {\n",
       "        vertical-align: top;\n",
       "    }\n",
       "\n",
       "    .dataframe thead th {\n",
       "        text-align: right;\n",
       "    }\n",
       "</style>\n",
       "<table border=\"1\" class=\"dataframe\">\n",
       "  <thead>\n",
       "    <tr style=\"text-align: right;\">\n",
       "      <th></th>\n",
       "      <th>CHARTTIME</th>\n",
       "      <th>TEXT</th>\n",
       "      <th>SUBJECT_ID</th>\n",
       "      <th>GENDER</th>\n",
       "      <th>HADM_ID</th>\n",
       "      <th>ADMITTIME</th>\n",
       "      <th>DISCHTIME</th>\n",
       "      <th>ADMISSION_TYPE</th>\n",
       "      <th>ADMISSION_LOCATION</th>\n",
       "      <th>INSURANCE</th>\n",
       "      <th>...</th>\n",
       "      <th>ICUSTAY_ID</th>\n",
       "      <th>DBSOURCE</th>\n",
       "      <th>INTIME</th>\n",
       "      <th>LOS</th>\n",
       "      <th>DAYS_ADM_TO_ICU</th>\n",
       "      <th>SAMEDAY_ADM_TO_ICU</th>\n",
       "      <th>ADM_TO_ICU_100p</th>\n",
       "      <th>ADM_TO_ICU_90m</th>\n",
       "      <th>ICU_URGENCY</th>\n",
       "      <th>DAYS_NOTE_TO_ICU</th>\n",
       "    </tr>\n",
       "  </thead>\n",
       "  <tbody>\n",
       "    <tr>\n",
       "      <th>55422</th>\n",
       "      <td>2176-04-27 03:09:00</td>\n",
       "      <td>Pt is 72 yo M with PMHx sig. for cirrhosis s/p...</td>\n",
       "      <td>21666</td>\n",
       "      <td>M</td>\n",
       "      <td>174565.0</td>\n",
       "      <td>2176-04-26 12:00:00</td>\n",
       "      <td>2176-05-05 12:15:00</td>\n",
       "      <td>EMERGENCY</td>\n",
       "      <td>EMERGENCY ROOM ADMIT</td>\n",
       "      <td>Medicare</td>\n",
       "      <td>...</td>\n",
       "      <td>283592</td>\n",
       "      <td>metavision</td>\n",
       "      <td>2176-04-29 22:05:46</td>\n",
       "      <td>0.5797</td>\n",
       "      <td>3.420671</td>\n",
       "      <td>0</td>\n",
       "      <td>86</td>\n",
       "      <td>54</td>\n",
       "      <td>questionable</td>\n",
       "      <td>2.789421</td>\n",
       "    </tr>\n",
       "    <tr>\n",
       "      <th>55423</th>\n",
       "      <td>2176-04-28 05:07:00</td>\n",
       "      <td>SICU    HPI:    Date [**4-28**]  HD 2  POD 1  ...</td>\n",
       "      <td>21666</td>\n",
       "      <td>M</td>\n",
       "      <td>174565.0</td>\n",
       "      <td>2176-04-26 12:00:00</td>\n",
       "      <td>2176-05-05 12:15:00</td>\n",
       "      <td>EMERGENCY</td>\n",
       "      <td>EMERGENCY ROOM ADMIT</td>\n",
       "      <td>Medicare</td>\n",
       "      <td>...</td>\n",
       "      <td>283592</td>\n",
       "      <td>metavision</td>\n",
       "      <td>2176-04-29 22:05:46</td>\n",
       "      <td>0.5797</td>\n",
       "      <td>3.420671</td>\n",
       "      <td>0</td>\n",
       "      <td>86</td>\n",
       "      <td>54</td>\n",
       "      <td>questionable</td>\n",
       "      <td>1.707477</td>\n",
       "    </tr>\n",
       "    <tr>\n",
       "      <th>55427</th>\n",
       "      <td>2176-04-28 09:53:00</td>\n",
       "      <td>Gastrointestinal bleed, lower (Hematochezia, B...</td>\n",
       "      <td>21666</td>\n",
       "      <td>M</td>\n",
       "      <td>174565.0</td>\n",
       "      <td>2176-04-26 12:00:00</td>\n",
       "      <td>2176-05-05 12:15:00</td>\n",
       "      <td>EMERGENCY</td>\n",
       "      <td>EMERGENCY ROOM ADMIT</td>\n",
       "      <td>Medicare</td>\n",
       "      <td>...</td>\n",
       "      <td>283592</td>\n",
       "      <td>metavision</td>\n",
       "      <td>2176-04-29 22:05:46</td>\n",
       "      <td>0.5797</td>\n",
       "      <td>3.420671</td>\n",
       "      <td>0</td>\n",
       "      <td>86</td>\n",
       "      <td>54</td>\n",
       "      <td>questionable</td>\n",
       "      <td>1.508866</td>\n",
       "    </tr>\n",
       "    <tr>\n",
       "      <th>55428</th>\n",
       "      <td>2176-04-27 18:01:00</td>\n",
       "      <td>Pt is 72 yo M with PMHx sig. for cirrhosis s/p...</td>\n",
       "      <td>21666</td>\n",
       "      <td>M</td>\n",
       "      <td>174565.0</td>\n",
       "      <td>2176-04-26 12:00:00</td>\n",
       "      <td>2176-05-05 12:15:00</td>\n",
       "      <td>EMERGENCY</td>\n",
       "      <td>EMERGENCY ROOM ADMIT</td>\n",
       "      <td>Medicare</td>\n",
       "      <td>...</td>\n",
       "      <td>283592</td>\n",
       "      <td>metavision</td>\n",
       "      <td>2176-04-29 22:05:46</td>\n",
       "      <td>0.5797</td>\n",
       "      <td>3.420671</td>\n",
       "      <td>0</td>\n",
       "      <td>86</td>\n",
       "      <td>54</td>\n",
       "      <td>questionable</td>\n",
       "      <td>2.169977</td>\n",
       "    </tr>\n",
       "    <tr>\n",
       "      <th>55429</th>\n",
       "      <td>2176-04-28 09:53:00</td>\n",
       "      <td>Gastrointestinal bleed, lower (Hematochezia, B...</td>\n",
       "      <td>21666</td>\n",
       "      <td>M</td>\n",
       "      <td>174565.0</td>\n",
       "      <td>2176-04-26 12:00:00</td>\n",
       "      <td>2176-05-05 12:15:00</td>\n",
       "      <td>EMERGENCY</td>\n",
       "      <td>EMERGENCY ROOM ADMIT</td>\n",
       "      <td>Medicare</td>\n",
       "      <td>...</td>\n",
       "      <td>283592</td>\n",
       "      <td>metavision</td>\n",
       "      <td>2176-04-29 22:05:46</td>\n",
       "      <td>0.5797</td>\n",
       "      <td>3.420671</td>\n",
       "      <td>0</td>\n",
       "      <td>86</td>\n",
       "      <td>54</td>\n",
       "      <td>questionable</td>\n",
       "      <td>1.508866</td>\n",
       "    </tr>\n",
       "  </tbody>\n",
       "</table>\n",
       "<p>5 rows × 29 columns</p>\n",
       "</div>"
      ],
      "text/plain": [
       "                CHARTTIME                                               TEXT  \\\n",
       "55422 2176-04-27 03:09:00  Pt is 72 yo M with PMHx sig. for cirrhosis s/p...   \n",
       "55423 2176-04-28 05:07:00  SICU    HPI:    Date [**4-28**]  HD 2  POD 1  ...   \n",
       "55427 2176-04-28 09:53:00  Gastrointestinal bleed, lower (Hematochezia, B...   \n",
       "55428 2176-04-27 18:01:00  Pt is 72 yo M with PMHx sig. for cirrhosis s/p...   \n",
       "55429 2176-04-28 09:53:00  Gastrointestinal bleed, lower (Hematochezia, B...   \n",
       "\n",
       "      SUBJECT_ID GENDER   HADM_ID           ADMITTIME           DISCHTIME  \\\n",
       "55422      21666      M  174565.0 2176-04-26 12:00:00 2176-05-05 12:15:00   \n",
       "55423      21666      M  174565.0 2176-04-26 12:00:00 2176-05-05 12:15:00   \n",
       "55427      21666      M  174565.0 2176-04-26 12:00:00 2176-05-05 12:15:00   \n",
       "55428      21666      M  174565.0 2176-04-26 12:00:00 2176-05-05 12:15:00   \n",
       "55429      21666      M  174565.0 2176-04-26 12:00:00 2176-05-05 12:15:00   \n",
       "\n",
       "      ADMISSION_TYPE    ADMISSION_LOCATION INSURANCE  ... ICUSTAY_ID  \\\n",
       "55422      EMERGENCY  EMERGENCY ROOM ADMIT  Medicare  ...     283592   \n",
       "55423      EMERGENCY  EMERGENCY ROOM ADMIT  Medicare  ...     283592   \n",
       "55427      EMERGENCY  EMERGENCY ROOM ADMIT  Medicare  ...     283592   \n",
       "55428      EMERGENCY  EMERGENCY ROOM ADMIT  Medicare  ...     283592   \n",
       "55429      EMERGENCY  EMERGENCY ROOM ADMIT  Medicare  ...     283592   \n",
       "\n",
       "         DBSOURCE              INTIME     LOS DAYS_ADM_TO_ICU  \\\n",
       "55422  metavision 2176-04-29 22:05:46  0.5797        3.420671   \n",
       "55423  metavision 2176-04-29 22:05:46  0.5797        3.420671   \n",
       "55427  metavision 2176-04-29 22:05:46  0.5797        3.420671   \n",
       "55428  metavision 2176-04-29 22:05:46  0.5797        3.420671   \n",
       "55429  metavision 2176-04-29 22:05:46  0.5797        3.420671   \n",
       "\n",
       "      SAMEDAY_ADM_TO_ICU ADM_TO_ICU_100p  ADM_TO_ICU_90m   ICU_URGENCY  \\\n",
       "55422                  0              86              54  questionable   \n",
       "55423                  0              86              54  questionable   \n",
       "55427                  0              86              54  questionable   \n",
       "55428                  0              86              54  questionable   \n",
       "55429                  0              86              54  questionable   \n",
       "\n",
       "      DAYS_NOTE_TO_ICU  \n",
       "55422         2.789421  \n",
       "55423         1.707477  \n",
       "55427         1.508866  \n",
       "55428         2.169977  \n",
       "55429         1.508866  \n",
       "\n",
       "[5 rows x 29 columns]"
      ]
     },
     "execution_count": 46,
     "metadata": {},
     "output_type": "execute_result"
    }
   ],
   "source": [
    "df_all.head(5)"
   ]
  },
  {
   "cell_type": "code",
   "execution_count": 74,
   "metadata": {},
   "outputs": [],
   "source": [
    "preproc_dir = 'data/pickle/preproc/'\n",
    "notes_rowids = preproc_dir + 'NOTEEVENTS__2021_01_22_22_49_08.pkl'\n",
    "note_ids = pd.read_pickle(notes_rowids)"
   ]
  },
  {
   "cell_type": "code",
   "execution_count": 75,
   "metadata": {},
   "outputs": [],
   "source": [
    "total_len = sum([len(i) for i in note_ids])"
   ]
  },
  {
   "cell_type": "code",
   "execution_count": 80,
   "metadata": {},
   "outputs": [],
   "source": [
    "row_idx = set()\n",
    "for n in note_ids:\n",
    "    row_idx.update(n)"
   ]
  },
  {
   "cell_type": "code",
   "execution_count": 81,
   "metadata": {},
   "outputs": [
    {
     "data": {
      "text/plain": [
       "1776453"
      ]
     },
     "execution_count": 81,
     "metadata": {},
     "output_type": "execute_result"
    }
   ],
   "source": [
    "len(row_idx)"
   ]
  },
  {
   "cell_type": "code",
   "execution_count": 13,
   "metadata": {},
   "outputs": [],
   "source": [
    "skiprows = 100000\n",
    "foo = pd.read_csv(data_dir + notes_file, sep=',', header=0, names=colnames,\n",
    "                     skiprows=skiprows, nrows=nrows, usecols=[1,2,4, 9])"
   ]
  },
  {
   "cell_type": "code",
   "execution_count": 15,
   "metadata": {},
   "outputs": [],
   "source": [
    "mask = foo.ISERROR!=1"
   ]
  },
  {
   "cell_type": "code",
   "execution_count": 17,
   "metadata": {},
   "outputs": [],
   "source": [
    "foo = foo[~mask]"
   ]
  },
  {
   "cell_type": "code",
   "execution_count": 18,
   "metadata": {},
   "outputs": [
    {
     "data": {
      "text/plain": [
       "(0, 4)"
      ]
     },
     "execution_count": 18,
     "metadata": {},
     "output_type": "execute_result"
    }
   ],
   "source": [
    "foo.shape"
   ]
  },
  {
   "cell_type": "code",
   "execution_count": 117,
   "metadata": {},
   "outputs": [
    {
     "data": {
      "text/html": [
       "<div>\n",
       "<style scoped>\n",
       "    .dataframe tbody tr th:only-of-type {\n",
       "        vertical-align: middle;\n",
       "    }\n",
       "\n",
       "    .dataframe tbody tr th {\n",
       "        vertical-align: top;\n",
       "    }\n",
       "\n",
       "    .dataframe thead th {\n",
       "        text-align: right;\n",
       "    }\n",
       "</style>\n",
       "<table border=\"1\" class=\"dataframe\">\n",
       "  <thead>\n",
       "    <tr style=\"text-align: right;\">\n",
       "      <th></th>\n",
       "      <th>ROW_ID</th>\n",
       "      <th>SUBJECT_ID</th>\n",
       "      <th>HADM_ID</th>\n",
       "      <th>CHARTTIME</th>\n",
       "    </tr>\n",
       "  </thead>\n",
       "  <tbody>\n",
       "  </tbody>\n",
       "</table>\n",
       "</div>"
      ],
      "text/plain": [
       "Empty DataFrame\n",
       "Columns: [ROW_ID, SUBJECT_ID, HADM_ID, CHARTTIME]\n",
       "Index: []"
      ]
     },
     "execution_count": 117,
     "metadata": {},
     "output_type": "execute_result"
    }
   ],
   "source": [
    "df.dropna(subset=['CHARTTIME'])"
   ]
  },
  {
   "cell_type": "code",
   "execution_count": 118,
   "metadata": {},
   "outputs": [
    {
     "data": {
      "text/html": [
       "<div>\n",
       "<style scoped>\n",
       "    .dataframe tbody tr th:only-of-type {\n",
       "        vertical-align: middle;\n",
       "    }\n",
       "\n",
       "    .dataframe tbody tr th {\n",
       "        vertical-align: top;\n",
       "    }\n",
       "\n",
       "    .dataframe thead th {\n",
       "        text-align: right;\n",
       "    }\n",
       "</style>\n",
       "<table border=\"1\" class=\"dataframe\">\n",
       "  <thead>\n",
       "    <tr style=\"text-align: right;\">\n",
       "      <th></th>\n",
       "      <th>ROW_ID</th>\n",
       "      <th>SUBJECT_ID</th>\n",
       "      <th>HADM_ID</th>\n",
       "      <th>CHARTTIME</th>\n",
       "    </tr>\n",
       "  </thead>\n",
       "  <tbody>\n",
       "    <tr>\n",
       "      <th>0</th>\n",
       "      <td>99733</td>\n",
       "      <td>88065</td>\n",
       "      <td>160734.0</td>\n",
       "      <td>NaN</td>\n",
       "    </tr>\n",
       "    <tr>\n",
       "      <th>1</th>\n",
       "      <td>99734</td>\n",
       "      <td>88065</td>\n",
       "      <td>NaN</td>\n",
       "      <td>NaN</td>\n",
       "    </tr>\n",
       "    <tr>\n",
       "      <th>2</th>\n",
       "      <td>99829</td>\n",
       "      <td>4978</td>\n",
       "      <td>184712.0</td>\n",
       "      <td>NaN</td>\n",
       "    </tr>\n",
       "    <tr>\n",
       "      <th>3</th>\n",
       "      <td>99947</td>\n",
       "      <td>17294</td>\n",
       "      <td>196476.0</td>\n",
       "      <td>NaN</td>\n",
       "    </tr>\n",
       "    <tr>\n",
       "      <th>4</th>\n",
       "      <td>99948</td>\n",
       "      <td>19728</td>\n",
       "      <td>NaN</td>\n",
       "      <td>NaN</td>\n",
       "    </tr>\n",
       "    <tr>\n",
       "      <th>...</th>\n",
       "      <td>...</td>\n",
       "      <td>...</td>\n",
       "      <td>...</td>\n",
       "      <td>...</td>\n",
       "    </tr>\n",
       "    <tr>\n",
       "      <th>99995</th>\n",
       "      <td>209265</td>\n",
       "      <td>60054</td>\n",
       "      <td>154500.0</td>\n",
       "      <td>NaN</td>\n",
       "    </tr>\n",
       "    <tr>\n",
       "      <th>99996</th>\n",
       "      <td>209266</td>\n",
       "      <td>60054</td>\n",
       "      <td>154500.0</td>\n",
       "      <td>NaN</td>\n",
       "    </tr>\n",
       "    <tr>\n",
       "      <th>99997</th>\n",
       "      <td>209481</td>\n",
       "      <td>6639</td>\n",
       "      <td>186534.0</td>\n",
       "      <td>NaN</td>\n",
       "    </tr>\n",
       "    <tr>\n",
       "      <th>99998</th>\n",
       "      <td>209482</td>\n",
       "      <td>5688</td>\n",
       "      <td>144939.0</td>\n",
       "      <td>NaN</td>\n",
       "    </tr>\n",
       "    <tr>\n",
       "      <th>99999</th>\n",
       "      <td>209483</td>\n",
       "      <td>18944</td>\n",
       "      <td>173283.0</td>\n",
       "      <td>NaN</td>\n",
       "    </tr>\n",
       "  </tbody>\n",
       "</table>\n",
       "<p>100000 rows × 4 columns</p>\n",
       "</div>"
      ],
      "text/plain": [
       "       ROW_ID  SUBJECT_ID   HADM_ID  CHARTTIME\n",
       "0       99733       88065  160734.0        NaN\n",
       "1       99734       88065       NaN        NaN\n",
       "2       99829        4978  184712.0        NaN\n",
       "3       99947       17294  196476.0        NaN\n",
       "4       99948       19728       NaN        NaN\n",
       "...       ...         ...       ...        ...\n",
       "99995  209265       60054  154500.0        NaN\n",
       "99996  209266       60054  154500.0        NaN\n",
       "99997  209481        6639  186534.0        NaN\n",
       "99998  209482        5688  144939.0        NaN\n",
       "99999  209483       18944  173283.0        NaN\n",
       "\n",
       "[100000 rows x 4 columns]"
      ]
     },
     "execution_count": 118,
     "metadata": {},
     "output_type": "execute_result"
    }
   ],
   "source": [
    "foo"
   ]
  },
  {
   "cell_type": "code",
   "execution_count": null,
   "metadata": {},
   "outputs": [],
   "source": [
    "# convert charttime to datetime\n",
    "df.CHARTTIME = pd.to_datetime(df.CHARTTIME,format = '%Y-%m-%d %H:%M:%S', errors = 'coerce')"
   ]
  },
  {
   "cell_type": "code",
   "execution_count": 101,
   "metadata": {},
   "outputs": [
    {
     "data": {
      "text/plain": [
       "1866629"
      ]
     },
     "execution_count": 101,
     "metadata": {},
     "output_type": "execute_result"
    }
   ],
   "source": [
    "2083181-200000-14931-465-487-506-163"
   ]
  },
  {
   "cell_type": "code",
   "execution_count": null,
   "metadata": {},
   "outputs": [],
   "source": []
  }
 ],
 "metadata": {
  "kernelspec": {
   "display_name": "base",
   "language": "python",
   "name": "base"
  },
  "language_info": {
   "codemirror_mode": {
    "name": "ipython",
    "version": 3
   },
   "file_extension": ".py",
   "mimetype": "text/x-python",
   "name": "python",
   "nbconvert_exporter": "python",
   "pygments_lexer": "ipython3",
   "version": "3.8.3"
  }
 },
 "nbformat": 4,
 "nbformat_minor": 4
}
