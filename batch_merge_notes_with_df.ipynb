{
 "cells": [
  {
   "cell_type": "code",
   "execution_count": 1,
   "metadata": {},
   "outputs": [],
   "source": [
    "import pandas as pd\n",
    "import numpy as np"
   ]
  },
  {
   "cell_type": "code",
   "execution_count": 2,
   "metadata": {},
   "outputs": [],
   "source": [
    "df = pd.read_pickle('./data/pickle/preproc/df_patient_admit_icu__20210204_singleICUSTAY_final.pkl')"
   ]
  },
  {
   "cell_type": "code",
   "execution_count": 3,
   "metadata": {},
   "outputs": [],
   "source": [
    "# import patient info\n",
    "data_dir = 'data/physionet.org/files/mimiciii/1.4/'\n",
    "notes_file = 'NOTEEVENTS.csv'"
   ]
  },
  {
   "cell_type": "code",
   "execution_count": 4,
   "metadata": {},
   "outputs": [],
   "source": [
    "skiplist = []\n",
    "\n",
    "row_count = 2083181\n",
    "skiprows = 0\n",
    "nrows = 100000  # defualt\n",
    "\n",
    "colnames = np.array(['ROW_ID', 'SUBJECT_ID', 'HADM_ID', 'CHARTDATE',\n",
    "           'CHARTTIME', 'STORETIME', 'CATEGORY', 'DESCRIPTION',\n",
    "           'CGID', 'ISERROR','TEXT'\n",
    "          ])\n",
    "\n",
    "usecols = colnames[[1,2,4,9,10]]\n",
    "cnt=0"
   ]
  },
  {
   "cell_type": "code",
   "execution_count": 5,
   "metadata": {},
   "outputs": [],
   "source": [
    "from customTransformers import ColumnSelectTransformer, DiagnosisFrameTransformer\n",
    "\n",
    "def preprocess_text(df):\n",
    "    # This function preprocesses the text by filling not a number \n",
    "    # and replacing new lines ('\\n') and carriage returns ('\\r')\n",
    "    df.TEXT = df.TEXT.fillna(' ')\n",
    "    df.TEXT = df.TEXT.str.replace('\\n',' ')\n",
    "    df.TEXT = df.TEXT.str.replace('\\r',' ')\n",
    "    \n",
    "    cst = ColumnSelectTransformer(['TEXT'])\n",
    "    dft = DiagnosisFrameTransformer()\n",
    "\n",
    "    text = cst.fit_transform(df)\n",
    "    df['TEXT'] = dft.fit_transform(text)\n",
    "    \n",
    "    return df"
   ]
  },
  {
   "cell_type": "code",
   "execution_count": 6,
   "metadata": {},
   "outputs": [
    {
     "name": "stdout",
     "output_type": "stream",
     "text": [
      "Iteration 0...\n",
      "Iteration 1...\n",
      "Iteration 2...\n",
      "Iteration 3...\n",
      "Iteration 4...\n",
      "Iteration 5...\n",
      "Iteration 6...\n",
      "Iteration 7...\n",
      "Iteration 8...\n",
      "Iteration 9...\n",
      "Iteration 10...\n",
      "Iteration 11...\n",
      "Iteration 12...\n",
      "Iteration 13...\n",
      "Iteration 14...\n",
      "Iteration 15...\n",
      "Iteration 16...\n",
      "Iteration 17...\n",
      "Iteration 18...\n",
      "Iteration 19...\n",
      "Iteration 20...\n"
     ]
    }
   ],
   "source": [
    "all_colnames = ['CHARTTIME', 'TEXT', 'SUBJECT_ID', 'GENDER', 'HADM_ID', 'ADMITTIME',\n",
    "       'DISCHTIME', 'ADMISSION_TYPE', 'ADMISSION_LOCATION', 'INSURANCE',\n",
    "       'LANGUAGE', 'RELIGION', 'MARITAL_STATUS', 'ETHNICITY', 'DIAGNOSIS',\n",
    "       'HOSPITAL_EXPIRE_FLAG', 'HAS_CHARTEVENTS_DATA', 'HOSPITAL_DAYS',\n",
    "       'ADMIT_AGE', 'ICUSTAY_ID', 'DBSOURCE', 'INTIME', 'LOS',\n",
    "       'DAYS_ADM_TO_ICU', 'SAMEDAY_ADM_TO_ICU', 'ADM_TO_ICU_100p',\n",
    "       'ADM_TO_ICU_90m', 'ICU_URGENCY', 'DAYS_NOTE_TO_ICU']\n",
    "\n",
    "cst = ColumnSelectTransformer(['TEXT'])\n",
    "dft = DiagnosisFrameTransformer()\n",
    "\n",
    "df_all = pd.DataFrame(columns = all_colnames)\n",
    "while skiprows<row_count:\n",
    "    print('Iteration {}...'.format(cnt))\n",
    "    \n",
    "    if skiprows + nrows > row_count:\n",
    "        nrows = row_count - skiprows\n",
    "    else:\n",
    "        nrows = 100000\n",
    "            \n",
    "    df_note = pd.read_csv(data_dir + notes_file, sep=',', header=0, names=colnames,\n",
    "                     skiprows=skiprows, nrows=nrows, usecols=usecols)\n",
    "    \n",
    "    # drop charttime=na\n",
    "    df_note = df_note.dropna(subset=['CHARTTIME'])\n",
    "    \n",
    "    # drop note errors\n",
    "    df_note = df_note[df_note['ISERROR']!=1] # 1 is error\n",
    "    df_note = df_note.drop(columns=['ISERROR'])\n",
    "    \n",
    "    # keep only rows that have matching ['SUBJECT_ID', 'HADM_ID'] in df_ids\n",
    "    df_note = df_note.merge(df, on=['SUBJECT_ID', 'HADM_ID'], how='inner')\n",
    "    df_note = df_note.drop_duplicates()\n",
    "    \n",
    "    # convert charttime to datetime\n",
    "    df_note.CHARTTIME = pd.to_datetime(df_note.CHARTTIME,format = '%Y-%m-%d %H:%M:%S', errors = 'coerce')\n",
    "    \n",
    "    # calculate days from note event to icu admission\n",
    "    df_note['DAYS_NOTE_TO_ICU'] = (df_note['INTIME'] - df_note['CHARTTIME']).dt.total_seconds()/(24*60*60)\n",
    "    \n",
    "    # keep only chartevents that occurred before ICU INTIME (>0)\n",
    "    df_note = df_note[df_note['DAYS_NOTE_TO_ICU']>0]\n",
    "    \n",
    "    if df_note.shape[0]:\n",
    "        # clean up TEXT (similar to DIAGNOSES) \n",
    "        df_note = preprocess_text(df_note)\n",
    "\n",
    "        df_all = df_all.append(df_note)\n",
    "    \n",
    "    skiprows += nrows\n",
    "    cnt += 1"
   ]
  },
  {
   "cell_type": "code",
   "execution_count": 7,
   "metadata": {},
   "outputs": [],
   "source": [
    "from datetime import timedelta\n",
    "def get_earliest_time_row(x):\n",
    "    minrow = x.loc[x['CHARTTIME'].idxmin()]\n",
    "    # this will force empty TEXTs to be at top of groupby (for @ inital admit)\n",
    "    # without affecting times\n",
    "    minrow['ADMITTIME'] = minrow['ADMITTIME'] - timedelta(seconds=1)\n",
    "    return minrow"
   ]
  },
  {
   "cell_type": "code",
   "execution_count": 8,
   "metadata": {},
   "outputs": [],
   "source": [
    "def add_initial_admit_row(df):\n",
    "    df_gb_early = df.groupby(['SUBJECT_ID', 'HADM_ID']).apply(get_earliest_time_row)\n",
    "    df_gb_early.TEXT = ' '\n",
    "    df = df.append(df_gb_early)\n",
    "    df = df.sort_values(by=['SUBJECT_ID', 'HADM_ID', 'ADMITTIME', 'CHARTTIME'])\n",
    "    df = df.reset_index(drop=True)\n",
    "    return df"
   ]
  },
  {
   "cell_type": "code",
   "execution_count": 9,
   "metadata": {},
   "outputs": [],
   "source": [
    "# 2. order rows by SUBJECT_ID, HADM_ID, ADMITTIME, then CHARTTIME\n",
    "df_all = df_all.sort_values(by=['SUBJECT_ID', 'HADM_ID', 'ADMITTIME', 'CHARTTIME'])\n",
    "df_all = df_all.reset_index(drop=True)\n",
    "\n",
    "# 3. for each SUBJECT_ID and HADM_ID, find first row of HADM_ID and create \n",
    "# new row with empty TEXT (indicating info received immediately after first admission)\n",
    "df_all = add_initial_admit_row(df_all)"
   ]
  },
  {
   "cell_type": "code",
   "execution_count": 25,
   "metadata": {},
   "outputs": [],
   "source": [
    "# 4. for every row after first for each  SUBJECT_ID (across all HADM_IDs): \n",
    "#    just concatenate all subsequent note events for by SUBJECT_ID (this serves to extend \n",
    "#    running tally of notes for each subject across hospital admits)\n",
    "def extend_text_set(x):\n",
    "    for ix in range(1,len(x)):\n",
    "        x['TEXT'].iloc[ix] = x['TEXT'].iloc[ix-1] + x['TEXT'].iloc[ix]\n",
    "    return x\n",
    "\n",
    "df_all = df_all.groupby(['SUBJECT_ID']).apply(extend_text_set)"
   ]
  },
  {
   "cell_type": "code",
   "execution_count": 28,
   "metadata": {},
   "outputs": [],
   "source": [
    "# 5. create new DAYS_EVENT_TO_ICU that collapses DAYS_ADM_TO_ICU (for admit info only) and DAYS_NOTE_TO_ICU (for all notes)\n",
    "def fill_event_to_icu_col(x):\n",
    "#     print(x)\n",
    "    if x['TEXT'] == ' ':\n",
    "        return x['DAYS_ADM_TO_ICU']\n",
    "    return x['DAYS_NOTE_TO_ICU']\n",
    "\n",
    "df_all['DAYS_EVENT_TO_ICU'] = df_all.apply(fill_event_to_icu_col,axis=1)"
   ]
  },
  {
   "cell_type": "code",
   "execution_count": 30,
   "metadata": {},
   "outputs": [
    {
     "data": {
      "text/plain": [
       "Index(['CHARTTIME', 'TEXT', 'SUBJECT_ID', 'GENDER', 'HADM_ID', 'ADMITTIME',\n",
       "       'DISCHTIME', 'ADMISSION_TYPE', 'ADMISSION_LOCATION', 'INSURANCE',\n",
       "       'LANGUAGE', 'RELIGION', 'MARITAL_STATUS', 'ETHNICITY', 'DIAGNOSIS',\n",
       "       'HOSPITAL_EXPIRE_FLAG', 'HAS_CHARTEVENTS_DATA', 'HOSPITAL_DAYS',\n",
       "       'ADMIT_AGE', 'ICUSTAY_ID', 'DBSOURCE', 'INTIME', 'LOS',\n",
       "       'DAYS_ADM_TO_ICU', 'SAMEDAY_ADM_TO_ICU', 'ADM_TO_ICU_100p',\n",
       "       'ADM_TO_ICU_90m', 'ICU_URGENCY', 'DAYS_NOTE_TO_ICU',\n",
       "       'DAYS_EVENT_TO_ICU'],\n",
       "      dtype='object')"
      ]
     },
     "execution_count": 30,
     "metadata": {},
     "output_type": "execute_result"
    }
   ],
   "source": [
    "df_all.columns"
   ]
  },
  {
   "cell_type": "code",
   "execution_count": 31,
   "metadata": {},
   "outputs": [],
   "source": [
    "df_all=df_all.drop(['DISCHTIME','HOSPITAL_EXPIRE_FLAG',\n",
    "                    'HAS_CHARTEVENTS_DATA','HOSPITAL_DAYS',\n",
    "                    'DAYS_ADM_TO_ICU','SAMEDAY_ADM_TO_ICU',\n",
    "                   'ADM_TO_ICU_100p','ADM_TO_ICU_90m',\n",
    "                   'DAYS_NOTE_TO_ICU'],axis=1)"
   ]
  },
  {
   "cell_type": "code",
   "execution_count": 32,
   "metadata": {},
   "outputs": [],
   "source": [
    "df_all = df_all[['SUBJECT_ID','HADM_ID','ICUSTAY_ID','ADMITTIME',\n",
    "                 'CHARTTIME','INTIME','GENDER','ADMIT_AGE',\n",
    "                'ADMISSION_TYPE','ADMISSION_LOCATION','INSURANCE',\n",
    "                'LANGUAGE','RELIGION','MARITAL_STATUS','ETHNICITY',\n",
    "                'DIAGNOSIS','TEXT','DBSOURCE','LOS','DAYS_EVENT_TO_ICU',\n",
    "                'ICU_URGENCY']]"
   ]
  },
  {
   "cell_type": "code",
   "execution_count": 33,
   "metadata": {},
   "outputs": [
    {
     "data": {
      "text/html": [
       "<div>\n",
       "<style scoped>\n",
       "    .dataframe tbody tr th:only-of-type {\n",
       "        vertical-align: middle;\n",
       "    }\n",
       "\n",
       "    .dataframe tbody tr th {\n",
       "        vertical-align: top;\n",
       "    }\n",
       "\n",
       "    .dataframe thead th {\n",
       "        text-align: right;\n",
       "    }\n",
       "</style>\n",
       "<table border=\"1\" class=\"dataframe\">\n",
       "  <thead>\n",
       "    <tr style=\"text-align: right;\">\n",
       "      <th></th>\n",
       "      <th>SUBJECT_ID</th>\n",
       "      <th>HADM_ID</th>\n",
       "      <th>ICUSTAY_ID</th>\n",
       "      <th>ADMITTIME</th>\n",
       "      <th>CHARTTIME</th>\n",
       "      <th>INTIME</th>\n",
       "      <th>GENDER</th>\n",
       "      <th>ADMIT_AGE</th>\n",
       "      <th>ADMISSION_TYPE</th>\n",
       "      <th>ADMISSION_LOCATION</th>\n",
       "      <th>...</th>\n",
       "      <th>LANGUAGE</th>\n",
       "      <th>RELIGION</th>\n",
       "      <th>MARITAL_STATUS</th>\n",
       "      <th>ETHNICITY</th>\n",
       "      <th>DIAGNOSIS</th>\n",
       "      <th>TEXT</th>\n",
       "      <th>DBSOURCE</th>\n",
       "      <th>LOS</th>\n",
       "      <th>DAYS_EVENT_TO_ICU</th>\n",
       "      <th>ICU_URGENCY</th>\n",
       "    </tr>\n",
       "  </thead>\n",
       "  <tbody>\n",
       "    <tr>\n",
       "      <th>0</th>\n",
       "      <td>3</td>\n",
       "      <td>145834.0</td>\n",
       "      <td>211552</td>\n",
       "      <td>2101-10-20 19:07:59</td>\n",
       "      <td>2101-10-20 17:49:00</td>\n",
       "      <td>2101-10-20 19:10:11</td>\n",
       "      <td>M</td>\n",
       "      <td>76</td>\n",
       "      <td>EMERGENCY</td>\n",
       "      <td>EMERGENCY ROOM ADMIT</td>\n",
       "      <td>...</td>\n",
       "      <td>***</td>\n",
       "      <td>CATHOLIC</td>\n",
       "      <td>MARRIED</td>\n",
       "      <td>WHITE</td>\n",
       "      <td>HYPOTENSION</td>\n",
       "      <td></td>\n",
       "      <td>carevue</td>\n",
       "      <td>6.0646</td>\n",
       "      <td>0.001516</td>\n",
       "      <td>immediate</td>\n",
       "    </tr>\n",
       "    <tr>\n",
       "      <th>1</th>\n",
       "      <td>3</td>\n",
       "      <td>145834.0</td>\n",
       "      <td>211552</td>\n",
       "      <td>2101-10-20 19:08:00</td>\n",
       "      <td>2101-10-20 17:49:00</td>\n",
       "      <td>2101-10-20 19:10:11</td>\n",
       "      <td>M</td>\n",
       "      <td>76</td>\n",
       "      <td>EMERGENCY</td>\n",
       "      <td>EMERGENCY ROOM ADMIT</td>\n",
       "      <td>...</td>\n",
       "      <td>***</td>\n",
       "      <td>CATHOLIC</td>\n",
       "      <td>MARRIED</td>\n",
       "      <td>WHITE</td>\n",
       "      <td>HYPOTENSION</td>\n",
       "      <td>ct abdomen contrast ct pelvis contrast clip ...</td>\n",
       "      <td>carevue</td>\n",
       "      <td>6.0646</td>\n",
       "      <td>0.056377</td>\n",
       "      <td>immediate</td>\n",
       "    </tr>\n",
       "    <tr>\n",
       "      <th>2</th>\n",
       "      <td>3</td>\n",
       "      <td>145834.0</td>\n",
       "      <td>211552</td>\n",
       "      <td>2101-10-20 19:08:00</td>\n",
       "      <td>2101-10-20 18:16:00</td>\n",
       "      <td>2101-10-20 19:10:11</td>\n",
       "      <td>M</td>\n",
       "      <td>76</td>\n",
       "      <td>EMERGENCY</td>\n",
       "      <td>EMERGENCY ROOM ADMIT</td>\n",
       "      <td>...</td>\n",
       "      <td>***</td>\n",
       "      <td>CATHOLIC</td>\n",
       "      <td>MARRIED</td>\n",
       "      <td>WHITE</td>\n",
       "      <td>HYPOTENSION</td>\n",
       "      <td>ct abdomen contrast ct pelvis contrast clip ...</td>\n",
       "      <td>carevue</td>\n",
       "      <td>6.0646</td>\n",
       "      <td>0.037627</td>\n",
       "      <td>immediate</td>\n",
       "    </tr>\n",
       "    <tr>\n",
       "      <th>3</th>\n",
       "      <td>4</td>\n",
       "      <td>185777.0</td>\n",
       "      <td>294638</td>\n",
       "      <td>2191-03-16 00:27:59</td>\n",
       "      <td>2191-03-15 16:20:00</td>\n",
       "      <td>2191-03-16 00:29:31</td>\n",
       "      <td>F</td>\n",
       "      <td>48</td>\n",
       "      <td>EMERGENCY</td>\n",
       "      <td>EMERGENCY ROOM ADMIT</td>\n",
       "      <td>...</td>\n",
       "      <td>***</td>\n",
       "      <td>PROTESTANT QUAKER</td>\n",
       "      <td>SINGLE</td>\n",
       "      <td>WHITE</td>\n",
       "      <td>FEVER,DEHYDRATION,FAILURE TO THRIVE</td>\n",
       "      <td></td>\n",
       "      <td>carevue</td>\n",
       "      <td>1.6785</td>\n",
       "      <td>0.001053</td>\n",
       "      <td>immediate</td>\n",
       "    </tr>\n",
       "    <tr>\n",
       "      <th>4</th>\n",
       "      <td>4</td>\n",
       "      <td>185777.0</td>\n",
       "      <td>294638</td>\n",
       "      <td>2191-03-16 00:28:00</td>\n",
       "      <td>2191-03-15 16:20:00</td>\n",
       "      <td>2191-03-16 00:29:31</td>\n",
       "      <td>F</td>\n",
       "      <td>48</td>\n",
       "      <td>EMERGENCY</td>\n",
       "      <td>EMERGENCY ROOM ADMIT</td>\n",
       "      <td>...</td>\n",
       "      <td>***</td>\n",
       "      <td>PROTESTANT QUAKER</td>\n",
       "      <td>SINGLE</td>\n",
       "      <td>WHITE</td>\n",
       "      <td>FEVER,DEHYDRATION,FAILURE TO THRIVE</td>\n",
       "      <td>chest portable ap clip clip number radiology...</td>\n",
       "      <td>carevue</td>\n",
       "      <td>1.6785</td>\n",
       "      <td>0.339942</td>\n",
       "      <td>immediate</td>\n",
       "    </tr>\n",
       "  </tbody>\n",
       "</table>\n",
       "<p>5 rows × 21 columns</p>\n",
       "</div>"
      ],
      "text/plain": [
       "  SUBJECT_ID   HADM_ID ICUSTAY_ID           ADMITTIME           CHARTTIME  \\\n",
       "0          3  145834.0     211552 2101-10-20 19:07:59 2101-10-20 17:49:00   \n",
       "1          3  145834.0     211552 2101-10-20 19:08:00 2101-10-20 17:49:00   \n",
       "2          3  145834.0     211552 2101-10-20 19:08:00 2101-10-20 18:16:00   \n",
       "3          4  185777.0     294638 2191-03-16 00:27:59 2191-03-15 16:20:00   \n",
       "4          4  185777.0     294638 2191-03-16 00:28:00 2191-03-15 16:20:00   \n",
       "\n",
       "               INTIME GENDER ADMIT_AGE ADMISSION_TYPE    ADMISSION_LOCATION  \\\n",
       "0 2101-10-20 19:10:11      M        76      EMERGENCY  EMERGENCY ROOM ADMIT   \n",
       "1 2101-10-20 19:10:11      M        76      EMERGENCY  EMERGENCY ROOM ADMIT   \n",
       "2 2101-10-20 19:10:11      M        76      EMERGENCY  EMERGENCY ROOM ADMIT   \n",
       "3 2191-03-16 00:29:31      F        48      EMERGENCY  EMERGENCY ROOM ADMIT   \n",
       "4 2191-03-16 00:29:31      F        48      EMERGENCY  EMERGENCY ROOM ADMIT   \n",
       "\n",
       "   ... LANGUAGE           RELIGION MARITAL_STATUS ETHNICITY  \\\n",
       "0  ...      ***           CATHOLIC        MARRIED     WHITE   \n",
       "1  ...      ***           CATHOLIC        MARRIED     WHITE   \n",
       "2  ...      ***           CATHOLIC        MARRIED     WHITE   \n",
       "3  ...      ***  PROTESTANT QUAKER         SINGLE     WHITE   \n",
       "4  ...      ***  PROTESTANT QUAKER         SINGLE     WHITE   \n",
       "\n",
       "                             DIAGNOSIS  \\\n",
       "0                          HYPOTENSION   \n",
       "1                          HYPOTENSION   \n",
       "2                          HYPOTENSION   \n",
       "3  FEVER,DEHYDRATION,FAILURE TO THRIVE   \n",
       "4  FEVER,DEHYDRATION,FAILURE TO THRIVE   \n",
       "\n",
       "                                                TEXT DBSOURCE     LOS  \\\n",
       "0                                                     carevue  6.0646   \n",
       "1    ct abdomen contrast ct pelvis contrast clip ...  carevue  6.0646   \n",
       "2    ct abdomen contrast ct pelvis contrast clip ...  carevue  6.0646   \n",
       "3                                                     carevue  1.6785   \n",
       "4    chest portable ap clip clip number radiology...  carevue  1.6785   \n",
       "\n",
       "   DAYS_EVENT_TO_ICU  ICU_URGENCY  \n",
       "0           0.001516    immediate  \n",
       "1           0.056377    immediate  \n",
       "2           0.037627    immediate  \n",
       "3           0.001053    immediate  \n",
       "4           0.339942    immediate  \n",
       "\n",
       "[5 rows x 21 columns]"
      ]
     },
     "execution_count": 33,
     "metadata": {},
     "output_type": "execute_result"
    }
   ],
   "source": [
    "df_all.head()"
   ]
  },
  {
   "cell_type": "code",
   "execution_count": 34,
   "metadata": {},
   "outputs": [],
   "source": [
    "# categorical outcome variables for the time from hospital event to icu stay\n",
    "# admits <24 hrs\n",
    "df_all['SAMEDAY_EVENT_TO_ICU'] = df_all['DAYS_EVENT_TO_ICU'].apply(lambda x: int(x<=1))"
   ]
  },
  {
   "cell_type": "code",
   "execution_count": 35,
   "metadata": {},
   "outputs": [],
   "source": [
    "import numpy as np\n",
    "\n",
    "# create 4-category urgency bins\n",
    "def get_time_bin_cats(val,edges=np.array([1/24, 1, 5, 300]),labels=['immediate','urgent','questionable','stable']):\n",
    "    time_bin = np.where(val<=edges)[0][0]\n",
    "    \n",
    "    return labels[time_bin]\n",
    "\n",
    "# admit times in urgency bins\n",
    "df_all['ICU_URGENCY'] = df_all['DAYS_EVENT_TO_ICU'].apply(get_time_bin_cats)"
   ]
  },
  {
   "cell_type": "code",
   "execution_count": 39,
   "metadata": {},
   "outputs": [
    {
     "data": {
      "text/plain": [
       "(108178, 22)"
      ]
     },
     "execution_count": 39,
     "metadata": {},
     "output_type": "execute_result"
    }
   ],
   "source": [
    "df_all.shape"
   ]
  },
  {
   "cell_type": "code",
   "execution_count": 41,
   "metadata": {},
   "outputs": [],
   "source": [
    "from sklearn.impute import SimpleImputer\n",
    "simp = SimpleImputer(strategy='median')\n",
    "df_all[['LOS']] = simp.fit(df_all[['LOS']]).transform(df_all[['LOS']])"
   ]
  },
  {
   "cell_type": "code",
   "execution_count": 42,
   "metadata": {},
   "outputs": [],
   "source": [
    "from sklearn.model_selection import train_test_split\n",
    "\n",
    "X_train, X_test, y_train, y_test = train_test_split(\n",
    "                                    df_all,\n",
    "                                    df_all['ICU_URGENCY'],\n",
    "                                    random_state=4, test_size=0.2,\n",
    "                                    stratify=df_all['ICU_URGENCY'])"
   ]
  },
  {
   "cell_type": "code",
   "execution_count": 43,
   "metadata": {},
   "outputs": [],
   "source": [
    "df_all.to_pickle('./data/pickle/preproc/df_patient_admit_icu_notes__20210206_singleICUSTAY_final.pkl')"
   ]
  },
  {
   "cell_type": "code",
   "execution_count": 44,
   "metadata": {},
   "outputs": [],
   "source": [
    "import pickle\n",
    "\n",
    "file = './data/pickle/preproc/df_patient_admit_icu_notes__20210206_singleICUSTAY_TRAIN_final.pkl'\n",
    "pickle.dump((X_train,y_train),open(file,'wb'))\n",
    "\n",
    "file = './data/pickle/preproc/df_patient_admit_icu_notes__20210206_singleICUSTAY_TEST_final.pkl'\n",
    "pickle.dump((X_test,y_test),open(file,'wb'))"
   ]
  },
  {
   "cell_type": "code",
   "execution_count": null,
   "metadata": {},
   "outputs": [],
   "source": []
  }
 ],
 "metadata": {
  "kernelspec": {
   "display_name": "base",
   "language": "python",
   "name": "base"
  },
  "language_info": {
   "codemirror_mode": {
    "name": "ipython",
    "version": 3
   },
   "file_extension": ".py",
   "mimetype": "text/x-python",
   "name": "python",
   "nbconvert_exporter": "python",
   "pygments_lexer": "ipython3",
   "version": "3.8.3"
  }
 },
 "nbformat": 4,
 "nbformat_minor": 4
}
