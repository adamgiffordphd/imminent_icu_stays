{
 "cells": [
  {
   "cell_type": "code",
   "execution_count": 13,
   "metadata": {},
   "outputs": [],
   "source": [
    "import numpy as np\n",
    "import pandas as pd"
   ]
  },
  {
   "cell_type": "code",
   "execution_count": 15,
   "metadata": {},
   "outputs": [
    {
     "data": {
      "text/plain": [
       "(60970, 25)"
      ]
     },
     "execution_count": 15,
     "metadata": {},
     "output_type": "execute_result"
    }
   ],
   "source": [
    "df_all.shape"
   ]
  },
  {
   "cell_type": "code",
   "execution_count": 16,
   "metadata": {},
   "outputs": [
    {
     "data": {
      "text/html": [
       "<div>\n",
       "<style scoped>\n",
       "    .dataframe tbody tr th:only-of-type {\n",
       "        vertical-align: middle;\n",
       "    }\n",
       "\n",
       "    .dataframe tbody tr th {\n",
       "        vertical-align: top;\n",
       "    }\n",
       "\n",
       "    .dataframe thead th {\n",
       "        text-align: right;\n",
       "    }\n",
       "</style>\n",
       "<table border=\"1\" class=\"dataframe\">\n",
       "  <thead>\n",
       "    <tr style=\"text-align: right;\">\n",
       "      <th></th>\n",
       "      <th>SUBJECT_ID</th>\n",
       "      <th>GENDER</th>\n",
       "      <th>HADM_ID</th>\n",
       "      <th>ADMITTIME</th>\n",
       "      <th>DISCHTIME</th>\n",
       "      <th>ADMISSION_TYPE</th>\n",
       "      <th>ADMISSION_LOCATION</th>\n",
       "      <th>INSURANCE</th>\n",
       "      <th>LANGUAGE</th>\n",
       "      <th>RELIGION</th>\n",
       "      <th>...</th>\n",
       "      <th>HOSPITAL_DAYS</th>\n",
       "      <th>ADMIT_AGE</th>\n",
       "      <th>ICUSTAY_ID</th>\n",
       "      <th>DBSOURCE</th>\n",
       "      <th>INTIME</th>\n",
       "      <th>LOS</th>\n",
       "      <th>DAYS_ADM_TO_ICU</th>\n",
       "      <th>SAMEDAY_ADM_TO_ICU</th>\n",
       "      <th>ADM_TO_ICU_100p</th>\n",
       "      <th>ADM_TO_ICU_90m</th>\n",
       "    </tr>\n",
       "  </thead>\n",
       "  <tbody>\n",
       "    <tr>\n",
       "      <th>0</th>\n",
       "      <td>249</td>\n",
       "      <td>F</td>\n",
       "      <td>116935.0</td>\n",
       "      <td>2149-12-17 20:41:00</td>\n",
       "      <td>2149-12-31 14:55:00</td>\n",
       "      <td>EMERGENCY</td>\n",
       "      <td>EMERGENCY ROOM ADMIT</td>\n",
       "      <td>Medicare</td>\n",
       "      <td>***</td>\n",
       "      <td>CATHOLIC</td>\n",
       "      <td>...</td>\n",
       "      <td>13.759722</td>\n",
       "      <td>74.0</td>\n",
       "      <td>215044.0</td>\n",
       "      <td>carevue</td>\n",
       "      <td>2149-12-18 20:06:02</td>\n",
       "      <td>5.7262</td>\n",
       "      <td>0.975718</td>\n",
       "      <td>1</td>\n",
       "      <td>76</td>\n",
       "      <td>15</td>\n",
       "    </tr>\n",
       "    <tr>\n",
       "      <th>1</th>\n",
       "      <td>249</td>\n",
       "      <td>F</td>\n",
       "      <td>149546.0</td>\n",
       "      <td>2155-02-03 20:16:00</td>\n",
       "      <td>2155-02-14 11:15:00</td>\n",
       "      <td>EMERGENCY</td>\n",
       "      <td>EMERGENCY ROOM ADMIT</td>\n",
       "      <td>Medicare</td>\n",
       "      <td>ENGL</td>\n",
       "      <td>CATHOLIC</td>\n",
       "      <td>...</td>\n",
       "      <td>10.624306</td>\n",
       "      <td>80.0</td>\n",
       "      <td>269035.0</td>\n",
       "      <td>metavision</td>\n",
       "      <td>2155-02-03 20:17:29</td>\n",
       "      <td>1.9282</td>\n",
       "      <td>0.001030</td>\n",
       "      <td>1</td>\n",
       "      <td>26</td>\n",
       "      <td>0</td>\n",
       "    </tr>\n",
       "    <tr>\n",
       "      <th>2</th>\n",
       "      <td>249</td>\n",
       "      <td>F</td>\n",
       "      <td>149546.0</td>\n",
       "      <td>2155-02-03 20:16:00</td>\n",
       "      <td>2155-02-14 11:15:00</td>\n",
       "      <td>EMERGENCY</td>\n",
       "      <td>EMERGENCY ROOM ADMIT</td>\n",
       "      <td>Medicare</td>\n",
       "      <td>ENGL</td>\n",
       "      <td>CATHOLIC</td>\n",
       "      <td>...</td>\n",
       "      <td>10.624306</td>\n",
       "      <td>80.0</td>\n",
       "      <td>263055.0</td>\n",
       "      <td>metavision</td>\n",
       "      <td>2155-02-07 18:51:16</td>\n",
       "      <td>3.8815</td>\n",
       "      <td>3.941157</td>\n",
       "      <td>0</td>\n",
       "      <td>88</td>\n",
       "      <td>62</td>\n",
       "    </tr>\n",
       "    <tr>\n",
       "      <th>3</th>\n",
       "      <td>249</td>\n",
       "      <td>F</td>\n",
       "      <td>158975.0</td>\n",
       "      <td>2156-04-27 15:33:00</td>\n",
       "      <td>2156-05-14 15:30:00</td>\n",
       "      <td>EMERGENCY</td>\n",
       "      <td>PHYS REFERRAL/NORMAL DELI</td>\n",
       "      <td>Medicare</td>\n",
       "      <td>ENGL</td>\n",
       "      <td>CATHOLIC</td>\n",
       "      <td>...</td>\n",
       "      <td>16.997917</td>\n",
       "      <td>81.0</td>\n",
       "      <td>282599.0</td>\n",
       "      <td>metavision</td>\n",
       "      <td>2156-05-01 18:10:12</td>\n",
       "      <td>2.0233</td>\n",
       "      <td>4.109167</td>\n",
       "      <td>0</td>\n",
       "      <td>88</td>\n",
       "      <td>65</td>\n",
       "    </tr>\n",
       "    <tr>\n",
       "      <th>4</th>\n",
       "      <td>249</td>\n",
       "      <td>F</td>\n",
       "      <td>158975.0</td>\n",
       "      <td>2156-04-27 15:33:00</td>\n",
       "      <td>2156-05-14 15:30:00</td>\n",
       "      <td>EMERGENCY</td>\n",
       "      <td>PHYS REFERRAL/NORMAL DELI</td>\n",
       "      <td>Medicare</td>\n",
       "      <td>ENGL</td>\n",
       "      <td>CATHOLIC</td>\n",
       "      <td>...</td>\n",
       "      <td>16.997917</td>\n",
       "      <td>81.0</td>\n",
       "      <td>263882.0</td>\n",
       "      <td>metavision</td>\n",
       "      <td>2156-05-10 17:47:35</td>\n",
       "      <td>1.0614</td>\n",
       "      <td>13.093461</td>\n",
       "      <td>0</td>\n",
       "      <td>96</td>\n",
       "      <td>208</td>\n",
       "    </tr>\n",
       "  </tbody>\n",
       "</table>\n",
       "<p>5 rows × 25 columns</p>\n",
       "</div>"
      ],
      "text/plain": [
       "   SUBJECT_ID GENDER   HADM_ID           ADMITTIME           DISCHTIME  \\\n",
       "0         249      F  116935.0 2149-12-17 20:41:00 2149-12-31 14:55:00   \n",
       "1         249      F  149546.0 2155-02-03 20:16:00 2155-02-14 11:15:00   \n",
       "2         249      F  149546.0 2155-02-03 20:16:00 2155-02-14 11:15:00   \n",
       "3         249      F  158975.0 2156-04-27 15:33:00 2156-05-14 15:30:00   \n",
       "4         249      F  158975.0 2156-04-27 15:33:00 2156-05-14 15:30:00   \n",
       "\n",
       "  ADMISSION_TYPE         ADMISSION_LOCATION INSURANCE LANGUAGE  RELIGION  ...  \\\n",
       "0      EMERGENCY       EMERGENCY ROOM ADMIT  Medicare      ***  CATHOLIC  ...   \n",
       "1      EMERGENCY       EMERGENCY ROOM ADMIT  Medicare     ENGL  CATHOLIC  ...   \n",
       "2      EMERGENCY       EMERGENCY ROOM ADMIT  Medicare     ENGL  CATHOLIC  ...   \n",
       "3      EMERGENCY  PHYS REFERRAL/NORMAL DELI  Medicare     ENGL  CATHOLIC  ...   \n",
       "4      EMERGENCY  PHYS REFERRAL/NORMAL DELI  Medicare     ENGL  CATHOLIC  ...   \n",
       "\n",
       "  HOSPITAL_DAYS ADMIT_AGE ICUSTAY_ID    DBSOURCE              INTIME     LOS  \\\n",
       "0     13.759722      74.0   215044.0     carevue 2149-12-18 20:06:02  5.7262   \n",
       "1     10.624306      80.0   269035.0  metavision 2155-02-03 20:17:29  1.9282   \n",
       "2     10.624306      80.0   263055.0  metavision 2155-02-07 18:51:16  3.8815   \n",
       "3     16.997917      81.0   282599.0  metavision 2156-05-01 18:10:12  2.0233   \n",
       "4     16.997917      81.0   263882.0  metavision 2156-05-10 17:47:35  1.0614   \n",
       "\n",
       "   DAYS_ADM_TO_ICU  SAMEDAY_ADM_TO_ICU ADM_TO_ICU_100p ADM_TO_ICU_90m  \n",
       "0         0.975718                   1              76             15  \n",
       "1         0.001030                   1              26              0  \n",
       "2         3.941157                   0              88             62  \n",
       "3         4.109167                   0              88             65  \n",
       "4        13.093461                   0              96            208  \n",
       "\n",
       "[5 rows x 25 columns]"
      ]
     },
     "execution_count": 16,
     "metadata": {},
     "output_type": "execute_result"
    }
   ],
   "source": [
    "df_all.head()"
   ]
  },
  {
   "cell_type": "code",
   "execution_count": 17,
   "metadata": {},
   "outputs": [
    {
     "data": {
      "text/plain": [
       "60970"
      ]
     },
     "execution_count": 17,
     "metadata": {},
     "output_type": "execute_result"
    }
   ],
   "source": [
    "df_all['ICUSTAY_ID'].nunique()"
   ]
  },
  {
   "cell_type": "code",
   "execution_count": 19,
   "metadata": {},
   "outputs": [
    {
     "data": {
      "text/plain": [
       "0.12883385271444972"
      ]
     },
     "execution_count": 19,
     "metadata": {},
     "output_type": "execute_result"
    }
   ],
   "source": [
    "len(df_all[df_all['ADMISSION_TYPE']=='NEWBORN'])/len(df_all)"
   ]
  },
  {
   "cell_type": "code",
   "execution_count": 20,
   "metadata": {},
   "outputs": [
    {
     "data": {
      "text/plain": [
       "array(['EMERGENCY', 'ELECTIVE', 'NEWBORN', 'URGENT'], dtype=object)"
      ]
     },
     "execution_count": 20,
     "metadata": {},
     "output_type": "execute_result"
    }
   ],
   "source": [
    "df_all['ADMIT_AGE'].unique()"
   ]
  },
  {
   "cell_type": "code",
   "execution_count": null,
   "metadata": {},
   "outputs": [],
   "source": [
    "from sklearn.model_selection import train_test_split\n",
    "df_trainval, df_test = train_test_split(df_all, test_size=0.15,random_state=4)"
   ]
  },
  {
   "cell_type": "markdown",
   "metadata": {},
   "source": [
    "# Pipeline <br>\n",
    "1. Load in df_all\n",
    "2. Remove 'NEWBORN' category\n",
    "3. Impute ages = nan\n",
    "4. "
   ]
  },
  {
   "cell_type": "code",
   "execution_count": null,
   "metadata": {},
   "outputs": [],
   "source": []
  }
 ],
 "metadata": {
  "kernelspec": {
   "display_name": "Python 3",
   "language": "python",
   "name": "python3"
  },
  "language_info": {
   "codemirror_mode": {
    "name": "ipython",
    "version": 3
   },
   "file_extension": ".py",
   "mimetype": "text/x-python",
   "name": "python",
   "nbconvert_exporter": "python",
   "pygments_lexer": "ipython3",
   "version": "3.8.3"
  }
 },
 "nbformat": 4,
 "nbformat_minor": 4
}
