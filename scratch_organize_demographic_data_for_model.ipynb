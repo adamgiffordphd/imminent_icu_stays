{
 "cells": [
  {
   "cell_type": "code",
   "execution_count": 1,
   "metadata": {},
   "outputs": [],
   "source": [
    "import pandas as pd\n",
    "import numpy as np"
   ]
  },
  {
   "cell_type": "code",
   "execution_count": 2,
   "metadata": {},
   "outputs": [],
   "source": [
    "#1. Load patients\n",
    "# import patient info\n",
    "data_dir = 'data/physionet.org/files/mimiciii/1.4/'\n",
    "patient_file = 'PATIENTS.csv'\n",
    "df_patients = pd.read_csv(data_dir + patient_file)"
   ]
  },
  {
   "cell_type": "code",
   "execution_count": 3,
   "metadata": {},
   "outputs": [],
   "source": [
    "df_patients=df_patients.drop(['ROW_ID','DOD','DOD_HOSP','DOD_SSN','EXPIRE_FLAG'],axis=1)"
   ]
  },
  {
   "cell_type": "code",
   "execution_count": 4,
   "metadata": {},
   "outputs": [],
   "source": [
    "# convert date strings to datetime\n",
    "df_patients.DOB = pd.to_datetime(df_patients.DOB,format = '%Y-%m-%d %H:%M:%S', errors = 'coerce')"
   ]
  },
  {
   "cell_type": "code",
   "execution_count": 5,
   "metadata": {},
   "outputs": [],
   "source": [
    "# import admissions info\n",
    "admissions_file = 'ADMISSIONS.csv'\n",
    "df_admissions = pd.read_csv(data_dir + admissions_file)"
   ]
  },
  {
   "cell_type": "code",
   "execution_count": 6,
   "metadata": {},
   "outputs": [],
   "source": [
    "# removing data columns that won't be used for predicting ICU stays\n",
    "df_admissions = df_admissions.drop(['ROW_ID','DEATHTIME',\n",
    "                                    'DISCHARGE_LOCATION','EDREGTIME','EDOUTTIME'],axis=1)"
   ]
  },
  {
   "cell_type": "code",
   "execution_count": 7,
   "metadata": {},
   "outputs": [],
   "source": [
    "# convert time strings to datetime\n",
    "df_admissions.ADMITTIME = pd.to_datetime(df_admissions.ADMITTIME,format = '%Y-%m-%d %H:%M:%S', \n",
    "                                         errors = 'coerce')\n",
    "df_admissions.DISCHTIME = pd.to_datetime(df_admissions.DISCHTIME,format = '%Y-%m-%d %H:%M:%S', \n",
    "                                         errors = 'coerce')"
   ]
  },
  {
   "cell_type": "code",
   "execution_count": 8,
   "metadata": {},
   "outputs": [],
   "source": [
    "# combining ethnicities into uber-categories for simplicity\n",
    "ethnicites_dict = {\n",
    "    'WHITE': ['WHITE', 'WHITE - RUSSIAN', 'WHITE - OTHER EUROPEAN', 'WHITE - EASTERN EUROPEAN', \n",
    "              'WHITE - BRAZILIAN', 'PORTUGUESE'],\n",
    "'BLACK': ['BLACK/AFRICAN AMERICAN', 'BLACK/AFRICAN', 'BLACK/HAITIAN', 'BLACK/CAPE VERDEAN'],\n",
    "'UNKNOWN': ['UNKNOWN/NOT SPECIFIED','PATIENT DECLINED TO ANSWER', 'UNABLE TO OBTAIN'],\n",
    "'ASIAN': ['ASIAN', 'ASIAN - CHINESE', 'ASIAN - VIETNAMESE', 'ASIAN - CAMBODIAN', 'ASIAN - FILIPINO', \n",
    "          'ASIAN - KOREAN', 'ASIAN - THAI', 'ASIAN - JAPANESE', 'ASIAN - OTHER'],\n",
    "'INDIAN': ['ASIAN - ASIAN INDIAN'],\n",
    "'OTHER': ['OTHER','SOUTH AMERICAN', 'CARIBBEAN ISLAND'],\n",
    "'HISPANIC/LATINO': ['HISPANIC OR LATINO', 'HISPANIC/LATINO - GUATEMALAN', 'HISPANIC/LATINO - PUERTO RICAN', \n",
    "                    'HISPANIC/LATINO - DOMINICAN', 'HISPANIC/LATINO - SALVADORAN', 'HISPANIC/LATINO - COLOMBIAN', \n",
    "                    'HISPANIC/LATINO - CENTRAL AMERICAN (OTHER)', 'HISPANIC/LATINO - HONDURAN', \n",
    "                    'HISPANIC/LATINO - CUBAN', 'HISPANIC/LATINO - MEXICAN'],\n",
    "'MULTIRACE': ['MULTI RACE ETHNICITY'],\n",
    "'MIDDLE EASTERN': ['MIDDLE EASTERN'],\n",
    "'AMERICAN NATIVE': ['AMERICAN INDIAN/ALASKA NATIVE', 'AMERICAN INDIAN/ALASKA NATIVE FEDERALLY RECOGNIZED TRIBE', \n",
    "                    'NATIVE HAWAIIAN OR OTHER PACIFIC ISLANDER']\n",
    "}\n",
    "\n",
    "def replace_ethval_todictval(x,ethnicites_dict):\n",
    "    for key,val in ethnicites_dict.items():\n",
    "        if x in val:\n",
    "            return key"
   ]
  },
  {
   "cell_type": "code",
   "execution_count": 9,
   "metadata": {},
   "outputs": [],
   "source": [
    "# replace each ETHNICITY entry in df by its associated simple-form ethnicity (i.e., associated key in ethnicites_dict)\n",
    "df_admissions['ETHNICITY'] = df_admissions['ETHNICITY'].apply(replace_ethval_todictval,args=(ethnicites_dict,))"
   ]
  },
  {
   "cell_type": "code",
   "execution_count": 10,
   "metadata": {},
   "outputs": [],
   "source": [
    "# now fixing religions\n",
    "# first, fill nans\n",
    "values = {'RELIGION': 'NOT SPECIFIED', 'LANGUAGE': '***','MARITAL_STATUS': 'UNKNOWN (DEFAULT)', 'ETHNICITY': 'UNKNOWN',\n",
    "          'INSURANCE': 'Not Specified', 'ADMISSION_LOCATION': '** INFO NOT AVAILABLE **', 'ADMISSION_TYPE': 'UNKNOWN'}\n",
    "df_admissions = df_admissions.fillna(value=values)\n",
    "\n",
    "# next, replace redundant fields\n",
    "df_admissions['RELIGION'] = df_admissions['RELIGION'].str.replace('UNOBTAINABLE','NOT SPECIFIED')"
   ]
  },
  {
   "cell_type": "code",
   "execution_count": 11,
   "metadata": {},
   "outputs": [],
   "source": [
    "# calculate length of hospital stay\n",
    "df_admissions['HOSPITAL_DAYS'] = (df_admissions['DISCHTIME'] - \n",
    "                                  df_admissions['ADMITTIME']).dt.total_seconds()/(24*60*60)\n",
    "# negative admit days = dead on arrival, remove\n",
    "doa_idx = df_admissions[df_admissions['HOSPITAL_DAYS']<0].index\n",
    "df_admissions = df_admissions.drop(doa_idx,axis=0)"
   ]
  },
  {
   "cell_type": "code",
   "execution_count": 12,
   "metadata": {},
   "outputs": [],
   "source": [
    "# merge patient and admissions df\n",
    "df_patient_admit = df_patients.merge(df_admissions,how='left',left_on=['SUBJECT_ID'],right_on=['SUBJECT_ID'])"
   ]
  },
  {
   "cell_type": "code",
   "execution_count": 13,
   "metadata": {},
   "outputs": [],
   "source": [
    "# calculate age at admit\n",
    "df_patient_admit['ADMIT_AGE'] = df_patient_admit['ADMITTIME'].dt.year - df_patient_admit['DOB'].dt.year\n",
    "# no longer need DOB, remove\n",
    "df_patient_admit=df_patient_admit.drop(['DOB'],axis=1)"
   ]
  },
  {
   "cell_type": "code",
   "execution_count": 14,
   "metadata": {},
   "outputs": [],
   "source": [
    "# 2. Remove patients <age\n",
    "\n",
    "# # # # # # # # # # # # # # # # # # # # # # # # # # # # # # # # # # # # # # # # # # # # # # # # # # # \n",
    "# not removing any patient at this point (for saving purposes), can load \n",
    "# in and make modifications later as desired\n",
    "# # # # # # # # # # # # # # # # # # # # # # # # # # # # # # # # # # # # # # # # # # # # # # # # # # # \n",
    "\n",
    "age = -1\n",
    "child_idx = df_patient_admit[df_patient_admit['ADMIT_AGE']<age].index\n",
    "child_patients = df_patient_admit.iloc[child_idx]['SUBJECT_ID'].unique()\n",
    "df_patient_admit = df_patient_admit.drop(child_idx, axis=0)\n",
    "\n",
    "# convert ages >200 to nan because these ages are obscured (purposefully to prevent \n",
    "# PHI from being released)\n",
    "df_patient_admit.loc[df_patient_admit['ADMIT_AGE']>200,'ADMIT_AGE'] = np.nan"
   ]
  },
  {
   "cell_type": "code",
   "execution_count": 15,
   "metadata": {},
   "outputs": [],
   "source": [
    "# 3. Load icustays\n",
    "# import icu stays info\n",
    "icustays_file = 'ICUSTAYS.csv'\n",
    "df_icustays = pd.read_csv(data_dir + icustays_file)\n",
    "\n",
    "child_idx = df_icustays[df_icustays['SUBJECT_ID'].isin(child_patients)].index\n",
    "df_icustays = df_icustays.drop(child_idx,axis=0)\n",
    "\n",
    "# first & last care units/ward ids and out times are for ICU stays themselves and therefore \n",
    "# will not be helpful in predicting ICU stays\n",
    "# we'll keep ICUSTAY length-of-stay (LOS) in case we want to use that as an outcome variable\n",
    "df_icustays = df_icustays.drop(['ROW_ID','FIRST_CAREUNIT','LAST_CAREUNIT','FIRST_WARDID',\n",
    "                                'LAST_WARDID','OUTTIME'],axis=1)\n",
    "\n",
    "# convert time strings to datetime\n",
    "df_icustays.INTIME = pd.to_datetime(df_icustays.INTIME,format = '%Y-%m-%d %H:%M:%S', errors = 'coerce')"
   ]
  },
  {
   "cell_type": "code",
   "execution_count": 16,
   "metadata": {},
   "outputs": [],
   "source": [
    "# join patients, admissions, and icustays\n",
    "df_patient_admit_icu = df_patient_admit.merge(df_icustays,how='left',left_on=['SUBJECT_ID','HADM_ID'],\n",
    "                                              right_on=['SUBJECT_ID','HADM_ID'])"
   ]
  },
  {
   "cell_type": "code",
   "execution_count": 17,
   "metadata": {},
   "outputs": [],
   "source": [
    "# calculate days from hospital admission to icu admission\n",
    "df_patient_admit_icu['DAYS_ADM_TO_ICU'] = (df_patient_admit_icu['INTIME'] - \n",
    "                                           df_patient_admit_icu['ADMITTIME']).dt.total_seconds()/(24*60*60)"
   ]
  },
  {
   "cell_type": "code",
   "execution_count": 18,
   "metadata": {},
   "outputs": [],
   "source": [
    "# remove any patients whose icu intime was before admittime\n",
    "icu_first_idx = df_patient_admit_icu[df_patient_admit_icu['DAYS_ADM_TO_ICU']<0].index\n",
    "df_patient_admit_icu = df_patient_admit_icu.drop(icu_first_idx,axis=0)"
   ]
  },
  {
   "cell_type": "code",
   "execution_count": 19,
   "metadata": {},
   "outputs": [],
   "source": [
    "# not dropping now in case we want to simulate capacity\n",
    "# # drop time columns no longer needed\n",
    "# df_patient_admit_icu = df_patient_admit_icu.drop(['DISCHTIME','INTIME'],axis=1)"
   ]
  },
  {
   "cell_type": "code",
   "execution_count": 20,
   "metadata": {},
   "outputs": [],
   "source": [
    "# drop rows with nan for DAYS_ADM_TO_ICU\n",
    "df_patient_admit_icu = df_patient_admit_icu.dropna(axis=0, subset=['DAYS_ADM_TO_ICU'])"
   ]
  },
  {
   "cell_type": "code",
   "execution_count": 21,
   "metadata": {},
   "outputs": [],
   "source": [
    "adm_to_ic_100p = np.percentile(df_patient_admit_icu['DAYS_ADM_TO_ICU'],range(1,101))"
   ]
  },
  {
   "cell_type": "code",
   "execution_count": 22,
   "metadata": {},
   "outputs": [],
   "source": [
    "def get_time_bins(val,edges):\n",
    "    time_bin = np.where(val<=edges)[0][0]\n",
    "    return time_bin"
   ]
  },
  {
   "cell_type": "code",
   "execution_count": 23,
   "metadata": {},
   "outputs": [],
   "source": [
    "# categorical outcome variables for the time from hospital admit to icu stay\n",
    "# admits <24 hrs\n",
    "df_patient_admit_icu['SAMEDAY_ADM_TO_ICU'] = df_patient_admit_icu['DAYS_ADM_TO_ICU'].apply(lambda x: int(x<=1))\n",
    "\n",
    "# admits in percentiles\n",
    "df_patient_admit_icu['ADM_TO_ICU_100p'] = df_patient_admit_icu['DAYS_ADM_TO_ICU'].apply(get_time_bins, \n",
    "                                                                                           args=(adm_to_ic_100p,))\n",
    "\n",
    "# # # # # # # # # # # # # # # # # # # # # # # # # # # # # # # # # # # # # # # # # # # # # # # # # # # # \n",
    "# # not doing now, since can do this with np.array([1,3,5,7,9]) as bins on 'ADM_TO_ICU_10'\n",
    "# # admits in 5-bin quantiles\n",
    "# df_patient_admit_icu['ADM_TO_ICU_5'] = df_patient_admit_icu['ADM_TO_ICU_10'].apply(get_time_bins, \n",
    "#                                                                                    args=(np.array([1,3,5,7,9]),))\n",
    "# # # # # # # # # # # # # # # # # # # # # # # # # # # # # # # # # # # # # # # # # # # # # # # # # # # # "
   ]
  },
  {
   "cell_type": "code",
   "execution_count": 24,
   "metadata": {},
   "outputs": [],
   "source": [
    "# admits in ~1.5-hour time bins (3200)\n",
    "adm_to_ic_90m = np.linspace(df_patient_admit_icu['DAYS_ADM_TO_ICU'].min(),df_patient_admit_icu['DAYS_ADM_TO_ICU'].max(),3201)\n",
    "adm_to_ic_90m = adm_to_ic_90m[1:]\n",
    "df_patient_admit_icu['ADM_TO_ICU_90m'] = df_patient_admit_icu['DAYS_ADM_TO_ICU'].apply(get_time_bins, \n",
    "                                                                                           args=(adm_to_ic_90m,))"
   ]
  },
  {
   "cell_type": "code",
   "execution_count": 50,
   "metadata": {},
   "outputs": [],
   "source": [
    "df_patient_admit_icu.to_pickle('./data/pickle/preproc/df_patient_admit_icu__20210119.pkl')"
   ]
  },
  {
   "cell_type": "code",
   "execution_count": 32,
   "metadata": {},
   "outputs": [
    {
     "data": {
      "text/plain": [
       "Index(['SUBJECT_ID', 'GENDER', 'EXPIRE_FLAG', 'HADM_ID', 'ADMITTIME',\n",
       "       'DISCHTIME', 'ADMISSION_TYPE', 'ADMISSION_LOCATION', 'INSURANCE',\n",
       "       'LANGUAGE', 'RELIGION', 'MARITAL_STATUS', 'ETHNICITY', 'DIAGNOSIS',\n",
       "       'HOSPITAL_EXPIRE_FLAG', 'HAS_CHARTEVENTS_DATA', 'HOSPITAL_DAYS',\n",
       "       'ADMIT_AGE', 'ICUSTAY_ID', 'DBSOURCE', 'INTIME', 'LOS',\n",
       "       'DAYS_ADM_TO_ICU', 'SAMEDAY_ADM_TO_ICU', 'ADM_TO_ICU_100p',\n",
       "       'ADM_TO_ICU_90m'],\n",
       "      dtype='object')"
      ]
     },
     "execution_count": 32,
     "metadata": {},
     "output_type": "execute_result"
    }
   ],
   "source": [
    "df_patient_admit_icu.shape"
   ]
  },
  {
   "cell_type": "code",
   "execution_count": 1,
   "metadata": {},
   "outputs": [
    {
     "name": "stdout",
     "output_type": "stream",
     "text": [
      "12.682926829268293\n",
      "5.009487666034155\n",
      "0.8805485384337783\n",
      "1.3472222222222223\n",
      "1.8725099601593627\n",
      "2.409112185988454\n",
      "2.9642647920328065\n",
      "3.514919244456611\n",
      "4.0489546149923505\n",
      "4.557621698448419\n",
      "4.994008061880379\n"
     ]
    }
   ],
   "source": [
    "print(104/8.2)\n",
    "print(264/52.7)\n",
    "print(488/554.2)\n",
    "print(776/576.0)\n",
    "print(1128/602.4)\n",
    "print(1544/640.9)\n",
    "print(2024/682.8)\n",
    "print(2568/730.6)\n",
    "print(3176/784.4)\n",
    "print(3848/844.3)\n",
    "print(4584/917.9)"
   ]
  },
  {
   "cell_type": "code",
   "execution_count": null,
   "metadata": {},
   "outputs": [],
   "source": []
  }
 ],
 "metadata": {
  "kernelspec": {
   "display_name": "base",
   "language": "python",
   "name": "base"
  },
  "language_info": {
   "codemirror_mode": {
    "name": "ipython",
    "version": 3
   },
   "file_extension": ".py",
   "mimetype": "text/x-python",
   "name": "python",
   "nbconvert_exporter": "python",
   "pygments_lexer": "ipython3",
   "version": "3.8.3"
  }
 },
 "nbformat": 4,
 "nbformat_minor": 4
}
