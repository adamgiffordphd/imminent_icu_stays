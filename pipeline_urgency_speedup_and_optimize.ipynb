{
 "cells": [
  {
   "cell_type": "markdown",
   "metadata": {},
   "source": [
    " # Urgency Score"
   ]
  },
  {
   "cell_type": "code",
   "execution_count": 3,
   "metadata": {},
   "outputs": [],
   "source": [
    "import pandas as pd\n",
    "import numpy as np\n",
    "import pickle"
   ]
  },
  {
   "cell_type": "code",
   "execution_count": 4,
   "metadata": {},
   "outputs": [],
   "source": [
    "X_train, y_train = pd.read_pickle('./data/pickle/preproc/df_patient_admit_icu_notes__20210206_singleICUSTAY_TRAIN_final.pkl')"
   ]
  },
  {
   "cell_type": "code",
   "execution_count": 5,
   "metadata": {},
   "outputs": [],
   "source": [
    "from sklearn.feature_extraction.text import TfidfTransformer, CountVectorizer\n",
    "from sklearn.pipeline import Pipeline, FeatureUnion\n",
    "from customTransformers import (ColumnSelectTransformer, DiagnosisFrameTransformer, \n",
    "                                EstimatorTransformer, LinearNonlinear, ColumnMergeTransformer\n",
    "                               )\n",
    "from sklearn.ensemble import RandomForestClassifier\n",
    "from sklearn.linear_model import LogisticRegression\n",
    "from sklearn.model_selection import GridSearchCV, StratifiedKFold\n",
    "from sklearn.preprocessing import StandardScaler, OneHotEncoder, OrdinalEncoder\n",
    "from sklearn.impute import SimpleImputer\n",
    "from sklearn.compose import ColumnTransformer\n",
    "from sklearn.ensemble import GradientBoostingClassifier\n",
    "from sklearn.metrics import precision_recall_curve\n",
    "from sklearn.metrics import plot_precision_recall_curve\n",
    "import matplotlib.pyplot as plt\n",
    "from sklearn.metrics import average_precision_score\n",
    "from sklearn.metrics import confusion_matrix, accuracy_score, f1_score\n",
    "from sklearn.metrics import plot_roc_curve, plot_confusion_matrix\n",
    "from sklearn.ensemble import GradientBoostingClassifier\n",
    "from sklearn.preprocessing import LabelEncoder\n",
    "from sklearn.metrics import plot_confusion_matrix\n",
    "from sklearn.linear_model import Ridge\n",
    "from sklearn.model_selection import KFold\n",
    "from sklearn.ensemble import RandomForestRegressor"
   ]
  },
  {
   "cell_type": "code",
   "execution_count": 6,
   "metadata": {},
   "outputs": [],
   "source": [
    "cols = ['GENDER','ADMISSION_TYPE','ADMISSION_LOCATION','INSURANCE','LANGUAGE',\n",
    "       'RELIGION','MARITAL_STATUS','ETHNICITY']\n",
    "num_cols = ['ADMIT_AGE']\n",
    "\n",
    "ohe = ColumnTransformer([('categorical', OneHotEncoder(handle_unknown='ignore'), cols)])\n",
    "demog_feats = FeatureUnion([\n",
    "    ('stdscl', ColumnTransformer([('numerical', StandardScaler(), num_cols)])),\n",
    "    ('ohe',  ohe)\n",
    "])"
   ]
  },
  {
   "cell_type": "code",
   "execution_count": 7,
   "metadata": {},
   "outputs": [],
   "source": [
    "X_train = DiagnosisFrameTransformer(['DIAGNOSIS']).fit_transform(X_train)"
   ]
  },
  {
   "cell_type": "code",
   "execution_count": 8,
   "metadata": {},
   "outputs": [],
   "source": [
    "text_feats = Pipeline([\n",
    "    ('dft', DiagnosisFrameTransformer(['DIAGNOSIS'])),\n",
    "    ('cmt', ColumnMergeTransformer(['DIAGNOSIS','TEXT'])),\n",
    "    ('cst', ColumnSelectTransformer('DIAGNOSIS_TEXT')),\n",
    "    ('count', CountVectorizer()),\n",
    "    ('tfid', TfidfTransformer())\n",
    "])\n",
    "\n",
    "feats_union = FeatureUnion([\n",
    "    ('demog_feats', demog_feats),\n",
    "    ('text_feats', text_feats)\n",
    "])\n",
    "\n",
    "lin_pipe = Pipeline([\n",
    "    ('features', feats_union),\n",
    "    ('reg', LogisticRegression(solver='saga'))\n",
    "])\n",
    "\n",
    "lin_params = {'features__text_feats__count__max_features': [11000],\n",
    "  'features__text_feats__count__min_df': [5e-05],\n",
    "  'features__text_feats__count__ngram_range': [(1, 2)],\n",
    "  'features__text_feats__tfid__norm': ['l2'],\n",
    "  'reg__C': [5],\n",
    "  'reg__class_weight': [None],\n",
    "  'reg__l1_ratio': [0.1],\n",
    "  'reg__multi_class': ['ovr'],\n",
    "  'reg__penalty': ['elasticnet']}\n",
    "\n",
    "# lin_params = {\n",
    "#     'features__text_feats__count__max_features': [10500, 11000, 12000],\n",
    "#     'features__text_feats__count__min_df': [0.00001, 0.00005],\n",
    "#     'features__text_feats__count__ngram_range': [(1,2)],\n",
    "#     'features__text_feats__tfid__norm': ['l2'],\n",
    "#     'reg__penalty': ['elasticnet'],\n",
    "#     'reg__C': [1, 3, 5],\n",
    "#     'reg__class_weight': [None],\n",
    "#     'reg__multi_class': ['ovr'],\n",
    "#     'reg__l1_ratio': [0, 0.1, 0.2]\n",
    "# }"
   ]
  },
  {
   "cell_type": "code",
   "execution_count": 9,
   "metadata": {},
   "outputs": [
    {
     "name": "stdout",
     "output_type": "stream",
     "text": [
      "Fitting 5 folds for each of 1 candidates, totalling 5 fits\n"
     ]
    },
    {
     "name": "stderr",
     "output_type": "stream",
     "text": [
      "[Parallel(n_jobs=14)]: Using backend LokyBackend with 14 concurrent workers.\n",
      "[Parallel(n_jobs=14)]: Done   2 out of   5 | elapsed: 29.7min remaining: 44.5min\n",
      "[Parallel(n_jobs=14)]: Done   5 out of   5 | elapsed: 30.0min finished\n",
      "/Users/adamgifford/anaconda3/lib/python3.8/site-packages/sklearn/utils/validation.py:72: DataConversionWarning: A column-vector y was passed when a 1d array was expected. Please change the shape of y to (n_samples, ), for example using ravel().\n",
      "  return f(**kwargs)\n",
      "/Users/adamgifford/anaconda3/lib/python3.8/site-packages/sklearn/linear_model/_sag.py:329: ConvergenceWarning: The max_iter was reached which means the coef_ did not converge\n",
      "  warnings.warn(\"The max_iter was reached which means \"\n",
      "/Users/adamgifford/anaconda3/lib/python3.8/site-packages/sklearn/linear_model/_sag.py:329: ConvergenceWarning: The max_iter was reached which means the coef_ did not converge\n",
      "  warnings.warn(\"The max_iter was reached which means \"\n",
      "/Users/adamgifford/anaconda3/lib/python3.8/site-packages/sklearn/linear_model/_sag.py:329: ConvergenceWarning: The max_iter was reached which means the coef_ did not converge\n",
      "  warnings.warn(\"The max_iter was reached which means \"\n",
      "/Users/adamgifford/anaconda3/lib/python3.8/site-packages/sklearn/linear_model/_sag.py:329: ConvergenceWarning: The max_iter was reached which means the coef_ did not converge\n",
      "  warnings.warn(\"The max_iter was reached which means \"\n"
     ]
    },
    {
     "data": {
      "text/plain": [
       "({'features__text_feats__count__max_features': 11000,\n",
       "  'features__text_feats__count__min_df': 5e-05,\n",
       "  'features__text_feats__count__ngram_range': (1, 2),\n",
       "  'features__text_feats__tfid__norm': 'l2',\n",
       "  'reg__C': 5,\n",
       "  'reg__class_weight': None,\n",
       "  'reg__l1_ratio': 0.1,\n",
       "  'reg__multi_class': 'ovr',\n",
       "  'reg__penalty': 'elasticnet'},\n",
       " 0.6453629946778363)"
      ]
     },
     "execution_count": 9,
     "metadata": {},
     "output_type": "execute_result"
    }
   ],
   "source": [
    "pd.set_option('mode.chained_assignment',None)\n",
    "ordenc = OrdinalEncoder(categories=[['stable','questionable','urgent','immediate']])\n",
    "y_train_enc = ordenc.fit_transform(pd.DataFrame(y_train)) \n",
    "lin_gs_classifier = GridSearchCV(lin_pipe, lin_params, cv=StratifiedKFold(n_splits=5, shuffle=True),verbose=3,n_jobs=14)\n",
    "lin_est = lin_gs_classifier.fit(X_train,y_train_enc)\n",
    "\n",
    "lin_est.best_params_,lin_est.best_score_"
   ]
  },
  {
   "cell_type": "code",
   "execution_count": 10,
   "metadata": {},
   "outputs": [],
   "source": [
    "# for diagnoses + text columns\n",
    "file = './data/pickle/models/log__URGENCY__20210216_withTEXT_diagnNoNumerics.pkl'\n",
    "\n",
    "ohe.fit(X_train)\n",
    "feats_union.fit(X_train)\n",
    "text_feats.fit(X_train)\n",
    "model_data = {\n",
    "    'numeric_cols': num_cols,\n",
    "    'categorical_cols': cols,\n",
    "    'diagnosis_col': ['DIAGNOSIS'],\n",
    "    'ohe_categoricals': ohe,\n",
    "    'feature_union': feats_union,\n",
    "    'text_vect': text_feats,\n",
    "    'ord_enc_y': ordenc,\n",
    "    'gridsearch': lin_gs_classifier,\n",
    "    'estimator': lin_est\n",
    "}\n",
    "pickle.dump(model_data,open(file,'wb'))"
   ]
  },
  {
   "cell_type": "raw",
   "metadata": {},
   "source": [
    "previous best (02/13/21):\n",
    "\n",
    "({'features__text_feats__count__max_features': 11000,\n",
    "  'features__text_feats__count__min_df': 5e-05,\n",
    "  'features__text_feats__count__ngram_range': (1, 2),\n",
    "  'features__text_feats__tfid__norm': 'l2',\n",
    "  'reg__C': 5,\n",
    "  'reg__class_weight': None,\n",
    "  'reg__l1_ratio': 0.1,\n",
    "  'reg__multi_class': 'ovr',\n",
    "  'reg__penalty': 'elasticnet'},\n",
    " 0.645559432292037)\n",
    " \n",
    " latest run (02/14/21):\n",
    "({'features__text_feats__count__max_features': 11000,\n",
    "  'features__text_feats__count__min_df': 5e-05,\n",
    "  'features__text_feats__count__ngram_range': (1, 2),\n",
    "  'features__text_feats__tfid__norm': 'l2',\n",
    "  'reg__C': 5,\n",
    "  'reg__class_weight': None,\n",
    "  'reg__l1_ratio': 0.1,\n",
    "  'reg__multi_class': 'ovr',\n",
    "  'reg__penalty': 'elasticnet'},\n",
    " 0.645559432292037)"
   ]
  }
 ],
 "metadata": {
  "kernelspec": {
   "display_name": "base",
   "language": "python",
   "name": "base"
  },
  "language_info": {
   "codemirror_mode": {
    "name": "ipython",
    "version": 3
   },
   "file_extension": ".py",
   "mimetype": "text/x-python",
   "name": "python",
   "nbconvert_exporter": "python",
   "pygments_lexer": "ipython3",
   "version": "3.8.3"
  }
 },
 "nbformat": 4,
 "nbformat_minor": 4
}
