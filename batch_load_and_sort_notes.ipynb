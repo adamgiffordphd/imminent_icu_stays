{
 "cells": [
  {
   "cell_type": "markdown",
   "metadata": {},
   "source": [
    "# THIS SHOULD BE TURNED INTO FUNCTION <br>\n",
    "## TO LOAD IN CHARTEVENTS, NOTEEVENTS, (labevents, inputevents_cv, inputevents_mv)"
   ]
  },
  {
   "cell_type": "code",
   "execution_count": 1,
   "metadata": {},
   "outputs": [],
   "source": [
    "import pandas as pd\n",
    "import numpy as np"
   ]
  },
  {
   "cell_type": "code",
   "execution_count": 2,
   "metadata": {},
   "outputs": [],
   "source": [
    "df_patient_admit_icu = pd.read_pickle('./data/pickle/preproc/df_patient_admit_icu__20210119.pkl')"
   ]
  },
  {
   "cell_type": "code",
   "execution_count": 3,
   "metadata": {},
   "outputs": [],
   "source": [
    "df_ids = df_patient_admit_icu[['SUBJECT_ID','HADM_ID','HAS_CHARTEVENTS_DATA','INTIME','DAYS_ADM_TO_ICU']]"
   ]
  },
  {
   "cell_type": "code",
   "execution_count": 4,
   "metadata": {},
   "outputs": [],
   "source": [
    "# import patient info\n",
    "data_dir = 'data/physionet.org/files/mimiciii/1.4/'\n",
    "notes_file = 'NOTEEVENTS.csv'"
   ]
  },
  {
   "cell_type": "code",
   "execution_count": 14,
   "metadata": {},
   "outputs": [
    {
     "name": "stdout",
     "output_type": "stream",
     "text": [
      "Iteration 0...\n",
      "34922\n"
     ]
    }
   ],
   "source": [
    "skiplist = []\n",
    "\n",
    "row_count = 200000\n",
    "skiprows = 100000\n",
    "nrows = 100000  # defualt\n",
    "\n",
    "colnames = np.array(['ROW_ID', 'SUBJECT_ID', 'HADM_ID', 'CHARTDATE',\n",
    "           'CHARTTIME', 'STORETIME', 'CATEGORY', 'DESCRIPTION',\n",
    "           'CGID', 'ISERROR','TEXT'\n",
    "          ])\n",
    "\n",
    "usecols = colnames[[0,1,2,4]]\n",
    "cnt=0\n",
    "\n",
    "while skiprows<row_count:\n",
    "    print('Iteration {}...'.format(cnt))\n",
    "    \n",
    "    if skiprows + nrows > row_count:\n",
    "        nrows = row_count - skiprows\n",
    "    else:\n",
    "        nrows = 100000\n",
    "            \n",
    "    df = pd.read_csv(data_dir + notes_file, sep=',', header=0, names=colnames,\n",
    "                     skiprows=skiprows, nrows=nrows, usecols=usecols)\n",
    "    # convert charttime to datetime\n",
    "    df.CHARTTIME = pd.to_datetime(df.CHARTTIME,format = '%Y-%m-%d %H:%M:%S', errors = 'coerce')\n",
    "    \n",
    "    # add to skiplist rows of df that don't have matching ['SUBJECT_ID', 'HADM_ID'] in df_ids\n",
    "    nomatch_df = pd.merge(df, df_ids, on=['SUBJECT_ID', 'HADM_ID'], how=\"outer\", indicator=True\n",
    "              ).query('_merge==\"left_only\"')\n",
    "    toskip = nomatch_df['ROW_ID'].to_list()\n",
    "#     toskip = list(pd.merge(df, df_ids, on=['SUBJECT_ID', 'HADM_ID'], how=\"outer\", indicator=True\n",
    "#               ).query('_merge==\"left_only\"').index)\n",
    "    if toskip:\n",
    "        skiplist.extend(toskip)\n",
    "    \n",
    "    # merge\n",
    "    df = df.merge(df_ids,how='inner',left_on=['SUBJECT_ID', 'HADM_ID'],right_on=['SUBJECT_ID', 'HADM_ID'])\n",
    "    \n",
    "    # calculate days from note event to icu admission\n",
    "    df['DAYS_NOTE_TO_ICU'] = (df['INTIME'] - df['CHARTTIME']).dt.total_seconds()/(24*60*60)\n",
    "    \n",
    "    # add to skiplist rows of df where df['DAYS_NOTE_TO_ICU']<0\n",
    "#     toskip = list(df[df['DAYS_NOTE_TO_ICU']<0].index)\n",
    "    toskip = df.ROW_ID[df['DAYS_NOTE_TO_ICU']<0].to_list()\n",
    "    if toskip:\n",
    "        skiplist.extend(toskip)\n",
    "    \n",
    "    print(len(skiplist))\n",
    "    # anything else?\n",
    "    skiprows += nrows\n",
    "    cnt += 1"
   ]
  },
  {
   "cell_type": "code",
   "execution_count": 17,
   "metadata": {},
   "outputs": [
    {
     "data": {
      "text/plain": [
       "1          99734.0\n",
       "5          99948.0\n",
       "6          99949.0\n",
       "7         100079.0\n",
       "8         100408.0\n",
       "            ...   \n",
       "109559    209006.0\n",
       "109568    209017.0\n",
       "109569    209018.0\n",
       "109587    209259.0\n",
       "109591    209263.0\n",
       "Name: ROW_ID, Length: 34922, dtype: float64"
      ]
     },
     "execution_count": 17,
     "metadata": {},
     "output_type": "execute_result"
    }
   ],
   "source": [
    "nomatch_df['ROW_ID']"
   ]
  },
  {
   "cell_type": "code",
   "execution_count": 19,
   "metadata": {},
   "outputs": [
    {
     "data": {
      "text/plain": [
       "5"
      ]
     },
     "execution_count": 19,
     "metadata": {},
     "output_type": "execute_result"
    }
   ],
   "source": [
    "500001//100000"
   ]
  },
  {
   "cell_type": "code",
   "execution_count": 8,
   "metadata": {},
   "outputs": [],
   "source": [
    "foo = pd.merge(df, df_ids, on=['SUBJECT_ID', 'HADM_ID'], how=\"outer\", indicator=True)"
   ]
  },
  {
   "cell_type": "code",
   "execution_count": 9,
   "metadata": {},
   "outputs": [
    {
     "data": {
      "text/html": [
       "<div>\n",
       "<style scoped>\n",
       "    .dataframe tbody tr th:only-of-type {\n",
       "        vertical-align: middle;\n",
       "    }\n",
       "\n",
       "    .dataframe tbody tr th {\n",
       "        vertical-align: top;\n",
       "    }\n",
       "\n",
       "    .dataframe thead th {\n",
       "        text-align: right;\n",
       "    }\n",
       "</style>\n",
       "<table border=\"1\" class=\"dataframe\">\n",
       "  <thead>\n",
       "    <tr style=\"text-align: right;\">\n",
       "      <th></th>\n",
       "      <th>ROW_ID</th>\n",
       "      <th>SUBJECT_ID</th>\n",
       "      <th>HADM_ID</th>\n",
       "      <th>CHARTTIME</th>\n",
       "      <th>HAS_CHARTEVENTS_DATA_x</th>\n",
       "      <th>INTIME_x</th>\n",
       "      <th>DAYS_ADM_TO_ICU_x</th>\n",
       "      <th>DAYS_NOTE_TO_ICU</th>\n",
       "      <th>HAS_CHARTEVENTS_DATA_y</th>\n",
       "      <th>INTIME_y</th>\n",
       "      <th>DAYS_ADM_TO_ICU_y</th>\n",
       "      <th>_merge</th>\n",
       "    </tr>\n",
       "  </thead>\n",
       "  <tbody>\n",
       "    <tr>\n",
       "      <th>0</th>\n",
       "      <td>174.0</td>\n",
       "      <td>22532</td>\n",
       "      <td>167853.0</td>\n",
       "      <td>NaT</td>\n",
       "      <td>1.0</td>\n",
       "      <td>2151-07-16 14:31:00</td>\n",
       "      <td>0.001389</td>\n",
       "      <td>NaN</td>\n",
       "      <td>1.0</td>\n",
       "      <td>2151-07-16 14:31:00</td>\n",
       "      <td>0.001389</td>\n",
       "      <td>both</td>\n",
       "    </tr>\n",
       "    <tr>\n",
       "      <th>1</th>\n",
       "      <td>170.0</td>\n",
       "      <td>22532</td>\n",
       "      <td>167853.0</td>\n",
       "      <td>NaT</td>\n",
       "      <td>1.0</td>\n",
       "      <td>2151-07-16 14:31:00</td>\n",
       "      <td>0.001389</td>\n",
       "      <td>NaN</td>\n",
       "      <td>1.0</td>\n",
       "      <td>2151-07-16 14:31:00</td>\n",
       "      <td>0.001389</td>\n",
       "      <td>both</td>\n",
       "    </tr>\n",
       "    <tr>\n",
       "      <th>2</th>\n",
       "      <td>59795.0</td>\n",
       "      <td>22532</td>\n",
       "      <td>167853.0</td>\n",
       "      <td>NaT</td>\n",
       "      <td>1.0</td>\n",
       "      <td>2151-07-16 14:31:00</td>\n",
       "      <td>0.001389</td>\n",
       "      <td>NaN</td>\n",
       "      <td>1.0</td>\n",
       "      <td>2151-07-16 14:31:00</td>\n",
       "      <td>0.001389</td>\n",
       "      <td>both</td>\n",
       "    </tr>\n",
       "    <tr>\n",
       "      <th>3</th>\n",
       "      <td>59796.0</td>\n",
       "      <td>22532</td>\n",
       "      <td>167853.0</td>\n",
       "      <td>NaT</td>\n",
       "      <td>1.0</td>\n",
       "      <td>2151-07-16 14:31:00</td>\n",
       "      <td>0.001389</td>\n",
       "      <td>NaN</td>\n",
       "      <td>1.0</td>\n",
       "      <td>2151-07-16 14:31:00</td>\n",
       "      <td>0.001389</td>\n",
       "      <td>both</td>\n",
       "    </tr>\n",
       "    <tr>\n",
       "      <th>4</th>\n",
       "      <td>175.0</td>\n",
       "      <td>13702</td>\n",
       "      <td>107527.0</td>\n",
       "      <td>NaT</td>\n",
       "      <td>1.0</td>\n",
       "      <td>2118-06-02 19:20:00</td>\n",
       "      <td>0.001389</td>\n",
       "      <td>NaN</td>\n",
       "      <td>1.0</td>\n",
       "      <td>2118-06-02 19:20:00</td>\n",
       "      <td>0.001389</td>\n",
       "      <td>both</td>\n",
       "    </tr>\n",
       "  </tbody>\n",
       "</table>\n",
       "</div>"
      ],
      "text/plain": [
       "    ROW_ID  SUBJECT_ID   HADM_ID CHARTTIME  HAS_CHARTEVENTS_DATA_x  \\\n",
       "0    174.0       22532  167853.0       NaT                     1.0   \n",
       "1    170.0       22532  167853.0       NaT                     1.0   \n",
       "2  59795.0       22532  167853.0       NaT                     1.0   \n",
       "3  59796.0       22532  167853.0       NaT                     1.0   \n",
       "4    175.0       13702  107527.0       NaT                     1.0   \n",
       "\n",
       "             INTIME_x  DAYS_ADM_TO_ICU_x  DAYS_NOTE_TO_ICU  \\\n",
       "0 2151-07-16 14:31:00           0.001389               NaN   \n",
       "1 2151-07-16 14:31:00           0.001389               NaN   \n",
       "2 2151-07-16 14:31:00           0.001389               NaN   \n",
       "3 2151-07-16 14:31:00           0.001389               NaN   \n",
       "4 2118-06-02 19:20:00           0.001389               NaN   \n",
       "\n",
       "   HAS_CHARTEVENTS_DATA_y            INTIME_y  DAYS_ADM_TO_ICU_y _merge  \n",
       "0                     1.0 2151-07-16 14:31:00           0.001389   both  \n",
       "1                     1.0 2151-07-16 14:31:00           0.001389   both  \n",
       "2                     1.0 2151-07-16 14:31:00           0.001389   both  \n",
       "3                     1.0 2151-07-16 14:31:00           0.001389   both  \n",
       "4                     1.0 2118-06-02 19:20:00           0.001389   both  "
      ]
     },
     "execution_count": 9,
     "metadata": {},
     "output_type": "execute_result"
    }
   ],
   "source": [
    "foo.head()"
   ]
  },
  {
   "cell_type": "code",
   "execution_count": 10,
   "metadata": {},
   "outputs": [],
   "source": [
    "bar = df.merge(df_ids,how='inner',left_on=['SUBJECT_ID', 'HADM_ID'],right_on=['SUBJECT_ID', 'HADM_ID'])"
   ]
  },
  {
   "cell_type": "code",
   "execution_count": 11,
   "metadata": {},
   "outputs": [
    {
     "data": {
      "text/html": [
       "<div>\n",
       "<style scoped>\n",
       "    .dataframe tbody tr th:only-of-type {\n",
       "        vertical-align: middle;\n",
       "    }\n",
       "\n",
       "    .dataframe tbody tr th {\n",
       "        vertical-align: top;\n",
       "    }\n",
       "\n",
       "    .dataframe thead th {\n",
       "        text-align: right;\n",
       "    }\n",
       "</style>\n",
       "<table border=\"1\" class=\"dataframe\">\n",
       "  <thead>\n",
       "    <tr style=\"text-align: right;\">\n",
       "      <th></th>\n",
       "      <th>ROW_ID</th>\n",
       "      <th>SUBJECT_ID</th>\n",
       "      <th>HADM_ID</th>\n",
       "      <th>CHARTTIME</th>\n",
       "      <th>HAS_CHARTEVENTS_DATA_x</th>\n",
       "      <th>INTIME_x</th>\n",
       "      <th>DAYS_ADM_TO_ICU_x</th>\n",
       "      <th>DAYS_NOTE_TO_ICU</th>\n",
       "      <th>HAS_CHARTEVENTS_DATA_y</th>\n",
       "      <th>INTIME_y</th>\n",
       "      <th>DAYS_ADM_TO_ICU_y</th>\n",
       "    </tr>\n",
       "  </thead>\n",
       "  <tbody>\n",
       "    <tr>\n",
       "      <th>0</th>\n",
       "      <td>174</td>\n",
       "      <td>22532</td>\n",
       "      <td>167853.0</td>\n",
       "      <td>NaT</td>\n",
       "      <td>1.0</td>\n",
       "      <td>2151-07-16 14:31:00</td>\n",
       "      <td>0.001389</td>\n",
       "      <td>NaN</td>\n",
       "      <td>1.0</td>\n",
       "      <td>2151-07-16 14:31:00</td>\n",
       "      <td>0.001389</td>\n",
       "    </tr>\n",
       "    <tr>\n",
       "      <th>1</th>\n",
       "      <td>170</td>\n",
       "      <td>22532</td>\n",
       "      <td>167853.0</td>\n",
       "      <td>NaT</td>\n",
       "      <td>1.0</td>\n",
       "      <td>2151-07-16 14:31:00</td>\n",
       "      <td>0.001389</td>\n",
       "      <td>NaN</td>\n",
       "      <td>1.0</td>\n",
       "      <td>2151-07-16 14:31:00</td>\n",
       "      <td>0.001389</td>\n",
       "    </tr>\n",
       "    <tr>\n",
       "      <th>2</th>\n",
       "      <td>59795</td>\n",
       "      <td>22532</td>\n",
       "      <td>167853.0</td>\n",
       "      <td>NaT</td>\n",
       "      <td>1.0</td>\n",
       "      <td>2151-07-16 14:31:00</td>\n",
       "      <td>0.001389</td>\n",
       "      <td>NaN</td>\n",
       "      <td>1.0</td>\n",
       "      <td>2151-07-16 14:31:00</td>\n",
       "      <td>0.001389</td>\n",
       "    </tr>\n",
       "    <tr>\n",
       "      <th>3</th>\n",
       "      <td>59796</td>\n",
       "      <td>22532</td>\n",
       "      <td>167853.0</td>\n",
       "      <td>NaT</td>\n",
       "      <td>1.0</td>\n",
       "      <td>2151-07-16 14:31:00</td>\n",
       "      <td>0.001389</td>\n",
       "      <td>NaN</td>\n",
       "      <td>1.0</td>\n",
       "      <td>2151-07-16 14:31:00</td>\n",
       "      <td>0.001389</td>\n",
       "    </tr>\n",
       "    <tr>\n",
       "      <th>4</th>\n",
       "      <td>175</td>\n",
       "      <td>13702</td>\n",
       "      <td>107527.0</td>\n",
       "      <td>NaT</td>\n",
       "      <td>1.0</td>\n",
       "      <td>2118-06-02 19:20:00</td>\n",
       "      <td>0.001389</td>\n",
       "      <td>NaN</td>\n",
       "      <td>1.0</td>\n",
       "      <td>2118-06-02 19:20:00</td>\n",
       "      <td>0.001389</td>\n",
       "    </tr>\n",
       "  </tbody>\n",
       "</table>\n",
       "</div>"
      ],
      "text/plain": [
       "   ROW_ID  SUBJECT_ID   HADM_ID CHARTTIME  HAS_CHARTEVENTS_DATA_x  \\\n",
       "0     174       22532  167853.0       NaT                     1.0   \n",
       "1     170       22532  167853.0       NaT                     1.0   \n",
       "2   59795       22532  167853.0       NaT                     1.0   \n",
       "3   59796       22532  167853.0       NaT                     1.0   \n",
       "4     175       13702  107527.0       NaT                     1.0   \n",
       "\n",
       "             INTIME_x  DAYS_ADM_TO_ICU_x  DAYS_NOTE_TO_ICU  \\\n",
       "0 2151-07-16 14:31:00           0.001389               NaN   \n",
       "1 2151-07-16 14:31:00           0.001389               NaN   \n",
       "2 2151-07-16 14:31:00           0.001389               NaN   \n",
       "3 2151-07-16 14:31:00           0.001389               NaN   \n",
       "4 2118-06-02 19:20:00           0.001389               NaN   \n",
       "\n",
       "   HAS_CHARTEVENTS_DATA_y            INTIME_y  DAYS_ADM_TO_ICU_y  \n",
       "0                     1.0 2151-07-16 14:31:00           0.001389  \n",
       "1                     1.0 2151-07-16 14:31:00           0.001389  \n",
       "2                     1.0 2151-07-16 14:31:00           0.001389  \n",
       "3                     1.0 2151-07-16 14:31:00           0.001389  \n",
       "4                     1.0 2118-06-02 19:20:00           0.001389  "
      ]
     },
     "execution_count": 11,
     "metadata": {},
     "output_type": "execute_result"
    }
   ],
   "source": [
    "bar.head()"
   ]
  },
  {
   "cell_type": "code",
   "execution_count": 1,
   "metadata": {},
   "outputs": [],
   "source": [
    "import pandas as pd\n",
    "import numpy as np\n",
    "from customTransformers import DateTimeTransformer, DurationTransformer\n",
    "import os\n",
    "import datetime\n",
    "from argparse import ArgumentParser\n",
    "import pickle\n",
    "\n",
    "FILE_PATH = './data/pickle/preproc/'\n",
    "DATA_DIR = 'data/physionet.org/files/mimiciii/1.4/'\n",
    "PREPROC_DIR = './data/pickle/preproc/'\n",
    "\n",
    "CACHE_DIR = './data/pickle/cache'\n",
    "if not os.path.exists(CACHE_DIR):\n",
    "    os.mkdir(CACHE_DIR)"
   ]
  },
  {
   "cell_type": "code",
   "execution_count": null,
   "metadata": {},
   "outputs": [],
   "source": []
  }
 ],
 "metadata": {
  "kernelspec": {
   "display_name": "base",
   "language": "python",
   "name": "base"
  },
  "language_info": {
   "codemirror_mode": {
    "name": "ipython",
    "version": 3
   },
   "file_extension": ".py",
   "mimetype": "text/x-python",
   "name": "python",
   "nbconvert_exporter": "python",
   "pygments_lexer": "ipython3",
   "version": "3.8.3"
  }
 },
 "nbformat": 4,
 "nbformat_minor": 4
}
